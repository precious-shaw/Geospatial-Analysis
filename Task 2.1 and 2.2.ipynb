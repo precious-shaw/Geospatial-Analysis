{
 "cells": [
  {
   "cell_type": "markdown",
   "id": "4e8cbe75",
   "metadata": {},
   "source": [
    "NAME: SHAW, OLUWAGBOUNMI PRECIOUS \n",
    "<br> Student ID: st20182956 \n",
    "<br> PROGRAM: Msc. DATA SCIENCE (INTERNSHIP)\n",
    "<br> COURSE: GEOSPATIAL ANALYSIS \n"
   ]
  },
  {
   "cell_type": "markdown",
   "id": "ea24ac38",
   "metadata": {},
   "source": [
    "## TASK 2.1"
   ]
  },
  {
   "cell_type": "code",
   "execution_count": 1,
   "id": "9d13bfb5",
   "metadata": {},
   "outputs": [
    {
     "data": {
      "text/html": [
       "        <script type=\"text/javascript\">\n",
       "        window.PlotlyConfig = {MathJaxConfig: 'local'};\n",
       "        if (window.MathJax) {MathJax.Hub.Config({SVG: {font: \"STIX-Web\"}});}\n",
       "        if (typeof require !== 'undefined') {\n",
       "        require.undef(\"plotly\");\n",
       "        requirejs.config({\n",
       "            paths: {\n",
       "                'plotly': ['https://cdn.plot.ly/plotly-latest.min']\n",
       "            }\n",
       "        });\n",
       "        require(['plotly'], function(Plotly) {\n",
       "            window._Plotly = Plotly;\n",
       "        });\n",
       "        }\n",
       "        </script>\n",
       "        "
      ]
     },
     "metadata": {},
     "output_type": "display_data"
    }
   ],
   "source": [
    "#Import all the libraries needed\n",
    "import geopandas as gpd\n",
    "import pandas as pd\n",
    "import matplotlib.pyplot as plt\n",
    "from geopy.geocoders import Nominatim\n",
    "import numpy as np\n",
    "from opencage.geocoder import OpenCageGeocode\n",
    "import sys\n",
    "from geopy.geocoders import Nominatim\n",
    "from geopy.extra.rate_limiter import RateLimiter\n",
    "\n",
    "#import libraries for visualization \n",
    "import plotly.graph_objs as go \n",
    "from plotly.offline import init_notebook_mode,iplot\n",
    "init_notebook_mode(connected=True) \n",
    "import seaborn as sns "
   ]
  },
  {
   "cell_type": "markdown",
   "id": "25ad3788",
   "metadata": {},
   "source": [
    "## Load and Visualize the Data "
   ]
  },
  {
   "cell_type": "code",
   "execution_count": 2,
   "id": "41aba843",
   "metadata": {},
   "outputs": [],
   "source": [
    "#Load the data \n",
    "world_pop = pd.read_csv('world_population.csv') \n",
    "world_urban_pop = pd.read_csv('world_urban_population.csv')"
   ]
  },
  {
   "cell_type": "code",
   "execution_count": 3,
   "id": "46ebe96e",
   "metadata": {
    "scrolled": true
   },
   "outputs": [
    {
     "data": {
      "text/html": [
       "<div>\n",
       "<style scoped>\n",
       "    .dataframe tbody tr th:only-of-type {\n",
       "        vertical-align: middle;\n",
       "    }\n",
       "\n",
       "    .dataframe tbody tr th {\n",
       "        vertical-align: top;\n",
       "    }\n",
       "\n",
       "    .dataframe thead th {\n",
       "        text-align: right;\n",
       "    }\n",
       "</style>\n",
       "<table border=\"1\" class=\"dataframe\">\n",
       "  <thead>\n",
       "    <tr style=\"text-align: right;\">\n",
       "      <th></th>\n",
       "      <th>Country Name</th>\n",
       "      <th>Country Code</th>\n",
       "      <th>Indicator Name</th>\n",
       "      <th>Indicator Code</th>\n",
       "      <th>1960</th>\n",
       "      <th>1961</th>\n",
       "      <th>1962</th>\n",
       "      <th>1963</th>\n",
       "      <th>1964</th>\n",
       "      <th>1965</th>\n",
       "      <th>...</th>\n",
       "      <th>2011</th>\n",
       "      <th>2012</th>\n",
       "      <th>2013</th>\n",
       "      <th>2014</th>\n",
       "      <th>2015</th>\n",
       "      <th>2016</th>\n",
       "      <th>2017</th>\n",
       "      <th>2018</th>\n",
       "      <th>2019</th>\n",
       "      <th>2020</th>\n",
       "    </tr>\n",
       "  </thead>\n",
       "  <tbody>\n",
       "    <tr>\n",
       "      <th>0</th>\n",
       "      <td>Aruba</td>\n",
       "      <td>ABW</td>\n",
       "      <td>Population, total</td>\n",
       "      <td>SP.POP.TOTL</td>\n",
       "      <td>54211.0</td>\n",
       "      <td>55438.0</td>\n",
       "      <td>56225.0</td>\n",
       "      <td>56695.0</td>\n",
       "      <td>57032.0</td>\n",
       "      <td>57360.0</td>\n",
       "      <td>...</td>\n",
       "      <td>102046.0</td>\n",
       "      <td>102560.0</td>\n",
       "      <td>103159.0</td>\n",
       "      <td>103774.0</td>\n",
       "      <td>104341.0</td>\n",
       "      <td>104872.0</td>\n",
       "      <td>105366.0</td>\n",
       "      <td>105845.0</td>\n",
       "      <td>106314.0</td>\n",
       "      <td>NaN</td>\n",
       "    </tr>\n",
       "    <tr>\n",
       "      <th>1</th>\n",
       "      <td>Afghanistan</td>\n",
       "      <td>AFG</td>\n",
       "      <td>Population, total</td>\n",
       "      <td>SP.POP.TOTL</td>\n",
       "      <td>8996973.0</td>\n",
       "      <td>9169410.0</td>\n",
       "      <td>9351441.0</td>\n",
       "      <td>9543205.0</td>\n",
       "      <td>9744781.0</td>\n",
       "      <td>9956320.0</td>\n",
       "      <td>...</td>\n",
       "      <td>30117413.0</td>\n",
       "      <td>31161376.0</td>\n",
       "      <td>32269589.0</td>\n",
       "      <td>33370794.0</td>\n",
       "      <td>34413603.0</td>\n",
       "      <td>35383128.0</td>\n",
       "      <td>36296400.0</td>\n",
       "      <td>37172386.0</td>\n",
       "      <td>38041754.0</td>\n",
       "      <td>NaN</td>\n",
       "    </tr>\n",
       "    <tr>\n",
       "      <th>2</th>\n",
       "      <td>Angola</td>\n",
       "      <td>AGO</td>\n",
       "      <td>Population, total</td>\n",
       "      <td>SP.POP.TOTL</td>\n",
       "      <td>5454933.0</td>\n",
       "      <td>5531472.0</td>\n",
       "      <td>5608539.0</td>\n",
       "      <td>5679458.0</td>\n",
       "      <td>5735044.0</td>\n",
       "      <td>5770570.0</td>\n",
       "      <td>...</td>\n",
       "      <td>24220661.0</td>\n",
       "      <td>25107931.0</td>\n",
       "      <td>26015780.0</td>\n",
       "      <td>26941779.0</td>\n",
       "      <td>27884381.0</td>\n",
       "      <td>28842484.0</td>\n",
       "      <td>29816748.0</td>\n",
       "      <td>30809762.0</td>\n",
       "      <td>31825295.0</td>\n",
       "      <td>NaN</td>\n",
       "    </tr>\n",
       "    <tr>\n",
       "      <th>3</th>\n",
       "      <td>Albania</td>\n",
       "      <td>ALB</td>\n",
       "      <td>Population, total</td>\n",
       "      <td>SP.POP.TOTL</td>\n",
       "      <td>1608800.0</td>\n",
       "      <td>1659800.0</td>\n",
       "      <td>1711319.0</td>\n",
       "      <td>1762621.0</td>\n",
       "      <td>1814135.0</td>\n",
       "      <td>1864791.0</td>\n",
       "      <td>...</td>\n",
       "      <td>2905195.0</td>\n",
       "      <td>2900401.0</td>\n",
       "      <td>2895092.0</td>\n",
       "      <td>2889104.0</td>\n",
       "      <td>2880703.0</td>\n",
       "      <td>2876101.0</td>\n",
       "      <td>2873457.0</td>\n",
       "      <td>2866376.0</td>\n",
       "      <td>2854191.0</td>\n",
       "      <td>NaN</td>\n",
       "    </tr>\n",
       "    <tr>\n",
       "      <th>4</th>\n",
       "      <td>Andorra</td>\n",
       "      <td>AND</td>\n",
       "      <td>Population, total</td>\n",
       "      <td>SP.POP.TOTL</td>\n",
       "      <td>13411.0</td>\n",
       "      <td>14375.0</td>\n",
       "      <td>15370.0</td>\n",
       "      <td>16412.0</td>\n",
       "      <td>17469.0</td>\n",
       "      <td>18549.0</td>\n",
       "      <td>...</td>\n",
       "      <td>83747.0</td>\n",
       "      <td>82427.0</td>\n",
       "      <td>80774.0</td>\n",
       "      <td>79213.0</td>\n",
       "      <td>78011.0</td>\n",
       "      <td>77297.0</td>\n",
       "      <td>77001.0</td>\n",
       "      <td>77006.0</td>\n",
       "      <td>77142.0</td>\n",
       "      <td>NaN</td>\n",
       "    </tr>\n",
       "  </tbody>\n",
       "</table>\n",
       "<p>5 rows × 65 columns</p>\n",
       "</div>"
      ],
      "text/plain": [
       "  Country Name Country Code     Indicator Name Indicator Code       1960  \\\n",
       "0        Aruba          ABW  Population, total    SP.POP.TOTL    54211.0   \n",
       "1  Afghanistan          AFG  Population, total    SP.POP.TOTL  8996973.0   \n",
       "2       Angola          AGO  Population, total    SP.POP.TOTL  5454933.0   \n",
       "3      Albania          ALB  Population, total    SP.POP.TOTL  1608800.0   \n",
       "4      Andorra          AND  Population, total    SP.POP.TOTL    13411.0   \n",
       "\n",
       "        1961       1962       1963       1964       1965  ...        2011  \\\n",
       "0    55438.0    56225.0    56695.0    57032.0    57360.0  ...    102046.0   \n",
       "1  9169410.0  9351441.0  9543205.0  9744781.0  9956320.0  ...  30117413.0   \n",
       "2  5531472.0  5608539.0  5679458.0  5735044.0  5770570.0  ...  24220661.0   \n",
       "3  1659800.0  1711319.0  1762621.0  1814135.0  1864791.0  ...   2905195.0   \n",
       "4    14375.0    15370.0    16412.0    17469.0    18549.0  ...     83747.0   \n",
       "\n",
       "         2012        2013        2014        2015        2016        2017  \\\n",
       "0    102560.0    103159.0    103774.0    104341.0    104872.0    105366.0   \n",
       "1  31161376.0  32269589.0  33370794.0  34413603.0  35383128.0  36296400.0   \n",
       "2  25107931.0  26015780.0  26941779.0  27884381.0  28842484.0  29816748.0   \n",
       "3   2900401.0   2895092.0   2889104.0   2880703.0   2876101.0   2873457.0   \n",
       "4     82427.0     80774.0     79213.0     78011.0     77297.0     77001.0   \n",
       "\n",
       "         2018        2019  2020  \n",
       "0    105845.0    106314.0   NaN  \n",
       "1  37172386.0  38041754.0   NaN  \n",
       "2  30809762.0  31825295.0   NaN  \n",
       "3   2866376.0   2854191.0   NaN  \n",
       "4     77006.0     77142.0   NaN  \n",
       "\n",
       "[5 rows x 65 columns]"
      ]
     },
     "execution_count": 3,
     "metadata": {},
     "output_type": "execute_result"
    }
   ],
   "source": [
    "#Visualize the data\n",
    "world_pop.head()"
   ]
  },
  {
   "cell_type": "code",
   "execution_count": 4,
   "id": "88c78381",
   "metadata": {},
   "outputs": [
    {
     "data": {
      "text/html": [
       "<div>\n",
       "<style scoped>\n",
       "    .dataframe tbody tr th:only-of-type {\n",
       "        vertical-align: middle;\n",
       "    }\n",
       "\n",
       "    .dataframe tbody tr th {\n",
       "        vertical-align: top;\n",
       "    }\n",
       "\n",
       "    .dataframe thead th {\n",
       "        text-align: right;\n",
       "    }\n",
       "</style>\n",
       "<table border=\"1\" class=\"dataframe\">\n",
       "  <thead>\n",
       "    <tr style=\"text-align: right;\">\n",
       "      <th></th>\n",
       "      <th>Country Name</th>\n",
       "      <th>Country Code</th>\n",
       "      <th>Indicator Name</th>\n",
       "      <th>Indicator Code</th>\n",
       "      <th>1960</th>\n",
       "      <th>1961</th>\n",
       "      <th>1962</th>\n",
       "      <th>1963</th>\n",
       "      <th>1964</th>\n",
       "      <th>1965</th>\n",
       "      <th>...</th>\n",
       "      <th>2011</th>\n",
       "      <th>2012</th>\n",
       "      <th>2013</th>\n",
       "      <th>2014</th>\n",
       "      <th>2015</th>\n",
       "      <th>2016</th>\n",
       "      <th>2017</th>\n",
       "      <th>2018</th>\n",
       "      <th>2019</th>\n",
       "      <th>2020</th>\n",
       "    </tr>\n",
       "  </thead>\n",
       "  <tbody>\n",
       "    <tr>\n",
       "      <th>0</th>\n",
       "      <td>Aruba</td>\n",
       "      <td>ABW</td>\n",
       "      <td>Urban population</td>\n",
       "      <td>SP.URB.TOTL</td>\n",
       "      <td>27526.0</td>\n",
       "      <td>28141.0</td>\n",
       "      <td>28532.0</td>\n",
       "      <td>28761.0</td>\n",
       "      <td>28924.0</td>\n",
       "      <td>29082.0</td>\n",
       "      <td>...</td>\n",
       "      <td>43819.0</td>\n",
       "      <td>44057.0</td>\n",
       "      <td>44348.0</td>\n",
       "      <td>44665.0</td>\n",
       "      <td>44979.0</td>\n",
       "      <td>45296.0</td>\n",
       "      <td>45616.0</td>\n",
       "      <td>45948.0</td>\n",
       "      <td>46295.0</td>\n",
       "      <td>NaN</td>\n",
       "    </tr>\n",
       "    <tr>\n",
       "      <th>1</th>\n",
       "      <td>Afghanistan</td>\n",
       "      <td>AFG</td>\n",
       "      <td>Urban population</td>\n",
       "      <td>SP.URB.TOTL</td>\n",
       "      <td>755836.0</td>\n",
       "      <td>796272.0</td>\n",
       "      <td>839385.0</td>\n",
       "      <td>885228.0</td>\n",
       "      <td>934135.0</td>\n",
       "      <td>986074.0</td>\n",
       "      <td>...</td>\n",
       "      <td>7212518.0</td>\n",
       "      <td>7528588.0</td>\n",
       "      <td>7865067.0</td>\n",
       "      <td>8204877.0</td>\n",
       "      <td>8535606.0</td>\n",
       "      <td>8852859.0</td>\n",
       "      <td>9164841.0</td>\n",
       "      <td>9477100.0</td>\n",
       "      <td>9797273.0</td>\n",
       "      <td>NaN</td>\n",
       "    </tr>\n",
       "    <tr>\n",
       "      <th>2</th>\n",
       "      <td>Angola</td>\n",
       "      <td>AGO</td>\n",
       "      <td>Urban population</td>\n",
       "      <td>SP.URB.TOTL</td>\n",
       "      <td>569222.0</td>\n",
       "      <td>597288.0</td>\n",
       "      <td>628381.0</td>\n",
       "      <td>660180.0</td>\n",
       "      <td>691532.0</td>\n",
       "      <td>721552.0</td>\n",
       "      <td>...</td>\n",
       "      <td>14660282.0</td>\n",
       "      <td>15383127.0</td>\n",
       "      <td>16130304.0</td>\n",
       "      <td>16900847.0</td>\n",
       "      <td>17691524.0</td>\n",
       "      <td>18502165.0</td>\n",
       "      <td>19332881.0</td>\n",
       "      <td>20184707.0</td>\n",
       "      <td>21061025.0</td>\n",
       "      <td>NaN</td>\n",
       "    </tr>\n",
       "    <tr>\n",
       "      <th>3</th>\n",
       "      <td>Albania</td>\n",
       "      <td>ALB</td>\n",
       "      <td>Urban population</td>\n",
       "      <td>SP.URB.TOTL</td>\n",
       "      <td>493982.0</td>\n",
       "      <td>513592.0</td>\n",
       "      <td>530766.0</td>\n",
       "      <td>547928.0</td>\n",
       "      <td>565248.0</td>\n",
       "      <td>582374.0</td>\n",
       "      <td>...</td>\n",
       "      <td>1546929.0</td>\n",
       "      <td>1575788.0</td>\n",
       "      <td>1603505.0</td>\n",
       "      <td>1630119.0</td>\n",
       "      <td>1654503.0</td>\n",
       "      <td>1680247.0</td>\n",
       "      <td>1706345.0</td>\n",
       "      <td>1728969.0</td>\n",
       "      <td>1747593.0</td>\n",
       "      <td>NaN</td>\n",
       "    </tr>\n",
       "    <tr>\n",
       "      <th>4</th>\n",
       "      <td>Andorra</td>\n",
       "      <td>AND</td>\n",
       "      <td>Urban population</td>\n",
       "      <td>SP.URB.TOTL</td>\n",
       "      <td>7839.0</td>\n",
       "      <td>8766.0</td>\n",
       "      <td>9754.0</td>\n",
       "      <td>10811.0</td>\n",
       "      <td>11915.0</td>\n",
       "      <td>13067.0</td>\n",
       "      <td>...</td>\n",
       "      <td>74305.0</td>\n",
       "      <td>73056.0</td>\n",
       "      <td>71515.0</td>\n",
       "      <td>70057.0</td>\n",
       "      <td>68919.0</td>\n",
       "      <td>68213.0</td>\n",
       "      <td>67876.0</td>\n",
       "      <td>67813.0</td>\n",
       "      <td>67873.0</td>\n",
       "      <td>NaN</td>\n",
       "    </tr>\n",
       "  </tbody>\n",
       "</table>\n",
       "<p>5 rows × 65 columns</p>\n",
       "</div>"
      ],
      "text/plain": [
       "  Country Name Country Code    Indicator Name Indicator Code      1960  \\\n",
       "0        Aruba          ABW  Urban population    SP.URB.TOTL   27526.0   \n",
       "1  Afghanistan          AFG  Urban population    SP.URB.TOTL  755836.0   \n",
       "2       Angola          AGO  Urban population    SP.URB.TOTL  569222.0   \n",
       "3      Albania          ALB  Urban population    SP.URB.TOTL  493982.0   \n",
       "4      Andorra          AND  Urban population    SP.URB.TOTL    7839.0   \n",
       "\n",
       "       1961      1962      1963      1964      1965  ...        2011  \\\n",
       "0   28141.0   28532.0   28761.0   28924.0   29082.0  ...     43819.0   \n",
       "1  796272.0  839385.0  885228.0  934135.0  986074.0  ...   7212518.0   \n",
       "2  597288.0  628381.0  660180.0  691532.0  721552.0  ...  14660282.0   \n",
       "3  513592.0  530766.0  547928.0  565248.0  582374.0  ...   1546929.0   \n",
       "4    8766.0    9754.0   10811.0   11915.0   13067.0  ...     74305.0   \n",
       "\n",
       "         2012        2013        2014        2015        2016        2017  \\\n",
       "0     44057.0     44348.0     44665.0     44979.0     45296.0     45616.0   \n",
       "1   7528588.0   7865067.0   8204877.0   8535606.0   8852859.0   9164841.0   \n",
       "2  15383127.0  16130304.0  16900847.0  17691524.0  18502165.0  19332881.0   \n",
       "3   1575788.0   1603505.0   1630119.0   1654503.0   1680247.0   1706345.0   \n",
       "4     73056.0     71515.0     70057.0     68919.0     68213.0     67876.0   \n",
       "\n",
       "         2018        2019  2020  \n",
       "0     45948.0     46295.0   NaN  \n",
       "1   9477100.0   9797273.0   NaN  \n",
       "2  20184707.0  21061025.0   NaN  \n",
       "3   1728969.0   1747593.0   NaN  \n",
       "4     67813.0     67873.0   NaN  \n",
       "\n",
       "[5 rows x 65 columns]"
      ]
     },
     "execution_count": 4,
     "metadata": {},
     "output_type": "execute_result"
    }
   ],
   "source": [
    "world_urban_pop.head()"
   ]
  },
  {
   "cell_type": "markdown",
   "id": "343e34cd",
   "metadata": {},
   "source": [
    "## Data cleaning and exploration"
   ]
  },
  {
   "cell_type": "code",
   "execution_count": 5,
   "id": "75e7a87f",
   "metadata": {},
   "outputs": [
    {
     "data": {
      "text/html": [
       "<div>\n",
       "<style scoped>\n",
       "    .dataframe tbody tr th:only-of-type {\n",
       "        vertical-align: middle;\n",
       "    }\n",
       "\n",
       "    .dataframe tbody tr th {\n",
       "        vertical-align: top;\n",
       "    }\n",
       "\n",
       "    .dataframe thead th {\n",
       "        text-align: right;\n",
       "    }\n",
       "</style>\n",
       "<table border=\"1\" class=\"dataframe\">\n",
       "  <thead>\n",
       "    <tr style=\"text-align: right;\">\n",
       "      <th></th>\n",
       "      <th>Country Name</th>\n",
       "      <th>1990</th>\n",
       "      <th>1991</th>\n",
       "      <th>1992</th>\n",
       "      <th>1993</th>\n",
       "      <th>1994</th>\n",
       "      <th>1995</th>\n",
       "      <th>1996</th>\n",
       "      <th>1997</th>\n",
       "      <th>1998</th>\n",
       "      <th>...</th>\n",
       "      <th>2001</th>\n",
       "      <th>2002</th>\n",
       "      <th>2003</th>\n",
       "      <th>2004</th>\n",
       "      <th>2005</th>\n",
       "      <th>2006</th>\n",
       "      <th>2007</th>\n",
       "      <th>2008</th>\n",
       "      <th>2009</th>\n",
       "      <th>2010</th>\n",
       "    </tr>\n",
       "  </thead>\n",
       "  <tbody>\n",
       "    <tr>\n",
       "      <th>0</th>\n",
       "      <td>Aruba</td>\n",
       "      <td>62149.0</td>\n",
       "      <td>64622.0</td>\n",
       "      <td>68235.0</td>\n",
       "      <td>72504.0</td>\n",
       "      <td>76700.0</td>\n",
       "      <td>80324.0</td>\n",
       "      <td>83200.0</td>\n",
       "      <td>85451.0</td>\n",
       "      <td>87277.0</td>\n",
       "      <td>...</td>\n",
       "      <td>92898.0</td>\n",
       "      <td>94992.0</td>\n",
       "      <td>97017.0</td>\n",
       "      <td>98737.0</td>\n",
       "      <td>100031.0</td>\n",
       "      <td>100834.0</td>\n",
       "      <td>101222.0</td>\n",
       "      <td>101358.0</td>\n",
       "      <td>101455.0</td>\n",
       "      <td>101669.0</td>\n",
       "    </tr>\n",
       "    <tr>\n",
       "      <th>1</th>\n",
       "      <td>Afghanistan</td>\n",
       "      <td>12412308.0</td>\n",
       "      <td>13299017.0</td>\n",
       "      <td>14485546.0</td>\n",
       "      <td>15816603.0</td>\n",
       "      <td>17075727.0</td>\n",
       "      <td>18110657.0</td>\n",
       "      <td>18853437.0</td>\n",
       "      <td>19357126.0</td>\n",
       "      <td>19737765.0</td>\n",
       "      <td>...</td>\n",
       "      <td>21606988.0</td>\n",
       "      <td>22600770.0</td>\n",
       "      <td>23680871.0</td>\n",
       "      <td>24726684.0</td>\n",
       "      <td>25654277.0</td>\n",
       "      <td>26433049.0</td>\n",
       "      <td>27100536.0</td>\n",
       "      <td>27722276.0</td>\n",
       "      <td>28394813.0</td>\n",
       "      <td>29185507.0</td>\n",
       "    </tr>\n",
       "    <tr>\n",
       "      <th>2</th>\n",
       "      <td>Angola</td>\n",
       "      <td>11848386.0</td>\n",
       "      <td>12248901.0</td>\n",
       "      <td>12657366.0</td>\n",
       "      <td>13075049.0</td>\n",
       "      <td>13503747.0</td>\n",
       "      <td>13945206.0</td>\n",
       "      <td>14400719.0</td>\n",
       "      <td>14871570.0</td>\n",
       "      <td>15359601.0</td>\n",
       "      <td>...</td>\n",
       "      <td>16945753.0</td>\n",
       "      <td>17519417.0</td>\n",
       "      <td>18121479.0</td>\n",
       "      <td>18758145.0</td>\n",
       "      <td>19433602.0</td>\n",
       "      <td>20149901.0</td>\n",
       "      <td>20905363.0</td>\n",
       "      <td>21695634.0</td>\n",
       "      <td>22514281.0</td>\n",
       "      <td>23356246.0</td>\n",
       "    </tr>\n",
       "    <tr>\n",
       "      <th>3</th>\n",
       "      <td>Albania</td>\n",
       "      <td>3286542.0</td>\n",
       "      <td>3266790.0</td>\n",
       "      <td>3247039.0</td>\n",
       "      <td>3227287.0</td>\n",
       "      <td>3207536.0</td>\n",
       "      <td>3187784.0</td>\n",
       "      <td>3168033.0</td>\n",
       "      <td>3148281.0</td>\n",
       "      <td>3128530.0</td>\n",
       "      <td>...</td>\n",
       "      <td>3060173.0</td>\n",
       "      <td>3051010.0</td>\n",
       "      <td>3039616.0</td>\n",
       "      <td>3026939.0</td>\n",
       "      <td>3011487.0</td>\n",
       "      <td>2992547.0</td>\n",
       "      <td>2970017.0</td>\n",
       "      <td>2947314.0</td>\n",
       "      <td>2927519.0</td>\n",
       "      <td>2913021.0</td>\n",
       "    </tr>\n",
       "    <tr>\n",
       "      <th>4</th>\n",
       "      <td>Andorra</td>\n",
       "      <td>54509.0</td>\n",
       "      <td>56671.0</td>\n",
       "      <td>58888.0</td>\n",
       "      <td>60971.0</td>\n",
       "      <td>62677.0</td>\n",
       "      <td>63850.0</td>\n",
       "      <td>64360.0</td>\n",
       "      <td>64327.0</td>\n",
       "      <td>64142.0</td>\n",
       "      <td>...</td>\n",
       "      <td>67341.0</td>\n",
       "      <td>70049.0</td>\n",
       "      <td>73182.0</td>\n",
       "      <td>76244.0</td>\n",
       "      <td>78867.0</td>\n",
       "      <td>80993.0</td>\n",
       "      <td>82684.0</td>\n",
       "      <td>83862.0</td>\n",
       "      <td>84463.0</td>\n",
       "      <td>84449.0</td>\n",
       "    </tr>\n",
       "  </tbody>\n",
       "</table>\n",
       "<p>5 rows × 22 columns</p>\n",
       "</div>"
      ],
      "text/plain": [
       "  Country Name        1990        1991        1992        1993        1994  \\\n",
       "0        Aruba     62149.0     64622.0     68235.0     72504.0     76700.0   \n",
       "1  Afghanistan  12412308.0  13299017.0  14485546.0  15816603.0  17075727.0   \n",
       "2       Angola  11848386.0  12248901.0  12657366.0  13075049.0  13503747.0   \n",
       "3      Albania   3286542.0   3266790.0   3247039.0   3227287.0   3207536.0   \n",
       "4      Andorra     54509.0     56671.0     58888.0     60971.0     62677.0   \n",
       "\n",
       "         1995        1996        1997        1998  ...        2001  \\\n",
       "0     80324.0     83200.0     85451.0     87277.0  ...     92898.0   \n",
       "1  18110657.0  18853437.0  19357126.0  19737765.0  ...  21606988.0   \n",
       "2  13945206.0  14400719.0  14871570.0  15359601.0  ...  16945753.0   \n",
       "3   3187784.0   3168033.0   3148281.0   3128530.0  ...   3060173.0   \n",
       "4     63850.0     64360.0     64327.0     64142.0  ...     67341.0   \n",
       "\n",
       "         2002        2003        2004        2005        2006        2007  \\\n",
       "0     94992.0     97017.0     98737.0    100031.0    100834.0    101222.0   \n",
       "1  22600770.0  23680871.0  24726684.0  25654277.0  26433049.0  27100536.0   \n",
       "2  17519417.0  18121479.0  18758145.0  19433602.0  20149901.0  20905363.0   \n",
       "3   3051010.0   3039616.0   3026939.0   3011487.0   2992547.0   2970017.0   \n",
       "4     70049.0     73182.0     76244.0     78867.0     80993.0     82684.0   \n",
       "\n",
       "         2008        2009        2010  \n",
       "0    101358.0    101455.0    101669.0  \n",
       "1  27722276.0  28394813.0  29185507.0  \n",
       "2  21695634.0  22514281.0  23356246.0  \n",
       "3   2947314.0   2927519.0   2913021.0  \n",
       "4     83862.0     84463.0     84449.0  \n",
       "\n",
       "[5 rows x 22 columns]"
      ]
     },
     "execution_count": 5,
     "metadata": {},
     "output_type": "execute_result"
    }
   ],
   "source": [
    "#select the required columns for Task 1 and 2 \n",
    "loc = world_pop.columns.get_loc\n",
    "world_pop = world_pop.iloc[:, np.r_[loc('Country Name'), loc('1990'):loc('2010')+1]]\n",
    "\n",
    "world_pop.head()"
   ]
  },
  {
   "cell_type": "markdown",
   "id": "a51e1640",
   "metadata": {},
   "source": [
    "Renamed the column headers in the dataframe to differenciate between the world population and urban world population."
   ]
  },
  {
   "cell_type": "code",
   "execution_count": 6,
   "id": "590fe48f",
   "metadata": {
    "scrolled": true
   },
   "outputs": [
    {
     "data": {
      "text/html": [
       "<div>\n",
       "<style scoped>\n",
       "    .dataframe tbody tr th:only-of-type {\n",
       "        vertical-align: middle;\n",
       "    }\n",
       "\n",
       "    .dataframe tbody tr th {\n",
       "        vertical-align: top;\n",
       "    }\n",
       "\n",
       "    .dataframe thead th {\n",
       "        text-align: right;\n",
       "    }\n",
       "</style>\n",
       "<table border=\"1\" class=\"dataframe\">\n",
       "  <thead>\n",
       "    <tr style=\"text-align: right;\">\n",
       "      <th></th>\n",
       "      <th>Country Name</th>\n",
       "      <th>1990 World Population</th>\n",
       "      <th>1991 World Population</th>\n",
       "      <th>1992 World Population</th>\n",
       "      <th>1993 World Population</th>\n",
       "      <th>1994 World Population</th>\n",
       "      <th>1995 World Population</th>\n",
       "      <th>1996 World Population</th>\n",
       "      <th>1997 World Population</th>\n",
       "      <th>1998 World Population</th>\n",
       "      <th>...</th>\n",
       "      <th>2001 World Population</th>\n",
       "      <th>2002 World Population</th>\n",
       "      <th>2003 World Population</th>\n",
       "      <th>2004 World Population</th>\n",
       "      <th>2005 World Population</th>\n",
       "      <th>2006 World Population</th>\n",
       "      <th>2007 World Population</th>\n",
       "      <th>2008 World Population</th>\n",
       "      <th>2009 World Population</th>\n",
       "      <th>2010 World Population</th>\n",
       "    </tr>\n",
       "  </thead>\n",
       "  <tbody>\n",
       "    <tr>\n",
       "      <th>0</th>\n",
       "      <td>Aruba</td>\n",
       "      <td>62149.0</td>\n",
       "      <td>64622.0</td>\n",
       "      <td>68235.0</td>\n",
       "      <td>72504.0</td>\n",
       "      <td>76700.0</td>\n",
       "      <td>80324.0</td>\n",
       "      <td>83200.0</td>\n",
       "      <td>85451.0</td>\n",
       "      <td>87277.0</td>\n",
       "      <td>...</td>\n",
       "      <td>92898.0</td>\n",
       "      <td>94992.0</td>\n",
       "      <td>97017.0</td>\n",
       "      <td>98737.0</td>\n",
       "      <td>100031.0</td>\n",
       "      <td>100834.0</td>\n",
       "      <td>101222.0</td>\n",
       "      <td>101358.0</td>\n",
       "      <td>101455.0</td>\n",
       "      <td>101669.0</td>\n",
       "    </tr>\n",
       "    <tr>\n",
       "      <th>1</th>\n",
       "      <td>Afghanistan</td>\n",
       "      <td>12412308.0</td>\n",
       "      <td>13299017.0</td>\n",
       "      <td>14485546.0</td>\n",
       "      <td>15816603.0</td>\n",
       "      <td>17075727.0</td>\n",
       "      <td>18110657.0</td>\n",
       "      <td>18853437.0</td>\n",
       "      <td>19357126.0</td>\n",
       "      <td>19737765.0</td>\n",
       "      <td>...</td>\n",
       "      <td>21606988.0</td>\n",
       "      <td>22600770.0</td>\n",
       "      <td>23680871.0</td>\n",
       "      <td>24726684.0</td>\n",
       "      <td>25654277.0</td>\n",
       "      <td>26433049.0</td>\n",
       "      <td>27100536.0</td>\n",
       "      <td>27722276.0</td>\n",
       "      <td>28394813.0</td>\n",
       "      <td>29185507.0</td>\n",
       "    </tr>\n",
       "    <tr>\n",
       "      <th>2</th>\n",
       "      <td>Angola</td>\n",
       "      <td>11848386.0</td>\n",
       "      <td>12248901.0</td>\n",
       "      <td>12657366.0</td>\n",
       "      <td>13075049.0</td>\n",
       "      <td>13503747.0</td>\n",
       "      <td>13945206.0</td>\n",
       "      <td>14400719.0</td>\n",
       "      <td>14871570.0</td>\n",
       "      <td>15359601.0</td>\n",
       "      <td>...</td>\n",
       "      <td>16945753.0</td>\n",
       "      <td>17519417.0</td>\n",
       "      <td>18121479.0</td>\n",
       "      <td>18758145.0</td>\n",
       "      <td>19433602.0</td>\n",
       "      <td>20149901.0</td>\n",
       "      <td>20905363.0</td>\n",
       "      <td>21695634.0</td>\n",
       "      <td>22514281.0</td>\n",
       "      <td>23356246.0</td>\n",
       "    </tr>\n",
       "    <tr>\n",
       "      <th>3</th>\n",
       "      <td>Albania</td>\n",
       "      <td>3286542.0</td>\n",
       "      <td>3266790.0</td>\n",
       "      <td>3247039.0</td>\n",
       "      <td>3227287.0</td>\n",
       "      <td>3207536.0</td>\n",
       "      <td>3187784.0</td>\n",
       "      <td>3168033.0</td>\n",
       "      <td>3148281.0</td>\n",
       "      <td>3128530.0</td>\n",
       "      <td>...</td>\n",
       "      <td>3060173.0</td>\n",
       "      <td>3051010.0</td>\n",
       "      <td>3039616.0</td>\n",
       "      <td>3026939.0</td>\n",
       "      <td>3011487.0</td>\n",
       "      <td>2992547.0</td>\n",
       "      <td>2970017.0</td>\n",
       "      <td>2947314.0</td>\n",
       "      <td>2927519.0</td>\n",
       "      <td>2913021.0</td>\n",
       "    </tr>\n",
       "    <tr>\n",
       "      <th>4</th>\n",
       "      <td>Andorra</td>\n",
       "      <td>54509.0</td>\n",
       "      <td>56671.0</td>\n",
       "      <td>58888.0</td>\n",
       "      <td>60971.0</td>\n",
       "      <td>62677.0</td>\n",
       "      <td>63850.0</td>\n",
       "      <td>64360.0</td>\n",
       "      <td>64327.0</td>\n",
       "      <td>64142.0</td>\n",
       "      <td>...</td>\n",
       "      <td>67341.0</td>\n",
       "      <td>70049.0</td>\n",
       "      <td>73182.0</td>\n",
       "      <td>76244.0</td>\n",
       "      <td>78867.0</td>\n",
       "      <td>80993.0</td>\n",
       "      <td>82684.0</td>\n",
       "      <td>83862.0</td>\n",
       "      <td>84463.0</td>\n",
       "      <td>84449.0</td>\n",
       "    </tr>\n",
       "  </tbody>\n",
       "</table>\n",
       "<p>5 rows × 22 columns</p>\n",
       "</div>"
      ],
      "text/plain": [
       "  Country Name  1990 World Population  1991 World Population  \\\n",
       "0        Aruba                62149.0                64622.0   \n",
       "1  Afghanistan             12412308.0             13299017.0   \n",
       "2       Angola             11848386.0             12248901.0   \n",
       "3      Albania              3286542.0              3266790.0   \n",
       "4      Andorra                54509.0                56671.0   \n",
       "\n",
       "   1992 World Population  1993 World Population  1994 World Population  \\\n",
       "0                68235.0                72504.0                76700.0   \n",
       "1             14485546.0             15816603.0             17075727.0   \n",
       "2             12657366.0             13075049.0             13503747.0   \n",
       "3              3247039.0              3227287.0              3207536.0   \n",
       "4                58888.0                60971.0                62677.0   \n",
       "\n",
       "   1995 World Population  1996 World Population  1997 World Population  \\\n",
       "0                80324.0                83200.0                85451.0   \n",
       "1             18110657.0             18853437.0             19357126.0   \n",
       "2             13945206.0             14400719.0             14871570.0   \n",
       "3              3187784.0              3168033.0              3148281.0   \n",
       "4                63850.0                64360.0                64327.0   \n",
       "\n",
       "   1998 World Population  ...  2001 World Population  2002 World Population  \\\n",
       "0                87277.0  ...                92898.0                94992.0   \n",
       "1             19737765.0  ...             21606988.0             22600770.0   \n",
       "2             15359601.0  ...             16945753.0             17519417.0   \n",
       "3              3128530.0  ...              3060173.0              3051010.0   \n",
       "4                64142.0  ...                67341.0                70049.0   \n",
       "\n",
       "   2003 World Population  2004 World Population  2005 World Population  \\\n",
       "0                97017.0                98737.0               100031.0   \n",
       "1             23680871.0             24726684.0             25654277.0   \n",
       "2             18121479.0             18758145.0             19433602.0   \n",
       "3              3039616.0              3026939.0              3011487.0   \n",
       "4                73182.0                76244.0                78867.0   \n",
       "\n",
       "   2006 World Population  2007 World Population  2008 World Population  \\\n",
       "0               100834.0               101222.0               101358.0   \n",
       "1             26433049.0             27100536.0             27722276.0   \n",
       "2             20149901.0             20905363.0             21695634.0   \n",
       "3              2992547.0              2970017.0              2947314.0   \n",
       "4                80993.0                82684.0                83862.0   \n",
       "\n",
       "   2009 World Population  2010 World Population  \n",
       "0               101455.0               101669.0  \n",
       "1             28394813.0             29185507.0  \n",
       "2             22514281.0             23356246.0  \n",
       "3              2927519.0              2913021.0  \n",
       "4                84463.0                84449.0  \n",
       "\n",
       "[5 rows x 22 columns]"
      ]
     },
     "execution_count": 6,
     "metadata": {},
     "output_type": "execute_result"
    }
   ],
   "source": [
    "headers = {'1990': '1990 World Population', '1991': '1991 World Population', '1992': '1992 World Population',\n",
    "           '1993': '1993 World Population', '1994': '1994 World Population', '1995': '1995 World Population',\n",
    "           '1996': '1996 World Population', '1997': '1997 World Population', '1998': '1998 World Population',\n",
    "           '1999': '1999 World Population', '2000': '2000 World Population', '2001': '2001 World Population',\n",
    "           '2002': '2002 World Population', '2003': '2003 World Population', '2004': '2004 World Population',\n",
    "           '2005': '2005 World Population', '2006': '2006 World Population', '2007': '2007 World Population',\n",
    "           '2008': '2008 World Population', '2009': '2009 World Population', '2010': '2010 World Population',\n",
    "          }\n",
    "\n",
    "world_pop.rename(columns=headers, inplace=True)\n",
    "world_pop.head()"
   ]
  },
  {
   "cell_type": "markdown",
   "id": "73978c5a",
   "metadata": {},
   "source": [
    "Carry out the same operations on the Urban World Population dataframe\n",
    "\n"
   ]
  },
  {
   "cell_type": "code",
   "execution_count": 7,
   "id": "df78f240",
   "metadata": {},
   "outputs": [
    {
     "data": {
      "text/html": [
       "<div>\n",
       "<style scoped>\n",
       "    .dataframe tbody tr th:only-of-type {\n",
       "        vertical-align: middle;\n",
       "    }\n",
       "\n",
       "    .dataframe tbody tr th {\n",
       "        vertical-align: top;\n",
       "    }\n",
       "\n",
       "    .dataframe thead th {\n",
       "        text-align: right;\n",
       "    }\n",
       "</style>\n",
       "<table border=\"1\" class=\"dataframe\">\n",
       "  <thead>\n",
       "    <tr style=\"text-align: right;\">\n",
       "      <th></th>\n",
       "      <th>Country Name</th>\n",
       "      <th>1990</th>\n",
       "      <th>1991</th>\n",
       "      <th>1992</th>\n",
       "      <th>1993</th>\n",
       "      <th>1994</th>\n",
       "      <th>1995</th>\n",
       "      <th>1996</th>\n",
       "      <th>1997</th>\n",
       "      <th>1998</th>\n",
       "      <th>...</th>\n",
       "      <th>2001</th>\n",
       "      <th>2002</th>\n",
       "      <th>2003</th>\n",
       "      <th>2004</th>\n",
       "      <th>2005</th>\n",
       "      <th>2006</th>\n",
       "      <th>2007</th>\n",
       "      <th>2008</th>\n",
       "      <th>2009</th>\n",
       "      <th>2010</th>\n",
       "    </tr>\n",
       "  </thead>\n",
       "  <tbody>\n",
       "    <tr>\n",
       "      <th>0</th>\n",
       "      <td>Aruba</td>\n",
       "      <td>31273.0</td>\n",
       "      <td>32507.0</td>\n",
       "      <td>34116.0</td>\n",
       "      <td>35953.0</td>\n",
       "      <td>37719.0</td>\n",
       "      <td>39172.0</td>\n",
       "      <td>40232.0</td>\n",
       "      <td>40970.0</td>\n",
       "      <td>41488.0</td>\n",
       "      <td>...</td>\n",
       "      <td>43048.0</td>\n",
       "      <td>43670.0</td>\n",
       "      <td>44246.0</td>\n",
       "      <td>44669.0</td>\n",
       "      <td>44889.0</td>\n",
       "      <td>44882.0</td>\n",
       "      <td>44686.0</td>\n",
       "      <td>44378.0</td>\n",
       "      <td>44053.0</td>\n",
       "      <td>43778.0</td>\n",
       "    </tr>\n",
       "    <tr>\n",
       "      <th>1</th>\n",
       "      <td>Afghanistan</td>\n",
       "      <td>2628554.0</td>\n",
       "      <td>2828169.0</td>\n",
       "      <td>3093388.0</td>\n",
       "      <td>3391712.0</td>\n",
       "      <td>3677087.0</td>\n",
       "      <td>3916248.0</td>\n",
       "      <td>4093835.0</td>\n",
       "      <td>4220821.0</td>\n",
       "      <td>4321584.0</td>\n",
       "      <td>...</td>\n",
       "      <td>4790053.0</td>\n",
       "      <td>5031157.0</td>\n",
       "      <td>5293385.0</td>\n",
       "      <td>5563504.0</td>\n",
       "      <td>5824291.0</td>\n",
       "      <td>6055019.0</td>\n",
       "      <td>6263747.0</td>\n",
       "      <td>6464835.0</td>\n",
       "      <td>6680732.0</td>\n",
       "      <td>6927764.0</td>\n",
       "    </tr>\n",
       "    <tr>\n",
       "      <th>2</th>\n",
       "      <td>Angola</td>\n",
       "      <td>4400964.0</td>\n",
       "      <td>4725626.0</td>\n",
       "      <td>5067883.0</td>\n",
       "      <td>5427584.0</td>\n",
       "      <td>5806611.0</td>\n",
       "      <td>6159458.0</td>\n",
       "      <td>6530150.0</td>\n",
       "      <td>6918998.0</td>\n",
       "      <td>7328066.0</td>\n",
       "      <td>...</td>\n",
       "      <td>8688765.0</td>\n",
       "      <td>9190861.0</td>\n",
       "      <td>9721267.0</td>\n",
       "      <td>10284528.0</td>\n",
       "      <td>10882817.0</td>\n",
       "      <td>11437890.0</td>\n",
       "      <td>12025601.0</td>\n",
       "      <td>12644649.0</td>\n",
       "      <td>13291081.0</td>\n",
       "      <td>13963065.0</td>\n",
       "    </tr>\n",
       "    <tr>\n",
       "      <th>3</th>\n",
       "      <td>Albania</td>\n",
       "      <td>1197222.0</td>\n",
       "      <td>1198912.0</td>\n",
       "      <td>1209490.0</td>\n",
       "      <td>1219882.0</td>\n",
       "      <td>1230218.0</td>\n",
       "      <td>1240399.0</td>\n",
       "      <td>1250518.0</td>\n",
       "      <td>1260414.0</td>\n",
       "      <td>1270214.0</td>\n",
       "      <td>...</td>\n",
       "      <td>1298584.0</td>\n",
       "      <td>1327220.0</td>\n",
       "      <td>1354848.0</td>\n",
       "      <td>1381828.0</td>\n",
       "      <td>1407298.0</td>\n",
       "      <td>1430886.0</td>\n",
       "      <td>1452398.0</td>\n",
       "      <td>1473392.0</td>\n",
       "      <td>1495260.0</td>\n",
       "      <td>1519519.0</td>\n",
       "    </tr>\n",
       "    <tr>\n",
       "      <th>4</th>\n",
       "      <td>Andorra</td>\n",
       "      <td>51627.0</td>\n",
       "      <td>53571.0</td>\n",
       "      <td>55546.0</td>\n",
       "      <td>57380.0</td>\n",
       "      <td>58847.0</td>\n",
       "      <td>59803.0</td>\n",
       "      <td>60128.0</td>\n",
       "      <td>59940.0</td>\n",
       "      <td>59605.0</td>\n",
       "      <td>...</td>\n",
       "      <td>61991.0</td>\n",
       "      <td>64194.0</td>\n",
       "      <td>66747.0</td>\n",
       "      <td>69192.0</td>\n",
       "      <td>71205.0</td>\n",
       "      <td>72737.0</td>\n",
       "      <td>73843.0</td>\n",
       "      <td>74641.0</td>\n",
       "      <td>75098.0</td>\n",
       "      <td>75007.0</td>\n",
       "    </tr>\n",
       "  </tbody>\n",
       "</table>\n",
       "<p>5 rows × 22 columns</p>\n",
       "</div>"
      ],
      "text/plain": [
       "  Country Name       1990       1991       1992       1993       1994  \\\n",
       "0        Aruba    31273.0    32507.0    34116.0    35953.0    37719.0   \n",
       "1  Afghanistan  2628554.0  2828169.0  3093388.0  3391712.0  3677087.0   \n",
       "2       Angola  4400964.0  4725626.0  5067883.0  5427584.0  5806611.0   \n",
       "3      Albania  1197222.0  1198912.0  1209490.0  1219882.0  1230218.0   \n",
       "4      Andorra    51627.0    53571.0    55546.0    57380.0    58847.0   \n",
       "\n",
       "        1995       1996       1997       1998  ...       2001       2002  \\\n",
       "0    39172.0    40232.0    40970.0    41488.0  ...    43048.0    43670.0   \n",
       "1  3916248.0  4093835.0  4220821.0  4321584.0  ...  4790053.0  5031157.0   \n",
       "2  6159458.0  6530150.0  6918998.0  7328066.0  ...  8688765.0  9190861.0   \n",
       "3  1240399.0  1250518.0  1260414.0  1270214.0  ...  1298584.0  1327220.0   \n",
       "4    59803.0    60128.0    59940.0    59605.0  ...    61991.0    64194.0   \n",
       "\n",
       "        2003        2004        2005        2006        2007        2008  \\\n",
       "0    44246.0     44669.0     44889.0     44882.0     44686.0     44378.0   \n",
       "1  5293385.0   5563504.0   5824291.0   6055019.0   6263747.0   6464835.0   \n",
       "2  9721267.0  10284528.0  10882817.0  11437890.0  12025601.0  12644649.0   \n",
       "3  1354848.0   1381828.0   1407298.0   1430886.0   1452398.0   1473392.0   \n",
       "4    66747.0     69192.0     71205.0     72737.0     73843.0     74641.0   \n",
       "\n",
       "         2009        2010  \n",
       "0     44053.0     43778.0  \n",
       "1   6680732.0   6927764.0  \n",
       "2  13291081.0  13963065.0  \n",
       "3   1495260.0   1519519.0  \n",
       "4     75098.0     75007.0  \n",
       "\n",
       "[5 rows x 22 columns]"
      ]
     },
     "execution_count": 7,
     "metadata": {},
     "output_type": "execute_result"
    }
   ],
   "source": [
    "#select the required columns for Task 1 and 2\n",
    "loc = world_urban_pop.columns.get_loc\n",
    "world_urban_pop = world_urban_pop.iloc[:, np.r_[loc('Country Name'), loc('1990'):loc('2010')+1]]\n",
    "world_urban_pop.head()"
   ]
  },
  {
   "cell_type": "code",
   "execution_count": 8,
   "id": "72df6892",
   "metadata": {},
   "outputs": [
    {
     "data": {
      "text/html": [
       "<div>\n",
       "<style scoped>\n",
       "    .dataframe tbody tr th:only-of-type {\n",
       "        vertical-align: middle;\n",
       "    }\n",
       "\n",
       "    .dataframe tbody tr th {\n",
       "        vertical-align: top;\n",
       "    }\n",
       "\n",
       "    .dataframe thead th {\n",
       "        text-align: right;\n",
       "    }\n",
       "</style>\n",
       "<table border=\"1\" class=\"dataframe\">\n",
       "  <thead>\n",
       "    <tr style=\"text-align: right;\">\n",
       "      <th></th>\n",
       "      <th>Country Name</th>\n",
       "      <th>1990 Urban World Population</th>\n",
       "      <th>1991 Urban World Population</th>\n",
       "      <th>1992 Urban World Population</th>\n",
       "      <th>1993 Urban World Population</th>\n",
       "      <th>1994 Urban World Population</th>\n",
       "      <th>1995 Urban World Population</th>\n",
       "      <th>1996 Urban World Population</th>\n",
       "      <th>1997 Urban World Population</th>\n",
       "      <th>1998 Urban World Population</th>\n",
       "      <th>...</th>\n",
       "      <th>2001 Urban World Population</th>\n",
       "      <th>2002 Urban World Population</th>\n",
       "      <th>2003 Urban World Population</th>\n",
       "      <th>2004 Urban World Population</th>\n",
       "      <th>2005 Urban World Population</th>\n",
       "      <th>2006 Urban World Population</th>\n",
       "      <th>2007 Urban World Population</th>\n",
       "      <th>2008 Urban World Population</th>\n",
       "      <th>2009 Urban World Population</th>\n",
       "      <th>2010 Urban World Population</th>\n",
       "    </tr>\n",
       "  </thead>\n",
       "  <tbody>\n",
       "    <tr>\n",
       "      <th>0</th>\n",
       "      <td>Aruba</td>\n",
       "      <td>31273.0</td>\n",
       "      <td>32507.0</td>\n",
       "      <td>34116.0</td>\n",
       "      <td>35953.0</td>\n",
       "      <td>37719.0</td>\n",
       "      <td>39172.0</td>\n",
       "      <td>40232.0</td>\n",
       "      <td>40970.0</td>\n",
       "      <td>41488.0</td>\n",
       "      <td>...</td>\n",
       "      <td>43048.0</td>\n",
       "      <td>43670.0</td>\n",
       "      <td>44246.0</td>\n",
       "      <td>44669.0</td>\n",
       "      <td>44889.0</td>\n",
       "      <td>44882.0</td>\n",
       "      <td>44686.0</td>\n",
       "      <td>44378.0</td>\n",
       "      <td>44053.0</td>\n",
       "      <td>43778.0</td>\n",
       "    </tr>\n",
       "    <tr>\n",
       "      <th>1</th>\n",
       "      <td>Afghanistan</td>\n",
       "      <td>2628554.0</td>\n",
       "      <td>2828169.0</td>\n",
       "      <td>3093388.0</td>\n",
       "      <td>3391712.0</td>\n",
       "      <td>3677087.0</td>\n",
       "      <td>3916248.0</td>\n",
       "      <td>4093835.0</td>\n",
       "      <td>4220821.0</td>\n",
       "      <td>4321584.0</td>\n",
       "      <td>...</td>\n",
       "      <td>4790053.0</td>\n",
       "      <td>5031157.0</td>\n",
       "      <td>5293385.0</td>\n",
       "      <td>5563504.0</td>\n",
       "      <td>5824291.0</td>\n",
       "      <td>6055019.0</td>\n",
       "      <td>6263747.0</td>\n",
       "      <td>6464835.0</td>\n",
       "      <td>6680732.0</td>\n",
       "      <td>6927764.0</td>\n",
       "    </tr>\n",
       "    <tr>\n",
       "      <th>2</th>\n",
       "      <td>Angola</td>\n",
       "      <td>4400964.0</td>\n",
       "      <td>4725626.0</td>\n",
       "      <td>5067883.0</td>\n",
       "      <td>5427584.0</td>\n",
       "      <td>5806611.0</td>\n",
       "      <td>6159458.0</td>\n",
       "      <td>6530150.0</td>\n",
       "      <td>6918998.0</td>\n",
       "      <td>7328066.0</td>\n",
       "      <td>...</td>\n",
       "      <td>8688765.0</td>\n",
       "      <td>9190861.0</td>\n",
       "      <td>9721267.0</td>\n",
       "      <td>10284528.0</td>\n",
       "      <td>10882817.0</td>\n",
       "      <td>11437890.0</td>\n",
       "      <td>12025601.0</td>\n",
       "      <td>12644649.0</td>\n",
       "      <td>13291081.0</td>\n",
       "      <td>13963065.0</td>\n",
       "    </tr>\n",
       "    <tr>\n",
       "      <th>3</th>\n",
       "      <td>Albania</td>\n",
       "      <td>1197222.0</td>\n",
       "      <td>1198912.0</td>\n",
       "      <td>1209490.0</td>\n",
       "      <td>1219882.0</td>\n",
       "      <td>1230218.0</td>\n",
       "      <td>1240399.0</td>\n",
       "      <td>1250518.0</td>\n",
       "      <td>1260414.0</td>\n",
       "      <td>1270214.0</td>\n",
       "      <td>...</td>\n",
       "      <td>1298584.0</td>\n",
       "      <td>1327220.0</td>\n",
       "      <td>1354848.0</td>\n",
       "      <td>1381828.0</td>\n",
       "      <td>1407298.0</td>\n",
       "      <td>1430886.0</td>\n",
       "      <td>1452398.0</td>\n",
       "      <td>1473392.0</td>\n",
       "      <td>1495260.0</td>\n",
       "      <td>1519519.0</td>\n",
       "    </tr>\n",
       "    <tr>\n",
       "      <th>4</th>\n",
       "      <td>Andorra</td>\n",
       "      <td>51627.0</td>\n",
       "      <td>53571.0</td>\n",
       "      <td>55546.0</td>\n",
       "      <td>57380.0</td>\n",
       "      <td>58847.0</td>\n",
       "      <td>59803.0</td>\n",
       "      <td>60128.0</td>\n",
       "      <td>59940.0</td>\n",
       "      <td>59605.0</td>\n",
       "      <td>...</td>\n",
       "      <td>61991.0</td>\n",
       "      <td>64194.0</td>\n",
       "      <td>66747.0</td>\n",
       "      <td>69192.0</td>\n",
       "      <td>71205.0</td>\n",
       "      <td>72737.0</td>\n",
       "      <td>73843.0</td>\n",
       "      <td>74641.0</td>\n",
       "      <td>75098.0</td>\n",
       "      <td>75007.0</td>\n",
       "    </tr>\n",
       "  </tbody>\n",
       "</table>\n",
       "<p>5 rows × 22 columns</p>\n",
       "</div>"
      ],
      "text/plain": [
       "  Country Name  1990 Urban World Population  1991 Urban World Population  \\\n",
       "0        Aruba                      31273.0                      32507.0   \n",
       "1  Afghanistan                    2628554.0                    2828169.0   \n",
       "2       Angola                    4400964.0                    4725626.0   \n",
       "3      Albania                    1197222.0                    1198912.0   \n",
       "4      Andorra                      51627.0                      53571.0   \n",
       "\n",
       "   1992 Urban World Population  1993 Urban World Population  \\\n",
       "0                      34116.0                      35953.0   \n",
       "1                    3093388.0                    3391712.0   \n",
       "2                    5067883.0                    5427584.0   \n",
       "3                    1209490.0                    1219882.0   \n",
       "4                      55546.0                      57380.0   \n",
       "\n",
       "   1994 Urban World Population  1995 Urban World Population  \\\n",
       "0                      37719.0                      39172.0   \n",
       "1                    3677087.0                    3916248.0   \n",
       "2                    5806611.0                    6159458.0   \n",
       "3                    1230218.0                    1240399.0   \n",
       "4                      58847.0                      59803.0   \n",
       "\n",
       "   1996 Urban World Population  1997 Urban World Population  \\\n",
       "0                      40232.0                      40970.0   \n",
       "1                    4093835.0                    4220821.0   \n",
       "2                    6530150.0                    6918998.0   \n",
       "3                    1250518.0                    1260414.0   \n",
       "4                      60128.0                      59940.0   \n",
       "\n",
       "   1998 Urban World Population  ...  2001 Urban World Population  \\\n",
       "0                      41488.0  ...                      43048.0   \n",
       "1                    4321584.0  ...                    4790053.0   \n",
       "2                    7328066.0  ...                    8688765.0   \n",
       "3                    1270214.0  ...                    1298584.0   \n",
       "4                      59605.0  ...                      61991.0   \n",
       "\n",
       "   2002 Urban World Population  2003 Urban World Population  \\\n",
       "0                      43670.0                      44246.0   \n",
       "1                    5031157.0                    5293385.0   \n",
       "2                    9190861.0                    9721267.0   \n",
       "3                    1327220.0                    1354848.0   \n",
       "4                      64194.0                      66747.0   \n",
       "\n",
       "   2004 Urban World Population  2005 Urban World Population  \\\n",
       "0                      44669.0                      44889.0   \n",
       "1                    5563504.0                    5824291.0   \n",
       "2                   10284528.0                   10882817.0   \n",
       "3                    1381828.0                    1407298.0   \n",
       "4                      69192.0                      71205.0   \n",
       "\n",
       "   2006 Urban World Population  2007 Urban World Population  \\\n",
       "0                      44882.0                      44686.0   \n",
       "1                    6055019.0                    6263747.0   \n",
       "2                   11437890.0                   12025601.0   \n",
       "3                    1430886.0                    1452398.0   \n",
       "4                      72737.0                      73843.0   \n",
       "\n",
       "   2008 Urban World Population  2009 Urban World Population  \\\n",
       "0                      44378.0                      44053.0   \n",
       "1                    6464835.0                    6680732.0   \n",
       "2                   12644649.0                   13291081.0   \n",
       "3                    1473392.0                    1495260.0   \n",
       "4                      74641.0                      75098.0   \n",
       "\n",
       "   2010 Urban World Population  \n",
       "0                      43778.0  \n",
       "1                    6927764.0  \n",
       "2                   13963065.0  \n",
       "3                    1519519.0  \n",
       "4                      75007.0  \n",
       "\n",
       "[5 rows x 22 columns]"
      ]
     },
     "execution_count": 8,
     "metadata": {},
     "output_type": "execute_result"
    }
   ],
   "source": [
    "#rename the column headers \n",
    "headers = {'1990': '1990 Urban World Population', '1991': '1991 Urban World Population', '1992': '1992 Urban World Population',\n",
    "           '1993': '1993 Urban World Population', '1994': '1994 Urban World Population', '1995': '1995 Urban World Population',\n",
    "           '1996': '1996 Urban World Population', '1997': '1997 Urban World Population', '1998': '1998 Urban World Population',\n",
    "           '1999': '1999 Urban World Population', '2000': '2000 Urban World Population', '2001': '2001 Urban World Population',\n",
    "           '2002': '2002 Urban World Population', '2003': '2003 Urban World Population', '2004': '2004 Urban World Population',\n",
    "           '2005': '2005 Urban World Population', '2006': '2006 Urban World Population', '2007': '2007 Urban World Population',\n",
    "           '2008': '2008 Urban World Population', '2009': '2009 Urban World Population', '2010': '2010 Urban World Population',\n",
    "          }\n",
    "\n",
    "world_urban_pop.rename(columns=headers, inplace=True)\n",
    "world_urban_pop.head()"
   ]
  },
  {
   "cell_type": "markdown",
   "id": "979398c2",
   "metadata": {},
   "source": [
    "Combine the world_pop and world_urban_pop dataframes"
   ]
  },
  {
   "cell_type": "code",
   "execution_count": 9,
   "id": "cb4cf08a",
   "metadata": {},
   "outputs": [
    {
     "data": {
      "text/html": [
       "<div>\n",
       "<style scoped>\n",
       "    .dataframe tbody tr th:only-of-type {\n",
       "        vertical-align: middle;\n",
       "    }\n",
       "\n",
       "    .dataframe tbody tr th {\n",
       "        vertical-align: top;\n",
       "    }\n",
       "\n",
       "    .dataframe thead th {\n",
       "        text-align: right;\n",
       "    }\n",
       "</style>\n",
       "<table border=\"1\" class=\"dataframe\">\n",
       "  <thead>\n",
       "    <tr style=\"text-align: right;\">\n",
       "      <th></th>\n",
       "      <th>Country Name</th>\n",
       "      <th>1990 World Population</th>\n",
       "      <th>1991 World Population</th>\n",
       "      <th>1992 World Population</th>\n",
       "      <th>1993 World Population</th>\n",
       "      <th>1994 World Population</th>\n",
       "      <th>1995 World Population</th>\n",
       "      <th>1996 World Population</th>\n",
       "      <th>1997 World Population</th>\n",
       "      <th>1998 World Population</th>\n",
       "      <th>...</th>\n",
       "      <th>2001 Urban World Population</th>\n",
       "      <th>2002 Urban World Population</th>\n",
       "      <th>2003 Urban World Population</th>\n",
       "      <th>2004 Urban World Population</th>\n",
       "      <th>2005 Urban World Population</th>\n",
       "      <th>2006 Urban World Population</th>\n",
       "      <th>2007 Urban World Population</th>\n",
       "      <th>2008 Urban World Population</th>\n",
       "      <th>2009 Urban World Population</th>\n",
       "      <th>2010 Urban World Population</th>\n",
       "    </tr>\n",
       "  </thead>\n",
       "  <tbody>\n",
       "    <tr>\n",
       "      <th>0</th>\n",
       "      <td>Aruba</td>\n",
       "      <td>62149.0</td>\n",
       "      <td>64622.0</td>\n",
       "      <td>68235.0</td>\n",
       "      <td>72504.0</td>\n",
       "      <td>76700.0</td>\n",
       "      <td>80324.0</td>\n",
       "      <td>83200.0</td>\n",
       "      <td>85451.0</td>\n",
       "      <td>87277.0</td>\n",
       "      <td>...</td>\n",
       "      <td>43048.0</td>\n",
       "      <td>43670.0</td>\n",
       "      <td>44246.0</td>\n",
       "      <td>44669.0</td>\n",
       "      <td>44889.0</td>\n",
       "      <td>44882.0</td>\n",
       "      <td>44686.0</td>\n",
       "      <td>44378.0</td>\n",
       "      <td>44053.0</td>\n",
       "      <td>43778.0</td>\n",
       "    </tr>\n",
       "    <tr>\n",
       "      <th>1</th>\n",
       "      <td>Afghanistan</td>\n",
       "      <td>12412308.0</td>\n",
       "      <td>13299017.0</td>\n",
       "      <td>14485546.0</td>\n",
       "      <td>15816603.0</td>\n",
       "      <td>17075727.0</td>\n",
       "      <td>18110657.0</td>\n",
       "      <td>18853437.0</td>\n",
       "      <td>19357126.0</td>\n",
       "      <td>19737765.0</td>\n",
       "      <td>...</td>\n",
       "      <td>4790053.0</td>\n",
       "      <td>5031157.0</td>\n",
       "      <td>5293385.0</td>\n",
       "      <td>5563504.0</td>\n",
       "      <td>5824291.0</td>\n",
       "      <td>6055019.0</td>\n",
       "      <td>6263747.0</td>\n",
       "      <td>6464835.0</td>\n",
       "      <td>6680732.0</td>\n",
       "      <td>6927764.0</td>\n",
       "    </tr>\n",
       "    <tr>\n",
       "      <th>2</th>\n",
       "      <td>Angola</td>\n",
       "      <td>11848386.0</td>\n",
       "      <td>12248901.0</td>\n",
       "      <td>12657366.0</td>\n",
       "      <td>13075049.0</td>\n",
       "      <td>13503747.0</td>\n",
       "      <td>13945206.0</td>\n",
       "      <td>14400719.0</td>\n",
       "      <td>14871570.0</td>\n",
       "      <td>15359601.0</td>\n",
       "      <td>...</td>\n",
       "      <td>8688765.0</td>\n",
       "      <td>9190861.0</td>\n",
       "      <td>9721267.0</td>\n",
       "      <td>10284528.0</td>\n",
       "      <td>10882817.0</td>\n",
       "      <td>11437890.0</td>\n",
       "      <td>12025601.0</td>\n",
       "      <td>12644649.0</td>\n",
       "      <td>13291081.0</td>\n",
       "      <td>13963065.0</td>\n",
       "    </tr>\n",
       "    <tr>\n",
       "      <th>3</th>\n",
       "      <td>Albania</td>\n",
       "      <td>3286542.0</td>\n",
       "      <td>3266790.0</td>\n",
       "      <td>3247039.0</td>\n",
       "      <td>3227287.0</td>\n",
       "      <td>3207536.0</td>\n",
       "      <td>3187784.0</td>\n",
       "      <td>3168033.0</td>\n",
       "      <td>3148281.0</td>\n",
       "      <td>3128530.0</td>\n",
       "      <td>...</td>\n",
       "      <td>1298584.0</td>\n",
       "      <td>1327220.0</td>\n",
       "      <td>1354848.0</td>\n",
       "      <td>1381828.0</td>\n",
       "      <td>1407298.0</td>\n",
       "      <td>1430886.0</td>\n",
       "      <td>1452398.0</td>\n",
       "      <td>1473392.0</td>\n",
       "      <td>1495260.0</td>\n",
       "      <td>1519519.0</td>\n",
       "    </tr>\n",
       "    <tr>\n",
       "      <th>4</th>\n",
       "      <td>Andorra</td>\n",
       "      <td>54509.0</td>\n",
       "      <td>56671.0</td>\n",
       "      <td>58888.0</td>\n",
       "      <td>60971.0</td>\n",
       "      <td>62677.0</td>\n",
       "      <td>63850.0</td>\n",
       "      <td>64360.0</td>\n",
       "      <td>64327.0</td>\n",
       "      <td>64142.0</td>\n",
       "      <td>...</td>\n",
       "      <td>61991.0</td>\n",
       "      <td>64194.0</td>\n",
       "      <td>66747.0</td>\n",
       "      <td>69192.0</td>\n",
       "      <td>71205.0</td>\n",
       "      <td>72737.0</td>\n",
       "      <td>73843.0</td>\n",
       "      <td>74641.0</td>\n",
       "      <td>75098.0</td>\n",
       "      <td>75007.0</td>\n",
       "    </tr>\n",
       "  </tbody>\n",
       "</table>\n",
       "<p>5 rows × 43 columns</p>\n",
       "</div>"
      ],
      "text/plain": [
       "  Country Name  1990 World Population  1991 World Population  \\\n",
       "0        Aruba                62149.0                64622.0   \n",
       "1  Afghanistan             12412308.0             13299017.0   \n",
       "2       Angola             11848386.0             12248901.0   \n",
       "3      Albania              3286542.0              3266790.0   \n",
       "4      Andorra                54509.0                56671.0   \n",
       "\n",
       "   1992 World Population  1993 World Population  1994 World Population  \\\n",
       "0                68235.0                72504.0                76700.0   \n",
       "1             14485546.0             15816603.0             17075727.0   \n",
       "2             12657366.0             13075049.0             13503747.0   \n",
       "3              3247039.0              3227287.0              3207536.0   \n",
       "4                58888.0                60971.0                62677.0   \n",
       "\n",
       "   1995 World Population  1996 World Population  1997 World Population  \\\n",
       "0                80324.0                83200.0                85451.0   \n",
       "1             18110657.0             18853437.0             19357126.0   \n",
       "2             13945206.0             14400719.0             14871570.0   \n",
       "3              3187784.0              3168033.0              3148281.0   \n",
       "4                63850.0                64360.0                64327.0   \n",
       "\n",
       "   1998 World Population  ...  2001 Urban World Population  \\\n",
       "0                87277.0  ...                      43048.0   \n",
       "1             19737765.0  ...                    4790053.0   \n",
       "2             15359601.0  ...                    8688765.0   \n",
       "3              3128530.0  ...                    1298584.0   \n",
       "4                64142.0  ...                      61991.0   \n",
       "\n",
       "   2002 Urban World Population  2003 Urban World Population  \\\n",
       "0                      43670.0                      44246.0   \n",
       "1                    5031157.0                    5293385.0   \n",
       "2                    9190861.0                    9721267.0   \n",
       "3                    1327220.0                    1354848.0   \n",
       "4                      64194.0                      66747.0   \n",
       "\n",
       "   2004 Urban World Population  2005 Urban World Population  \\\n",
       "0                      44669.0                      44889.0   \n",
       "1                    5563504.0                    5824291.0   \n",
       "2                   10284528.0                   10882817.0   \n",
       "3                    1381828.0                    1407298.0   \n",
       "4                      69192.0                      71205.0   \n",
       "\n",
       "   2006 Urban World Population  2007 Urban World Population  \\\n",
       "0                      44882.0                      44686.0   \n",
       "1                    6055019.0                    6263747.0   \n",
       "2                   11437890.0                   12025601.0   \n",
       "3                    1430886.0                    1452398.0   \n",
       "4                      72737.0                      73843.0   \n",
       "\n",
       "   2008 Urban World Population  2009 Urban World Population  \\\n",
       "0                      44378.0                      44053.0   \n",
       "1                    6464835.0                    6680732.0   \n",
       "2                   12644649.0                   13291081.0   \n",
       "3                    1473392.0                    1495260.0   \n",
       "4                      74641.0                      75098.0   \n",
       "\n",
       "   2010 Urban World Population  \n",
       "0                      43778.0  \n",
       "1                    6927764.0  \n",
       "2                   13963065.0  \n",
       "3                    1519519.0  \n",
       "4                      75007.0  \n",
       "\n",
       "[5 rows x 43 columns]"
      ]
     },
     "execution_count": 9,
     "metadata": {},
     "output_type": "execute_result"
    }
   ],
   "source": [
    "populations = world_pop.merge(world_urban_pop, on='Country Name')\n",
    "populations.head()"
   ]
  },
  {
   "cell_type": "code",
   "execution_count": 10,
   "id": "aa8499f0",
   "metadata": {},
   "outputs": [
    {
     "data": {
      "text/plain": [
       "0      False\n",
       "1      False\n",
       "2      False\n",
       "3      False\n",
       "4      False\n",
       "       ...  \n",
       "259     True\n",
       "260    False\n",
       "261    False\n",
       "262    False\n",
       "263    False\n",
       "Length: 264, dtype: bool"
      ]
     },
     "execution_count": 10,
     "metadata": {},
     "output_type": "execute_result"
    }
   ],
   "source": [
    "#Visualize null values \n",
    "populations['1990 World Population'].isnull() | populations['2010 Urban World Population'].isnull()"
   ]
  },
  {
   "cell_type": "markdown",
   "id": "b71ca258",
   "metadata": {},
   "source": [
    "From the output above, it is difiicult to visualize the columns which may be true for null values.\n",
    "<br> So, we drop null values from the columns as a whole as seen below"
   ]
  },
  {
   "cell_type": "code",
   "execution_count": 11,
   "id": "c34f3942",
   "metadata": {
    "scrolled": true
   },
   "outputs": [
    {
     "data": {
      "text/html": [
       "<div>\n",
       "<style scoped>\n",
       "    .dataframe tbody tr th:only-of-type {\n",
       "        vertical-align: middle;\n",
       "    }\n",
       "\n",
       "    .dataframe tbody tr th {\n",
       "        vertical-align: top;\n",
       "    }\n",
       "\n",
       "    .dataframe thead th {\n",
       "        text-align: right;\n",
       "    }\n",
       "</style>\n",
       "<table border=\"1\" class=\"dataframe\">\n",
       "  <thead>\n",
       "    <tr style=\"text-align: right;\">\n",
       "      <th></th>\n",
       "      <th>Country Name</th>\n",
       "      <th>1990 World Population</th>\n",
       "      <th>1991 World Population</th>\n",
       "      <th>1992 World Population</th>\n",
       "      <th>1993 World Population</th>\n",
       "      <th>1994 World Population</th>\n",
       "      <th>1995 World Population</th>\n",
       "      <th>1996 World Population</th>\n",
       "      <th>1997 World Population</th>\n",
       "      <th>1998 World Population</th>\n",
       "      <th>...</th>\n",
       "      <th>2001 Urban World Population</th>\n",
       "      <th>2002 Urban World Population</th>\n",
       "      <th>2003 Urban World Population</th>\n",
       "      <th>2004 Urban World Population</th>\n",
       "      <th>2005 Urban World Population</th>\n",
       "      <th>2006 Urban World Population</th>\n",
       "      <th>2007 Urban World Population</th>\n",
       "      <th>2008 Urban World Population</th>\n",
       "      <th>2009 Urban World Population</th>\n",
       "      <th>2010 Urban World Population</th>\n",
       "    </tr>\n",
       "  </thead>\n",
       "  <tbody>\n",
       "    <tr>\n",
       "      <th>0</th>\n",
       "      <td>Aruba</td>\n",
       "      <td>62149.0</td>\n",
       "      <td>64622.0</td>\n",
       "      <td>68235.0</td>\n",
       "      <td>72504.0</td>\n",
       "      <td>76700.0</td>\n",
       "      <td>80324.0</td>\n",
       "      <td>83200.0</td>\n",
       "      <td>85451.0</td>\n",
       "      <td>87277.0</td>\n",
       "      <td>...</td>\n",
       "      <td>43048.0</td>\n",
       "      <td>43670.0</td>\n",
       "      <td>44246.0</td>\n",
       "      <td>44669.0</td>\n",
       "      <td>44889.0</td>\n",
       "      <td>44882.0</td>\n",
       "      <td>44686.0</td>\n",
       "      <td>44378.0</td>\n",
       "      <td>44053.0</td>\n",
       "      <td>43778.0</td>\n",
       "    </tr>\n",
       "    <tr>\n",
       "      <th>1</th>\n",
       "      <td>Afghanistan</td>\n",
       "      <td>12412308.0</td>\n",
       "      <td>13299017.0</td>\n",
       "      <td>14485546.0</td>\n",
       "      <td>15816603.0</td>\n",
       "      <td>17075727.0</td>\n",
       "      <td>18110657.0</td>\n",
       "      <td>18853437.0</td>\n",
       "      <td>19357126.0</td>\n",
       "      <td>19737765.0</td>\n",
       "      <td>...</td>\n",
       "      <td>4790053.0</td>\n",
       "      <td>5031157.0</td>\n",
       "      <td>5293385.0</td>\n",
       "      <td>5563504.0</td>\n",
       "      <td>5824291.0</td>\n",
       "      <td>6055019.0</td>\n",
       "      <td>6263747.0</td>\n",
       "      <td>6464835.0</td>\n",
       "      <td>6680732.0</td>\n",
       "      <td>6927764.0</td>\n",
       "    </tr>\n",
       "    <tr>\n",
       "      <th>2</th>\n",
       "      <td>Angola</td>\n",
       "      <td>11848386.0</td>\n",
       "      <td>12248901.0</td>\n",
       "      <td>12657366.0</td>\n",
       "      <td>13075049.0</td>\n",
       "      <td>13503747.0</td>\n",
       "      <td>13945206.0</td>\n",
       "      <td>14400719.0</td>\n",
       "      <td>14871570.0</td>\n",
       "      <td>15359601.0</td>\n",
       "      <td>...</td>\n",
       "      <td>8688765.0</td>\n",
       "      <td>9190861.0</td>\n",
       "      <td>9721267.0</td>\n",
       "      <td>10284528.0</td>\n",
       "      <td>10882817.0</td>\n",
       "      <td>11437890.0</td>\n",
       "      <td>12025601.0</td>\n",
       "      <td>12644649.0</td>\n",
       "      <td>13291081.0</td>\n",
       "      <td>13963065.0</td>\n",
       "    </tr>\n",
       "    <tr>\n",
       "      <th>3</th>\n",
       "      <td>Albania</td>\n",
       "      <td>3286542.0</td>\n",
       "      <td>3266790.0</td>\n",
       "      <td>3247039.0</td>\n",
       "      <td>3227287.0</td>\n",
       "      <td>3207536.0</td>\n",
       "      <td>3187784.0</td>\n",
       "      <td>3168033.0</td>\n",
       "      <td>3148281.0</td>\n",
       "      <td>3128530.0</td>\n",
       "      <td>...</td>\n",
       "      <td>1298584.0</td>\n",
       "      <td>1327220.0</td>\n",
       "      <td>1354848.0</td>\n",
       "      <td>1381828.0</td>\n",
       "      <td>1407298.0</td>\n",
       "      <td>1430886.0</td>\n",
       "      <td>1452398.0</td>\n",
       "      <td>1473392.0</td>\n",
       "      <td>1495260.0</td>\n",
       "      <td>1519519.0</td>\n",
       "    </tr>\n",
       "    <tr>\n",
       "      <th>4</th>\n",
       "      <td>Andorra</td>\n",
       "      <td>54509.0</td>\n",
       "      <td>56671.0</td>\n",
       "      <td>58888.0</td>\n",
       "      <td>60971.0</td>\n",
       "      <td>62677.0</td>\n",
       "      <td>63850.0</td>\n",
       "      <td>64360.0</td>\n",
       "      <td>64327.0</td>\n",
       "      <td>64142.0</td>\n",
       "      <td>...</td>\n",
       "      <td>61991.0</td>\n",
       "      <td>64194.0</td>\n",
       "      <td>66747.0</td>\n",
       "      <td>69192.0</td>\n",
       "      <td>71205.0</td>\n",
       "      <td>72737.0</td>\n",
       "      <td>73843.0</td>\n",
       "      <td>74641.0</td>\n",
       "      <td>75098.0</td>\n",
       "      <td>75007.0</td>\n",
       "    </tr>\n",
       "    <tr>\n",
       "      <th>...</th>\n",
       "      <td>...</td>\n",
       "      <td>...</td>\n",
       "      <td>...</td>\n",
       "      <td>...</td>\n",
       "      <td>...</td>\n",
       "      <td>...</td>\n",
       "      <td>...</td>\n",
       "      <td>...</td>\n",
       "      <td>...</td>\n",
       "      <td>...</td>\n",
       "      <td>...</td>\n",
       "      <td>...</td>\n",
       "      <td>...</td>\n",
       "      <td>...</td>\n",
       "      <td>...</td>\n",
       "      <td>...</td>\n",
       "      <td>...</td>\n",
       "      <td>...</td>\n",
       "      <td>...</td>\n",
       "      <td>...</td>\n",
       "      <td>...</td>\n",
       "    </tr>\n",
       "    <tr>\n",
       "      <th>258</th>\n",
       "      <td>Samoa</td>\n",
       "      <td>162803.0</td>\n",
       "      <td>163997.0</td>\n",
       "      <td>165490.0</td>\n",
       "      <td>167119.0</td>\n",
       "      <td>168694.0</td>\n",
       "      <td>170054.0</td>\n",
       "      <td>171165.0</td>\n",
       "      <td>172068.0</td>\n",
       "      <td>172839.0</td>\n",
       "      <td>...</td>\n",
       "      <td>38706.0</td>\n",
       "      <td>38705.0</td>\n",
       "      <td>38510.0</td>\n",
       "      <td>38320.0</td>\n",
       "      <td>38134.0</td>\n",
       "      <td>37950.0</td>\n",
       "      <td>37775.0</td>\n",
       "      <td>37613.0</td>\n",
       "      <td>37465.0</td>\n",
       "      <td>37335.0</td>\n",
       "    </tr>\n",
       "    <tr>\n",
       "      <th>260</th>\n",
       "      <td>Yemen, Rep.</td>\n",
       "      <td>11709993.0</td>\n",
       "      <td>12302124.0</td>\n",
       "      <td>12954155.0</td>\n",
       "      <td>13634076.0</td>\n",
       "      <td>14297613.0</td>\n",
       "      <td>14913315.0</td>\n",
       "      <td>15469274.0</td>\n",
       "      <td>15975668.0</td>\n",
       "      <td>16450310.0</td>\n",
       "      <td>...</td>\n",
       "      <td>4799795.0</td>\n",
       "      <td>5037894.0</td>\n",
       "      <td>5287133.0</td>\n",
       "      <td>5547434.0</td>\n",
       "      <td>5818280.0</td>\n",
       "      <td>6100787.0</td>\n",
       "      <td>6395609.0</td>\n",
       "      <td>6703156.0</td>\n",
       "      <td>7023785.0</td>\n",
       "      <td>7357687.0</td>\n",
       "    </tr>\n",
       "    <tr>\n",
       "      <th>261</th>\n",
       "      <td>South Africa</td>\n",
       "      <td>36800509.0</td>\n",
       "      <td>37718950.0</td>\n",
       "      <td>38672607.0</td>\n",
       "      <td>39633750.0</td>\n",
       "      <td>40564059.0</td>\n",
       "      <td>41435758.0</td>\n",
       "      <td>42241011.0</td>\n",
       "      <td>42987461.0</td>\n",
       "      <td>43682260.0</td>\n",
       "      <td>...</td>\n",
       "      <td>26143328.0</td>\n",
       "      <td>26720456.0</td>\n",
       "      <td>27305501.0</td>\n",
       "      <td>27898739.0</td>\n",
       "      <td>28506195.0</td>\n",
       "      <td>29131012.0</td>\n",
       "      <td>29774433.0</td>\n",
       "      <td>30442138.0</td>\n",
       "      <td>31137754.0</td>\n",
       "      <td>31866171.0</td>\n",
       "    </tr>\n",
       "    <tr>\n",
       "      <th>262</th>\n",
       "      <td>Zambia</td>\n",
       "      <td>8036845.0</td>\n",
       "      <td>8246656.0</td>\n",
       "      <td>8451347.0</td>\n",
       "      <td>8656486.0</td>\n",
       "      <td>8869740.0</td>\n",
       "      <td>9096607.0</td>\n",
       "      <td>9339733.0</td>\n",
       "      <td>9597609.0</td>\n",
       "      <td>9866476.0</td>\n",
       "      <td>...</td>\n",
       "      <td>3742481.0</td>\n",
       "      <td>3892210.0</td>\n",
       "      <td>4046912.0</td>\n",
       "      <td>4207899.0</td>\n",
       "      <td>4376259.0</td>\n",
       "      <td>4552286.0</td>\n",
       "      <td>4736246.0</td>\n",
       "      <td>4930109.0</td>\n",
       "      <td>5135535.0</td>\n",
       "      <td>5354635.0</td>\n",
       "    </tr>\n",
       "    <tr>\n",
       "      <th>263</th>\n",
       "      <td>Zimbabwe</td>\n",
       "      <td>10432421.0</td>\n",
       "      <td>10680995.0</td>\n",
       "      <td>10900502.0</td>\n",
       "      <td>11092766.0</td>\n",
       "      <td>11261744.0</td>\n",
       "      <td>11410714.0</td>\n",
       "      <td>11541217.0</td>\n",
       "      <td>11653242.0</td>\n",
       "      <td>11747072.0</td>\n",
       "      <td>...</td>\n",
       "      <td>4074401.0</td>\n",
       "      <td>4134391.0</td>\n",
       "      <td>4131351.0</td>\n",
       "      <td>4122109.0</td>\n",
       "      <td>4119362.0</td>\n",
       "      <td>4123872.0</td>\n",
       "      <td>4135516.0</td>\n",
       "      <td>4154577.0</td>\n",
       "      <td>4181251.0</td>\n",
       "      <td>4215136.0</td>\n",
       "    </tr>\n",
       "  </tbody>\n",
       "</table>\n",
       "<p>259 rows × 43 columns</p>\n",
       "</div>"
      ],
      "text/plain": [
       "     Country Name  1990 World Population  1991 World Population  \\\n",
       "0           Aruba                62149.0                64622.0   \n",
       "1     Afghanistan             12412308.0             13299017.0   \n",
       "2          Angola             11848386.0             12248901.0   \n",
       "3         Albania              3286542.0              3266790.0   \n",
       "4         Andorra                54509.0                56671.0   \n",
       "..            ...                    ...                    ...   \n",
       "258         Samoa               162803.0               163997.0   \n",
       "260   Yemen, Rep.             11709993.0             12302124.0   \n",
       "261  South Africa             36800509.0             37718950.0   \n",
       "262        Zambia              8036845.0              8246656.0   \n",
       "263      Zimbabwe             10432421.0             10680995.0   \n",
       "\n",
       "     1992 World Population  1993 World Population  1994 World Population  \\\n",
       "0                  68235.0                72504.0                76700.0   \n",
       "1               14485546.0             15816603.0             17075727.0   \n",
       "2               12657366.0             13075049.0             13503747.0   \n",
       "3                3247039.0              3227287.0              3207536.0   \n",
       "4                  58888.0                60971.0                62677.0   \n",
       "..                     ...                    ...                    ...   \n",
       "258               165490.0               167119.0               168694.0   \n",
       "260             12954155.0             13634076.0             14297613.0   \n",
       "261             38672607.0             39633750.0             40564059.0   \n",
       "262              8451347.0              8656486.0              8869740.0   \n",
       "263             10900502.0             11092766.0             11261744.0   \n",
       "\n",
       "     1995 World Population  1996 World Population  1997 World Population  \\\n",
       "0                  80324.0                83200.0                85451.0   \n",
       "1               18110657.0             18853437.0             19357126.0   \n",
       "2               13945206.0             14400719.0             14871570.0   \n",
       "3                3187784.0              3168033.0              3148281.0   \n",
       "4                  63850.0                64360.0                64327.0   \n",
       "..                     ...                    ...                    ...   \n",
       "258               170054.0               171165.0               172068.0   \n",
       "260             14913315.0             15469274.0             15975668.0   \n",
       "261             41435758.0             42241011.0             42987461.0   \n",
       "262              9096607.0              9339733.0              9597609.0   \n",
       "263             11410714.0             11541217.0             11653242.0   \n",
       "\n",
       "     1998 World Population  ...  2001 Urban World Population  \\\n",
       "0                  87277.0  ...                      43048.0   \n",
       "1               19737765.0  ...                    4790053.0   \n",
       "2               15359601.0  ...                    8688765.0   \n",
       "3                3128530.0  ...                    1298584.0   \n",
       "4                  64142.0  ...                      61991.0   \n",
       "..                     ...  ...                          ...   \n",
       "258               172839.0  ...                      38706.0   \n",
       "260             16450310.0  ...                    4799795.0   \n",
       "261             43682260.0  ...                   26143328.0   \n",
       "262              9866476.0  ...                    3742481.0   \n",
       "263             11747072.0  ...                    4074401.0   \n",
       "\n",
       "     2002 Urban World Population  2003 Urban World Population  \\\n",
       "0                        43670.0                      44246.0   \n",
       "1                      5031157.0                    5293385.0   \n",
       "2                      9190861.0                    9721267.0   \n",
       "3                      1327220.0                    1354848.0   \n",
       "4                        64194.0                      66747.0   \n",
       "..                           ...                          ...   \n",
       "258                      38705.0                      38510.0   \n",
       "260                    5037894.0                    5287133.0   \n",
       "261                   26720456.0                   27305501.0   \n",
       "262                    3892210.0                    4046912.0   \n",
       "263                    4134391.0                    4131351.0   \n",
       "\n",
       "     2004 Urban World Population  2005 Urban World Population  \\\n",
       "0                        44669.0                      44889.0   \n",
       "1                      5563504.0                    5824291.0   \n",
       "2                     10284528.0                   10882817.0   \n",
       "3                      1381828.0                    1407298.0   \n",
       "4                        69192.0                      71205.0   \n",
       "..                           ...                          ...   \n",
       "258                      38320.0                      38134.0   \n",
       "260                    5547434.0                    5818280.0   \n",
       "261                   27898739.0                   28506195.0   \n",
       "262                    4207899.0                    4376259.0   \n",
       "263                    4122109.0                    4119362.0   \n",
       "\n",
       "     2006 Urban World Population  2007 Urban World Population  \\\n",
       "0                        44882.0                      44686.0   \n",
       "1                      6055019.0                    6263747.0   \n",
       "2                     11437890.0                   12025601.0   \n",
       "3                      1430886.0                    1452398.0   \n",
       "4                        72737.0                      73843.0   \n",
       "..                           ...                          ...   \n",
       "258                      37950.0                      37775.0   \n",
       "260                    6100787.0                    6395609.0   \n",
       "261                   29131012.0                   29774433.0   \n",
       "262                    4552286.0                    4736246.0   \n",
       "263                    4123872.0                    4135516.0   \n",
       "\n",
       "     2008 Urban World Population  2009 Urban World Population  \\\n",
       "0                        44378.0                      44053.0   \n",
       "1                      6464835.0                    6680732.0   \n",
       "2                     12644649.0                   13291081.0   \n",
       "3                      1473392.0                    1495260.0   \n",
       "4                        74641.0                      75098.0   \n",
       "..                           ...                          ...   \n",
       "258                      37613.0                      37465.0   \n",
       "260                    6703156.0                    7023785.0   \n",
       "261                   30442138.0                   31137754.0   \n",
       "262                    4930109.0                    5135535.0   \n",
       "263                    4154577.0                    4181251.0   \n",
       "\n",
       "     2010 Urban World Population  \n",
       "0                        43778.0  \n",
       "1                      6927764.0  \n",
       "2                     13963065.0  \n",
       "3                      1519519.0  \n",
       "4                        75007.0  \n",
       "..                           ...  \n",
       "258                      37335.0  \n",
       "260                    7357687.0  \n",
       "261                   31866171.0  \n",
       "262                    5354635.0  \n",
       "263                    4215136.0  \n",
       "\n",
       "[259 rows x 43 columns]"
      ]
     },
     "execution_count": 11,
     "metadata": {},
     "output_type": "execute_result"
    }
   ],
   "source": [
    "populations.dropna()"
   ]
  },
  {
   "cell_type": "markdown",
   "id": "0d3c0ca6",
   "metadata": {},
   "source": [
    "## Geocoding"
   ]
  },
  {
   "cell_type": "code",
   "execution_count": 12,
   "id": "e549ed50",
   "metadata": {},
   "outputs": [],
   "source": [
    "geolocator = Nominatim(user_agent=\"geoShaw\")\n",
    "geocode = RateLimiter(geolocator.geocode, min_delay_seconds=1)\n",
    "\n",
    " #create location column\n",
    "populations['location'] = populations['Country Name'].apply(geocode)"
   ]
  },
  {
   "cell_type": "code",
   "execution_count": 13,
   "id": "733619bd",
   "metadata": {},
   "outputs": [
    {
     "name": "stderr",
     "output_type": "stream",
     "text": [
      "C:\\Users\\Admin\\anaconda3\\envs\\geo_env\\lib\\site-packages\\numpy\\core\\_asarray.py:83: VisibleDeprecationWarning:\n",
      "\n",
      "Creating an ndarray from ragged nested sequences (which is a list-or-tuple of lists-or-tuples-or ndarrays with different lengths or shapes) is deprecated. If you meant to do this, you must specify 'dtype=object' when creating the ndarray\n",
      "\n"
     ]
    }
   ],
   "source": [
    "#create longitude, latitude, and altitude from location column \n",
    "populations['points'] = populations['location'].apply(lambda loc: tuple(loc.point) if loc else None)\n",
    "\n",
    "#split point column into latitude, longitude and altitude columns\n",
    "populations[['lat', 'lng', ['alt']]] = pd.DataFrame(populations['points'].tolist(), index=populations.index)"
   ]
  },
  {
   "cell_type": "code",
   "execution_count": 14,
   "id": "cc0e5fb9",
   "metadata": {},
   "outputs": [
    {
     "data": {
      "text/html": [
       "<div>\n",
       "<style scoped>\n",
       "    .dataframe tbody tr th:only-of-type {\n",
       "        vertical-align: middle;\n",
       "    }\n",
       "\n",
       "    .dataframe tbody tr th {\n",
       "        vertical-align: top;\n",
       "    }\n",
       "\n",
       "    .dataframe thead th {\n",
       "        text-align: right;\n",
       "    }\n",
       "</style>\n",
       "<table border=\"1\" class=\"dataframe\">\n",
       "  <thead>\n",
       "    <tr style=\"text-align: right;\">\n",
       "      <th></th>\n",
       "      <th>Country Name</th>\n",
       "      <th>1990 World Population</th>\n",
       "      <th>1991 World Population</th>\n",
       "      <th>1992 World Population</th>\n",
       "      <th>1993 World Population</th>\n",
       "      <th>1994 World Population</th>\n",
       "      <th>1995 World Population</th>\n",
       "      <th>1996 World Population</th>\n",
       "      <th>1997 World Population</th>\n",
       "      <th>1998 World Population</th>\n",
       "      <th>...</th>\n",
       "      <th>2004 Urban World Population</th>\n",
       "      <th>2005 Urban World Population</th>\n",
       "      <th>2006 Urban World Population</th>\n",
       "      <th>2007 Urban World Population</th>\n",
       "      <th>2008 Urban World Population</th>\n",
       "      <th>2009 Urban World Population</th>\n",
       "      <th>2010 Urban World Population</th>\n",
       "      <th>points</th>\n",
       "      <th>lat</th>\n",
       "      <th>lng</th>\n",
       "    </tr>\n",
       "  </thead>\n",
       "  <tbody>\n",
       "    <tr>\n",
       "      <th>0</th>\n",
       "      <td>Aruba</td>\n",
       "      <td>62149.0</td>\n",
       "      <td>64622.0</td>\n",
       "      <td>68235.0</td>\n",
       "      <td>72504.0</td>\n",
       "      <td>76700.0</td>\n",
       "      <td>80324.0</td>\n",
       "      <td>83200.0</td>\n",
       "      <td>85451.0</td>\n",
       "      <td>87277.0</td>\n",
       "      <td>...</td>\n",
       "      <td>44669.0</td>\n",
       "      <td>44889.0</td>\n",
       "      <td>44882.0</td>\n",
       "      <td>44686.0</td>\n",
       "      <td>44378.0</td>\n",
       "      <td>44053.0</td>\n",
       "      <td>43778.0</td>\n",
       "      <td>(12.4902998, -69.9609842, 0.0)</td>\n",
       "      <td>12.490300</td>\n",
       "      <td>-69.960984</td>\n",
       "    </tr>\n",
       "    <tr>\n",
       "      <th>1</th>\n",
       "      <td>Afghanistan</td>\n",
       "      <td>12412308.0</td>\n",
       "      <td>13299017.0</td>\n",
       "      <td>14485546.0</td>\n",
       "      <td>15816603.0</td>\n",
       "      <td>17075727.0</td>\n",
       "      <td>18110657.0</td>\n",
       "      <td>18853437.0</td>\n",
       "      <td>19357126.0</td>\n",
       "      <td>19737765.0</td>\n",
       "      <td>...</td>\n",
       "      <td>5563504.0</td>\n",
       "      <td>5824291.0</td>\n",
       "      <td>6055019.0</td>\n",
       "      <td>6263747.0</td>\n",
       "      <td>6464835.0</td>\n",
       "      <td>6680732.0</td>\n",
       "      <td>6927764.0</td>\n",
       "      <td>(33.7680065, 66.2385139, 0.0)</td>\n",
       "      <td>33.768006</td>\n",
       "      <td>66.238514</td>\n",
       "    </tr>\n",
       "    <tr>\n",
       "      <th>2</th>\n",
       "      <td>Angola</td>\n",
       "      <td>11848386.0</td>\n",
       "      <td>12248901.0</td>\n",
       "      <td>12657366.0</td>\n",
       "      <td>13075049.0</td>\n",
       "      <td>13503747.0</td>\n",
       "      <td>13945206.0</td>\n",
       "      <td>14400719.0</td>\n",
       "      <td>14871570.0</td>\n",
       "      <td>15359601.0</td>\n",
       "      <td>...</td>\n",
       "      <td>10284528.0</td>\n",
       "      <td>10882817.0</td>\n",
       "      <td>11437890.0</td>\n",
       "      <td>12025601.0</td>\n",
       "      <td>12644649.0</td>\n",
       "      <td>13291081.0</td>\n",
       "      <td>13963065.0</td>\n",
       "      <td>(-11.8775768, 17.5691241, 0.0)</td>\n",
       "      <td>-11.877577</td>\n",
       "      <td>17.569124</td>\n",
       "    </tr>\n",
       "    <tr>\n",
       "      <th>3</th>\n",
       "      <td>Albania</td>\n",
       "      <td>3286542.0</td>\n",
       "      <td>3266790.0</td>\n",
       "      <td>3247039.0</td>\n",
       "      <td>3227287.0</td>\n",
       "      <td>3207536.0</td>\n",
       "      <td>3187784.0</td>\n",
       "      <td>3168033.0</td>\n",
       "      <td>3148281.0</td>\n",
       "      <td>3128530.0</td>\n",
       "      <td>...</td>\n",
       "      <td>1381828.0</td>\n",
       "      <td>1407298.0</td>\n",
       "      <td>1430886.0</td>\n",
       "      <td>1452398.0</td>\n",
       "      <td>1473392.0</td>\n",
       "      <td>1495260.0</td>\n",
       "      <td>1519519.0</td>\n",
       "      <td>(41.000028, 19.9999619, 0.0)</td>\n",
       "      <td>41.000028</td>\n",
       "      <td>19.999962</td>\n",
       "    </tr>\n",
       "    <tr>\n",
       "      <th>4</th>\n",
       "      <td>Andorra</td>\n",
       "      <td>54509.0</td>\n",
       "      <td>56671.0</td>\n",
       "      <td>58888.0</td>\n",
       "      <td>60971.0</td>\n",
       "      <td>62677.0</td>\n",
       "      <td>63850.0</td>\n",
       "      <td>64360.0</td>\n",
       "      <td>64327.0</td>\n",
       "      <td>64142.0</td>\n",
       "      <td>...</td>\n",
       "      <td>69192.0</td>\n",
       "      <td>71205.0</td>\n",
       "      <td>72737.0</td>\n",
       "      <td>73843.0</td>\n",
       "      <td>74641.0</td>\n",
       "      <td>75098.0</td>\n",
       "      <td>75007.0</td>\n",
       "      <td>(42.5407167, 1.5732033, 0.0)</td>\n",
       "      <td>42.540717</td>\n",
       "      <td>1.573203</td>\n",
       "    </tr>\n",
       "  </tbody>\n",
       "</table>\n",
       "<p>5 rows × 46 columns</p>\n",
       "</div>"
      ],
      "text/plain": [
       "  Country Name  1990 World Population  1991 World Population  \\\n",
       "0        Aruba                62149.0                64622.0   \n",
       "1  Afghanistan             12412308.0             13299017.0   \n",
       "2       Angola             11848386.0             12248901.0   \n",
       "3      Albania              3286542.0              3266790.0   \n",
       "4      Andorra                54509.0                56671.0   \n",
       "\n",
       "   1992 World Population  1993 World Population  1994 World Population  \\\n",
       "0                68235.0                72504.0                76700.0   \n",
       "1             14485546.0             15816603.0             17075727.0   \n",
       "2             12657366.0             13075049.0             13503747.0   \n",
       "3              3247039.0              3227287.0              3207536.0   \n",
       "4                58888.0                60971.0                62677.0   \n",
       "\n",
       "   1995 World Population  1996 World Population  1997 World Population  \\\n",
       "0                80324.0                83200.0                85451.0   \n",
       "1             18110657.0             18853437.0             19357126.0   \n",
       "2             13945206.0             14400719.0             14871570.0   \n",
       "3              3187784.0              3168033.0              3148281.0   \n",
       "4                63850.0                64360.0                64327.0   \n",
       "\n",
       "   1998 World Population  ...  2004 Urban World Population  \\\n",
       "0                87277.0  ...                      44669.0   \n",
       "1             19737765.0  ...                    5563504.0   \n",
       "2             15359601.0  ...                   10284528.0   \n",
       "3              3128530.0  ...                    1381828.0   \n",
       "4                64142.0  ...                      69192.0   \n",
       "\n",
       "   2005 Urban World Population  2006 Urban World Population  \\\n",
       "0                      44889.0                      44882.0   \n",
       "1                    5824291.0                    6055019.0   \n",
       "2                   10882817.0                   11437890.0   \n",
       "3                    1407298.0                    1430886.0   \n",
       "4                      71205.0                      72737.0   \n",
       "\n",
       "   2007 Urban World Population  2008 Urban World Population  \\\n",
       "0                      44686.0                      44378.0   \n",
       "1                    6263747.0                    6464835.0   \n",
       "2                   12025601.0                   12644649.0   \n",
       "3                    1452398.0                    1473392.0   \n",
       "4                      73843.0                      74641.0   \n",
       "\n",
       "   2009 Urban World Population  2010 Urban World Population  \\\n",
       "0                      44053.0                      43778.0   \n",
       "1                    6680732.0                    6927764.0   \n",
       "2                   13291081.0                   13963065.0   \n",
       "3                    1495260.0                    1519519.0   \n",
       "4                      75098.0                      75007.0   \n",
       "\n",
       "                           points        lat        lng  \n",
       "0  (12.4902998, -69.9609842, 0.0)  12.490300 -69.960984  \n",
       "1   (33.7680065, 66.2385139, 0.0)  33.768006  66.238514  \n",
       "2  (-11.8775768, 17.5691241, 0.0) -11.877577  17.569124  \n",
       "3    (41.000028, 19.9999619, 0.0)  41.000028  19.999962  \n",
       "4    (42.5407167, 1.5732033, 0.0)  42.540717   1.573203  \n",
       "\n",
       "[5 rows x 46 columns]"
      ]
     },
     "execution_count": 14,
     "metadata": {},
     "output_type": "execute_result"
    }
   ],
   "source": [
    "#delete the location and altitude columns \n",
    "populations = populations.drop(['location', 'alt'], axis =1 )\n",
    "populations.head()"
   ]
  },
  {
   "cell_type": "code",
   "execution_count": 15,
   "id": "efeccf08",
   "metadata": {},
   "outputs": [
    {
     "data": {
      "text/html": [
       "<div>\n",
       "<style scoped>\n",
       "    .dataframe tbody tr th:only-of-type {\n",
       "        vertical-align: middle;\n",
       "    }\n",
       "\n",
       "    .dataframe tbody tr th {\n",
       "        vertical-align: top;\n",
       "    }\n",
       "\n",
       "    .dataframe thead th {\n",
       "        text-align: right;\n",
       "    }\n",
       "</style>\n",
       "<table border=\"1\" class=\"dataframe\">\n",
       "  <thead>\n",
       "    <tr style=\"text-align: right;\">\n",
       "      <th></th>\n",
       "      <th>Country Name</th>\n",
       "      <th>1990 World Population</th>\n",
       "      <th>1991 World Population</th>\n",
       "      <th>1992 World Population</th>\n",
       "      <th>1993 World Population</th>\n",
       "      <th>1994 World Population</th>\n",
       "      <th>1995 World Population</th>\n",
       "      <th>1996 World Population</th>\n",
       "      <th>1997 World Population</th>\n",
       "      <th>1998 World Population</th>\n",
       "      <th>...</th>\n",
       "      <th>2004 Urban World Population</th>\n",
       "      <th>2005 Urban World Population</th>\n",
       "      <th>2006 Urban World Population</th>\n",
       "      <th>2007 Urban World Population</th>\n",
       "      <th>2008 Urban World Population</th>\n",
       "      <th>2009 Urban World Population</th>\n",
       "      <th>2010 Urban World Population</th>\n",
       "      <th>points</th>\n",
       "      <th>lat</th>\n",
       "      <th>lng</th>\n",
       "    </tr>\n",
       "  </thead>\n",
       "  <tbody>\n",
       "    <tr>\n",
       "      <th>0</th>\n",
       "      <td>False</td>\n",
       "      <td>False</td>\n",
       "      <td>False</td>\n",
       "      <td>False</td>\n",
       "      <td>False</td>\n",
       "      <td>False</td>\n",
       "      <td>False</td>\n",
       "      <td>False</td>\n",
       "      <td>False</td>\n",
       "      <td>False</td>\n",
       "      <td>...</td>\n",
       "      <td>False</td>\n",
       "      <td>False</td>\n",
       "      <td>False</td>\n",
       "      <td>False</td>\n",
       "      <td>False</td>\n",
       "      <td>False</td>\n",
       "      <td>False</td>\n",
       "      <td>False</td>\n",
       "      <td>False</td>\n",
       "      <td>False</td>\n",
       "    </tr>\n",
       "    <tr>\n",
       "      <th>1</th>\n",
       "      <td>False</td>\n",
       "      <td>False</td>\n",
       "      <td>False</td>\n",
       "      <td>False</td>\n",
       "      <td>False</td>\n",
       "      <td>False</td>\n",
       "      <td>False</td>\n",
       "      <td>False</td>\n",
       "      <td>False</td>\n",
       "      <td>False</td>\n",
       "      <td>...</td>\n",
       "      <td>False</td>\n",
       "      <td>False</td>\n",
       "      <td>False</td>\n",
       "      <td>False</td>\n",
       "      <td>False</td>\n",
       "      <td>False</td>\n",
       "      <td>False</td>\n",
       "      <td>False</td>\n",
       "      <td>False</td>\n",
       "      <td>False</td>\n",
       "    </tr>\n",
       "    <tr>\n",
       "      <th>2</th>\n",
       "      <td>False</td>\n",
       "      <td>False</td>\n",
       "      <td>False</td>\n",
       "      <td>False</td>\n",
       "      <td>False</td>\n",
       "      <td>False</td>\n",
       "      <td>False</td>\n",
       "      <td>False</td>\n",
       "      <td>False</td>\n",
       "      <td>False</td>\n",
       "      <td>...</td>\n",
       "      <td>False</td>\n",
       "      <td>False</td>\n",
       "      <td>False</td>\n",
       "      <td>False</td>\n",
       "      <td>False</td>\n",
       "      <td>False</td>\n",
       "      <td>False</td>\n",
       "      <td>False</td>\n",
       "      <td>False</td>\n",
       "      <td>False</td>\n",
       "    </tr>\n",
       "    <tr>\n",
       "      <th>3</th>\n",
       "      <td>False</td>\n",
       "      <td>False</td>\n",
       "      <td>False</td>\n",
       "      <td>False</td>\n",
       "      <td>False</td>\n",
       "      <td>False</td>\n",
       "      <td>False</td>\n",
       "      <td>False</td>\n",
       "      <td>False</td>\n",
       "      <td>False</td>\n",
       "      <td>...</td>\n",
       "      <td>False</td>\n",
       "      <td>False</td>\n",
       "      <td>False</td>\n",
       "      <td>False</td>\n",
       "      <td>False</td>\n",
       "      <td>False</td>\n",
       "      <td>False</td>\n",
       "      <td>False</td>\n",
       "      <td>False</td>\n",
       "      <td>False</td>\n",
       "    </tr>\n",
       "    <tr>\n",
       "      <th>4</th>\n",
       "      <td>False</td>\n",
       "      <td>False</td>\n",
       "      <td>False</td>\n",
       "      <td>False</td>\n",
       "      <td>False</td>\n",
       "      <td>False</td>\n",
       "      <td>False</td>\n",
       "      <td>False</td>\n",
       "      <td>False</td>\n",
       "      <td>False</td>\n",
       "      <td>...</td>\n",
       "      <td>False</td>\n",
       "      <td>False</td>\n",
       "      <td>False</td>\n",
       "      <td>False</td>\n",
       "      <td>False</td>\n",
       "      <td>False</td>\n",
       "      <td>False</td>\n",
       "      <td>False</td>\n",
       "      <td>False</td>\n",
       "      <td>False</td>\n",
       "    </tr>\n",
       "    <tr>\n",
       "      <th>...</th>\n",
       "      <td>...</td>\n",
       "      <td>...</td>\n",
       "      <td>...</td>\n",
       "      <td>...</td>\n",
       "      <td>...</td>\n",
       "      <td>...</td>\n",
       "      <td>...</td>\n",
       "      <td>...</td>\n",
       "      <td>...</td>\n",
       "      <td>...</td>\n",
       "      <td>...</td>\n",
       "      <td>...</td>\n",
       "      <td>...</td>\n",
       "      <td>...</td>\n",
       "      <td>...</td>\n",
       "      <td>...</td>\n",
       "      <td>...</td>\n",
       "      <td>...</td>\n",
       "      <td>...</td>\n",
       "      <td>...</td>\n",
       "      <td>...</td>\n",
       "    </tr>\n",
       "    <tr>\n",
       "      <th>259</th>\n",
       "      <td>False</td>\n",
       "      <td>False</td>\n",
       "      <td>False</td>\n",
       "      <td>False</td>\n",
       "      <td>False</td>\n",
       "      <td>False</td>\n",
       "      <td>False</td>\n",
       "      <td>False</td>\n",
       "      <td>False</td>\n",
       "      <td>False</td>\n",
       "      <td>...</td>\n",
       "      <td>True</td>\n",
       "      <td>True</td>\n",
       "      <td>True</td>\n",
       "      <td>True</td>\n",
       "      <td>True</td>\n",
       "      <td>True</td>\n",
       "      <td>True</td>\n",
       "      <td>False</td>\n",
       "      <td>False</td>\n",
       "      <td>False</td>\n",
       "    </tr>\n",
       "    <tr>\n",
       "      <th>260</th>\n",
       "      <td>False</td>\n",
       "      <td>False</td>\n",
       "      <td>False</td>\n",
       "      <td>False</td>\n",
       "      <td>False</td>\n",
       "      <td>False</td>\n",
       "      <td>False</td>\n",
       "      <td>False</td>\n",
       "      <td>False</td>\n",
       "      <td>False</td>\n",
       "      <td>...</td>\n",
       "      <td>False</td>\n",
       "      <td>False</td>\n",
       "      <td>False</td>\n",
       "      <td>False</td>\n",
       "      <td>False</td>\n",
       "      <td>False</td>\n",
       "      <td>False</td>\n",
       "      <td>True</td>\n",
       "      <td>True</td>\n",
       "      <td>True</td>\n",
       "    </tr>\n",
       "    <tr>\n",
       "      <th>261</th>\n",
       "      <td>False</td>\n",
       "      <td>False</td>\n",
       "      <td>False</td>\n",
       "      <td>False</td>\n",
       "      <td>False</td>\n",
       "      <td>False</td>\n",
       "      <td>False</td>\n",
       "      <td>False</td>\n",
       "      <td>False</td>\n",
       "      <td>False</td>\n",
       "      <td>...</td>\n",
       "      <td>False</td>\n",
       "      <td>False</td>\n",
       "      <td>False</td>\n",
       "      <td>False</td>\n",
       "      <td>False</td>\n",
       "      <td>False</td>\n",
       "      <td>False</td>\n",
       "      <td>False</td>\n",
       "      <td>False</td>\n",
       "      <td>False</td>\n",
       "    </tr>\n",
       "    <tr>\n",
       "      <th>262</th>\n",
       "      <td>False</td>\n",
       "      <td>False</td>\n",
       "      <td>False</td>\n",
       "      <td>False</td>\n",
       "      <td>False</td>\n",
       "      <td>False</td>\n",
       "      <td>False</td>\n",
       "      <td>False</td>\n",
       "      <td>False</td>\n",
       "      <td>False</td>\n",
       "      <td>...</td>\n",
       "      <td>False</td>\n",
       "      <td>False</td>\n",
       "      <td>False</td>\n",
       "      <td>False</td>\n",
       "      <td>False</td>\n",
       "      <td>False</td>\n",
       "      <td>False</td>\n",
       "      <td>False</td>\n",
       "      <td>False</td>\n",
       "      <td>False</td>\n",
       "    </tr>\n",
       "    <tr>\n",
       "      <th>263</th>\n",
       "      <td>False</td>\n",
       "      <td>False</td>\n",
       "      <td>False</td>\n",
       "      <td>False</td>\n",
       "      <td>False</td>\n",
       "      <td>False</td>\n",
       "      <td>False</td>\n",
       "      <td>False</td>\n",
       "      <td>False</td>\n",
       "      <td>False</td>\n",
       "      <td>...</td>\n",
       "      <td>False</td>\n",
       "      <td>False</td>\n",
       "      <td>False</td>\n",
       "      <td>False</td>\n",
       "      <td>False</td>\n",
       "      <td>False</td>\n",
       "      <td>False</td>\n",
       "      <td>False</td>\n",
       "      <td>False</td>\n",
       "      <td>False</td>\n",
       "    </tr>\n",
       "  </tbody>\n",
       "</table>\n",
       "<p>264 rows × 46 columns</p>\n",
       "</div>"
      ],
      "text/plain": [
       "     Country Name  1990 World Population  1991 World Population  \\\n",
       "0           False                  False                  False   \n",
       "1           False                  False                  False   \n",
       "2           False                  False                  False   \n",
       "3           False                  False                  False   \n",
       "4           False                  False                  False   \n",
       "..            ...                    ...                    ...   \n",
       "259         False                  False                  False   \n",
       "260         False                  False                  False   \n",
       "261         False                  False                  False   \n",
       "262         False                  False                  False   \n",
       "263         False                  False                  False   \n",
       "\n",
       "     1992 World Population  1993 World Population  1994 World Population  \\\n",
       "0                    False                  False                  False   \n",
       "1                    False                  False                  False   \n",
       "2                    False                  False                  False   \n",
       "3                    False                  False                  False   \n",
       "4                    False                  False                  False   \n",
       "..                     ...                    ...                    ...   \n",
       "259                  False                  False                  False   \n",
       "260                  False                  False                  False   \n",
       "261                  False                  False                  False   \n",
       "262                  False                  False                  False   \n",
       "263                  False                  False                  False   \n",
       "\n",
       "     1995 World Population  1996 World Population  1997 World Population  \\\n",
       "0                    False                  False                  False   \n",
       "1                    False                  False                  False   \n",
       "2                    False                  False                  False   \n",
       "3                    False                  False                  False   \n",
       "4                    False                  False                  False   \n",
       "..                     ...                    ...                    ...   \n",
       "259                  False                  False                  False   \n",
       "260                  False                  False                  False   \n",
       "261                  False                  False                  False   \n",
       "262                  False                  False                  False   \n",
       "263                  False                  False                  False   \n",
       "\n",
       "     1998 World Population  ...  2004 Urban World Population  \\\n",
       "0                    False  ...                        False   \n",
       "1                    False  ...                        False   \n",
       "2                    False  ...                        False   \n",
       "3                    False  ...                        False   \n",
       "4                    False  ...                        False   \n",
       "..                     ...  ...                          ...   \n",
       "259                  False  ...                         True   \n",
       "260                  False  ...                        False   \n",
       "261                  False  ...                        False   \n",
       "262                  False  ...                        False   \n",
       "263                  False  ...                        False   \n",
       "\n",
       "     2005 Urban World Population  2006 Urban World Population  \\\n",
       "0                          False                        False   \n",
       "1                          False                        False   \n",
       "2                          False                        False   \n",
       "3                          False                        False   \n",
       "4                          False                        False   \n",
       "..                           ...                          ...   \n",
       "259                         True                         True   \n",
       "260                        False                        False   \n",
       "261                        False                        False   \n",
       "262                        False                        False   \n",
       "263                        False                        False   \n",
       "\n",
       "     2007 Urban World Population  2008 Urban World Population  \\\n",
       "0                          False                        False   \n",
       "1                          False                        False   \n",
       "2                          False                        False   \n",
       "3                          False                        False   \n",
       "4                          False                        False   \n",
       "..                           ...                          ...   \n",
       "259                         True                         True   \n",
       "260                        False                        False   \n",
       "261                        False                        False   \n",
       "262                        False                        False   \n",
       "263                        False                        False   \n",
       "\n",
       "     2009 Urban World Population  2010 Urban World Population  points    lat  \\\n",
       "0                          False                        False   False  False   \n",
       "1                          False                        False   False  False   \n",
       "2                          False                        False   False  False   \n",
       "3                          False                        False   False  False   \n",
       "4                          False                        False   False  False   \n",
       "..                           ...                          ...     ...    ...   \n",
       "259                         True                         True   False  False   \n",
       "260                        False                        False    True   True   \n",
       "261                        False                        False   False  False   \n",
       "262                        False                        False   False  False   \n",
       "263                        False                        False   False  False   \n",
       "\n",
       "       lng  \n",
       "0    False  \n",
       "1    False  \n",
       "2    False  \n",
       "3    False  \n",
       "4    False  \n",
       "..     ...  \n",
       "259  False  \n",
       "260   True  \n",
       "261  False  \n",
       "262  False  \n",
       "263  False  \n",
       "\n",
       "[264 rows x 46 columns]"
      ]
     },
     "execution_count": 15,
     "metadata": {},
     "output_type": "execute_result"
    }
   ],
   "source": [
    "#check foe null values because two new columns were generated \n",
    "populations.isnull()"
   ]
  },
  {
   "cell_type": "code",
   "execution_count": 16,
   "id": "08baf097",
   "metadata": {},
   "outputs": [
    {
     "data": {
      "text/html": [
       "<div>\n",
       "<style scoped>\n",
       "    .dataframe tbody tr th:only-of-type {\n",
       "        vertical-align: middle;\n",
       "    }\n",
       "\n",
       "    .dataframe tbody tr th {\n",
       "        vertical-align: top;\n",
       "    }\n",
       "\n",
       "    .dataframe thead th {\n",
       "        text-align: right;\n",
       "    }\n",
       "</style>\n",
       "<table border=\"1\" class=\"dataframe\">\n",
       "  <thead>\n",
       "    <tr style=\"text-align: right;\">\n",
       "      <th></th>\n",
       "      <th>Country Name</th>\n",
       "      <th>1990 World Population</th>\n",
       "      <th>1991 World Population</th>\n",
       "      <th>1992 World Population</th>\n",
       "      <th>1993 World Population</th>\n",
       "      <th>1994 World Population</th>\n",
       "      <th>1995 World Population</th>\n",
       "      <th>1996 World Population</th>\n",
       "      <th>1997 World Population</th>\n",
       "      <th>1998 World Population</th>\n",
       "      <th>...</th>\n",
       "      <th>2004 Urban World Population</th>\n",
       "      <th>2005 Urban World Population</th>\n",
       "      <th>2006 Urban World Population</th>\n",
       "      <th>2007 Urban World Population</th>\n",
       "      <th>2008 Urban World Population</th>\n",
       "      <th>2009 Urban World Population</th>\n",
       "      <th>2010 Urban World Population</th>\n",
       "      <th>points</th>\n",
       "      <th>lat</th>\n",
       "      <th>lng</th>\n",
       "    </tr>\n",
       "  </thead>\n",
       "  <tbody>\n",
       "  </tbody>\n",
       "</table>\n",
       "<p>0 rows × 46 columns</p>\n",
       "</div>"
      ],
      "text/plain": [
       "Empty DataFrame\n",
       "Columns: [Country Name, 1990 World Population, 1991 World Population, 1992 World Population, 1993 World Population, 1994 World Population, 1995 World Population, 1996 World Population, 1997 World Population, 1998 World Population, 1999 World Population, 2000 World Population, 2001 World Population, 2002 World Population, 2003 World Population, 2004 World Population, 2005 World Population, 2006 World Population, 2007 World Population, 2008 World Population, 2009 World Population, 2010 World Population, 1990 Urban World Population, 1991 Urban World Population, 1992 Urban World Population, 1993 Urban World Population, 1994 Urban World Population, 1995 Urban World Population, 1996 Urban World Population, 1997 Urban World Population, 1998 Urban World Population, 1999 Urban World Population, 2000 Urban World Population, 2001 Urban World Population, 2002 Urban World Population, 2003 Urban World Population, 2004 Urban World Population, 2005 Urban World Population, 2006 Urban World Population, 2007 Urban World Population, 2008 Urban World Population, 2009 Urban World Population, 2010 Urban World Population, points, lat, lng]\n",
       "Index: []\n",
       "\n",
       "[0 rows x 46 columns]"
      ]
     },
     "execution_count": 16,
     "metadata": {},
     "output_type": "execute_result"
    }
   ],
   "source": [
    "# Deleting the NULL values\n",
    "populations = populations.dropna(subset = ['lat'])\n",
    "populations = populations.dropna(subset = ['lng'])\n",
    "populations.shape\n",
    "# Visualize the NULL observations\n",
    "populations[populations['lat'].isnull()]\n",
    "populations[populations['lng'].isnull()]\n"
   ]
  },
  {
   "cell_type": "markdown",
   "id": "c712fa8f",
   "metadata": {},
   "source": [
    "## To calculate the World Urban per Capita, the formula is given as: \n",
    "\n",
    "### Urban World Population / World population "
   ]
  },
  {
   "cell_type": "code",
   "execution_count": 17,
   "id": "c1a47b91",
   "metadata": {},
   "outputs": [],
   "source": [
    "#calculate the world urban per capita denoted in the notebook as 'WUP_per_cap' for 1990, 2000 and 2010\n",
    "populations['WUP_per_cap_1990'] = populations['1990 Urban World Population']/populations['1990 World Population']\n",
    "populations['WUP_per_cap_2000'] = populations['2000 Urban World Population']/populations['2000 World Population']\n",
    "populations['WUP_per_cap_2010'] = populations['2010 Urban World Population']/populations['2010 World Population']"
   ]
  },
  {
   "cell_type": "code",
   "execution_count": 18,
   "id": "18c4fca9",
   "metadata": {},
   "outputs": [
    {
     "data": {
      "text/html": [
       "<div>\n",
       "<style scoped>\n",
       "    .dataframe tbody tr th:only-of-type {\n",
       "        vertical-align: middle;\n",
       "    }\n",
       "\n",
       "    .dataframe tbody tr th {\n",
       "        vertical-align: top;\n",
       "    }\n",
       "\n",
       "    .dataframe thead th {\n",
       "        text-align: right;\n",
       "    }\n",
       "</style>\n",
       "<table border=\"1\" class=\"dataframe\">\n",
       "  <thead>\n",
       "    <tr style=\"text-align: right;\">\n",
       "      <th></th>\n",
       "      <th>Country Name</th>\n",
       "      <th>1990 World Population</th>\n",
       "      <th>1991 World Population</th>\n",
       "      <th>1992 World Population</th>\n",
       "      <th>1993 World Population</th>\n",
       "      <th>1994 World Population</th>\n",
       "      <th>1995 World Population</th>\n",
       "      <th>1996 World Population</th>\n",
       "      <th>1997 World Population</th>\n",
       "      <th>1998 World Population</th>\n",
       "      <th>...</th>\n",
       "      <th>2008 Urban World Population</th>\n",
       "      <th>2009 Urban World Population</th>\n",
       "      <th>2010 Urban World Population</th>\n",
       "      <th>points</th>\n",
       "      <th>lat</th>\n",
       "      <th>lng</th>\n",
       "      <th>WUP_per_cap_1990</th>\n",
       "      <th>WUP_per_cap_2000</th>\n",
       "      <th>WUP_per_cap_2010</th>\n",
       "      <th>geometry</th>\n",
       "    </tr>\n",
       "  </thead>\n",
       "  <tbody>\n",
       "    <tr>\n",
       "      <th>0</th>\n",
       "      <td>Aruba</td>\n",
       "      <td>62149.0</td>\n",
       "      <td>64622.0</td>\n",
       "      <td>68235.0</td>\n",
       "      <td>72504.0</td>\n",
       "      <td>76700.0</td>\n",
       "      <td>80324.0</td>\n",
       "      <td>83200.0</td>\n",
       "      <td>85451.0</td>\n",
       "      <td>87277.0</td>\n",
       "      <td>...</td>\n",
       "      <td>44378.0</td>\n",
       "      <td>44053.0</td>\n",
       "      <td>43778.0</td>\n",
       "      <td>(12.4902998, -69.9609842, 0.0)</td>\n",
       "      <td>12.490300</td>\n",
       "      <td>-69.960984</td>\n",
       "      <td>0.503194</td>\n",
       "      <td>0.467172</td>\n",
       "      <td>0.430593</td>\n",
       "      <td>POINT (-69.96098 12.49030)</td>\n",
       "    </tr>\n",
       "    <tr>\n",
       "      <th>1</th>\n",
       "      <td>Afghanistan</td>\n",
       "      <td>12412308.0</td>\n",
       "      <td>13299017.0</td>\n",
       "      <td>14485546.0</td>\n",
       "      <td>15816603.0</td>\n",
       "      <td>17075727.0</td>\n",
       "      <td>18110657.0</td>\n",
       "      <td>18853437.0</td>\n",
       "      <td>19357126.0</td>\n",
       "      <td>19737765.0</td>\n",
       "      <td>...</td>\n",
       "      <td>6464835.0</td>\n",
       "      <td>6680732.0</td>\n",
       "      <td>6927764.0</td>\n",
       "      <td>(33.7680065, 66.2385139, 0.0)</td>\n",
       "      <td>33.768006</td>\n",
       "      <td>66.238514</td>\n",
       "      <td>0.211770</td>\n",
       "      <td>0.220780</td>\n",
       "      <td>0.237370</td>\n",
       "      <td>POINT (66.23851 33.76801)</td>\n",
       "    </tr>\n",
       "    <tr>\n",
       "      <th>2</th>\n",
       "      <td>Angola</td>\n",
       "      <td>11848386.0</td>\n",
       "      <td>12248901.0</td>\n",
       "      <td>12657366.0</td>\n",
       "      <td>13075049.0</td>\n",
       "      <td>13503747.0</td>\n",
       "      <td>13945206.0</td>\n",
       "      <td>14400719.0</td>\n",
       "      <td>14871570.0</td>\n",
       "      <td>15359601.0</td>\n",
       "      <td>...</td>\n",
       "      <td>12644649.0</td>\n",
       "      <td>13291081.0</td>\n",
       "      <td>13963065.0</td>\n",
       "      <td>(-11.8775768, 17.5691241, 0.0)</td>\n",
       "      <td>-11.877577</td>\n",
       "      <td>17.569124</td>\n",
       "      <td>0.371440</td>\n",
       "      <td>0.500870</td>\n",
       "      <td>0.597830</td>\n",
       "      <td>POINT (17.56912 -11.87758)</td>\n",
       "    </tr>\n",
       "    <tr>\n",
       "      <th>3</th>\n",
       "      <td>Albania</td>\n",
       "      <td>3286542.0</td>\n",
       "      <td>3266790.0</td>\n",
       "      <td>3247039.0</td>\n",
       "      <td>3227287.0</td>\n",
       "      <td>3207536.0</td>\n",
       "      <td>3187784.0</td>\n",
       "      <td>3168033.0</td>\n",
       "      <td>3148281.0</td>\n",
       "      <td>3128530.0</td>\n",
       "      <td>...</td>\n",
       "      <td>1473392.0</td>\n",
       "      <td>1495260.0</td>\n",
       "      <td>1519519.0</td>\n",
       "      <td>(41.000028, 19.9999619, 0.0)</td>\n",
       "      <td>41.000028</td>\n",
       "      <td>19.999962</td>\n",
       "      <td>0.364280</td>\n",
       "      <td>0.417410</td>\n",
       "      <td>0.521630</td>\n",
       "      <td>POINT (19.99996 41.00003)</td>\n",
       "    </tr>\n",
       "    <tr>\n",
       "      <th>4</th>\n",
       "      <td>Andorra</td>\n",
       "      <td>54509.0</td>\n",
       "      <td>56671.0</td>\n",
       "      <td>58888.0</td>\n",
       "      <td>60971.0</td>\n",
       "      <td>62677.0</td>\n",
       "      <td>63850.0</td>\n",
       "      <td>64360.0</td>\n",
       "      <td>64327.0</td>\n",
       "      <td>64142.0</td>\n",
       "      <td>...</td>\n",
       "      <td>74641.0</td>\n",
       "      <td>75098.0</td>\n",
       "      <td>75007.0</td>\n",
       "      <td>(42.5407167, 1.5732033, 0.0)</td>\n",
       "      <td>42.540717</td>\n",
       "      <td>1.573203</td>\n",
       "      <td>0.947128</td>\n",
       "      <td>0.923949</td>\n",
       "      <td>0.888193</td>\n",
       "      <td>POINT (1.57320 42.54072)</td>\n",
       "    </tr>\n",
       "  </tbody>\n",
       "</table>\n",
       "<p>5 rows × 50 columns</p>\n",
       "</div>"
      ],
      "text/plain": [
       "  Country Name  1990 World Population  1991 World Population  \\\n",
       "0        Aruba                62149.0                64622.0   \n",
       "1  Afghanistan             12412308.0             13299017.0   \n",
       "2       Angola             11848386.0             12248901.0   \n",
       "3      Albania              3286542.0              3266790.0   \n",
       "4      Andorra                54509.0                56671.0   \n",
       "\n",
       "   1992 World Population  1993 World Population  1994 World Population  \\\n",
       "0                68235.0                72504.0                76700.0   \n",
       "1             14485546.0             15816603.0             17075727.0   \n",
       "2             12657366.0             13075049.0             13503747.0   \n",
       "3              3247039.0              3227287.0              3207536.0   \n",
       "4                58888.0                60971.0                62677.0   \n",
       "\n",
       "   1995 World Population  1996 World Population  1997 World Population  \\\n",
       "0                80324.0                83200.0                85451.0   \n",
       "1             18110657.0             18853437.0             19357126.0   \n",
       "2             13945206.0             14400719.0             14871570.0   \n",
       "3              3187784.0              3168033.0              3148281.0   \n",
       "4                63850.0                64360.0                64327.0   \n",
       "\n",
       "   1998 World Population  ...  2008 Urban World Population  \\\n",
       "0                87277.0  ...                      44378.0   \n",
       "1             19737765.0  ...                    6464835.0   \n",
       "2             15359601.0  ...                   12644649.0   \n",
       "3              3128530.0  ...                    1473392.0   \n",
       "4                64142.0  ...                      74641.0   \n",
       "\n",
       "   2009 Urban World Population  2010 Urban World Population  \\\n",
       "0                      44053.0                      43778.0   \n",
       "1                    6680732.0                    6927764.0   \n",
       "2                   13291081.0                   13963065.0   \n",
       "3                    1495260.0                    1519519.0   \n",
       "4                      75098.0                      75007.0   \n",
       "\n",
       "                           points        lat        lng  WUP_per_cap_1990  \\\n",
       "0  (12.4902998, -69.9609842, 0.0)  12.490300 -69.960984          0.503194   \n",
       "1   (33.7680065, 66.2385139, 0.0)  33.768006  66.238514          0.211770   \n",
       "2  (-11.8775768, 17.5691241, 0.0) -11.877577  17.569124          0.371440   \n",
       "3    (41.000028, 19.9999619, 0.0)  41.000028  19.999962          0.364280   \n",
       "4    (42.5407167, 1.5732033, 0.0)  42.540717   1.573203          0.947128   \n",
       "\n",
       "   WUP_per_cap_2000  WUP_per_cap_2010                    geometry  \n",
       "0          0.467172          0.430593  POINT (-69.96098 12.49030)  \n",
       "1          0.220780          0.237370   POINT (66.23851 33.76801)  \n",
       "2          0.500870          0.597830  POINT (17.56912 -11.87758)  \n",
       "3          0.417410          0.521630   POINT (19.99996 41.00003)  \n",
       "4          0.923949          0.888193    POINT (1.57320 42.54072)  \n",
       "\n",
       "[5 rows x 50 columns]"
      ]
     },
     "execution_count": 18,
     "metadata": {},
     "output_type": "execute_result"
    }
   ],
   "source": [
    "#convert to from dataframe to geodataframe\n",
    "gdf_populations = gpd.GeoDataFrame(\n",
    "    populations, \n",
    "    geometry=gpd.points_from_xy(populations.lng, populations.lat)\n",
    ")\n",
    "gdf_populations.head()"
   ]
  },
  {
   "cell_type": "markdown",
   "id": "9ead4010",
   "metadata": {},
   "source": [
    "Plot the world urban population per capita for 1990 and hover over the map to view thw WUP per capita for each country."
   ]
  },
  {
   "cell_type": "code",
   "execution_count": 19,
   "id": "67004b25",
   "metadata": {},
   "outputs": [
    {
     "data": {
      "application/vnd.plotly.v1+json": {
       "config": {
        "linkText": "Export to plot.ly",
        "plotlyServerURL": "https://plot.ly",
        "showLink": false
       },
       "data": [
        {
         "colorbar": {
          "title": {
           "text": "World Urban Population per Capita"
          }
         },
         "colorscale": [
          [
           0,
           "#440154"
          ],
          [
           0.1111111111111111,
           "#482878"
          ],
          [
           0.2222222222222222,
           "#3e4989"
          ],
          [
           0.3333333333333333,
           "#31688e"
          ],
          [
           0.4444444444444444,
           "#26828e"
          ],
          [
           0.5555555555555556,
           "#1f9e89"
          ],
          [
           0.6666666666666666,
           "#35b779"
          ],
          [
           0.7777777777777778,
           "#6ece58"
          ],
          [
           0.8888888888888888,
           "#b5de2b"
          ],
          [
           1,
           "#fde725"
          ]
         ],
         "locationmode": "country names",
         "locations": [
          "Aruba",
          "Afghanistan",
          "Angola",
          "Albania",
          "Andorra",
          "Arab World",
          "United Arab Emirates",
          "Argentina",
          "Armenia",
          "American Samoa",
          "Antigua and Barbuda",
          "Australia",
          "Austria",
          "Azerbaijan",
          "Burundi",
          "Belgium",
          "Benin",
          "Burkina Faso",
          "Bangladesh",
          "Bulgaria",
          "Bahrain",
          "Bahamas, The",
          "Bosnia and Herzegovina",
          "Belarus",
          "Belize",
          "Bermuda",
          "Bolivia",
          "Brazil",
          "Barbados",
          "Brunei Darussalam",
          "Bhutan",
          "Botswana",
          "Central African Republic",
          "Canada",
          "Switzerland",
          "Channel Islands",
          "Chile",
          "China",
          "Cote d'Ivoire",
          "Cameroon",
          "Colombia",
          "Comoros",
          "Cabo Verde",
          "Costa Rica",
          "Cuba",
          "Curacao",
          "Cayman Islands",
          "Cyprus",
          "Czech Republic",
          "Germany",
          "Djibouti",
          "Dominica",
          "Denmark",
          "Dominican Republic",
          "Algeria",
          "East Asia & Pacific",
          "Europe & Central Asia",
          "Ecuador",
          "Euro area",
          "Eritrea",
          "Spain",
          "Estonia",
          "Ethiopia",
          "European Union",
          "Finland",
          "Fiji",
          "France",
          "Faroe Islands",
          "Gabon",
          "United Kingdom",
          "Georgia",
          "Ghana",
          "Gibraltar",
          "Guinea",
          "Gambia, The",
          "Guinea-Bissau",
          "Equatorial Guinea",
          "Greece",
          "Grenada",
          "Greenland",
          "Guatemala",
          "Guam",
          "Guyana",
          "High income",
          "Hong Kong SAR, China",
          "Honduras",
          "Croatia",
          "Haiti",
          "Hungary",
          "IDA total",
          "IDA blend",
          "Indonesia",
          "IDA only",
          "Isle of Man",
          "India",
          "Ireland",
          "Iraq",
          "Iceland",
          "Israel",
          "Italy",
          "Jamaica",
          "Jordan",
          "Japan",
          "Kazakhstan",
          "Kenya",
          "Kyrgyz Republic",
          "Cambodia",
          "Kiribati",
          "St. Kitts and Nevis",
          "Kuwait",
          "Lao PDR",
          "Lebanon",
          "Liberia",
          "Libya",
          "St. Lucia",
          "Latin America & Caribbean",
          "Low income",
          "Liechtenstein",
          "Sri Lanka",
          "Lesotho",
          "Lithuania",
          "Luxembourg",
          "Latvia",
          "Macao SAR, China",
          "St. Martin (French part)",
          "Morocco",
          "Monaco",
          "Moldova",
          "Madagascar",
          "Maldives",
          "Middle East & North Africa",
          "Mexico",
          "Marshall Islands",
          "Middle income",
          "North Macedonia",
          "Mali",
          "Malta",
          "Myanmar",
          "Montenegro",
          "Mongolia",
          "Northern Mariana Islands",
          "Mozambique",
          "Mauritania",
          "Mauritius",
          "Malawi",
          "Malaysia",
          "North America",
          "Namibia",
          "New Caledonia",
          "Niger",
          "Nigeria",
          "Nicaragua",
          "Netherlands",
          "Norway",
          "Nepal",
          "Nauru",
          "New Zealand",
          "Oman",
          "Pakistan",
          "Panama",
          "Peru",
          "Philippines",
          "Palau",
          "Papua New Guinea",
          "Poland",
          "Puerto Rico",
          "Portugal",
          "Paraguay",
          "West Bank and Gaza",
          "French Polynesia",
          "Qatar",
          "Romania",
          "Russian Federation",
          "Rwanda",
          "South Asia",
          "Saudi Arabia",
          "Sudan",
          "Senegal",
          "Singapore",
          "Solomon Islands",
          "Sierra Leone",
          "El Salvador",
          "San Marino",
          "Somalia",
          "Serbia",
          "South Sudan",
          "Small states",
          "Sao Tome and Principe",
          "Suriname",
          "Slovak Republic",
          "Slovenia",
          "Sweden",
          "Eswatini",
          "Sint Maarten (Dutch part)",
          "Seychelles",
          "Syrian Arab Republic",
          "Turks and Caicos Islands",
          "Chad",
          "Togo",
          "Thailand",
          "Tajikistan",
          "Turkmenistan",
          "Timor-Leste",
          "Tonga",
          "Trinidad and Tobago",
          "Tunisia",
          "Turkey",
          "Tuvalu",
          "Tanzania",
          "Uganda",
          "Ukraine",
          "Uruguay",
          "United States",
          "Uzbekistan",
          "St. Vincent and the Grenadines",
          "Venezuela, RB",
          "British Virgin Islands",
          "Virgin Islands (U.S.)",
          "Vietnam",
          "Vanuatu",
          "World",
          "Samoa",
          "Kosovo",
          "South Africa",
          "Zambia",
          "Zimbabwe"
         ],
         "text": [
          "Aruba",
          "Afghanistan",
          "Angola",
          "Albania",
          "Andorra",
          "Arab World",
          "United Arab Emirates",
          "Argentina",
          "Armenia",
          "American Samoa",
          "Antigua and Barbuda",
          "Australia",
          "Austria",
          "Azerbaijan",
          "Burundi",
          "Belgium",
          "Benin",
          "Burkina Faso",
          "Bangladesh",
          "Bulgaria",
          "Bahrain",
          "Bahamas, The",
          "Bosnia and Herzegovina",
          "Belarus",
          "Belize",
          "Bermuda",
          "Bolivia",
          "Brazil",
          "Barbados",
          "Brunei Darussalam",
          "Bhutan",
          "Botswana",
          "Central African Republic",
          "Canada",
          "Switzerland",
          "Channel Islands",
          "Chile",
          "China",
          "Cote d'Ivoire",
          "Cameroon",
          "Colombia",
          "Comoros",
          "Cabo Verde",
          "Costa Rica",
          "Cuba",
          "Curacao",
          "Cayman Islands",
          "Cyprus",
          "Czech Republic",
          "Germany",
          "Djibouti",
          "Dominica",
          "Denmark",
          "Dominican Republic",
          "Algeria",
          "East Asia & Pacific",
          "Europe & Central Asia",
          "Ecuador",
          "Euro area",
          "Eritrea",
          "Spain",
          "Estonia",
          "Ethiopia",
          "European Union",
          "Finland",
          "Fiji",
          "France",
          "Faroe Islands",
          "Gabon",
          "United Kingdom",
          "Georgia",
          "Ghana",
          "Gibraltar",
          "Guinea",
          "Gambia, The",
          "Guinea-Bissau",
          "Equatorial Guinea",
          "Greece",
          "Grenada",
          "Greenland",
          "Guatemala",
          "Guam",
          "Guyana",
          "High income",
          "Hong Kong SAR, China",
          "Honduras",
          "Croatia",
          "Haiti",
          "Hungary",
          "IDA total",
          "IDA blend",
          "Indonesia",
          "IDA only",
          "Isle of Man",
          "India",
          "Ireland",
          "Iraq",
          "Iceland",
          "Israel",
          "Italy",
          "Jamaica",
          "Jordan",
          "Japan",
          "Kazakhstan",
          "Kenya",
          "Kyrgyz Republic",
          "Cambodia",
          "Kiribati",
          "St. Kitts and Nevis",
          "Kuwait",
          "Lao PDR",
          "Lebanon",
          "Liberia",
          "Libya",
          "St. Lucia",
          "Latin America & Caribbean",
          "Low income",
          "Liechtenstein",
          "Sri Lanka",
          "Lesotho",
          "Lithuania",
          "Luxembourg",
          "Latvia",
          "Macao SAR, China",
          "St. Martin (French part)",
          "Morocco",
          "Monaco",
          "Moldova",
          "Madagascar",
          "Maldives",
          "Middle East & North Africa",
          "Mexico",
          "Marshall Islands",
          "Middle income",
          "North Macedonia",
          "Mali",
          "Malta",
          "Myanmar",
          "Montenegro",
          "Mongolia",
          "Northern Mariana Islands",
          "Mozambique",
          "Mauritania",
          "Mauritius",
          "Malawi",
          "Malaysia",
          "North America",
          "Namibia",
          "New Caledonia",
          "Niger",
          "Nigeria",
          "Nicaragua",
          "Netherlands",
          "Norway",
          "Nepal",
          "Nauru",
          "New Zealand",
          "Oman",
          "Pakistan",
          "Panama",
          "Peru",
          "Philippines",
          "Palau",
          "Papua New Guinea",
          "Poland",
          "Puerto Rico",
          "Portugal",
          "Paraguay",
          "West Bank and Gaza",
          "French Polynesia",
          "Qatar",
          "Romania",
          "Russian Federation",
          "Rwanda",
          "South Asia",
          "Saudi Arabia",
          "Sudan",
          "Senegal",
          "Singapore",
          "Solomon Islands",
          "Sierra Leone",
          "El Salvador",
          "San Marino",
          "Somalia",
          "Serbia",
          "South Sudan",
          "Small states",
          "Sao Tome and Principe",
          "Suriname",
          "Slovak Republic",
          "Slovenia",
          "Sweden",
          "Eswatini",
          "Sint Maarten (Dutch part)",
          "Seychelles",
          "Syrian Arab Republic",
          "Turks and Caicos Islands",
          "Chad",
          "Togo",
          "Thailand",
          "Tajikistan",
          "Turkmenistan",
          "Timor-Leste",
          "Tonga",
          "Trinidad and Tobago",
          "Tunisia",
          "Turkey",
          "Tuvalu",
          "Tanzania",
          "Uganda",
          "Ukraine",
          "Uruguay",
          "United States",
          "Uzbekistan",
          "St. Vincent and the Grenadines",
          "Venezuela, RB",
          "British Virgin Islands",
          "Virgin Islands (U.S.)",
          "Vietnam",
          "Vanuatu",
          "World",
          "Samoa",
          "Kosovo",
          "South Africa",
          "Zambia",
          "Zimbabwe"
         ],
         "type": "choropleth",
         "z": [
          0.5031939371510402,
          0.21176996252429445,
          0.37143995815126213,
          0.36428014612318965,
          0.9471279972114697,
          0.50395249121153,
          0.7905101201466612,
          0.8698399881711847,
          0.6742099237148232,
          0.8094705049950367,
          0.35425729273285567,
          0.8543300068560982,
          0.6295999531118738,
          0.5374900125715882,
          0.06271000120059783,
          0.9637700141632017,
          0.3448499305814447,
          0.13814996060621262,
          0.19810999803086024,
          0.6637700356113453,
          0.8814008400362147,
          0.7983787560055108,
          0.392490023912141,
          0.6598099911669447,
          0.47465236307797304,
          1,
          0.5557699652810655,
          0.7392200033149618,
          0.37370083085507555,
          0.6643797758975886,
          0.16387969947475906,
          0.4193296942077597,
          0.36825007286048483,
          0.7658199890520931,
          0.7392600631462736,
          0.3139168698594593,
          0.8327099760196579,
          0.2644200002642741,
          0.3934500121049467,
          0.3965699577116911,
          0.6948098750625895,
          0.2786896796357576,
          0.4412013611480988,
          0.5000299733958062,
          0.733640043155663,
          0.8467812929848694,
          1,
          0.6677602186234289,
          0.7522000357096026,
          0.7311799981843825,
          0.7595706625022443,
          0.6307956659424303,
          0.8484300241648461,
          0.5522599444255508,
          0.5208500031581356,
          0.3395761402888613,
          0.6745672447684857,
          0.5509000449030362,
          0.7122001986310028,
          0.18904984519534432,
          0.7535100051400505,
          0.7123097884619551,
          0.12620999077741302,
          0.6936894381334534,
          0.7936700618137501,
          0.4161106711338466,
          0.7405600039439727,
          0.3059398400812286,
          0.6914294862073033,
          0.7814000052334085,
          0.5503800499791753,
          0.36441000869339957,
          1,
          0.28026002619845497,
          0.3831202195913951,
          0.3083000345548525,
          0.3474503086920427,
          0.714669966789555,
          0.33427453260113565,
          0.796978417266187,
          0.4199199678678116,
          0.9079566530249383,
          0.2958298634888048,
          0.7375229403543975,
          0.9951699535454466,
          0.4046000819727875,
          0.5103699359145035,
          0.2850999805766394,
          0.6583799788470933,
          0.2550068512976667,
          0.30185884909068883,
          0.30584000072938383,
          0.23149110081343957,
          0.5174542661242141,
          0.2554699999369502,
          0.5692899264479475,
          0.6970600052941847,
          0.9075015893197711,
          0.9035899141630901,
          0.6672599985472302,
          0.4944398666725071,
          0.7329098766366882,
          0.7733899965192614,
          0.5626600195742598,
          0.16747997930753586,
          0.37777008562579706,
          0.15545996550424446,
          0.3498756906077348,
          0.34610894458381974,
          0.9797398422407013,
          0.15436992423573526,
          0.8311999383527336,
          0.5542200247409331,
          0.7572300430436313,
          0.2934864512389509,
          0.7068133373778123,
          0.24701192429928057,
          0.1692660391121609,
          0.18534999852531833,
          0.13966979839142785,
          0.6758300390660705,
          0.8094696870498888,
          0.6924999746540845,
          0.99762949087863,
          null,
          0.48391000256293853,
          1,
          0.467619953137267,
          0.2356600126928751,
          0.25839987811326504,
          0.549404445773013,
          0.7141899947216647,
          0.6505468469040215,
          0.36413637249959613,
          0.577889900352064,
          0.2332200343364482,
          0.9038089053279499,
          0.2524299931397451,
          0.4803701358242135,
          0.5703298086894414,
          0.8973159643294282,
          0.25,
          0.39323006017658746,
          0.43899978749026,
          0.11559997873358499,
          0.4979400242620228,
          0.7543326927625637,
          0.2765598556778014,
          0.5957670905037479,
          0.15368006168496687,
          0.2967999983195475,
          0.5307499771171654,
          0.6868399914122386,
          0.7195599264689413,
          0.08853999882996876,
          1,
          0.8474199651630728,
          0.6610201852925871,
          0.3057599969812701,
          0.5390301774987485,
          0.6890099976743694,
          0.4698600019775375,
          0.6959091512817107,
          0.1499400217381932,
          0.6126999965521568,
          0.9294201300537178,
          0.4791500095460201,
          0.48694007100888737,
          0.6770900311791039,
          0.5785197969035292,
          0.9278593594497332,
          0.5321700201729734,
          0.7339400028818119,
          0.054160020700019566,
          0.25064820124742726,
          0.7658300267004892,
          0.28609997523276975,
          0.388959950743439,
          1,
          0.1367702795431371,
          0.33251993975594024,
          0.4927400519043453,
          0.904,
          0.2965800297075802,
          0.5039300026364355,
          0.13276006745775196,
          0.45284372048114846,
          0.43647711162747777,
          0.6570607747897168,
          0.5649100512965479,
          0.5038998358991092,
          0.8310000134364081,
          0.20201964932759417,
          null,
          0.49269857712172876,
          0.48931000546272424,
          0.7434563619849723,
          0.2081099373294974,
          0.28588998471774457,
          0.2942400062123633,
          0.3165800310154748,
          0.4507499660013241,
          0.20841973722374474,
          0.2270351008215086,
          0.5412401442614788,
          0.5794600324950112,
          0.5920300079225901,
          0.40659710535173343,
          0.18883999643705157,
          0.11075997361359591,
          0.6675700019656436,
          0.8897299042545973,
          0.753,
          0.413650024378352,
          0.41408953890811656,
          0.8428399812251673,
          0.3781233918463034,
          0.8768504179371507,
          0.20257000330436475,
          0.18714906565329223,
          0.4301337133863273,
          0.211998550395263,
          null,
          0.5203700035779396,
          0.3940700610749616,
          0.28987998087883915
         ]
        }
       ],
       "layout": {
        "geo": {
         "projection": {
          "type": "mercator"
         }
        },
        "template": {
         "data": {
          "bar": [
           {
            "error_x": {
             "color": "#2a3f5f"
            },
            "error_y": {
             "color": "#2a3f5f"
            },
            "marker": {
             "line": {
              "color": "#E5ECF6",
              "width": 0.5
             }
            },
            "type": "bar"
           }
          ],
          "barpolar": [
           {
            "marker": {
             "line": {
              "color": "#E5ECF6",
              "width": 0.5
             }
            },
            "type": "barpolar"
           }
          ],
          "carpet": [
           {
            "aaxis": {
             "endlinecolor": "#2a3f5f",
             "gridcolor": "white",
             "linecolor": "white",
             "minorgridcolor": "white",
             "startlinecolor": "#2a3f5f"
            },
            "baxis": {
             "endlinecolor": "#2a3f5f",
             "gridcolor": "white",
             "linecolor": "white",
             "minorgridcolor": "white",
             "startlinecolor": "#2a3f5f"
            },
            "type": "carpet"
           }
          ],
          "choropleth": [
           {
            "colorbar": {
             "outlinewidth": 0,
             "ticks": ""
            },
            "type": "choropleth"
           }
          ],
          "contour": [
           {
            "colorbar": {
             "outlinewidth": 0,
             "ticks": ""
            },
            "colorscale": [
             [
              0,
              "#0d0887"
             ],
             [
              0.1111111111111111,
              "#46039f"
             ],
             [
              0.2222222222222222,
              "#7201a8"
             ],
             [
              0.3333333333333333,
              "#9c179e"
             ],
             [
              0.4444444444444444,
              "#bd3786"
             ],
             [
              0.5555555555555556,
              "#d8576b"
             ],
             [
              0.6666666666666666,
              "#ed7953"
             ],
             [
              0.7777777777777778,
              "#fb9f3a"
             ],
             [
              0.8888888888888888,
              "#fdca26"
             ],
             [
              1,
              "#f0f921"
             ]
            ],
            "type": "contour"
           }
          ],
          "contourcarpet": [
           {
            "colorbar": {
             "outlinewidth": 0,
             "ticks": ""
            },
            "type": "contourcarpet"
           }
          ],
          "heatmap": [
           {
            "colorbar": {
             "outlinewidth": 0,
             "ticks": ""
            },
            "colorscale": [
             [
              0,
              "#0d0887"
             ],
             [
              0.1111111111111111,
              "#46039f"
             ],
             [
              0.2222222222222222,
              "#7201a8"
             ],
             [
              0.3333333333333333,
              "#9c179e"
             ],
             [
              0.4444444444444444,
              "#bd3786"
             ],
             [
              0.5555555555555556,
              "#d8576b"
             ],
             [
              0.6666666666666666,
              "#ed7953"
             ],
             [
              0.7777777777777778,
              "#fb9f3a"
             ],
             [
              0.8888888888888888,
              "#fdca26"
             ],
             [
              1,
              "#f0f921"
             ]
            ],
            "type": "heatmap"
           }
          ],
          "heatmapgl": [
           {
            "colorbar": {
             "outlinewidth": 0,
             "ticks": ""
            },
            "colorscale": [
             [
              0,
              "#0d0887"
             ],
             [
              0.1111111111111111,
              "#46039f"
             ],
             [
              0.2222222222222222,
              "#7201a8"
             ],
             [
              0.3333333333333333,
              "#9c179e"
             ],
             [
              0.4444444444444444,
              "#bd3786"
             ],
             [
              0.5555555555555556,
              "#d8576b"
             ],
             [
              0.6666666666666666,
              "#ed7953"
             ],
             [
              0.7777777777777778,
              "#fb9f3a"
             ],
             [
              0.8888888888888888,
              "#fdca26"
             ],
             [
              1,
              "#f0f921"
             ]
            ],
            "type": "heatmapgl"
           }
          ],
          "histogram": [
           {
            "marker": {
             "colorbar": {
              "outlinewidth": 0,
              "ticks": ""
             }
            },
            "type": "histogram"
           }
          ],
          "histogram2d": [
           {
            "colorbar": {
             "outlinewidth": 0,
             "ticks": ""
            },
            "colorscale": [
             [
              0,
              "#0d0887"
             ],
             [
              0.1111111111111111,
              "#46039f"
             ],
             [
              0.2222222222222222,
              "#7201a8"
             ],
             [
              0.3333333333333333,
              "#9c179e"
             ],
             [
              0.4444444444444444,
              "#bd3786"
             ],
             [
              0.5555555555555556,
              "#d8576b"
             ],
             [
              0.6666666666666666,
              "#ed7953"
             ],
             [
              0.7777777777777778,
              "#fb9f3a"
             ],
             [
              0.8888888888888888,
              "#fdca26"
             ],
             [
              1,
              "#f0f921"
             ]
            ],
            "type": "histogram2d"
           }
          ],
          "histogram2dcontour": [
           {
            "colorbar": {
             "outlinewidth": 0,
             "ticks": ""
            },
            "colorscale": [
             [
              0,
              "#0d0887"
             ],
             [
              0.1111111111111111,
              "#46039f"
             ],
             [
              0.2222222222222222,
              "#7201a8"
             ],
             [
              0.3333333333333333,
              "#9c179e"
             ],
             [
              0.4444444444444444,
              "#bd3786"
             ],
             [
              0.5555555555555556,
              "#d8576b"
             ],
             [
              0.6666666666666666,
              "#ed7953"
             ],
             [
              0.7777777777777778,
              "#fb9f3a"
             ],
             [
              0.8888888888888888,
              "#fdca26"
             ],
             [
              1,
              "#f0f921"
             ]
            ],
            "type": "histogram2dcontour"
           }
          ],
          "mesh3d": [
           {
            "colorbar": {
             "outlinewidth": 0,
             "ticks": ""
            },
            "type": "mesh3d"
           }
          ],
          "parcoords": [
           {
            "line": {
             "colorbar": {
              "outlinewidth": 0,
              "ticks": ""
             }
            },
            "type": "parcoords"
           }
          ],
          "pie": [
           {
            "automargin": true,
            "type": "pie"
           }
          ],
          "scatter": [
           {
            "marker": {
             "colorbar": {
              "outlinewidth": 0,
              "ticks": ""
             }
            },
            "type": "scatter"
           }
          ],
          "scatter3d": [
           {
            "line": {
             "colorbar": {
              "outlinewidth": 0,
              "ticks": ""
             }
            },
            "marker": {
             "colorbar": {
              "outlinewidth": 0,
              "ticks": ""
             }
            },
            "type": "scatter3d"
           }
          ],
          "scattercarpet": [
           {
            "marker": {
             "colorbar": {
              "outlinewidth": 0,
              "ticks": ""
             }
            },
            "type": "scattercarpet"
           }
          ],
          "scattergeo": [
           {
            "marker": {
             "colorbar": {
              "outlinewidth": 0,
              "ticks": ""
             }
            },
            "type": "scattergeo"
           }
          ],
          "scattergl": [
           {
            "marker": {
             "colorbar": {
              "outlinewidth": 0,
              "ticks": ""
             }
            },
            "type": "scattergl"
           }
          ],
          "scattermapbox": [
           {
            "marker": {
             "colorbar": {
              "outlinewidth": 0,
              "ticks": ""
             }
            },
            "type": "scattermapbox"
           }
          ],
          "scatterpolar": [
           {
            "marker": {
             "colorbar": {
              "outlinewidth": 0,
              "ticks": ""
             }
            },
            "type": "scatterpolar"
           }
          ],
          "scatterpolargl": [
           {
            "marker": {
             "colorbar": {
              "outlinewidth": 0,
              "ticks": ""
             }
            },
            "type": "scatterpolargl"
           }
          ],
          "scatterternary": [
           {
            "marker": {
             "colorbar": {
              "outlinewidth": 0,
              "ticks": ""
             }
            },
            "type": "scatterternary"
           }
          ],
          "surface": [
           {
            "colorbar": {
             "outlinewidth": 0,
             "ticks": ""
            },
            "colorscale": [
             [
              0,
              "#0d0887"
             ],
             [
              0.1111111111111111,
              "#46039f"
             ],
             [
              0.2222222222222222,
              "#7201a8"
             ],
             [
              0.3333333333333333,
              "#9c179e"
             ],
             [
              0.4444444444444444,
              "#bd3786"
             ],
             [
              0.5555555555555556,
              "#d8576b"
             ],
             [
              0.6666666666666666,
              "#ed7953"
             ],
             [
              0.7777777777777778,
              "#fb9f3a"
             ],
             [
              0.8888888888888888,
              "#fdca26"
             ],
             [
              1,
              "#f0f921"
             ]
            ],
            "type": "surface"
           }
          ],
          "table": [
           {
            "cells": {
             "fill": {
              "color": "#EBF0F8"
             },
             "line": {
              "color": "white"
             }
            },
            "header": {
             "fill": {
              "color": "#C8D4E3"
             },
             "line": {
              "color": "white"
             }
            },
            "type": "table"
           }
          ]
         },
         "layout": {
          "annotationdefaults": {
           "arrowcolor": "#2a3f5f",
           "arrowhead": 0,
           "arrowwidth": 1
          },
          "autotypenumbers": "strict",
          "coloraxis": {
           "colorbar": {
            "outlinewidth": 0,
            "ticks": ""
           }
          },
          "colorscale": {
           "diverging": [
            [
             0,
             "#8e0152"
            ],
            [
             0.1,
             "#c51b7d"
            ],
            [
             0.2,
             "#de77ae"
            ],
            [
             0.3,
             "#f1b6da"
            ],
            [
             0.4,
             "#fde0ef"
            ],
            [
             0.5,
             "#f7f7f7"
            ],
            [
             0.6,
             "#e6f5d0"
            ],
            [
             0.7,
             "#b8e186"
            ],
            [
             0.8,
             "#7fbc41"
            ],
            [
             0.9,
             "#4d9221"
            ],
            [
             1,
             "#276419"
            ]
           ],
           "sequential": [
            [
             0,
             "#0d0887"
            ],
            [
             0.1111111111111111,
             "#46039f"
            ],
            [
             0.2222222222222222,
             "#7201a8"
            ],
            [
             0.3333333333333333,
             "#9c179e"
            ],
            [
             0.4444444444444444,
             "#bd3786"
            ],
            [
             0.5555555555555556,
             "#d8576b"
            ],
            [
             0.6666666666666666,
             "#ed7953"
            ],
            [
             0.7777777777777778,
             "#fb9f3a"
            ],
            [
             0.8888888888888888,
             "#fdca26"
            ],
            [
             1,
             "#f0f921"
            ]
           ],
           "sequentialminus": [
            [
             0,
             "#0d0887"
            ],
            [
             0.1111111111111111,
             "#46039f"
            ],
            [
             0.2222222222222222,
             "#7201a8"
            ],
            [
             0.3333333333333333,
             "#9c179e"
            ],
            [
             0.4444444444444444,
             "#bd3786"
            ],
            [
             0.5555555555555556,
             "#d8576b"
            ],
            [
             0.6666666666666666,
             "#ed7953"
            ],
            [
             0.7777777777777778,
             "#fb9f3a"
            ],
            [
             0.8888888888888888,
             "#fdca26"
            ],
            [
             1,
             "#f0f921"
            ]
           ]
          },
          "colorway": [
           "#636efa",
           "#EF553B",
           "#00cc96",
           "#ab63fa",
           "#FFA15A",
           "#19d3f3",
           "#FF6692",
           "#B6E880",
           "#FF97FF",
           "#FECB52"
          ],
          "font": {
           "color": "#2a3f5f"
          },
          "geo": {
           "bgcolor": "white",
           "lakecolor": "white",
           "landcolor": "#E5ECF6",
           "showlakes": true,
           "showland": true,
           "subunitcolor": "white"
          },
          "hoverlabel": {
           "align": "left"
          },
          "hovermode": "closest",
          "mapbox": {
           "style": "light"
          },
          "paper_bgcolor": "white",
          "plot_bgcolor": "#E5ECF6",
          "polar": {
           "angularaxis": {
            "gridcolor": "white",
            "linecolor": "white",
            "ticks": ""
           },
           "bgcolor": "#E5ECF6",
           "radialaxis": {
            "gridcolor": "white",
            "linecolor": "white",
            "ticks": ""
           }
          },
          "scene": {
           "xaxis": {
            "backgroundcolor": "#E5ECF6",
            "gridcolor": "white",
            "gridwidth": 2,
            "linecolor": "white",
            "showbackground": true,
            "ticks": "",
            "zerolinecolor": "white"
           },
           "yaxis": {
            "backgroundcolor": "#E5ECF6",
            "gridcolor": "white",
            "gridwidth": 2,
            "linecolor": "white",
            "showbackground": true,
            "ticks": "",
            "zerolinecolor": "white"
           },
           "zaxis": {
            "backgroundcolor": "#E5ECF6",
            "gridcolor": "white",
            "gridwidth": 2,
            "linecolor": "white",
            "showbackground": true,
            "ticks": "",
            "zerolinecolor": "white"
           }
          },
          "shapedefaults": {
           "line": {
            "color": "#2a3f5f"
           }
          },
          "ternary": {
           "aaxis": {
            "gridcolor": "white",
            "linecolor": "white",
            "ticks": ""
           },
           "baxis": {
            "gridcolor": "white",
            "linecolor": "white",
            "ticks": ""
           },
           "bgcolor": "#E5ECF6",
           "caxis": {
            "gridcolor": "white",
            "linecolor": "white",
            "ticks": ""
           }
          },
          "title": {
           "x": 0.05
          },
          "xaxis": {
           "automargin": true,
           "gridcolor": "white",
           "linecolor": "white",
           "ticks": "",
           "title": {
            "standoff": 15
           },
           "zerolinecolor": "white",
           "zerolinewidth": 2
          },
          "yaxis": {
           "automargin": true,
           "gridcolor": "white",
           "linecolor": "white",
           "ticks": "",
           "title": {
            "standoff": 15
           },
           "zerolinecolor": "white",
           "zerolinewidth": 2
          }
         }
        },
        "title": {
         "text": "World Urban Population per Capita, 1990"
        }
       }
      },
      "text/html": [
       "<div>                            <div id=\"daa15400-fc46-492d-a17f-8af69f706b29\" class=\"plotly-graph-div\" style=\"height:525px; width:100%;\"></div>            <script type=\"text/javascript\">                require([\"plotly\"], function(Plotly) {                    window.PLOTLYENV=window.PLOTLYENV || {};                                    if (document.getElementById(\"daa15400-fc46-492d-a17f-8af69f706b29\")) {                    Plotly.newPlot(                        \"daa15400-fc46-492d-a17f-8af69f706b29\",                        [{\"colorbar\": {\"title\": {\"text\": \"World Urban Population per Capita\"}}, \"colorscale\": [[0.0, \"#440154\"], [0.1111111111111111, \"#482878\"], [0.2222222222222222, \"#3e4989\"], [0.3333333333333333, \"#31688e\"], [0.4444444444444444, \"#26828e\"], [0.5555555555555556, \"#1f9e89\"], [0.6666666666666666, \"#35b779\"], [0.7777777777777778, \"#6ece58\"], [0.8888888888888888, \"#b5de2b\"], [1.0, \"#fde725\"]], \"locationmode\": \"country names\", \"locations\": [\"Aruba\", \"Afghanistan\", \"Angola\", \"Albania\", \"Andorra\", \"Arab World\", \"United Arab Emirates\", \"Argentina\", \"Armenia\", \"American Samoa\", \"Antigua and Barbuda\", \"Australia\", \"Austria\", \"Azerbaijan\", \"Burundi\", \"Belgium\", \"Benin\", \"Burkina Faso\", \"Bangladesh\", \"Bulgaria\", \"Bahrain\", \"Bahamas, The\", \"Bosnia and Herzegovina\", \"Belarus\", \"Belize\", \"Bermuda\", \"Bolivia\", \"Brazil\", \"Barbados\", \"Brunei Darussalam\", \"Bhutan\", \"Botswana\", \"Central African Republic\", \"Canada\", \"Switzerland\", \"Channel Islands\", \"Chile\", \"China\", \"Cote d'Ivoire\", \"Cameroon\", \"Colombia\", \"Comoros\", \"Cabo Verde\", \"Costa Rica\", \"Cuba\", \"Curacao\", \"Cayman Islands\", \"Cyprus\", \"Czech Republic\", \"Germany\", \"Djibouti\", \"Dominica\", \"Denmark\", \"Dominican Republic\", \"Algeria\", \"East Asia & Pacific\", \"Europe & Central Asia\", \"Ecuador\", \"Euro area\", \"Eritrea\", \"Spain\", \"Estonia\", \"Ethiopia\", \"European Union\", \"Finland\", \"Fiji\", \"France\", \"Faroe Islands\", \"Gabon\", \"United Kingdom\", \"Georgia\", \"Ghana\", \"Gibraltar\", \"Guinea\", \"Gambia, The\", \"Guinea-Bissau\", \"Equatorial Guinea\", \"Greece\", \"Grenada\", \"Greenland\", \"Guatemala\", \"Guam\", \"Guyana\", \"High income\", \"Hong Kong SAR, China\", \"Honduras\", \"Croatia\", \"Haiti\", \"Hungary\", \"IDA total\", \"IDA blend\", \"Indonesia\", \"IDA only\", \"Isle of Man\", \"India\", \"Ireland\", \"Iraq\", \"Iceland\", \"Israel\", \"Italy\", \"Jamaica\", \"Jordan\", \"Japan\", \"Kazakhstan\", \"Kenya\", \"Kyrgyz Republic\", \"Cambodia\", \"Kiribati\", \"St. Kitts and Nevis\", \"Kuwait\", \"Lao PDR\", \"Lebanon\", \"Liberia\", \"Libya\", \"St. Lucia\", \"Latin America & Caribbean\", \"Low income\", \"Liechtenstein\", \"Sri Lanka\", \"Lesotho\", \"Lithuania\", \"Luxembourg\", \"Latvia\", \"Macao SAR, China\", \"St. Martin (French part)\", \"Morocco\", \"Monaco\", \"Moldova\", \"Madagascar\", \"Maldives\", \"Middle East & North Africa\", \"Mexico\", \"Marshall Islands\", \"Middle income\", \"North Macedonia\", \"Mali\", \"Malta\", \"Myanmar\", \"Montenegro\", \"Mongolia\", \"Northern Mariana Islands\", \"Mozambique\", \"Mauritania\", \"Mauritius\", \"Malawi\", \"Malaysia\", \"North America\", \"Namibia\", \"New Caledonia\", \"Niger\", \"Nigeria\", \"Nicaragua\", \"Netherlands\", \"Norway\", \"Nepal\", \"Nauru\", \"New Zealand\", \"Oman\", \"Pakistan\", \"Panama\", \"Peru\", \"Philippines\", \"Palau\", \"Papua New Guinea\", \"Poland\", \"Puerto Rico\", \"Portugal\", \"Paraguay\", \"West Bank and Gaza\", \"French Polynesia\", \"Qatar\", \"Romania\", \"Russian Federation\", \"Rwanda\", \"South Asia\", \"Saudi Arabia\", \"Sudan\", \"Senegal\", \"Singapore\", \"Solomon Islands\", \"Sierra Leone\", \"El Salvador\", \"San Marino\", \"Somalia\", \"Serbia\", \"South Sudan\", \"Small states\", \"Sao Tome and Principe\", \"Suriname\", \"Slovak Republic\", \"Slovenia\", \"Sweden\", \"Eswatini\", \"Sint Maarten (Dutch part)\", \"Seychelles\", \"Syrian Arab Republic\", \"Turks and Caicos Islands\", \"Chad\", \"Togo\", \"Thailand\", \"Tajikistan\", \"Turkmenistan\", \"Timor-Leste\", \"Tonga\", \"Trinidad and Tobago\", \"Tunisia\", \"Turkey\", \"Tuvalu\", \"Tanzania\", \"Uganda\", \"Ukraine\", \"Uruguay\", \"United States\", \"Uzbekistan\", \"St. Vincent and the Grenadines\", \"Venezuela, RB\", \"British Virgin Islands\", \"Virgin Islands (U.S.)\", \"Vietnam\", \"Vanuatu\", \"World\", \"Samoa\", \"Kosovo\", \"South Africa\", \"Zambia\", \"Zimbabwe\"], \"text\": [\"Aruba\", \"Afghanistan\", \"Angola\", \"Albania\", \"Andorra\", \"Arab World\", \"United Arab Emirates\", \"Argentina\", \"Armenia\", \"American Samoa\", \"Antigua and Barbuda\", \"Australia\", \"Austria\", \"Azerbaijan\", \"Burundi\", \"Belgium\", \"Benin\", \"Burkina Faso\", \"Bangladesh\", \"Bulgaria\", \"Bahrain\", \"Bahamas, The\", \"Bosnia and Herzegovina\", \"Belarus\", \"Belize\", \"Bermuda\", \"Bolivia\", \"Brazil\", \"Barbados\", \"Brunei Darussalam\", \"Bhutan\", \"Botswana\", \"Central African Republic\", \"Canada\", \"Switzerland\", \"Channel Islands\", \"Chile\", \"China\", \"Cote d'Ivoire\", \"Cameroon\", \"Colombia\", \"Comoros\", \"Cabo Verde\", \"Costa Rica\", \"Cuba\", \"Curacao\", \"Cayman Islands\", \"Cyprus\", \"Czech Republic\", \"Germany\", \"Djibouti\", \"Dominica\", \"Denmark\", \"Dominican Republic\", \"Algeria\", \"East Asia & Pacific\", \"Europe & Central Asia\", \"Ecuador\", \"Euro area\", \"Eritrea\", \"Spain\", \"Estonia\", \"Ethiopia\", \"European Union\", \"Finland\", \"Fiji\", \"France\", \"Faroe Islands\", \"Gabon\", \"United Kingdom\", \"Georgia\", \"Ghana\", \"Gibraltar\", \"Guinea\", \"Gambia, The\", \"Guinea-Bissau\", \"Equatorial Guinea\", \"Greece\", \"Grenada\", \"Greenland\", \"Guatemala\", \"Guam\", \"Guyana\", \"High income\", \"Hong Kong SAR, China\", \"Honduras\", \"Croatia\", \"Haiti\", \"Hungary\", \"IDA total\", \"IDA blend\", \"Indonesia\", \"IDA only\", \"Isle of Man\", \"India\", \"Ireland\", \"Iraq\", \"Iceland\", \"Israel\", \"Italy\", \"Jamaica\", \"Jordan\", \"Japan\", \"Kazakhstan\", \"Kenya\", \"Kyrgyz Republic\", \"Cambodia\", \"Kiribati\", \"St. Kitts and Nevis\", \"Kuwait\", \"Lao PDR\", \"Lebanon\", \"Liberia\", \"Libya\", \"St. Lucia\", \"Latin America & Caribbean\", \"Low income\", \"Liechtenstein\", \"Sri Lanka\", \"Lesotho\", \"Lithuania\", \"Luxembourg\", \"Latvia\", \"Macao SAR, China\", \"St. Martin (French part)\", \"Morocco\", \"Monaco\", \"Moldova\", \"Madagascar\", \"Maldives\", \"Middle East & North Africa\", \"Mexico\", \"Marshall Islands\", \"Middle income\", \"North Macedonia\", \"Mali\", \"Malta\", \"Myanmar\", \"Montenegro\", \"Mongolia\", \"Northern Mariana Islands\", \"Mozambique\", \"Mauritania\", \"Mauritius\", \"Malawi\", \"Malaysia\", \"North America\", \"Namibia\", \"New Caledonia\", \"Niger\", \"Nigeria\", \"Nicaragua\", \"Netherlands\", \"Norway\", \"Nepal\", \"Nauru\", \"New Zealand\", \"Oman\", \"Pakistan\", \"Panama\", \"Peru\", \"Philippines\", \"Palau\", \"Papua New Guinea\", \"Poland\", \"Puerto Rico\", \"Portugal\", \"Paraguay\", \"West Bank and Gaza\", \"French Polynesia\", \"Qatar\", \"Romania\", \"Russian Federation\", \"Rwanda\", \"South Asia\", \"Saudi Arabia\", \"Sudan\", \"Senegal\", \"Singapore\", \"Solomon Islands\", \"Sierra Leone\", \"El Salvador\", \"San Marino\", \"Somalia\", \"Serbia\", \"South Sudan\", \"Small states\", \"Sao Tome and Principe\", \"Suriname\", \"Slovak Republic\", \"Slovenia\", \"Sweden\", \"Eswatini\", \"Sint Maarten (Dutch part)\", \"Seychelles\", \"Syrian Arab Republic\", \"Turks and Caicos Islands\", \"Chad\", \"Togo\", \"Thailand\", \"Tajikistan\", \"Turkmenistan\", \"Timor-Leste\", \"Tonga\", \"Trinidad and Tobago\", \"Tunisia\", \"Turkey\", \"Tuvalu\", \"Tanzania\", \"Uganda\", \"Ukraine\", \"Uruguay\", \"United States\", \"Uzbekistan\", \"St. Vincent and the Grenadines\", \"Venezuela, RB\", \"British Virgin Islands\", \"Virgin Islands (U.S.)\", \"Vietnam\", \"Vanuatu\", \"World\", \"Samoa\", \"Kosovo\", \"South Africa\", \"Zambia\", \"Zimbabwe\"], \"type\": \"choropleth\", \"z\": [0.5031939371510402, 0.21176996252429445, 0.37143995815126213, 0.36428014612318965, 0.9471279972114697, 0.50395249121153, 0.7905101201466612, 0.8698399881711847, 0.6742099237148232, 0.8094705049950367, 0.35425729273285567, 0.8543300068560982, 0.6295999531118738, 0.5374900125715882, 0.06271000120059783, 0.9637700141632017, 0.3448499305814447, 0.13814996060621262, 0.19810999803086024, 0.6637700356113453, 0.8814008400362147, 0.7983787560055108, 0.392490023912141, 0.6598099911669447, 0.47465236307797304, 1.0, 0.5557699652810655, 0.7392200033149618, 0.37370083085507555, 0.6643797758975886, 0.16387969947475906, 0.4193296942077597, 0.36825007286048483, 0.7658199890520931, 0.7392600631462736, 0.3139168698594593, 0.8327099760196579, 0.2644200002642741, 0.3934500121049467, 0.3965699577116911, 0.6948098750625895, 0.2786896796357576, 0.4412013611480988, 0.5000299733958062, 0.733640043155663, 0.8467812929848694, 1.0, 0.6677602186234289, 0.7522000357096026, 0.7311799981843825, 0.7595706625022443, 0.6307956659424303, 0.8484300241648461, 0.5522599444255508, 0.5208500031581356, 0.3395761402888613, 0.6745672447684857, 0.5509000449030362, 0.7122001986310028, 0.18904984519534432, 0.7535100051400505, 0.7123097884619551, 0.12620999077741302, 0.6936894381334534, 0.7936700618137501, 0.4161106711338466, 0.7405600039439727, 0.3059398400812286, 0.6914294862073033, 0.7814000052334085, 0.5503800499791753, 0.36441000869339957, 1.0, 0.28026002619845497, 0.3831202195913951, 0.3083000345548525, 0.3474503086920427, 0.714669966789555, 0.33427453260113565, 0.796978417266187, 0.4199199678678116, 0.9079566530249383, 0.2958298634888048, 0.7375229403543975, 0.9951699535454466, 0.4046000819727875, 0.5103699359145035, 0.2850999805766394, 0.6583799788470933, 0.2550068512976667, 0.30185884909068883, 0.30584000072938383, 0.23149110081343957, 0.5174542661242141, 0.2554699999369502, 0.5692899264479475, 0.6970600052941847, 0.9075015893197711, 0.9035899141630901, 0.6672599985472302, 0.4944398666725071, 0.7329098766366882, 0.7733899965192614, 0.5626600195742598, 0.16747997930753586, 0.37777008562579706, 0.15545996550424446, 0.3498756906077348, 0.34610894458381974, 0.9797398422407013, 0.15436992423573526, 0.8311999383527336, 0.5542200247409331, 0.7572300430436313, 0.2934864512389509, 0.7068133373778123, 0.24701192429928057, 0.1692660391121609, 0.18534999852531833, 0.13966979839142785, 0.6758300390660705, 0.8094696870498888, 0.6924999746540845, 0.99762949087863, null, 0.48391000256293853, 1.0, 0.467619953137267, 0.2356600126928751, 0.25839987811326504, 0.549404445773013, 0.7141899947216647, 0.6505468469040215, 0.36413637249959613, 0.577889900352064, 0.2332200343364482, 0.9038089053279499, 0.2524299931397451, 0.4803701358242135, 0.5703298086894414, 0.8973159643294282, 0.25, 0.39323006017658746, 0.43899978749026, 0.11559997873358499, 0.4979400242620228, 0.7543326927625637, 0.2765598556778014, 0.5957670905037479, 0.15368006168496687, 0.2967999983195475, 0.5307499771171654, 0.6868399914122386, 0.7195599264689413, 0.08853999882996876, 1.0, 0.8474199651630728, 0.6610201852925871, 0.3057599969812701, 0.5390301774987485, 0.6890099976743694, 0.4698600019775375, 0.6959091512817107, 0.1499400217381932, 0.6126999965521568, 0.9294201300537178, 0.4791500095460201, 0.48694007100888737, 0.6770900311791039, 0.5785197969035292, 0.9278593594497332, 0.5321700201729734, 0.7339400028818119, 0.054160020700019566, 0.25064820124742726, 0.7658300267004892, 0.28609997523276975, 0.388959950743439, 1.0, 0.1367702795431371, 0.33251993975594024, 0.4927400519043453, 0.904, 0.2965800297075802, 0.5039300026364355, 0.13276006745775196, 0.45284372048114846, 0.43647711162747777, 0.6570607747897168, 0.5649100512965479, 0.5038998358991092, 0.8310000134364081, 0.20201964932759417, null, 0.49269857712172876, 0.48931000546272424, 0.7434563619849723, 0.2081099373294974, 0.28588998471774457, 0.2942400062123633, 0.3165800310154748, 0.4507499660013241, 0.20841973722374474, 0.2270351008215086, 0.5412401442614788, 0.5794600324950112, 0.5920300079225901, 0.40659710535173343, 0.18883999643705157, 0.11075997361359591, 0.6675700019656436, 0.8897299042545973, 0.753, 0.413650024378352, 0.41408953890811656, 0.8428399812251673, 0.3781233918463034, 0.8768504179371507, 0.20257000330436475, 0.18714906565329223, 0.4301337133863273, 0.211998550395263, null, 0.5203700035779396, 0.3940700610749616, 0.28987998087883915]}],                        {\"geo\": {\"projection\": {\"type\": \"mercator\"}}, \"template\": {\"data\": {\"bar\": [{\"error_x\": {\"color\": \"#2a3f5f\"}, \"error_y\": {\"color\": \"#2a3f5f\"}, \"marker\": {\"line\": {\"color\": \"#E5ECF6\", \"width\": 0.5}}, \"type\": \"bar\"}], \"barpolar\": [{\"marker\": {\"line\": {\"color\": \"#E5ECF6\", \"width\": 0.5}}, \"type\": \"barpolar\"}], \"carpet\": [{\"aaxis\": {\"endlinecolor\": \"#2a3f5f\", \"gridcolor\": \"white\", \"linecolor\": \"white\", \"minorgridcolor\": \"white\", \"startlinecolor\": \"#2a3f5f\"}, \"baxis\": {\"endlinecolor\": \"#2a3f5f\", \"gridcolor\": \"white\", \"linecolor\": \"white\", \"minorgridcolor\": \"white\", \"startlinecolor\": \"#2a3f5f\"}, \"type\": \"carpet\"}], \"choropleth\": [{\"colorbar\": {\"outlinewidth\": 0, \"ticks\": \"\"}, \"type\": \"choropleth\"}], \"contour\": [{\"colorbar\": {\"outlinewidth\": 0, \"ticks\": \"\"}, \"colorscale\": [[0.0, \"#0d0887\"], [0.1111111111111111, \"#46039f\"], [0.2222222222222222, \"#7201a8\"], [0.3333333333333333, \"#9c179e\"], [0.4444444444444444, \"#bd3786\"], [0.5555555555555556, \"#d8576b\"], [0.6666666666666666, \"#ed7953\"], [0.7777777777777778, \"#fb9f3a\"], [0.8888888888888888, \"#fdca26\"], [1.0, \"#f0f921\"]], \"type\": \"contour\"}], \"contourcarpet\": [{\"colorbar\": {\"outlinewidth\": 0, \"ticks\": \"\"}, \"type\": \"contourcarpet\"}], \"heatmap\": [{\"colorbar\": {\"outlinewidth\": 0, \"ticks\": \"\"}, \"colorscale\": [[0.0, \"#0d0887\"], [0.1111111111111111, \"#46039f\"], [0.2222222222222222, \"#7201a8\"], [0.3333333333333333, \"#9c179e\"], [0.4444444444444444, \"#bd3786\"], [0.5555555555555556, \"#d8576b\"], [0.6666666666666666, \"#ed7953\"], [0.7777777777777778, \"#fb9f3a\"], [0.8888888888888888, \"#fdca26\"], [1.0, \"#f0f921\"]], \"type\": \"heatmap\"}], \"heatmapgl\": [{\"colorbar\": {\"outlinewidth\": 0, \"ticks\": \"\"}, \"colorscale\": [[0.0, \"#0d0887\"], [0.1111111111111111, \"#46039f\"], [0.2222222222222222, \"#7201a8\"], [0.3333333333333333, \"#9c179e\"], [0.4444444444444444, \"#bd3786\"], [0.5555555555555556, \"#d8576b\"], [0.6666666666666666, \"#ed7953\"], [0.7777777777777778, \"#fb9f3a\"], [0.8888888888888888, \"#fdca26\"], [1.0, \"#f0f921\"]], \"type\": \"heatmapgl\"}], \"histogram\": [{\"marker\": {\"colorbar\": {\"outlinewidth\": 0, \"ticks\": \"\"}}, \"type\": \"histogram\"}], \"histogram2d\": [{\"colorbar\": {\"outlinewidth\": 0, \"ticks\": \"\"}, \"colorscale\": [[0.0, \"#0d0887\"], [0.1111111111111111, \"#46039f\"], [0.2222222222222222, \"#7201a8\"], [0.3333333333333333, \"#9c179e\"], [0.4444444444444444, \"#bd3786\"], [0.5555555555555556, \"#d8576b\"], [0.6666666666666666, \"#ed7953\"], [0.7777777777777778, \"#fb9f3a\"], [0.8888888888888888, \"#fdca26\"], [1.0, \"#f0f921\"]], \"type\": \"histogram2d\"}], \"histogram2dcontour\": [{\"colorbar\": {\"outlinewidth\": 0, \"ticks\": \"\"}, \"colorscale\": [[0.0, \"#0d0887\"], [0.1111111111111111, \"#46039f\"], [0.2222222222222222, \"#7201a8\"], [0.3333333333333333, \"#9c179e\"], [0.4444444444444444, \"#bd3786\"], [0.5555555555555556, \"#d8576b\"], [0.6666666666666666, \"#ed7953\"], [0.7777777777777778, \"#fb9f3a\"], [0.8888888888888888, \"#fdca26\"], [1.0, \"#f0f921\"]], \"type\": \"histogram2dcontour\"}], \"mesh3d\": [{\"colorbar\": {\"outlinewidth\": 0, \"ticks\": \"\"}, \"type\": \"mesh3d\"}], \"parcoords\": [{\"line\": {\"colorbar\": {\"outlinewidth\": 0, \"ticks\": \"\"}}, \"type\": \"parcoords\"}], \"pie\": [{\"automargin\": true, \"type\": \"pie\"}], \"scatter\": [{\"marker\": {\"colorbar\": {\"outlinewidth\": 0, \"ticks\": \"\"}}, \"type\": \"scatter\"}], \"scatter3d\": [{\"line\": {\"colorbar\": {\"outlinewidth\": 0, \"ticks\": \"\"}}, \"marker\": {\"colorbar\": {\"outlinewidth\": 0, \"ticks\": \"\"}}, \"type\": \"scatter3d\"}], \"scattercarpet\": [{\"marker\": {\"colorbar\": {\"outlinewidth\": 0, \"ticks\": \"\"}}, \"type\": \"scattercarpet\"}], \"scattergeo\": [{\"marker\": {\"colorbar\": {\"outlinewidth\": 0, \"ticks\": \"\"}}, \"type\": \"scattergeo\"}], \"scattergl\": [{\"marker\": {\"colorbar\": {\"outlinewidth\": 0, \"ticks\": \"\"}}, \"type\": \"scattergl\"}], \"scattermapbox\": [{\"marker\": {\"colorbar\": {\"outlinewidth\": 0, \"ticks\": \"\"}}, \"type\": \"scattermapbox\"}], \"scatterpolar\": [{\"marker\": {\"colorbar\": {\"outlinewidth\": 0, \"ticks\": \"\"}}, \"type\": \"scatterpolar\"}], \"scatterpolargl\": [{\"marker\": {\"colorbar\": {\"outlinewidth\": 0, \"ticks\": \"\"}}, \"type\": \"scatterpolargl\"}], \"scatterternary\": [{\"marker\": {\"colorbar\": {\"outlinewidth\": 0, \"ticks\": \"\"}}, \"type\": \"scatterternary\"}], \"surface\": [{\"colorbar\": {\"outlinewidth\": 0, \"ticks\": \"\"}, \"colorscale\": [[0.0, \"#0d0887\"], [0.1111111111111111, \"#46039f\"], [0.2222222222222222, \"#7201a8\"], [0.3333333333333333, \"#9c179e\"], [0.4444444444444444, \"#bd3786\"], [0.5555555555555556, \"#d8576b\"], [0.6666666666666666, \"#ed7953\"], [0.7777777777777778, \"#fb9f3a\"], [0.8888888888888888, \"#fdca26\"], [1.0, \"#f0f921\"]], \"type\": \"surface\"}], \"table\": [{\"cells\": {\"fill\": {\"color\": \"#EBF0F8\"}, \"line\": {\"color\": \"white\"}}, \"header\": {\"fill\": {\"color\": \"#C8D4E3\"}, \"line\": {\"color\": \"white\"}}, \"type\": \"table\"}]}, \"layout\": {\"annotationdefaults\": {\"arrowcolor\": \"#2a3f5f\", \"arrowhead\": 0, \"arrowwidth\": 1}, \"autotypenumbers\": \"strict\", \"coloraxis\": {\"colorbar\": {\"outlinewidth\": 0, \"ticks\": \"\"}}, \"colorscale\": {\"diverging\": [[0, \"#8e0152\"], [0.1, \"#c51b7d\"], [0.2, \"#de77ae\"], [0.3, \"#f1b6da\"], [0.4, \"#fde0ef\"], [0.5, \"#f7f7f7\"], [0.6, \"#e6f5d0\"], [0.7, \"#b8e186\"], [0.8, \"#7fbc41\"], [0.9, \"#4d9221\"], [1, \"#276419\"]], \"sequential\": [[0.0, \"#0d0887\"], [0.1111111111111111, \"#46039f\"], [0.2222222222222222, \"#7201a8\"], [0.3333333333333333, \"#9c179e\"], [0.4444444444444444, \"#bd3786\"], [0.5555555555555556, \"#d8576b\"], [0.6666666666666666, \"#ed7953\"], [0.7777777777777778, \"#fb9f3a\"], [0.8888888888888888, \"#fdca26\"], [1.0, \"#f0f921\"]], \"sequentialminus\": [[0.0, \"#0d0887\"], [0.1111111111111111, \"#46039f\"], [0.2222222222222222, \"#7201a8\"], [0.3333333333333333, \"#9c179e\"], [0.4444444444444444, \"#bd3786\"], [0.5555555555555556, \"#d8576b\"], [0.6666666666666666, \"#ed7953\"], [0.7777777777777778, \"#fb9f3a\"], [0.8888888888888888, \"#fdca26\"], [1.0, \"#f0f921\"]]}, \"colorway\": [\"#636efa\", \"#EF553B\", \"#00cc96\", \"#ab63fa\", \"#FFA15A\", \"#19d3f3\", \"#FF6692\", \"#B6E880\", \"#FF97FF\", \"#FECB52\"], \"font\": {\"color\": \"#2a3f5f\"}, \"geo\": {\"bgcolor\": \"white\", \"lakecolor\": \"white\", \"landcolor\": \"#E5ECF6\", \"showlakes\": true, \"showland\": true, \"subunitcolor\": \"white\"}, \"hoverlabel\": {\"align\": \"left\"}, \"hovermode\": \"closest\", \"mapbox\": {\"style\": \"light\"}, \"paper_bgcolor\": \"white\", \"plot_bgcolor\": \"#E5ECF6\", \"polar\": {\"angularaxis\": {\"gridcolor\": \"white\", \"linecolor\": \"white\", \"ticks\": \"\"}, \"bgcolor\": \"#E5ECF6\", \"radialaxis\": {\"gridcolor\": \"white\", \"linecolor\": \"white\", \"ticks\": \"\"}}, \"scene\": {\"xaxis\": {\"backgroundcolor\": \"#E5ECF6\", \"gridcolor\": \"white\", \"gridwidth\": 2, \"linecolor\": \"white\", \"showbackground\": true, \"ticks\": \"\", \"zerolinecolor\": \"white\"}, \"yaxis\": {\"backgroundcolor\": \"#E5ECF6\", \"gridcolor\": \"white\", \"gridwidth\": 2, \"linecolor\": \"white\", \"showbackground\": true, \"ticks\": \"\", \"zerolinecolor\": \"white\"}, \"zaxis\": {\"backgroundcolor\": \"#E5ECF6\", \"gridcolor\": \"white\", \"gridwidth\": 2, \"linecolor\": \"white\", \"showbackground\": true, \"ticks\": \"\", \"zerolinecolor\": \"white\"}}, \"shapedefaults\": {\"line\": {\"color\": \"#2a3f5f\"}}, \"ternary\": {\"aaxis\": {\"gridcolor\": \"white\", \"linecolor\": \"white\", \"ticks\": \"\"}, \"baxis\": {\"gridcolor\": \"white\", \"linecolor\": \"white\", \"ticks\": \"\"}, \"bgcolor\": \"#E5ECF6\", \"caxis\": {\"gridcolor\": \"white\", \"linecolor\": \"white\", \"ticks\": \"\"}}, \"title\": {\"x\": 0.05}, \"xaxis\": {\"automargin\": true, \"gridcolor\": \"white\", \"linecolor\": \"white\", \"ticks\": \"\", \"title\": {\"standoff\": 15}, \"zerolinecolor\": \"white\", \"zerolinewidth\": 2}, \"yaxis\": {\"automargin\": true, \"gridcolor\": \"white\", \"linecolor\": \"white\", \"ticks\": \"\", \"title\": {\"standoff\": 15}, \"zerolinecolor\": \"white\", \"zerolinewidth\": 2}}}, \"title\": {\"text\": \"World Urban Population per Capita, 1990\"}},                        {\"responsive\": true}                    ).then(function(){\n",
       "                            \n",
       "var gd = document.getElementById('daa15400-fc46-492d-a17f-8af69f706b29');\n",
       "var x = new MutationObserver(function (mutations, observer) {{\n",
       "        var display = window.getComputedStyle(gd).display;\n",
       "        if (!display || display === 'none') {{\n",
       "            console.log([gd, 'removed!']);\n",
       "            Plotly.purge(gd);\n",
       "            observer.disconnect();\n",
       "        }}\n",
       "}});\n",
       "\n",
       "// Listen for the removal of the full notebook cells\n",
       "var notebookContainer = gd.closest('#notebook-container');\n",
       "if (notebookContainer) {{\n",
       "    x.observe(notebookContainer, {childList: true});\n",
       "}}\n",
       "\n",
       "// Listen for the clearing of the current output cell\n",
       "var outputEl = gd.closest('.output');\n",
       "if (outputEl) {{\n",
       "    x.observe(outputEl, {childList: true});\n",
       "}}\n",
       "\n",
       "                        })                };                });            </script>        </div>"
      ]
     },
     "metadata": {},
     "output_type": "display_data"
    }
   ],
   "source": [
    " data = dict(\n",
    "        type = 'choropleth',\n",
    "        colorscale = 'Viridis',\n",
    "        locations = gdf_populations['Country Name'],\n",
    "        locationmode = \"country names\",\n",
    "        z = gdf_populations['WUP_per_cap_1990'],\n",
    "        text = gdf_populations['Country Name'],\n",
    "        colorbar = {'title' : 'World Urban Population per Capita'},\n",
    "      )\n",
    "\n",
    "layout = dict(title = 'World Urban Population per Capita, 1990',\n",
    "              geo = dict(projection = {'type':'mercator'})\n",
    "             )\n",
    "\n",
    "choromap = go.Figure(data = [data],layout = layout)\n",
    "iplot(choromap,validate=False)"
   ]
  },
  {
   "cell_type": "markdown",
   "id": "a300a86b",
   "metadata": {},
   "source": [
    "Plot the world urban population per capita for 2000 and hover over the map to view thw WUP per capita for each country."
   ]
  },
  {
   "cell_type": "code",
   "execution_count": 20,
   "id": "e53228ca",
   "metadata": {
    "scrolled": true
   },
   "outputs": [
    {
     "data": {
      "application/vnd.plotly.v1+json": {
       "config": {
        "linkText": "Export to plot.ly",
        "plotlyServerURL": "https://plot.ly",
        "showLink": false
       },
       "data": [
        {
         "colorbar": {
          "title": {
           "text": "World Urban Population per Capita"
          }
         },
         "colorscale": [
          [
           0,
           "#440154"
          ],
          [
           0.1111111111111111,
           "#482878"
          ],
          [
           0.2222222222222222,
           "#3e4989"
          ],
          [
           0.3333333333333333,
           "#31688e"
          ],
          [
           0.4444444444444444,
           "#26828e"
          ],
          [
           0.5555555555555556,
           "#1f9e89"
          ],
          [
           0.6666666666666666,
           "#35b779"
          ],
          [
           0.7777777777777778,
           "#6ece58"
          ],
          [
           0.8888888888888888,
           "#b5de2b"
          ],
          [
           1,
           "#fde725"
          ]
         ],
         "locationmode": "country names",
         "locations": [
          "Aruba",
          "Afghanistan",
          "Angola",
          "Albania",
          "Andorra",
          "Arab World",
          "United Arab Emirates",
          "Argentina",
          "Armenia",
          "American Samoa",
          "Antigua and Barbuda",
          "Australia",
          "Austria",
          "Azerbaijan",
          "Burundi",
          "Belgium",
          "Benin",
          "Burkina Faso",
          "Bangladesh",
          "Bulgaria",
          "Bahrain",
          "Bahamas, The",
          "Bosnia and Herzegovina",
          "Belarus",
          "Belize",
          "Bermuda",
          "Bolivia",
          "Brazil",
          "Barbados",
          "Brunei Darussalam",
          "Bhutan",
          "Botswana",
          "Central African Republic",
          "Canada",
          "Switzerland",
          "Channel Islands",
          "Chile",
          "China",
          "Cote d'Ivoire",
          "Cameroon",
          "Colombia",
          "Comoros",
          "Cabo Verde",
          "Costa Rica",
          "Cuba",
          "Curacao",
          "Cayman Islands",
          "Cyprus",
          "Czech Republic",
          "Germany",
          "Djibouti",
          "Dominica",
          "Denmark",
          "Dominican Republic",
          "Algeria",
          "East Asia & Pacific",
          "Europe & Central Asia",
          "Ecuador",
          "Euro area",
          "Eritrea",
          "Spain",
          "Estonia",
          "Ethiopia",
          "European Union",
          "Finland",
          "Fiji",
          "France",
          "Faroe Islands",
          "Gabon",
          "United Kingdom",
          "Georgia",
          "Ghana",
          "Gibraltar",
          "Guinea",
          "Gambia, The",
          "Guinea-Bissau",
          "Equatorial Guinea",
          "Greece",
          "Grenada",
          "Greenland",
          "Guatemala",
          "Guam",
          "Guyana",
          "High income",
          "Hong Kong SAR, China",
          "Honduras",
          "Croatia",
          "Haiti",
          "Hungary",
          "IDA total",
          "IDA blend",
          "Indonesia",
          "IDA only",
          "Isle of Man",
          "India",
          "Ireland",
          "Iraq",
          "Iceland",
          "Israel",
          "Italy",
          "Jamaica",
          "Jordan",
          "Japan",
          "Kazakhstan",
          "Kenya",
          "Kyrgyz Republic",
          "Cambodia",
          "Kiribati",
          "St. Kitts and Nevis",
          "Kuwait",
          "Lao PDR",
          "Lebanon",
          "Liberia",
          "Libya",
          "St. Lucia",
          "Latin America & Caribbean",
          "Low income",
          "Liechtenstein",
          "Sri Lanka",
          "Lesotho",
          "Lithuania",
          "Luxembourg",
          "Latvia",
          "Macao SAR, China",
          "St. Martin (French part)",
          "Morocco",
          "Monaco",
          "Moldova",
          "Madagascar",
          "Maldives",
          "Middle East & North Africa",
          "Mexico",
          "Marshall Islands",
          "Middle income",
          "North Macedonia",
          "Mali",
          "Malta",
          "Myanmar",
          "Montenegro",
          "Mongolia",
          "Northern Mariana Islands",
          "Mozambique",
          "Mauritania",
          "Mauritius",
          "Malawi",
          "Malaysia",
          "North America",
          "Namibia",
          "New Caledonia",
          "Niger",
          "Nigeria",
          "Nicaragua",
          "Netherlands",
          "Norway",
          "Nepal",
          "Nauru",
          "New Zealand",
          "Oman",
          "Pakistan",
          "Panama",
          "Peru",
          "Philippines",
          "Palau",
          "Papua New Guinea",
          "Poland",
          "Puerto Rico",
          "Portugal",
          "Paraguay",
          "West Bank and Gaza",
          "French Polynesia",
          "Qatar",
          "Romania",
          "Russian Federation",
          "Rwanda",
          "South Asia",
          "Saudi Arabia",
          "Sudan",
          "Senegal",
          "Singapore",
          "Solomon Islands",
          "Sierra Leone",
          "El Salvador",
          "San Marino",
          "Somalia",
          "Serbia",
          "South Sudan",
          "Small states",
          "Sao Tome and Principe",
          "Suriname",
          "Slovak Republic",
          "Slovenia",
          "Sweden",
          "Eswatini",
          "Sint Maarten (Dutch part)",
          "Seychelles",
          "Syrian Arab Republic",
          "Turks and Caicos Islands",
          "Chad",
          "Togo",
          "Thailand",
          "Tajikistan",
          "Turkmenistan",
          "Timor-Leste",
          "Tonga",
          "Trinidad and Tobago",
          "Tunisia",
          "Turkey",
          "Tuvalu",
          "Tanzania",
          "Uganda",
          "Ukraine",
          "Uruguay",
          "United States",
          "Uzbekistan",
          "St. Vincent and the Grenadines",
          "Venezuela, RB",
          "British Virgin Islands",
          "Virgin Islands (U.S.)",
          "Vietnam",
          "Vanuatu",
          "World",
          "Samoa",
          "Kosovo",
          "South Africa",
          "Zambia",
          "Zimbabwe"
         ],
         "text": [
          "Aruba",
          "Afghanistan",
          "Angola",
          "Albania",
          "Andorra",
          "Arab World",
          "United Arab Emirates",
          "Argentina",
          "Armenia",
          "American Samoa",
          "Antigua and Barbuda",
          "Australia",
          "Austria",
          "Azerbaijan",
          "Burundi",
          "Belgium",
          "Benin",
          "Burkina Faso",
          "Bangladesh",
          "Bulgaria",
          "Bahrain",
          "Bahamas, The",
          "Bosnia and Herzegovina",
          "Belarus",
          "Belize",
          "Bermuda",
          "Bolivia",
          "Brazil",
          "Barbados",
          "Brunei Darussalam",
          "Bhutan",
          "Botswana",
          "Central African Republic",
          "Canada",
          "Switzerland",
          "Channel Islands",
          "Chile",
          "China",
          "Cote d'Ivoire",
          "Cameroon",
          "Colombia",
          "Comoros",
          "Cabo Verde",
          "Costa Rica",
          "Cuba",
          "Curacao",
          "Cayman Islands",
          "Cyprus",
          "Czech Republic",
          "Germany",
          "Djibouti",
          "Dominica",
          "Denmark",
          "Dominican Republic",
          "Algeria",
          "East Asia & Pacific",
          "Europe & Central Asia",
          "Ecuador",
          "Euro area",
          "Eritrea",
          "Spain",
          "Estonia",
          "Ethiopia",
          "European Union",
          "Finland",
          "Fiji",
          "France",
          "Faroe Islands",
          "Gabon",
          "United Kingdom",
          "Georgia",
          "Ghana",
          "Gibraltar",
          "Guinea",
          "Gambia, The",
          "Guinea-Bissau",
          "Equatorial Guinea",
          "Greece",
          "Grenada",
          "Greenland",
          "Guatemala",
          "Guam",
          "Guyana",
          "High income",
          "Hong Kong SAR, China",
          "Honduras",
          "Croatia",
          "Haiti",
          "Hungary",
          "IDA total",
          "IDA blend",
          "Indonesia",
          "IDA only",
          "Isle of Man",
          "India",
          "Ireland",
          "Iraq",
          "Iceland",
          "Israel",
          "Italy",
          "Jamaica",
          "Jordan",
          "Japan",
          "Kazakhstan",
          "Kenya",
          "Kyrgyz Republic",
          "Cambodia",
          "Kiribati",
          "St. Kitts and Nevis",
          "Kuwait",
          "Lao PDR",
          "Lebanon",
          "Liberia",
          "Libya",
          "St. Lucia",
          "Latin America & Caribbean",
          "Low income",
          "Liechtenstein",
          "Sri Lanka",
          "Lesotho",
          "Lithuania",
          "Luxembourg",
          "Latvia",
          "Macao SAR, China",
          "St. Martin (French part)",
          "Morocco",
          "Monaco",
          "Moldova",
          "Madagascar",
          "Maldives",
          "Middle East & North Africa",
          "Mexico",
          "Marshall Islands",
          "Middle income",
          "North Macedonia",
          "Mali",
          "Malta",
          "Myanmar",
          "Montenegro",
          "Mongolia",
          "Northern Mariana Islands",
          "Mozambique",
          "Mauritania",
          "Mauritius",
          "Malawi",
          "Malaysia",
          "North America",
          "Namibia",
          "New Caledonia",
          "Niger",
          "Nigeria",
          "Nicaragua",
          "Netherlands",
          "Norway",
          "Nepal",
          "Nauru",
          "New Zealand",
          "Oman",
          "Pakistan",
          "Panama",
          "Peru",
          "Philippines",
          "Palau",
          "Papua New Guinea",
          "Poland",
          "Puerto Rico",
          "Portugal",
          "Paraguay",
          "West Bank and Gaza",
          "French Polynesia",
          "Qatar",
          "Romania",
          "Russian Federation",
          "Rwanda",
          "South Asia",
          "Saudi Arabia",
          "Sudan",
          "Senegal",
          "Singapore",
          "Solomon Islands",
          "Sierra Leone",
          "El Salvador",
          "San Marino",
          "Somalia",
          "Serbia",
          "South Sudan",
          "Small states",
          "Sao Tome and Principe",
          "Suriname",
          "Slovak Republic",
          "Slovenia",
          "Sweden",
          "Eswatini",
          "Sint Maarten (Dutch part)",
          "Seychelles",
          "Syrian Arab Republic",
          "Turks and Caicos Islands",
          "Chad",
          "Togo",
          "Thailand",
          "Tajikistan",
          "Turkmenistan",
          "Timor-Leste",
          "Tonga",
          "Trinidad and Tobago",
          "Tunisia",
          "Turkey",
          "Tuvalu",
          "Tanzania",
          "Uganda",
          "Ukraine",
          "Uruguay",
          "United States",
          "Uzbekistan",
          "St. Vincent and the Grenadines",
          "Venezuela, RB",
          "British Virgin Islands",
          "Virgin Islands (U.S.)",
          "Vietnam",
          "Vanuatu",
          "World",
          "Samoa",
          "Kosovo",
          "South Africa",
          "Zambia",
          "Zimbabwe"
         ],
         "type": "choropleth",
         "z": [
          0.4671722452753349,
          0.22077999887680208,
          0.5008700267445776,
          0.41741007767170696,
          0.9239486159963297,
          0.5298930219748768,
          0.8023600043649424,
          0.8914200014228066,
          0.6466600925009227,
          0.8858719150481659,
          0.32127446853294045,
          0.8423500234950139,
          0.6021299705950123,
          0.513860050195065,
          0.08246004661326432,
          0.9712900378002682,
          0.38333000046169863,
          0.17843998531350347,
          0.23590000189099214,
          0.6889900237106391,
          0.8837199504672658,
          0.8200710616639434,
          0.4238398838124364,
          0.6997300495710754,
          0.45397974243373834,
          1,
          0.6178700264092454,
          0.8119200008421518,
          0.33826860394453345,
          0.7116413788963426,
          0.2541804775126434,
          0.5321900477930841,
          0.3763899125020224,
          0.7947799840512186,
          0.7338299752931761,
          0.3046489224820301,
          0.8607299675610384,
          0.3587700002771959,
          0.4315500014950165,
          0.4554200108354129,
          0.7395699385878889,
          0.2808002846833359,
          0.534349397928013,
          0.5905200218455007,
          0.7532300117827551,
          0.907522784999253,
          1,
          0.686480297681519,
          0.7398799987869407,
          0.7496500003381522,
          0.7653194608575442,
          0.6526489590811199,
          0.8509999595476528,
          0.6175300168651383,
          0.5991900067762518,
          0.4142075636876111,
          0.6860585223817742,
          0.6029899717871989,
          0.7294216676339389,
          0.2658701562020157,
          0.7626199890632644,
          0.6936803186863137,
          0.14739999834503095,
          0.7082571158824016,
          0.8218300304334697,
          0.4790803027351216,
          0.7587100020521239,
          0.36336792553760566,
          0.7887899312905011,
          0.7865099968393267,
          0.5263799470755294,
          0.4392900180384147,
          1,
          0.308690006831919,
          0.4786799453291068,
          0.3624303983764269,
          0.4909193788653884,
          0.7271599680468134,
          0.35697684595411977,
          0.8159964412811388,
          0.4533199606100592,
          0.9312877827063845,
          0.28693946150807204,
          0.7615226795311864,
          1,
          0.4545799541836508,
          0.534279912145598,
          0.35600000756161,
          0.6457500466899769,
          0.2890780813060732,
          0.3386437492212084,
          0.42002000030040587,
          0.2642140959841255,
          0.5182282528170936,
          0.27666999986576446,
          0.591550084174863,
          0.6849600075922696,
          0.9240091748013015,
          0.9120300524725712,
          0.6722200028140862,
          0.5181400843258808,
          0.7826999470765504,
          0.7864899994481367,
          0.560980032688271,
          0.19892001005989227,
          0.35297995263759596,
          0.1858600229909095,
          0.4295819707095123,
          0.32785769387847713,
          0.9900001124626734,
          0.2197700847155174,
          0.8599999791817274,
          0.44330998969266155,
          0.763869963013432,
          0.27774055854372837,
          0.7547403223279483,
          0.27453660115022493,
          0.15130785920925746,
          0.18379999660233487,
          0.19548023321481067,
          0.6698599471472789,
          0.8421590648636259,
          0.6806698908153999,
          1,
          null,
          0.5333500106047581,
          1,
          0.4458901361694763,
          0.27120997112541373,
          0.277059964638258,
          0.5859567452371421,
          0.7472199981708768,
          0.6857919728883022,
          0.41309832757498166,
          0.5854800844694295,
          0.28356000509754536,
          0.9236811275433429,
          0.2702499958208209,
          0.5854401190181007,
          0.5713300726031089,
          0.901519502898021,
          0.29098002718732974,
          0.38091010672495335,
          0.4267002450978327,
          0.14610004091935622,
          0.6197700146204296,
          0.7910242388118954,
          0.32372973819369644,
          0.619190545420438,
          0.16186001623607418,
          0.34839999721958376,
          0.5518499391040423,
          0.7679500183133818,
          0.7601999747493134,
          0.13397002060472551,
          1,
          0.8602099696710476,
          0.7156901779694909,
          0.32982000073090756,
          0.6219798648859134,
          0.7304199887951388,
          0.46134999782989883,
          0.7033760795603246,
          0.13203995631701698,
          0.6171599876200478,
          0.9438700678763609,
          0.5439900376077585,
          0.5533099351311364,
          0.7196898998786169,
          0.560468826603957,
          0.9631102439287861,
          0.5300399844566034,
          0.7334999971929823,
          0.14925997150629072,
          0.27381302687233455,
          0.7984799826440803,
          0.3249499954445488,
          0.40319996439993167,
          1,
          0.15813017980904376,
          0.35625994231521335,
          0.5891200244024392,
          0.934382055203554,
          0.33246996760913294,
          0.5276900504580284,
          0.1650400022969987,
          0.48895648012322923,
          0.5342396423500302,
          0.6644328791440262,
          0.5623300152912009,
          0.507540002765313,
          0.8402599652461439,
          0.22686001581405063,
          1,
          0.5043324992912697,
          0.5194699871694626,
          0.8455167625471137,
          0.2163700172362331,
          0.3290700068759618,
          0.3138599965351732,
          0.2650100758629554,
          0.4591299680500995,
          0.24263031369365173,
          0.23012462617251692,
          0.5590500910308385,
          0.6343200440857613,
          0.6474100000388993,
          0.4601873536299766,
          0.22308999802383223,
          0.14785998173713072,
          0.6714500015251187,
          0.9202801066108871,
          0.7905699990634117,
          0.46126002012137735,
          0.45185741854078526,
          0.875590008550603,
          0.41775392644379894,
          0.9258574032142265,
          0.24374000224151016,
          0.216730099690764,
          0.466761204464526,
          0.21977140105701215,
          null,
          0.5689100053754129,
          0.3480200162366464,
          0.33757999952362827
         ]
        }
       ],
       "layout": {
        "geo": {
         "projection": {
          "type": "mercator"
         }
        },
        "template": {
         "data": {
          "bar": [
           {
            "error_x": {
             "color": "#2a3f5f"
            },
            "error_y": {
             "color": "#2a3f5f"
            },
            "marker": {
             "line": {
              "color": "#E5ECF6",
              "width": 0.5
             }
            },
            "type": "bar"
           }
          ],
          "barpolar": [
           {
            "marker": {
             "line": {
              "color": "#E5ECF6",
              "width": 0.5
             }
            },
            "type": "barpolar"
           }
          ],
          "carpet": [
           {
            "aaxis": {
             "endlinecolor": "#2a3f5f",
             "gridcolor": "white",
             "linecolor": "white",
             "minorgridcolor": "white",
             "startlinecolor": "#2a3f5f"
            },
            "baxis": {
             "endlinecolor": "#2a3f5f",
             "gridcolor": "white",
             "linecolor": "white",
             "minorgridcolor": "white",
             "startlinecolor": "#2a3f5f"
            },
            "type": "carpet"
           }
          ],
          "choropleth": [
           {
            "colorbar": {
             "outlinewidth": 0,
             "ticks": ""
            },
            "type": "choropleth"
           }
          ],
          "contour": [
           {
            "colorbar": {
             "outlinewidth": 0,
             "ticks": ""
            },
            "colorscale": [
             [
              0,
              "#0d0887"
             ],
             [
              0.1111111111111111,
              "#46039f"
             ],
             [
              0.2222222222222222,
              "#7201a8"
             ],
             [
              0.3333333333333333,
              "#9c179e"
             ],
             [
              0.4444444444444444,
              "#bd3786"
             ],
             [
              0.5555555555555556,
              "#d8576b"
             ],
             [
              0.6666666666666666,
              "#ed7953"
             ],
             [
              0.7777777777777778,
              "#fb9f3a"
             ],
             [
              0.8888888888888888,
              "#fdca26"
             ],
             [
              1,
              "#f0f921"
             ]
            ],
            "type": "contour"
           }
          ],
          "contourcarpet": [
           {
            "colorbar": {
             "outlinewidth": 0,
             "ticks": ""
            },
            "type": "contourcarpet"
           }
          ],
          "heatmap": [
           {
            "colorbar": {
             "outlinewidth": 0,
             "ticks": ""
            },
            "colorscale": [
             [
              0,
              "#0d0887"
             ],
             [
              0.1111111111111111,
              "#46039f"
             ],
             [
              0.2222222222222222,
              "#7201a8"
             ],
             [
              0.3333333333333333,
              "#9c179e"
             ],
             [
              0.4444444444444444,
              "#bd3786"
             ],
             [
              0.5555555555555556,
              "#d8576b"
             ],
             [
              0.6666666666666666,
              "#ed7953"
             ],
             [
              0.7777777777777778,
              "#fb9f3a"
             ],
             [
              0.8888888888888888,
              "#fdca26"
             ],
             [
              1,
              "#f0f921"
             ]
            ],
            "type": "heatmap"
           }
          ],
          "heatmapgl": [
           {
            "colorbar": {
             "outlinewidth": 0,
             "ticks": ""
            },
            "colorscale": [
             [
              0,
              "#0d0887"
             ],
             [
              0.1111111111111111,
              "#46039f"
             ],
             [
              0.2222222222222222,
              "#7201a8"
             ],
             [
              0.3333333333333333,
              "#9c179e"
             ],
             [
              0.4444444444444444,
              "#bd3786"
             ],
             [
              0.5555555555555556,
              "#d8576b"
             ],
             [
              0.6666666666666666,
              "#ed7953"
             ],
             [
              0.7777777777777778,
              "#fb9f3a"
             ],
             [
              0.8888888888888888,
              "#fdca26"
             ],
             [
              1,
              "#f0f921"
             ]
            ],
            "type": "heatmapgl"
           }
          ],
          "histogram": [
           {
            "marker": {
             "colorbar": {
              "outlinewidth": 0,
              "ticks": ""
             }
            },
            "type": "histogram"
           }
          ],
          "histogram2d": [
           {
            "colorbar": {
             "outlinewidth": 0,
             "ticks": ""
            },
            "colorscale": [
             [
              0,
              "#0d0887"
             ],
             [
              0.1111111111111111,
              "#46039f"
             ],
             [
              0.2222222222222222,
              "#7201a8"
             ],
             [
              0.3333333333333333,
              "#9c179e"
             ],
             [
              0.4444444444444444,
              "#bd3786"
             ],
             [
              0.5555555555555556,
              "#d8576b"
             ],
             [
              0.6666666666666666,
              "#ed7953"
             ],
             [
              0.7777777777777778,
              "#fb9f3a"
             ],
             [
              0.8888888888888888,
              "#fdca26"
             ],
             [
              1,
              "#f0f921"
             ]
            ],
            "type": "histogram2d"
           }
          ],
          "histogram2dcontour": [
           {
            "colorbar": {
             "outlinewidth": 0,
             "ticks": ""
            },
            "colorscale": [
             [
              0,
              "#0d0887"
             ],
             [
              0.1111111111111111,
              "#46039f"
             ],
             [
              0.2222222222222222,
              "#7201a8"
             ],
             [
              0.3333333333333333,
              "#9c179e"
             ],
             [
              0.4444444444444444,
              "#bd3786"
             ],
             [
              0.5555555555555556,
              "#d8576b"
             ],
             [
              0.6666666666666666,
              "#ed7953"
             ],
             [
              0.7777777777777778,
              "#fb9f3a"
             ],
             [
              0.8888888888888888,
              "#fdca26"
             ],
             [
              1,
              "#f0f921"
             ]
            ],
            "type": "histogram2dcontour"
           }
          ],
          "mesh3d": [
           {
            "colorbar": {
             "outlinewidth": 0,
             "ticks": ""
            },
            "type": "mesh3d"
           }
          ],
          "parcoords": [
           {
            "line": {
             "colorbar": {
              "outlinewidth": 0,
              "ticks": ""
             }
            },
            "type": "parcoords"
           }
          ],
          "pie": [
           {
            "automargin": true,
            "type": "pie"
           }
          ],
          "scatter": [
           {
            "marker": {
             "colorbar": {
              "outlinewidth": 0,
              "ticks": ""
             }
            },
            "type": "scatter"
           }
          ],
          "scatter3d": [
           {
            "line": {
             "colorbar": {
              "outlinewidth": 0,
              "ticks": ""
             }
            },
            "marker": {
             "colorbar": {
              "outlinewidth": 0,
              "ticks": ""
             }
            },
            "type": "scatter3d"
           }
          ],
          "scattercarpet": [
           {
            "marker": {
             "colorbar": {
              "outlinewidth": 0,
              "ticks": ""
             }
            },
            "type": "scattercarpet"
           }
          ],
          "scattergeo": [
           {
            "marker": {
             "colorbar": {
              "outlinewidth": 0,
              "ticks": ""
             }
            },
            "type": "scattergeo"
           }
          ],
          "scattergl": [
           {
            "marker": {
             "colorbar": {
              "outlinewidth": 0,
              "ticks": ""
             }
            },
            "type": "scattergl"
           }
          ],
          "scattermapbox": [
           {
            "marker": {
             "colorbar": {
              "outlinewidth": 0,
              "ticks": ""
             }
            },
            "type": "scattermapbox"
           }
          ],
          "scatterpolar": [
           {
            "marker": {
             "colorbar": {
              "outlinewidth": 0,
              "ticks": ""
             }
            },
            "type": "scatterpolar"
           }
          ],
          "scatterpolargl": [
           {
            "marker": {
             "colorbar": {
              "outlinewidth": 0,
              "ticks": ""
             }
            },
            "type": "scatterpolargl"
           }
          ],
          "scatterternary": [
           {
            "marker": {
             "colorbar": {
              "outlinewidth": 0,
              "ticks": ""
             }
            },
            "type": "scatterternary"
           }
          ],
          "surface": [
           {
            "colorbar": {
             "outlinewidth": 0,
             "ticks": ""
            },
            "colorscale": [
             [
              0,
              "#0d0887"
             ],
             [
              0.1111111111111111,
              "#46039f"
             ],
             [
              0.2222222222222222,
              "#7201a8"
             ],
             [
              0.3333333333333333,
              "#9c179e"
             ],
             [
              0.4444444444444444,
              "#bd3786"
             ],
             [
              0.5555555555555556,
              "#d8576b"
             ],
             [
              0.6666666666666666,
              "#ed7953"
             ],
             [
              0.7777777777777778,
              "#fb9f3a"
             ],
             [
              0.8888888888888888,
              "#fdca26"
             ],
             [
              1,
              "#f0f921"
             ]
            ],
            "type": "surface"
           }
          ],
          "table": [
           {
            "cells": {
             "fill": {
              "color": "#EBF0F8"
             },
             "line": {
              "color": "white"
             }
            },
            "header": {
             "fill": {
              "color": "#C8D4E3"
             },
             "line": {
              "color": "white"
             }
            },
            "type": "table"
           }
          ]
         },
         "layout": {
          "annotationdefaults": {
           "arrowcolor": "#2a3f5f",
           "arrowhead": 0,
           "arrowwidth": 1
          },
          "autotypenumbers": "strict",
          "coloraxis": {
           "colorbar": {
            "outlinewidth": 0,
            "ticks": ""
           }
          },
          "colorscale": {
           "diverging": [
            [
             0,
             "#8e0152"
            ],
            [
             0.1,
             "#c51b7d"
            ],
            [
             0.2,
             "#de77ae"
            ],
            [
             0.3,
             "#f1b6da"
            ],
            [
             0.4,
             "#fde0ef"
            ],
            [
             0.5,
             "#f7f7f7"
            ],
            [
             0.6,
             "#e6f5d0"
            ],
            [
             0.7,
             "#b8e186"
            ],
            [
             0.8,
             "#7fbc41"
            ],
            [
             0.9,
             "#4d9221"
            ],
            [
             1,
             "#276419"
            ]
           ],
           "sequential": [
            [
             0,
             "#0d0887"
            ],
            [
             0.1111111111111111,
             "#46039f"
            ],
            [
             0.2222222222222222,
             "#7201a8"
            ],
            [
             0.3333333333333333,
             "#9c179e"
            ],
            [
             0.4444444444444444,
             "#bd3786"
            ],
            [
             0.5555555555555556,
             "#d8576b"
            ],
            [
             0.6666666666666666,
             "#ed7953"
            ],
            [
             0.7777777777777778,
             "#fb9f3a"
            ],
            [
             0.8888888888888888,
             "#fdca26"
            ],
            [
             1,
             "#f0f921"
            ]
           ],
           "sequentialminus": [
            [
             0,
             "#0d0887"
            ],
            [
             0.1111111111111111,
             "#46039f"
            ],
            [
             0.2222222222222222,
             "#7201a8"
            ],
            [
             0.3333333333333333,
             "#9c179e"
            ],
            [
             0.4444444444444444,
             "#bd3786"
            ],
            [
             0.5555555555555556,
             "#d8576b"
            ],
            [
             0.6666666666666666,
             "#ed7953"
            ],
            [
             0.7777777777777778,
             "#fb9f3a"
            ],
            [
             0.8888888888888888,
             "#fdca26"
            ],
            [
             1,
             "#f0f921"
            ]
           ]
          },
          "colorway": [
           "#636efa",
           "#EF553B",
           "#00cc96",
           "#ab63fa",
           "#FFA15A",
           "#19d3f3",
           "#FF6692",
           "#B6E880",
           "#FF97FF",
           "#FECB52"
          ],
          "font": {
           "color": "#2a3f5f"
          },
          "geo": {
           "bgcolor": "white",
           "lakecolor": "white",
           "landcolor": "#E5ECF6",
           "showlakes": true,
           "showland": true,
           "subunitcolor": "white"
          },
          "hoverlabel": {
           "align": "left"
          },
          "hovermode": "closest",
          "mapbox": {
           "style": "light"
          },
          "paper_bgcolor": "white",
          "plot_bgcolor": "#E5ECF6",
          "polar": {
           "angularaxis": {
            "gridcolor": "white",
            "linecolor": "white",
            "ticks": ""
           },
           "bgcolor": "#E5ECF6",
           "radialaxis": {
            "gridcolor": "white",
            "linecolor": "white",
            "ticks": ""
           }
          },
          "scene": {
           "xaxis": {
            "backgroundcolor": "#E5ECF6",
            "gridcolor": "white",
            "gridwidth": 2,
            "linecolor": "white",
            "showbackground": true,
            "ticks": "",
            "zerolinecolor": "white"
           },
           "yaxis": {
            "backgroundcolor": "#E5ECF6",
            "gridcolor": "white",
            "gridwidth": 2,
            "linecolor": "white",
            "showbackground": true,
            "ticks": "",
            "zerolinecolor": "white"
           },
           "zaxis": {
            "backgroundcolor": "#E5ECF6",
            "gridcolor": "white",
            "gridwidth": 2,
            "linecolor": "white",
            "showbackground": true,
            "ticks": "",
            "zerolinecolor": "white"
           }
          },
          "shapedefaults": {
           "line": {
            "color": "#2a3f5f"
           }
          },
          "ternary": {
           "aaxis": {
            "gridcolor": "white",
            "linecolor": "white",
            "ticks": ""
           },
           "baxis": {
            "gridcolor": "white",
            "linecolor": "white",
            "ticks": ""
           },
           "bgcolor": "#E5ECF6",
           "caxis": {
            "gridcolor": "white",
            "linecolor": "white",
            "ticks": ""
           }
          },
          "title": {
           "x": 0.05
          },
          "xaxis": {
           "automargin": true,
           "gridcolor": "white",
           "linecolor": "white",
           "ticks": "",
           "title": {
            "standoff": 15
           },
           "zerolinecolor": "white",
           "zerolinewidth": 2
          },
          "yaxis": {
           "automargin": true,
           "gridcolor": "white",
           "linecolor": "white",
           "ticks": "",
           "title": {
            "standoff": 15
           },
           "zerolinecolor": "white",
           "zerolinewidth": 2
          }
         }
        },
        "title": {
         "text": "World Urban Population per Capita, 2000"
        }
       }
      },
      "text/html": [
       "<div>                            <div id=\"a4e08909-5dc9-4891-8c5d-b5b406f7810d\" class=\"plotly-graph-div\" style=\"height:525px; width:100%;\"></div>            <script type=\"text/javascript\">                require([\"plotly\"], function(Plotly) {                    window.PLOTLYENV=window.PLOTLYENV || {};                                    if (document.getElementById(\"a4e08909-5dc9-4891-8c5d-b5b406f7810d\")) {                    Plotly.newPlot(                        \"a4e08909-5dc9-4891-8c5d-b5b406f7810d\",                        [{\"colorbar\": {\"title\": {\"text\": \"World Urban Population per Capita\"}}, \"colorscale\": [[0.0, \"#440154\"], [0.1111111111111111, \"#482878\"], [0.2222222222222222, \"#3e4989\"], [0.3333333333333333, \"#31688e\"], [0.4444444444444444, \"#26828e\"], [0.5555555555555556, \"#1f9e89\"], [0.6666666666666666, \"#35b779\"], [0.7777777777777778, \"#6ece58\"], [0.8888888888888888, \"#b5de2b\"], [1.0, \"#fde725\"]], \"locationmode\": \"country names\", \"locations\": [\"Aruba\", \"Afghanistan\", \"Angola\", \"Albania\", \"Andorra\", \"Arab World\", \"United Arab Emirates\", \"Argentina\", \"Armenia\", \"American Samoa\", \"Antigua and Barbuda\", \"Australia\", \"Austria\", \"Azerbaijan\", \"Burundi\", \"Belgium\", \"Benin\", \"Burkina Faso\", \"Bangladesh\", \"Bulgaria\", \"Bahrain\", \"Bahamas, The\", \"Bosnia and Herzegovina\", \"Belarus\", \"Belize\", \"Bermuda\", \"Bolivia\", \"Brazil\", \"Barbados\", \"Brunei Darussalam\", \"Bhutan\", \"Botswana\", \"Central African Republic\", \"Canada\", \"Switzerland\", \"Channel Islands\", \"Chile\", \"China\", \"Cote d'Ivoire\", \"Cameroon\", \"Colombia\", \"Comoros\", \"Cabo Verde\", \"Costa Rica\", \"Cuba\", \"Curacao\", \"Cayman Islands\", \"Cyprus\", \"Czech Republic\", \"Germany\", \"Djibouti\", \"Dominica\", \"Denmark\", \"Dominican Republic\", \"Algeria\", \"East Asia & Pacific\", \"Europe & Central Asia\", \"Ecuador\", \"Euro area\", \"Eritrea\", \"Spain\", \"Estonia\", \"Ethiopia\", \"European Union\", \"Finland\", \"Fiji\", \"France\", \"Faroe Islands\", \"Gabon\", \"United Kingdom\", \"Georgia\", \"Ghana\", \"Gibraltar\", \"Guinea\", \"Gambia, The\", \"Guinea-Bissau\", \"Equatorial Guinea\", \"Greece\", \"Grenada\", \"Greenland\", \"Guatemala\", \"Guam\", \"Guyana\", \"High income\", \"Hong Kong SAR, China\", \"Honduras\", \"Croatia\", \"Haiti\", \"Hungary\", \"IDA total\", \"IDA blend\", \"Indonesia\", \"IDA only\", \"Isle of Man\", \"India\", \"Ireland\", \"Iraq\", \"Iceland\", \"Israel\", \"Italy\", \"Jamaica\", \"Jordan\", \"Japan\", \"Kazakhstan\", \"Kenya\", \"Kyrgyz Republic\", \"Cambodia\", \"Kiribati\", \"St. Kitts and Nevis\", \"Kuwait\", \"Lao PDR\", \"Lebanon\", \"Liberia\", \"Libya\", \"St. Lucia\", \"Latin America & Caribbean\", \"Low income\", \"Liechtenstein\", \"Sri Lanka\", \"Lesotho\", \"Lithuania\", \"Luxembourg\", \"Latvia\", \"Macao SAR, China\", \"St. Martin (French part)\", \"Morocco\", \"Monaco\", \"Moldova\", \"Madagascar\", \"Maldives\", \"Middle East & North Africa\", \"Mexico\", \"Marshall Islands\", \"Middle income\", \"North Macedonia\", \"Mali\", \"Malta\", \"Myanmar\", \"Montenegro\", \"Mongolia\", \"Northern Mariana Islands\", \"Mozambique\", \"Mauritania\", \"Mauritius\", \"Malawi\", \"Malaysia\", \"North America\", \"Namibia\", \"New Caledonia\", \"Niger\", \"Nigeria\", \"Nicaragua\", \"Netherlands\", \"Norway\", \"Nepal\", \"Nauru\", \"New Zealand\", \"Oman\", \"Pakistan\", \"Panama\", \"Peru\", \"Philippines\", \"Palau\", \"Papua New Guinea\", \"Poland\", \"Puerto Rico\", \"Portugal\", \"Paraguay\", \"West Bank and Gaza\", \"French Polynesia\", \"Qatar\", \"Romania\", \"Russian Federation\", \"Rwanda\", \"South Asia\", \"Saudi Arabia\", \"Sudan\", \"Senegal\", \"Singapore\", \"Solomon Islands\", \"Sierra Leone\", \"El Salvador\", \"San Marino\", \"Somalia\", \"Serbia\", \"South Sudan\", \"Small states\", \"Sao Tome and Principe\", \"Suriname\", \"Slovak Republic\", \"Slovenia\", \"Sweden\", \"Eswatini\", \"Sint Maarten (Dutch part)\", \"Seychelles\", \"Syrian Arab Republic\", \"Turks and Caicos Islands\", \"Chad\", \"Togo\", \"Thailand\", \"Tajikistan\", \"Turkmenistan\", \"Timor-Leste\", \"Tonga\", \"Trinidad and Tobago\", \"Tunisia\", \"Turkey\", \"Tuvalu\", \"Tanzania\", \"Uganda\", \"Ukraine\", \"Uruguay\", \"United States\", \"Uzbekistan\", \"St. Vincent and the Grenadines\", \"Venezuela, RB\", \"British Virgin Islands\", \"Virgin Islands (U.S.)\", \"Vietnam\", \"Vanuatu\", \"World\", \"Samoa\", \"Kosovo\", \"South Africa\", \"Zambia\", \"Zimbabwe\"], \"text\": [\"Aruba\", \"Afghanistan\", \"Angola\", \"Albania\", \"Andorra\", \"Arab World\", \"United Arab Emirates\", \"Argentina\", \"Armenia\", \"American Samoa\", \"Antigua and Barbuda\", \"Australia\", \"Austria\", \"Azerbaijan\", \"Burundi\", \"Belgium\", \"Benin\", \"Burkina Faso\", \"Bangladesh\", \"Bulgaria\", \"Bahrain\", \"Bahamas, The\", \"Bosnia and Herzegovina\", \"Belarus\", \"Belize\", \"Bermuda\", \"Bolivia\", \"Brazil\", \"Barbados\", \"Brunei Darussalam\", \"Bhutan\", \"Botswana\", \"Central African Republic\", \"Canada\", \"Switzerland\", \"Channel Islands\", \"Chile\", \"China\", \"Cote d'Ivoire\", \"Cameroon\", \"Colombia\", \"Comoros\", \"Cabo Verde\", \"Costa Rica\", \"Cuba\", \"Curacao\", \"Cayman Islands\", \"Cyprus\", \"Czech Republic\", \"Germany\", \"Djibouti\", \"Dominica\", \"Denmark\", \"Dominican Republic\", \"Algeria\", \"East Asia & Pacific\", \"Europe & Central Asia\", \"Ecuador\", \"Euro area\", \"Eritrea\", \"Spain\", \"Estonia\", \"Ethiopia\", \"European Union\", \"Finland\", \"Fiji\", \"France\", \"Faroe Islands\", \"Gabon\", \"United Kingdom\", \"Georgia\", \"Ghana\", \"Gibraltar\", \"Guinea\", \"Gambia, The\", \"Guinea-Bissau\", \"Equatorial Guinea\", \"Greece\", \"Grenada\", \"Greenland\", \"Guatemala\", \"Guam\", \"Guyana\", \"High income\", \"Hong Kong SAR, China\", \"Honduras\", \"Croatia\", \"Haiti\", \"Hungary\", \"IDA total\", \"IDA blend\", \"Indonesia\", \"IDA only\", \"Isle of Man\", \"India\", \"Ireland\", \"Iraq\", \"Iceland\", \"Israel\", \"Italy\", \"Jamaica\", \"Jordan\", \"Japan\", \"Kazakhstan\", \"Kenya\", \"Kyrgyz Republic\", \"Cambodia\", \"Kiribati\", \"St. Kitts and Nevis\", \"Kuwait\", \"Lao PDR\", \"Lebanon\", \"Liberia\", \"Libya\", \"St. Lucia\", \"Latin America & Caribbean\", \"Low income\", \"Liechtenstein\", \"Sri Lanka\", \"Lesotho\", \"Lithuania\", \"Luxembourg\", \"Latvia\", \"Macao SAR, China\", \"St. Martin (French part)\", \"Morocco\", \"Monaco\", \"Moldova\", \"Madagascar\", \"Maldives\", \"Middle East & North Africa\", \"Mexico\", \"Marshall Islands\", \"Middle income\", \"North Macedonia\", \"Mali\", \"Malta\", \"Myanmar\", \"Montenegro\", \"Mongolia\", \"Northern Mariana Islands\", \"Mozambique\", \"Mauritania\", \"Mauritius\", \"Malawi\", \"Malaysia\", \"North America\", \"Namibia\", \"New Caledonia\", \"Niger\", \"Nigeria\", \"Nicaragua\", \"Netherlands\", \"Norway\", \"Nepal\", \"Nauru\", \"New Zealand\", \"Oman\", \"Pakistan\", \"Panama\", \"Peru\", \"Philippines\", \"Palau\", \"Papua New Guinea\", \"Poland\", \"Puerto Rico\", \"Portugal\", \"Paraguay\", \"West Bank and Gaza\", \"French Polynesia\", \"Qatar\", \"Romania\", \"Russian Federation\", \"Rwanda\", \"South Asia\", \"Saudi Arabia\", \"Sudan\", \"Senegal\", \"Singapore\", \"Solomon Islands\", \"Sierra Leone\", \"El Salvador\", \"San Marino\", \"Somalia\", \"Serbia\", \"South Sudan\", \"Small states\", \"Sao Tome and Principe\", \"Suriname\", \"Slovak Republic\", \"Slovenia\", \"Sweden\", \"Eswatini\", \"Sint Maarten (Dutch part)\", \"Seychelles\", \"Syrian Arab Republic\", \"Turks and Caicos Islands\", \"Chad\", \"Togo\", \"Thailand\", \"Tajikistan\", \"Turkmenistan\", \"Timor-Leste\", \"Tonga\", \"Trinidad and Tobago\", \"Tunisia\", \"Turkey\", \"Tuvalu\", \"Tanzania\", \"Uganda\", \"Ukraine\", \"Uruguay\", \"United States\", \"Uzbekistan\", \"St. Vincent and the Grenadines\", \"Venezuela, RB\", \"British Virgin Islands\", \"Virgin Islands (U.S.)\", \"Vietnam\", \"Vanuatu\", \"World\", \"Samoa\", \"Kosovo\", \"South Africa\", \"Zambia\", \"Zimbabwe\"], \"type\": \"choropleth\", \"z\": [0.4671722452753349, 0.22077999887680208, 0.5008700267445776, 0.41741007767170696, 0.9239486159963297, 0.5298930219748768, 0.8023600043649424, 0.8914200014228066, 0.6466600925009227, 0.8858719150481659, 0.32127446853294045, 0.8423500234950139, 0.6021299705950123, 0.513860050195065, 0.08246004661326432, 0.9712900378002682, 0.38333000046169863, 0.17843998531350347, 0.23590000189099214, 0.6889900237106391, 0.8837199504672658, 0.8200710616639434, 0.4238398838124364, 0.6997300495710754, 0.45397974243373834, 1.0, 0.6178700264092454, 0.8119200008421518, 0.33826860394453345, 0.7116413788963426, 0.2541804775126434, 0.5321900477930841, 0.3763899125020224, 0.7947799840512186, 0.7338299752931761, 0.3046489224820301, 0.8607299675610384, 0.3587700002771959, 0.4315500014950165, 0.4554200108354129, 0.7395699385878889, 0.2808002846833359, 0.534349397928013, 0.5905200218455007, 0.7532300117827551, 0.907522784999253, 1.0, 0.686480297681519, 0.7398799987869407, 0.7496500003381522, 0.7653194608575442, 0.6526489590811199, 0.8509999595476528, 0.6175300168651383, 0.5991900067762518, 0.4142075636876111, 0.6860585223817742, 0.6029899717871989, 0.7294216676339389, 0.2658701562020157, 0.7626199890632644, 0.6936803186863137, 0.14739999834503095, 0.7082571158824016, 0.8218300304334697, 0.4790803027351216, 0.7587100020521239, 0.36336792553760566, 0.7887899312905011, 0.7865099968393267, 0.5263799470755294, 0.4392900180384147, 1.0, 0.308690006831919, 0.4786799453291068, 0.3624303983764269, 0.4909193788653884, 0.7271599680468134, 0.35697684595411977, 0.8159964412811388, 0.4533199606100592, 0.9312877827063845, 0.28693946150807204, 0.7615226795311864, 1.0, 0.4545799541836508, 0.534279912145598, 0.35600000756161, 0.6457500466899769, 0.2890780813060732, 0.3386437492212084, 0.42002000030040587, 0.2642140959841255, 0.5182282528170936, 0.27666999986576446, 0.591550084174863, 0.6849600075922696, 0.9240091748013015, 0.9120300524725712, 0.6722200028140862, 0.5181400843258808, 0.7826999470765504, 0.7864899994481367, 0.560980032688271, 0.19892001005989227, 0.35297995263759596, 0.1858600229909095, 0.4295819707095123, 0.32785769387847713, 0.9900001124626734, 0.2197700847155174, 0.8599999791817274, 0.44330998969266155, 0.763869963013432, 0.27774055854372837, 0.7547403223279483, 0.27453660115022493, 0.15130785920925746, 0.18379999660233487, 0.19548023321481067, 0.6698599471472789, 0.8421590648636259, 0.6806698908153999, 1.0, null, 0.5333500106047581, 1.0, 0.4458901361694763, 0.27120997112541373, 0.277059964638258, 0.5859567452371421, 0.7472199981708768, 0.6857919728883022, 0.41309832757498166, 0.5854800844694295, 0.28356000509754536, 0.9236811275433429, 0.2702499958208209, 0.5854401190181007, 0.5713300726031089, 0.901519502898021, 0.29098002718732974, 0.38091010672495335, 0.4267002450978327, 0.14610004091935622, 0.6197700146204296, 0.7910242388118954, 0.32372973819369644, 0.619190545420438, 0.16186001623607418, 0.34839999721958376, 0.5518499391040423, 0.7679500183133818, 0.7601999747493134, 0.13397002060472551, 1.0, 0.8602099696710476, 0.7156901779694909, 0.32982000073090756, 0.6219798648859134, 0.7304199887951388, 0.46134999782989883, 0.7033760795603246, 0.13203995631701698, 0.6171599876200478, 0.9438700678763609, 0.5439900376077585, 0.5533099351311364, 0.7196898998786169, 0.560468826603957, 0.9631102439287861, 0.5300399844566034, 0.7334999971929823, 0.14925997150629072, 0.27381302687233455, 0.7984799826440803, 0.3249499954445488, 0.40319996439993167, 1.0, 0.15813017980904376, 0.35625994231521335, 0.5891200244024392, 0.934382055203554, 0.33246996760913294, 0.5276900504580284, 0.1650400022969987, 0.48895648012322923, 0.5342396423500302, 0.6644328791440262, 0.5623300152912009, 0.507540002765313, 0.8402599652461439, 0.22686001581405063, 1.0, 0.5043324992912697, 0.5194699871694626, 0.8455167625471137, 0.2163700172362331, 0.3290700068759618, 0.3138599965351732, 0.2650100758629554, 0.4591299680500995, 0.24263031369365173, 0.23012462617251692, 0.5590500910308385, 0.6343200440857613, 0.6474100000388993, 0.4601873536299766, 0.22308999802383223, 0.14785998173713072, 0.6714500015251187, 0.9202801066108871, 0.7905699990634117, 0.46126002012137735, 0.45185741854078526, 0.875590008550603, 0.41775392644379894, 0.9258574032142265, 0.24374000224151016, 0.216730099690764, 0.466761204464526, 0.21977140105701215, null, 0.5689100053754129, 0.3480200162366464, 0.33757999952362827]}],                        {\"geo\": {\"projection\": {\"type\": \"mercator\"}}, \"template\": {\"data\": {\"bar\": [{\"error_x\": {\"color\": \"#2a3f5f\"}, \"error_y\": {\"color\": \"#2a3f5f\"}, \"marker\": {\"line\": {\"color\": \"#E5ECF6\", \"width\": 0.5}}, \"type\": \"bar\"}], \"barpolar\": [{\"marker\": {\"line\": {\"color\": \"#E5ECF6\", \"width\": 0.5}}, \"type\": \"barpolar\"}], \"carpet\": [{\"aaxis\": {\"endlinecolor\": \"#2a3f5f\", \"gridcolor\": \"white\", \"linecolor\": \"white\", \"minorgridcolor\": \"white\", \"startlinecolor\": \"#2a3f5f\"}, \"baxis\": {\"endlinecolor\": \"#2a3f5f\", \"gridcolor\": \"white\", \"linecolor\": \"white\", \"minorgridcolor\": \"white\", \"startlinecolor\": \"#2a3f5f\"}, \"type\": \"carpet\"}], \"choropleth\": [{\"colorbar\": {\"outlinewidth\": 0, \"ticks\": \"\"}, \"type\": \"choropleth\"}], \"contour\": [{\"colorbar\": {\"outlinewidth\": 0, \"ticks\": \"\"}, \"colorscale\": [[0.0, \"#0d0887\"], [0.1111111111111111, \"#46039f\"], [0.2222222222222222, \"#7201a8\"], [0.3333333333333333, \"#9c179e\"], [0.4444444444444444, \"#bd3786\"], [0.5555555555555556, \"#d8576b\"], [0.6666666666666666, \"#ed7953\"], [0.7777777777777778, \"#fb9f3a\"], [0.8888888888888888, \"#fdca26\"], [1.0, \"#f0f921\"]], \"type\": \"contour\"}], \"contourcarpet\": [{\"colorbar\": {\"outlinewidth\": 0, \"ticks\": \"\"}, \"type\": \"contourcarpet\"}], \"heatmap\": [{\"colorbar\": {\"outlinewidth\": 0, \"ticks\": \"\"}, \"colorscale\": [[0.0, \"#0d0887\"], [0.1111111111111111, \"#46039f\"], [0.2222222222222222, \"#7201a8\"], [0.3333333333333333, \"#9c179e\"], [0.4444444444444444, \"#bd3786\"], [0.5555555555555556, \"#d8576b\"], [0.6666666666666666, \"#ed7953\"], [0.7777777777777778, \"#fb9f3a\"], [0.8888888888888888, \"#fdca26\"], [1.0, \"#f0f921\"]], \"type\": \"heatmap\"}], \"heatmapgl\": [{\"colorbar\": {\"outlinewidth\": 0, \"ticks\": \"\"}, \"colorscale\": [[0.0, \"#0d0887\"], [0.1111111111111111, \"#46039f\"], [0.2222222222222222, \"#7201a8\"], [0.3333333333333333, \"#9c179e\"], [0.4444444444444444, \"#bd3786\"], [0.5555555555555556, \"#d8576b\"], [0.6666666666666666, \"#ed7953\"], [0.7777777777777778, \"#fb9f3a\"], [0.8888888888888888, \"#fdca26\"], [1.0, \"#f0f921\"]], \"type\": \"heatmapgl\"}], \"histogram\": [{\"marker\": {\"colorbar\": {\"outlinewidth\": 0, \"ticks\": \"\"}}, \"type\": \"histogram\"}], \"histogram2d\": [{\"colorbar\": {\"outlinewidth\": 0, \"ticks\": \"\"}, \"colorscale\": [[0.0, \"#0d0887\"], [0.1111111111111111, \"#46039f\"], [0.2222222222222222, \"#7201a8\"], [0.3333333333333333, \"#9c179e\"], [0.4444444444444444, \"#bd3786\"], [0.5555555555555556, \"#d8576b\"], [0.6666666666666666, \"#ed7953\"], [0.7777777777777778, \"#fb9f3a\"], [0.8888888888888888, \"#fdca26\"], [1.0, \"#f0f921\"]], \"type\": \"histogram2d\"}], \"histogram2dcontour\": [{\"colorbar\": {\"outlinewidth\": 0, \"ticks\": \"\"}, \"colorscale\": [[0.0, \"#0d0887\"], [0.1111111111111111, \"#46039f\"], [0.2222222222222222, \"#7201a8\"], [0.3333333333333333, \"#9c179e\"], [0.4444444444444444, \"#bd3786\"], [0.5555555555555556, \"#d8576b\"], [0.6666666666666666, \"#ed7953\"], [0.7777777777777778, \"#fb9f3a\"], [0.8888888888888888, \"#fdca26\"], [1.0, \"#f0f921\"]], \"type\": \"histogram2dcontour\"}], \"mesh3d\": [{\"colorbar\": {\"outlinewidth\": 0, \"ticks\": \"\"}, \"type\": \"mesh3d\"}], \"parcoords\": [{\"line\": {\"colorbar\": {\"outlinewidth\": 0, \"ticks\": \"\"}}, \"type\": \"parcoords\"}], \"pie\": [{\"automargin\": true, \"type\": \"pie\"}], \"scatter\": [{\"marker\": {\"colorbar\": {\"outlinewidth\": 0, \"ticks\": \"\"}}, \"type\": \"scatter\"}], \"scatter3d\": [{\"line\": {\"colorbar\": {\"outlinewidth\": 0, \"ticks\": \"\"}}, \"marker\": {\"colorbar\": {\"outlinewidth\": 0, \"ticks\": \"\"}}, \"type\": \"scatter3d\"}], \"scattercarpet\": [{\"marker\": {\"colorbar\": {\"outlinewidth\": 0, \"ticks\": \"\"}}, \"type\": \"scattercarpet\"}], \"scattergeo\": [{\"marker\": {\"colorbar\": {\"outlinewidth\": 0, \"ticks\": \"\"}}, \"type\": \"scattergeo\"}], \"scattergl\": [{\"marker\": {\"colorbar\": {\"outlinewidth\": 0, \"ticks\": \"\"}}, \"type\": \"scattergl\"}], \"scattermapbox\": [{\"marker\": {\"colorbar\": {\"outlinewidth\": 0, \"ticks\": \"\"}}, \"type\": \"scattermapbox\"}], \"scatterpolar\": [{\"marker\": {\"colorbar\": {\"outlinewidth\": 0, \"ticks\": \"\"}}, \"type\": \"scatterpolar\"}], \"scatterpolargl\": [{\"marker\": {\"colorbar\": {\"outlinewidth\": 0, \"ticks\": \"\"}}, \"type\": \"scatterpolargl\"}], \"scatterternary\": [{\"marker\": {\"colorbar\": {\"outlinewidth\": 0, \"ticks\": \"\"}}, \"type\": \"scatterternary\"}], \"surface\": [{\"colorbar\": {\"outlinewidth\": 0, \"ticks\": \"\"}, \"colorscale\": [[0.0, \"#0d0887\"], [0.1111111111111111, \"#46039f\"], [0.2222222222222222, \"#7201a8\"], [0.3333333333333333, \"#9c179e\"], [0.4444444444444444, \"#bd3786\"], [0.5555555555555556, \"#d8576b\"], [0.6666666666666666, \"#ed7953\"], [0.7777777777777778, \"#fb9f3a\"], [0.8888888888888888, \"#fdca26\"], [1.0, \"#f0f921\"]], \"type\": \"surface\"}], \"table\": [{\"cells\": {\"fill\": {\"color\": \"#EBF0F8\"}, \"line\": {\"color\": \"white\"}}, \"header\": {\"fill\": {\"color\": \"#C8D4E3\"}, \"line\": {\"color\": \"white\"}}, \"type\": \"table\"}]}, \"layout\": {\"annotationdefaults\": {\"arrowcolor\": \"#2a3f5f\", \"arrowhead\": 0, \"arrowwidth\": 1}, \"autotypenumbers\": \"strict\", \"coloraxis\": {\"colorbar\": {\"outlinewidth\": 0, \"ticks\": \"\"}}, \"colorscale\": {\"diverging\": [[0, \"#8e0152\"], [0.1, \"#c51b7d\"], [0.2, \"#de77ae\"], [0.3, \"#f1b6da\"], [0.4, \"#fde0ef\"], [0.5, \"#f7f7f7\"], [0.6, \"#e6f5d0\"], [0.7, \"#b8e186\"], [0.8, \"#7fbc41\"], [0.9, \"#4d9221\"], [1, \"#276419\"]], \"sequential\": [[0.0, \"#0d0887\"], [0.1111111111111111, \"#46039f\"], [0.2222222222222222, \"#7201a8\"], [0.3333333333333333, \"#9c179e\"], [0.4444444444444444, \"#bd3786\"], [0.5555555555555556, \"#d8576b\"], [0.6666666666666666, \"#ed7953\"], [0.7777777777777778, \"#fb9f3a\"], [0.8888888888888888, \"#fdca26\"], [1.0, \"#f0f921\"]], \"sequentialminus\": [[0.0, \"#0d0887\"], [0.1111111111111111, \"#46039f\"], [0.2222222222222222, \"#7201a8\"], [0.3333333333333333, \"#9c179e\"], [0.4444444444444444, \"#bd3786\"], [0.5555555555555556, \"#d8576b\"], [0.6666666666666666, \"#ed7953\"], [0.7777777777777778, \"#fb9f3a\"], [0.8888888888888888, \"#fdca26\"], [1.0, \"#f0f921\"]]}, \"colorway\": [\"#636efa\", \"#EF553B\", \"#00cc96\", \"#ab63fa\", \"#FFA15A\", \"#19d3f3\", \"#FF6692\", \"#B6E880\", \"#FF97FF\", \"#FECB52\"], \"font\": {\"color\": \"#2a3f5f\"}, \"geo\": {\"bgcolor\": \"white\", \"lakecolor\": \"white\", \"landcolor\": \"#E5ECF6\", \"showlakes\": true, \"showland\": true, \"subunitcolor\": \"white\"}, \"hoverlabel\": {\"align\": \"left\"}, \"hovermode\": \"closest\", \"mapbox\": {\"style\": \"light\"}, \"paper_bgcolor\": \"white\", \"plot_bgcolor\": \"#E5ECF6\", \"polar\": {\"angularaxis\": {\"gridcolor\": \"white\", \"linecolor\": \"white\", \"ticks\": \"\"}, \"bgcolor\": \"#E5ECF6\", \"radialaxis\": {\"gridcolor\": \"white\", \"linecolor\": \"white\", \"ticks\": \"\"}}, \"scene\": {\"xaxis\": {\"backgroundcolor\": \"#E5ECF6\", \"gridcolor\": \"white\", \"gridwidth\": 2, \"linecolor\": \"white\", \"showbackground\": true, \"ticks\": \"\", \"zerolinecolor\": \"white\"}, \"yaxis\": {\"backgroundcolor\": \"#E5ECF6\", \"gridcolor\": \"white\", \"gridwidth\": 2, \"linecolor\": \"white\", \"showbackground\": true, \"ticks\": \"\", \"zerolinecolor\": \"white\"}, \"zaxis\": {\"backgroundcolor\": \"#E5ECF6\", \"gridcolor\": \"white\", \"gridwidth\": 2, \"linecolor\": \"white\", \"showbackground\": true, \"ticks\": \"\", \"zerolinecolor\": \"white\"}}, \"shapedefaults\": {\"line\": {\"color\": \"#2a3f5f\"}}, \"ternary\": {\"aaxis\": {\"gridcolor\": \"white\", \"linecolor\": \"white\", \"ticks\": \"\"}, \"baxis\": {\"gridcolor\": \"white\", \"linecolor\": \"white\", \"ticks\": \"\"}, \"bgcolor\": \"#E5ECF6\", \"caxis\": {\"gridcolor\": \"white\", \"linecolor\": \"white\", \"ticks\": \"\"}}, \"title\": {\"x\": 0.05}, \"xaxis\": {\"automargin\": true, \"gridcolor\": \"white\", \"linecolor\": \"white\", \"ticks\": \"\", \"title\": {\"standoff\": 15}, \"zerolinecolor\": \"white\", \"zerolinewidth\": 2}, \"yaxis\": {\"automargin\": true, \"gridcolor\": \"white\", \"linecolor\": \"white\", \"ticks\": \"\", \"title\": {\"standoff\": 15}, \"zerolinecolor\": \"white\", \"zerolinewidth\": 2}}}, \"title\": {\"text\": \"World Urban Population per Capita, 2000\"}},                        {\"responsive\": true}                    ).then(function(){\n",
       "                            \n",
       "var gd = document.getElementById('a4e08909-5dc9-4891-8c5d-b5b406f7810d');\n",
       "var x = new MutationObserver(function (mutations, observer) {{\n",
       "        var display = window.getComputedStyle(gd).display;\n",
       "        if (!display || display === 'none') {{\n",
       "            console.log([gd, 'removed!']);\n",
       "            Plotly.purge(gd);\n",
       "            observer.disconnect();\n",
       "        }}\n",
       "}});\n",
       "\n",
       "// Listen for the removal of the full notebook cells\n",
       "var notebookContainer = gd.closest('#notebook-container');\n",
       "if (notebookContainer) {{\n",
       "    x.observe(notebookContainer, {childList: true});\n",
       "}}\n",
       "\n",
       "// Listen for the clearing of the current output cell\n",
       "var outputEl = gd.closest('.output');\n",
       "if (outputEl) {{\n",
       "    x.observe(outputEl, {childList: true});\n",
       "}}\n",
       "\n",
       "                        })                };                });            </script>        </div>"
      ]
     },
     "metadata": {},
     "output_type": "display_data"
    }
   ],
   "source": [
    "data = dict(\n",
    "        type = 'choropleth',\n",
    "        colorscale = 'Viridis',\n",
    "        locations = gdf_populations['Country Name'],\n",
    "        locationmode = \"country names\",\n",
    "        z = gdf_populations['WUP_per_cap_2000'],\n",
    "        text = gdf_populations['Country Name'],\n",
    "        colorbar = {'title' : 'World Urban Population per Capita'},\n",
    "      )\n",
    "\n",
    "layout = dict(title = 'World Urban Population per Capita, 2000',\n",
    "              geo = dict(projection = {'type':'mercator'})\n",
    "             )\n",
    "\n",
    "choromap = go.Figure(data = [data],layout = layout)\n",
    "iplot(choromap,validate=False)"
   ]
  },
  {
   "cell_type": "markdown",
   "id": "6ad50ee5",
   "metadata": {},
   "source": [
    "Plot the world urban population per capita for 2010 and hover over the map to view thw WUP per capita for each country."
   ]
  },
  {
   "cell_type": "code",
   "execution_count": 21,
   "id": "0fca807a",
   "metadata": {
    "scrolled": true
   },
   "outputs": [
    {
     "data": {
      "application/vnd.plotly.v1+json": {
       "config": {
        "linkText": "Export to plot.ly",
        "plotlyServerURL": "https://plot.ly",
        "showLink": false
       },
       "data": [
        {
         "colorbar": {
          "title": {
           "text": "World Urban Population per Capita"
          }
         },
         "colorscale": [
          [
           0,
           "#440154"
          ],
          [
           0.1111111111111111,
           "#482878"
          ],
          [
           0.2222222222222222,
           "#3e4989"
          ],
          [
           0.3333333333333333,
           "#31688e"
          ],
          [
           0.4444444444444444,
           "#26828e"
          ],
          [
           0.5555555555555556,
           "#1f9e89"
          ],
          [
           0.6666666666666666,
           "#35b779"
          ],
          [
           0.7777777777777778,
           "#6ece58"
          ],
          [
           0.8888888888888888,
           "#b5de2b"
          ],
          [
           1,
           "#fde725"
          ]
         ],
         "locationmode": "country names",
         "locations": [
          "Aruba",
          "Afghanistan",
          "Angola",
          "Albania",
          "Andorra",
          "Arab World",
          "United Arab Emirates",
          "Argentina",
          "Armenia",
          "American Samoa",
          "Antigua and Barbuda",
          "Australia",
          "Austria",
          "Azerbaijan",
          "Burundi",
          "Belgium",
          "Benin",
          "Burkina Faso",
          "Bangladesh",
          "Bulgaria",
          "Bahrain",
          "Bahamas, The",
          "Bosnia and Herzegovina",
          "Belarus",
          "Belize",
          "Bermuda",
          "Bolivia",
          "Brazil",
          "Barbados",
          "Brunei Darussalam",
          "Bhutan",
          "Botswana",
          "Central African Republic",
          "Canada",
          "Switzerland",
          "Channel Islands",
          "Chile",
          "China",
          "Cote d'Ivoire",
          "Cameroon",
          "Colombia",
          "Comoros",
          "Cabo Verde",
          "Costa Rica",
          "Cuba",
          "Curacao",
          "Cayman Islands",
          "Cyprus",
          "Czech Republic",
          "Germany",
          "Djibouti",
          "Dominica",
          "Denmark",
          "Dominican Republic",
          "Algeria",
          "East Asia & Pacific",
          "Europe & Central Asia",
          "Ecuador",
          "Euro area",
          "Eritrea",
          "Spain",
          "Estonia",
          "Ethiopia",
          "European Union",
          "Finland",
          "Fiji",
          "France",
          "Faroe Islands",
          "Gabon",
          "United Kingdom",
          "Georgia",
          "Ghana",
          "Gibraltar",
          "Guinea",
          "Gambia, The",
          "Guinea-Bissau",
          "Equatorial Guinea",
          "Greece",
          "Grenada",
          "Greenland",
          "Guatemala",
          "Guam",
          "Guyana",
          "High income",
          "Hong Kong SAR, China",
          "Honduras",
          "Croatia",
          "Haiti",
          "Hungary",
          "IDA total",
          "IDA blend",
          "Indonesia",
          "IDA only",
          "Isle of Man",
          "India",
          "Ireland",
          "Iraq",
          "Iceland",
          "Israel",
          "Italy",
          "Jamaica",
          "Jordan",
          "Japan",
          "Kazakhstan",
          "Kenya",
          "Kyrgyz Republic",
          "Cambodia",
          "Kiribati",
          "St. Kitts and Nevis",
          "Kuwait",
          "Lao PDR",
          "Lebanon",
          "Liberia",
          "Libya",
          "St. Lucia",
          "Latin America & Caribbean",
          "Low income",
          "Liechtenstein",
          "Sri Lanka",
          "Lesotho",
          "Lithuania",
          "Luxembourg",
          "Latvia",
          "Macao SAR, China",
          "St. Martin (French part)",
          "Morocco",
          "Monaco",
          "Moldova",
          "Madagascar",
          "Maldives",
          "Middle East & North Africa",
          "Mexico",
          "Marshall Islands",
          "Middle income",
          "North Macedonia",
          "Mali",
          "Malta",
          "Myanmar",
          "Montenegro",
          "Mongolia",
          "Northern Mariana Islands",
          "Mozambique",
          "Mauritania",
          "Mauritius",
          "Malawi",
          "Malaysia",
          "North America",
          "Namibia",
          "New Caledonia",
          "Niger",
          "Nigeria",
          "Nicaragua",
          "Netherlands",
          "Norway",
          "Nepal",
          "Nauru",
          "New Zealand",
          "Oman",
          "Pakistan",
          "Panama",
          "Peru",
          "Philippines",
          "Palau",
          "Papua New Guinea",
          "Poland",
          "Puerto Rico",
          "Portugal",
          "Paraguay",
          "West Bank and Gaza",
          "French Polynesia",
          "Qatar",
          "Romania",
          "Russian Federation",
          "Rwanda",
          "South Asia",
          "Saudi Arabia",
          "Sudan",
          "Senegal",
          "Singapore",
          "Solomon Islands",
          "Sierra Leone",
          "El Salvador",
          "San Marino",
          "Somalia",
          "Serbia",
          "South Sudan",
          "Small states",
          "Sao Tome and Principe",
          "Suriname",
          "Slovak Republic",
          "Slovenia",
          "Sweden",
          "Eswatini",
          "Sint Maarten (Dutch part)",
          "Seychelles",
          "Syrian Arab Republic",
          "Turks and Caicos Islands",
          "Chad",
          "Togo",
          "Thailand",
          "Tajikistan",
          "Turkmenistan",
          "Timor-Leste",
          "Tonga",
          "Trinidad and Tobago",
          "Tunisia",
          "Turkey",
          "Tuvalu",
          "Tanzania",
          "Uganda",
          "Ukraine",
          "Uruguay",
          "United States",
          "Uzbekistan",
          "St. Vincent and the Grenadines",
          "Venezuela, RB",
          "British Virgin Islands",
          "Virgin Islands (U.S.)",
          "Vietnam",
          "Vanuatu",
          "World",
          "Samoa",
          "Kosovo",
          "South Africa",
          "Zambia",
          "Zimbabwe"
         ],
         "text": [
          "Aruba",
          "Afghanistan",
          "Angola",
          "Albania",
          "Andorra",
          "Arab World",
          "United Arab Emirates",
          "Argentina",
          "Armenia",
          "American Samoa",
          "Antigua and Barbuda",
          "Australia",
          "Austria",
          "Azerbaijan",
          "Burundi",
          "Belgium",
          "Benin",
          "Burkina Faso",
          "Bangladesh",
          "Bulgaria",
          "Bahrain",
          "Bahamas, The",
          "Bosnia and Herzegovina",
          "Belarus",
          "Belize",
          "Bermuda",
          "Bolivia",
          "Brazil",
          "Barbados",
          "Brunei Darussalam",
          "Bhutan",
          "Botswana",
          "Central African Republic",
          "Canada",
          "Switzerland",
          "Channel Islands",
          "Chile",
          "China",
          "Cote d'Ivoire",
          "Cameroon",
          "Colombia",
          "Comoros",
          "Cabo Verde",
          "Costa Rica",
          "Cuba",
          "Curacao",
          "Cayman Islands",
          "Cyprus",
          "Czech Republic",
          "Germany",
          "Djibouti",
          "Dominica",
          "Denmark",
          "Dominican Republic",
          "Algeria",
          "East Asia & Pacific",
          "Europe & Central Asia",
          "Ecuador",
          "Euro area",
          "Eritrea",
          "Spain",
          "Estonia",
          "Ethiopia",
          "European Union",
          "Finland",
          "Fiji",
          "France",
          "Faroe Islands",
          "Gabon",
          "United Kingdom",
          "Georgia",
          "Ghana",
          "Gibraltar",
          "Guinea",
          "Gambia, The",
          "Guinea-Bissau",
          "Equatorial Guinea",
          "Greece",
          "Grenada",
          "Greenland",
          "Guatemala",
          "Guam",
          "Guyana",
          "High income",
          "Hong Kong SAR, China",
          "Honduras",
          "Croatia",
          "Haiti",
          "Hungary",
          "IDA total",
          "IDA blend",
          "Indonesia",
          "IDA only",
          "Isle of Man",
          "India",
          "Ireland",
          "Iraq",
          "Iceland",
          "Israel",
          "Italy",
          "Jamaica",
          "Jordan",
          "Japan",
          "Kazakhstan",
          "Kenya",
          "Kyrgyz Republic",
          "Cambodia",
          "Kiribati",
          "St. Kitts and Nevis",
          "Kuwait",
          "Lao PDR",
          "Lebanon",
          "Liberia",
          "Libya",
          "St. Lucia",
          "Latin America & Caribbean",
          "Low income",
          "Liechtenstein",
          "Sri Lanka",
          "Lesotho",
          "Lithuania",
          "Luxembourg",
          "Latvia",
          "Macao SAR, China",
          "St. Martin (French part)",
          "Morocco",
          "Monaco",
          "Moldova",
          "Madagascar",
          "Maldives",
          "Middle East & North Africa",
          "Mexico",
          "Marshall Islands",
          "Middle income",
          "North Macedonia",
          "Mali",
          "Malta",
          "Myanmar",
          "Montenegro",
          "Mongolia",
          "Northern Mariana Islands",
          "Mozambique",
          "Mauritania",
          "Mauritius",
          "Malawi",
          "Malaysia",
          "North America",
          "Namibia",
          "New Caledonia",
          "Niger",
          "Nigeria",
          "Nicaragua",
          "Netherlands",
          "Norway",
          "Nepal",
          "Nauru",
          "New Zealand",
          "Oman",
          "Pakistan",
          "Panama",
          "Peru",
          "Philippines",
          "Palau",
          "Papua New Guinea",
          "Poland",
          "Puerto Rico",
          "Portugal",
          "Paraguay",
          "West Bank and Gaza",
          "French Polynesia",
          "Qatar",
          "Romania",
          "Russian Federation",
          "Rwanda",
          "South Asia",
          "Saudi Arabia",
          "Sudan",
          "Senegal",
          "Singapore",
          "Solomon Islands",
          "Sierra Leone",
          "El Salvador",
          "San Marino",
          "Somalia",
          "Serbia",
          "South Sudan",
          "Small states",
          "Sao Tome and Principe",
          "Suriname",
          "Slovak Republic",
          "Slovenia",
          "Sweden",
          "Eswatini",
          "Sint Maarten (Dutch part)",
          "Seychelles",
          "Syrian Arab Republic",
          "Turks and Caicos Islands",
          "Chad",
          "Togo",
          "Thailand",
          "Tajikistan",
          "Turkmenistan",
          "Timor-Leste",
          "Tonga",
          "Trinidad and Tobago",
          "Tunisia",
          "Turkey",
          "Tuvalu",
          "Tanzania",
          "Uganda",
          "Ukraine",
          "Uruguay",
          "United States",
          "Uzbekistan",
          "St. Vincent and the Grenadines",
          "Venezuela, RB",
          "British Virgin Islands",
          "Virgin Islands (U.S.)",
          "Vietnam",
          "Vanuatu",
          "World",
          "Samoa",
          "Kosovo",
          "South Africa",
          "Zambia",
          "Zimbabwe"
         ],
         "type": "choropleth",
         "z": [
          0.430593396217136,
          0.23737000696955513,
          0.5978300194303485,
          0.5216299504878269,
          0.8881928738054921,
          0.5644087951050484,
          0.8408699520981784,
          0.9084900081893275,
          0.6343999396660572,
          0.8759428663135933,
          0.26238242377425364,
          0.8518199870641233,
          0.5739899686778255,
          0.5340600499296911,
          0.10642005015905524,
          0.9765100289236394,
          0.4309300346908376,
          0.24632999336055372,
          0.3046199967027032,
          0.7230200014900754,
          0.8863401189497606,
          0.8242698807129052,
          0.4555800178762652,
          0.7467199854845588,
          0.45227994442790515,
          1,
          0.6642999664629565,
          0.8433499996052907,
          0.3186994693954227,
          0.7496101851041822,
          0.34792991423815794,
          0.6241200137889039,
          0.3890399492291364,
          0.8093699997079832,
          0.736070029696192,
          0.3105412748694705,
          0.8707400236400966,
          0.4922599997757353,
          0.4732999885549811,
          0.5155899780155989,
          0.7796399816906111,
          0.2797306623826288,
          0.618210752373877,
          0.7173600257614731,
          0.7659700412405958,
          0.8990470938716771,
          1,
          0.6755104205239563,
          0.7325499956560799,
          0.7696600006872354,
          0.7699899309448487,
          0.6809447219165327,
          0.8679499171095393,
          0.7375300421727589,
          0.6753999970259152,
          0.5194533735624958,
          0.7062946820324675,
          0.6268999835255431,
          0.7528169852258779,
          0.35175015415865646,
          0.7844200097743738,
          0.68094031055784,
          0.1731899958334077,
          0.7297232643478051,
          0.8377000055189366,
          0.521710408481795,
          0.7836900006023605,
          0.40925252018237335,
          0.8553302055241543,
          0.8130199988481092,
          0.5553499819763672,
          0.5071299925959314,
          1,
          0.3367799967347503,
          0.5566201352222512,
          0.4011102069553441,
          0.6594004698830803,
          0.762919957224583,
          0.3586456185930925,
          0.8438274316843862,
          0.48402997905914763,
          0.9409886856827475,
          0.26634028789649816,
          0.7942468555953835,
          1,
          0.5188499627891655,
          0.5515500554426835,
          0.4750899609038686,
          0.6891100150469653,
          0.3326436291187656,
          0.3853915421587446,
          0.49913999968945666,
          0.30618839994515323,
          0.5199453197732656,
          0.3093000000964124,
          0.6154200898872955,
          0.6910300109179027,
          0.9357409893692952,
          0.918260008394984,
          0.6832700048316883,
          0.5374301715733367,
          0.8608800420957596,
          0.9081199968767081,
          0.5682699876582784,
          0.23571000856612442,
          0.3530600781952679,
          0.2029399788097046,
          0.47389897694482497,
          0.3131834503019422,
          1,
          0.3006400055047354,
          0.873339940695259,
          0.47812998862093314,
          0.7805200121400598,
          0.1845018238216963,
          0.7854068795134237,
          0.3034008894040114,
          0.14463521698060788,
          0.18225999083889008,
          0.2479799116147127,
          0.6675701469869388,
          0.8854706452077411,
          0.6784098629118187,
          1,
          null,
          0.5801799867045473,
          1,
          0.42620008408215726,
          0.31938001024979623,
          0.36434129722694636,
          0.6265662120671961,
          0.7781499986112203,
          0.735673987865025,
          0.4751401333686625,
          0.5708898408830462,
          0.3599900274782577,
          0.9407200826039546,
          0.2888499944803264,
          0.6413998075643981,
          0.6756699520864033,
          0.9094884289711141,
          0.3182999998215164,
          0.4658801240342912,
          0.41555022392834295,
          0.15543998010400828,
          0.7091200078275569,
          0.8079198593510474,
          0.41616018696722884,
          0.6710190190190191,
          0.16220996991926337,
          0.43479999964921845,
          0.5691699869421101,
          0.8713399754468657,
          0.791019976061778,
          0.16767998563073505,
          1,
          0.8615999724182315,
          0.7516099313679008,
          0.349970002169323,
          0.6513999144038453,
          0.7642999917940376,
          0.4533200030904539,
          0.7481481481481481,
          0.1301900128130648,
          0.6089199967804678,
          0.9382500453443144,
          0.6056699548855113,
          0.592609978841297,
          0.7414901268065462,
          0.6031712671933347,
          0.9850101840893334,
          0.5382899905866936,
          0.7368699966036976,
          0.16933995050271242,
          0.30817367253793637,
          0.8208399982772617,
          0.3308899898228436,
          0.4377300217665861,
          1,
          0.2004808083946342,
          0.3885600394286831,
          0.6545200218309717,
          0.9574113804476608,
          0.39309996618200294,
          0.5499299452124382,
          0.17860001994033883,
          0.5478732211976123,
          0.6495223733305243,
          0.6634330628899082,
          0.5468499254742899,
          0.5265800799869959,
          0.8505600159349533,
          0.2247996641739534,
          1,
          0.5333630388771304,
          0.5559999941954438,
          0.9022657685241886,
          0.2198499916667615,
          0.3753300344037751,
          0.4385599928613766,
          0.2652000147727089,
          0.48490991039691084,
          0.27732018439484124,
          0.23388725405343028,
          0.5402496862169625,
          0.6665700382614634,
          0.7082499965296495,
          0.5479582146248813,
          0.2811399991318373,
          0.19383001203860828,
          0.6859599891791589,
          0.9441400302148529,
          0.8077199998011132,
          0.509560015965045,
          0.4896124890305298,
          0.8808299876863313,
          0.4481542779017054,
          0.9459384632422156,
          0.30416999539978623,
          0.24462027593973185,
          0.5163274959869835,
          0.20078085926786376,
          null,
          0.6221800066087478,
          0.39354999976480937,
          0.3319599899919064
         ]
        }
       ],
       "layout": {
        "geo": {
         "projection": {
          "type": "mercator"
         }
        },
        "template": {
         "data": {
          "bar": [
           {
            "error_x": {
             "color": "#2a3f5f"
            },
            "error_y": {
             "color": "#2a3f5f"
            },
            "marker": {
             "line": {
              "color": "#E5ECF6",
              "width": 0.5
             }
            },
            "type": "bar"
           }
          ],
          "barpolar": [
           {
            "marker": {
             "line": {
              "color": "#E5ECF6",
              "width": 0.5
             }
            },
            "type": "barpolar"
           }
          ],
          "carpet": [
           {
            "aaxis": {
             "endlinecolor": "#2a3f5f",
             "gridcolor": "white",
             "linecolor": "white",
             "minorgridcolor": "white",
             "startlinecolor": "#2a3f5f"
            },
            "baxis": {
             "endlinecolor": "#2a3f5f",
             "gridcolor": "white",
             "linecolor": "white",
             "minorgridcolor": "white",
             "startlinecolor": "#2a3f5f"
            },
            "type": "carpet"
           }
          ],
          "choropleth": [
           {
            "colorbar": {
             "outlinewidth": 0,
             "ticks": ""
            },
            "type": "choropleth"
           }
          ],
          "contour": [
           {
            "colorbar": {
             "outlinewidth": 0,
             "ticks": ""
            },
            "colorscale": [
             [
              0,
              "#0d0887"
             ],
             [
              0.1111111111111111,
              "#46039f"
             ],
             [
              0.2222222222222222,
              "#7201a8"
             ],
             [
              0.3333333333333333,
              "#9c179e"
             ],
             [
              0.4444444444444444,
              "#bd3786"
             ],
             [
              0.5555555555555556,
              "#d8576b"
             ],
             [
              0.6666666666666666,
              "#ed7953"
             ],
             [
              0.7777777777777778,
              "#fb9f3a"
             ],
             [
              0.8888888888888888,
              "#fdca26"
             ],
             [
              1,
              "#f0f921"
             ]
            ],
            "type": "contour"
           }
          ],
          "contourcarpet": [
           {
            "colorbar": {
             "outlinewidth": 0,
             "ticks": ""
            },
            "type": "contourcarpet"
           }
          ],
          "heatmap": [
           {
            "colorbar": {
             "outlinewidth": 0,
             "ticks": ""
            },
            "colorscale": [
             [
              0,
              "#0d0887"
             ],
             [
              0.1111111111111111,
              "#46039f"
             ],
             [
              0.2222222222222222,
              "#7201a8"
             ],
             [
              0.3333333333333333,
              "#9c179e"
             ],
             [
              0.4444444444444444,
              "#bd3786"
             ],
             [
              0.5555555555555556,
              "#d8576b"
             ],
             [
              0.6666666666666666,
              "#ed7953"
             ],
             [
              0.7777777777777778,
              "#fb9f3a"
             ],
             [
              0.8888888888888888,
              "#fdca26"
             ],
             [
              1,
              "#f0f921"
             ]
            ],
            "type": "heatmap"
           }
          ],
          "heatmapgl": [
           {
            "colorbar": {
             "outlinewidth": 0,
             "ticks": ""
            },
            "colorscale": [
             [
              0,
              "#0d0887"
             ],
             [
              0.1111111111111111,
              "#46039f"
             ],
             [
              0.2222222222222222,
              "#7201a8"
             ],
             [
              0.3333333333333333,
              "#9c179e"
             ],
             [
              0.4444444444444444,
              "#bd3786"
             ],
             [
              0.5555555555555556,
              "#d8576b"
             ],
             [
              0.6666666666666666,
              "#ed7953"
             ],
             [
              0.7777777777777778,
              "#fb9f3a"
             ],
             [
              0.8888888888888888,
              "#fdca26"
             ],
             [
              1,
              "#f0f921"
             ]
            ],
            "type": "heatmapgl"
           }
          ],
          "histogram": [
           {
            "marker": {
             "colorbar": {
              "outlinewidth": 0,
              "ticks": ""
             }
            },
            "type": "histogram"
           }
          ],
          "histogram2d": [
           {
            "colorbar": {
             "outlinewidth": 0,
             "ticks": ""
            },
            "colorscale": [
             [
              0,
              "#0d0887"
             ],
             [
              0.1111111111111111,
              "#46039f"
             ],
             [
              0.2222222222222222,
              "#7201a8"
             ],
             [
              0.3333333333333333,
              "#9c179e"
             ],
             [
              0.4444444444444444,
              "#bd3786"
             ],
             [
              0.5555555555555556,
              "#d8576b"
             ],
             [
              0.6666666666666666,
              "#ed7953"
             ],
             [
              0.7777777777777778,
              "#fb9f3a"
             ],
             [
              0.8888888888888888,
              "#fdca26"
             ],
             [
              1,
              "#f0f921"
             ]
            ],
            "type": "histogram2d"
           }
          ],
          "histogram2dcontour": [
           {
            "colorbar": {
             "outlinewidth": 0,
             "ticks": ""
            },
            "colorscale": [
             [
              0,
              "#0d0887"
             ],
             [
              0.1111111111111111,
              "#46039f"
             ],
             [
              0.2222222222222222,
              "#7201a8"
             ],
             [
              0.3333333333333333,
              "#9c179e"
             ],
             [
              0.4444444444444444,
              "#bd3786"
             ],
             [
              0.5555555555555556,
              "#d8576b"
             ],
             [
              0.6666666666666666,
              "#ed7953"
             ],
             [
              0.7777777777777778,
              "#fb9f3a"
             ],
             [
              0.8888888888888888,
              "#fdca26"
             ],
             [
              1,
              "#f0f921"
             ]
            ],
            "type": "histogram2dcontour"
           }
          ],
          "mesh3d": [
           {
            "colorbar": {
             "outlinewidth": 0,
             "ticks": ""
            },
            "type": "mesh3d"
           }
          ],
          "parcoords": [
           {
            "line": {
             "colorbar": {
              "outlinewidth": 0,
              "ticks": ""
             }
            },
            "type": "parcoords"
           }
          ],
          "pie": [
           {
            "automargin": true,
            "type": "pie"
           }
          ],
          "scatter": [
           {
            "marker": {
             "colorbar": {
              "outlinewidth": 0,
              "ticks": ""
             }
            },
            "type": "scatter"
           }
          ],
          "scatter3d": [
           {
            "line": {
             "colorbar": {
              "outlinewidth": 0,
              "ticks": ""
             }
            },
            "marker": {
             "colorbar": {
              "outlinewidth": 0,
              "ticks": ""
             }
            },
            "type": "scatter3d"
           }
          ],
          "scattercarpet": [
           {
            "marker": {
             "colorbar": {
              "outlinewidth": 0,
              "ticks": ""
             }
            },
            "type": "scattercarpet"
           }
          ],
          "scattergeo": [
           {
            "marker": {
             "colorbar": {
              "outlinewidth": 0,
              "ticks": ""
             }
            },
            "type": "scattergeo"
           }
          ],
          "scattergl": [
           {
            "marker": {
             "colorbar": {
              "outlinewidth": 0,
              "ticks": ""
             }
            },
            "type": "scattergl"
           }
          ],
          "scattermapbox": [
           {
            "marker": {
             "colorbar": {
              "outlinewidth": 0,
              "ticks": ""
             }
            },
            "type": "scattermapbox"
           }
          ],
          "scatterpolar": [
           {
            "marker": {
             "colorbar": {
              "outlinewidth": 0,
              "ticks": ""
             }
            },
            "type": "scatterpolar"
           }
          ],
          "scatterpolargl": [
           {
            "marker": {
             "colorbar": {
              "outlinewidth": 0,
              "ticks": ""
             }
            },
            "type": "scatterpolargl"
           }
          ],
          "scatterternary": [
           {
            "marker": {
             "colorbar": {
              "outlinewidth": 0,
              "ticks": ""
             }
            },
            "type": "scatterternary"
           }
          ],
          "surface": [
           {
            "colorbar": {
             "outlinewidth": 0,
             "ticks": ""
            },
            "colorscale": [
             [
              0,
              "#0d0887"
             ],
             [
              0.1111111111111111,
              "#46039f"
             ],
             [
              0.2222222222222222,
              "#7201a8"
             ],
             [
              0.3333333333333333,
              "#9c179e"
             ],
             [
              0.4444444444444444,
              "#bd3786"
             ],
             [
              0.5555555555555556,
              "#d8576b"
             ],
             [
              0.6666666666666666,
              "#ed7953"
             ],
             [
              0.7777777777777778,
              "#fb9f3a"
             ],
             [
              0.8888888888888888,
              "#fdca26"
             ],
             [
              1,
              "#f0f921"
             ]
            ],
            "type": "surface"
           }
          ],
          "table": [
           {
            "cells": {
             "fill": {
              "color": "#EBF0F8"
             },
             "line": {
              "color": "white"
             }
            },
            "header": {
             "fill": {
              "color": "#C8D4E3"
             },
             "line": {
              "color": "white"
             }
            },
            "type": "table"
           }
          ]
         },
         "layout": {
          "annotationdefaults": {
           "arrowcolor": "#2a3f5f",
           "arrowhead": 0,
           "arrowwidth": 1
          },
          "autotypenumbers": "strict",
          "coloraxis": {
           "colorbar": {
            "outlinewidth": 0,
            "ticks": ""
           }
          },
          "colorscale": {
           "diverging": [
            [
             0,
             "#8e0152"
            ],
            [
             0.1,
             "#c51b7d"
            ],
            [
             0.2,
             "#de77ae"
            ],
            [
             0.3,
             "#f1b6da"
            ],
            [
             0.4,
             "#fde0ef"
            ],
            [
             0.5,
             "#f7f7f7"
            ],
            [
             0.6,
             "#e6f5d0"
            ],
            [
             0.7,
             "#b8e186"
            ],
            [
             0.8,
             "#7fbc41"
            ],
            [
             0.9,
             "#4d9221"
            ],
            [
             1,
             "#276419"
            ]
           ],
           "sequential": [
            [
             0,
             "#0d0887"
            ],
            [
             0.1111111111111111,
             "#46039f"
            ],
            [
             0.2222222222222222,
             "#7201a8"
            ],
            [
             0.3333333333333333,
             "#9c179e"
            ],
            [
             0.4444444444444444,
             "#bd3786"
            ],
            [
             0.5555555555555556,
             "#d8576b"
            ],
            [
             0.6666666666666666,
             "#ed7953"
            ],
            [
             0.7777777777777778,
             "#fb9f3a"
            ],
            [
             0.8888888888888888,
             "#fdca26"
            ],
            [
             1,
             "#f0f921"
            ]
           ],
           "sequentialminus": [
            [
             0,
             "#0d0887"
            ],
            [
             0.1111111111111111,
             "#46039f"
            ],
            [
             0.2222222222222222,
             "#7201a8"
            ],
            [
             0.3333333333333333,
             "#9c179e"
            ],
            [
             0.4444444444444444,
             "#bd3786"
            ],
            [
             0.5555555555555556,
             "#d8576b"
            ],
            [
             0.6666666666666666,
             "#ed7953"
            ],
            [
             0.7777777777777778,
             "#fb9f3a"
            ],
            [
             0.8888888888888888,
             "#fdca26"
            ],
            [
             1,
             "#f0f921"
            ]
           ]
          },
          "colorway": [
           "#636efa",
           "#EF553B",
           "#00cc96",
           "#ab63fa",
           "#FFA15A",
           "#19d3f3",
           "#FF6692",
           "#B6E880",
           "#FF97FF",
           "#FECB52"
          ],
          "font": {
           "color": "#2a3f5f"
          },
          "geo": {
           "bgcolor": "white",
           "lakecolor": "white",
           "landcolor": "#E5ECF6",
           "showlakes": true,
           "showland": true,
           "subunitcolor": "white"
          },
          "hoverlabel": {
           "align": "left"
          },
          "hovermode": "closest",
          "mapbox": {
           "style": "light"
          },
          "paper_bgcolor": "white",
          "plot_bgcolor": "#E5ECF6",
          "polar": {
           "angularaxis": {
            "gridcolor": "white",
            "linecolor": "white",
            "ticks": ""
           },
           "bgcolor": "#E5ECF6",
           "radialaxis": {
            "gridcolor": "white",
            "linecolor": "white",
            "ticks": ""
           }
          },
          "scene": {
           "xaxis": {
            "backgroundcolor": "#E5ECF6",
            "gridcolor": "white",
            "gridwidth": 2,
            "linecolor": "white",
            "showbackground": true,
            "ticks": "",
            "zerolinecolor": "white"
           },
           "yaxis": {
            "backgroundcolor": "#E5ECF6",
            "gridcolor": "white",
            "gridwidth": 2,
            "linecolor": "white",
            "showbackground": true,
            "ticks": "",
            "zerolinecolor": "white"
           },
           "zaxis": {
            "backgroundcolor": "#E5ECF6",
            "gridcolor": "white",
            "gridwidth": 2,
            "linecolor": "white",
            "showbackground": true,
            "ticks": "",
            "zerolinecolor": "white"
           }
          },
          "shapedefaults": {
           "line": {
            "color": "#2a3f5f"
           }
          },
          "ternary": {
           "aaxis": {
            "gridcolor": "white",
            "linecolor": "white",
            "ticks": ""
           },
           "baxis": {
            "gridcolor": "white",
            "linecolor": "white",
            "ticks": ""
           },
           "bgcolor": "#E5ECF6",
           "caxis": {
            "gridcolor": "white",
            "linecolor": "white",
            "ticks": ""
           }
          },
          "title": {
           "x": 0.05
          },
          "xaxis": {
           "automargin": true,
           "gridcolor": "white",
           "linecolor": "white",
           "ticks": "",
           "title": {
            "standoff": 15
           },
           "zerolinecolor": "white",
           "zerolinewidth": 2
          },
          "yaxis": {
           "automargin": true,
           "gridcolor": "white",
           "linecolor": "white",
           "ticks": "",
           "title": {
            "standoff": 15
           },
           "zerolinecolor": "white",
           "zerolinewidth": 2
          }
         }
        },
        "title": {
         "text": "World Urban Population per Capita, 2010"
        }
       }
      },
      "text/html": [
       "<div>                            <div id=\"336f342a-c878-4dea-af17-cded3e203523\" class=\"plotly-graph-div\" style=\"height:525px; width:100%;\"></div>            <script type=\"text/javascript\">                require([\"plotly\"], function(Plotly) {                    window.PLOTLYENV=window.PLOTLYENV || {};                                    if (document.getElementById(\"336f342a-c878-4dea-af17-cded3e203523\")) {                    Plotly.newPlot(                        \"336f342a-c878-4dea-af17-cded3e203523\",                        [{\"colorbar\": {\"title\": {\"text\": \"World Urban Population per Capita\"}}, \"colorscale\": [[0.0, \"#440154\"], [0.1111111111111111, \"#482878\"], [0.2222222222222222, \"#3e4989\"], [0.3333333333333333, \"#31688e\"], [0.4444444444444444, \"#26828e\"], [0.5555555555555556, \"#1f9e89\"], [0.6666666666666666, \"#35b779\"], [0.7777777777777778, \"#6ece58\"], [0.8888888888888888, \"#b5de2b\"], [1.0, \"#fde725\"]], \"locationmode\": \"country names\", \"locations\": [\"Aruba\", \"Afghanistan\", \"Angola\", \"Albania\", \"Andorra\", \"Arab World\", \"United Arab Emirates\", \"Argentina\", \"Armenia\", \"American Samoa\", \"Antigua and Barbuda\", \"Australia\", \"Austria\", \"Azerbaijan\", \"Burundi\", \"Belgium\", \"Benin\", \"Burkina Faso\", \"Bangladesh\", \"Bulgaria\", \"Bahrain\", \"Bahamas, The\", \"Bosnia and Herzegovina\", \"Belarus\", \"Belize\", \"Bermuda\", \"Bolivia\", \"Brazil\", \"Barbados\", \"Brunei Darussalam\", \"Bhutan\", \"Botswana\", \"Central African Republic\", \"Canada\", \"Switzerland\", \"Channel Islands\", \"Chile\", \"China\", \"Cote d'Ivoire\", \"Cameroon\", \"Colombia\", \"Comoros\", \"Cabo Verde\", \"Costa Rica\", \"Cuba\", \"Curacao\", \"Cayman Islands\", \"Cyprus\", \"Czech Republic\", \"Germany\", \"Djibouti\", \"Dominica\", \"Denmark\", \"Dominican Republic\", \"Algeria\", \"East Asia & Pacific\", \"Europe & Central Asia\", \"Ecuador\", \"Euro area\", \"Eritrea\", \"Spain\", \"Estonia\", \"Ethiopia\", \"European Union\", \"Finland\", \"Fiji\", \"France\", \"Faroe Islands\", \"Gabon\", \"United Kingdom\", \"Georgia\", \"Ghana\", \"Gibraltar\", \"Guinea\", \"Gambia, The\", \"Guinea-Bissau\", \"Equatorial Guinea\", \"Greece\", \"Grenada\", \"Greenland\", \"Guatemala\", \"Guam\", \"Guyana\", \"High income\", \"Hong Kong SAR, China\", \"Honduras\", \"Croatia\", \"Haiti\", \"Hungary\", \"IDA total\", \"IDA blend\", \"Indonesia\", \"IDA only\", \"Isle of Man\", \"India\", \"Ireland\", \"Iraq\", \"Iceland\", \"Israel\", \"Italy\", \"Jamaica\", \"Jordan\", \"Japan\", \"Kazakhstan\", \"Kenya\", \"Kyrgyz Republic\", \"Cambodia\", \"Kiribati\", \"St. Kitts and Nevis\", \"Kuwait\", \"Lao PDR\", \"Lebanon\", \"Liberia\", \"Libya\", \"St. Lucia\", \"Latin America & Caribbean\", \"Low income\", \"Liechtenstein\", \"Sri Lanka\", \"Lesotho\", \"Lithuania\", \"Luxembourg\", \"Latvia\", \"Macao SAR, China\", \"St. Martin (French part)\", \"Morocco\", \"Monaco\", \"Moldova\", \"Madagascar\", \"Maldives\", \"Middle East & North Africa\", \"Mexico\", \"Marshall Islands\", \"Middle income\", \"North Macedonia\", \"Mali\", \"Malta\", \"Myanmar\", \"Montenegro\", \"Mongolia\", \"Northern Mariana Islands\", \"Mozambique\", \"Mauritania\", \"Mauritius\", \"Malawi\", \"Malaysia\", \"North America\", \"Namibia\", \"New Caledonia\", \"Niger\", \"Nigeria\", \"Nicaragua\", \"Netherlands\", \"Norway\", \"Nepal\", \"Nauru\", \"New Zealand\", \"Oman\", \"Pakistan\", \"Panama\", \"Peru\", \"Philippines\", \"Palau\", \"Papua New Guinea\", \"Poland\", \"Puerto Rico\", \"Portugal\", \"Paraguay\", \"West Bank and Gaza\", \"French Polynesia\", \"Qatar\", \"Romania\", \"Russian Federation\", \"Rwanda\", \"South Asia\", \"Saudi Arabia\", \"Sudan\", \"Senegal\", \"Singapore\", \"Solomon Islands\", \"Sierra Leone\", \"El Salvador\", \"San Marino\", \"Somalia\", \"Serbia\", \"South Sudan\", \"Small states\", \"Sao Tome and Principe\", \"Suriname\", \"Slovak Republic\", \"Slovenia\", \"Sweden\", \"Eswatini\", \"Sint Maarten (Dutch part)\", \"Seychelles\", \"Syrian Arab Republic\", \"Turks and Caicos Islands\", \"Chad\", \"Togo\", \"Thailand\", \"Tajikistan\", \"Turkmenistan\", \"Timor-Leste\", \"Tonga\", \"Trinidad and Tobago\", \"Tunisia\", \"Turkey\", \"Tuvalu\", \"Tanzania\", \"Uganda\", \"Ukraine\", \"Uruguay\", \"United States\", \"Uzbekistan\", \"St. Vincent and the Grenadines\", \"Venezuela, RB\", \"British Virgin Islands\", \"Virgin Islands (U.S.)\", \"Vietnam\", \"Vanuatu\", \"World\", \"Samoa\", \"Kosovo\", \"South Africa\", \"Zambia\", \"Zimbabwe\"], \"text\": [\"Aruba\", \"Afghanistan\", \"Angola\", \"Albania\", \"Andorra\", \"Arab World\", \"United Arab Emirates\", \"Argentina\", \"Armenia\", \"American Samoa\", \"Antigua and Barbuda\", \"Australia\", \"Austria\", \"Azerbaijan\", \"Burundi\", \"Belgium\", \"Benin\", \"Burkina Faso\", \"Bangladesh\", \"Bulgaria\", \"Bahrain\", \"Bahamas, The\", \"Bosnia and Herzegovina\", \"Belarus\", \"Belize\", \"Bermuda\", \"Bolivia\", \"Brazil\", \"Barbados\", \"Brunei Darussalam\", \"Bhutan\", \"Botswana\", \"Central African Republic\", \"Canada\", \"Switzerland\", \"Channel Islands\", \"Chile\", \"China\", \"Cote d'Ivoire\", \"Cameroon\", \"Colombia\", \"Comoros\", \"Cabo Verde\", \"Costa Rica\", \"Cuba\", \"Curacao\", \"Cayman Islands\", \"Cyprus\", \"Czech Republic\", \"Germany\", \"Djibouti\", \"Dominica\", \"Denmark\", \"Dominican Republic\", \"Algeria\", \"East Asia & Pacific\", \"Europe & Central Asia\", \"Ecuador\", \"Euro area\", \"Eritrea\", \"Spain\", \"Estonia\", \"Ethiopia\", \"European Union\", \"Finland\", \"Fiji\", \"France\", \"Faroe Islands\", \"Gabon\", \"United Kingdom\", \"Georgia\", \"Ghana\", \"Gibraltar\", \"Guinea\", \"Gambia, The\", \"Guinea-Bissau\", \"Equatorial Guinea\", \"Greece\", \"Grenada\", \"Greenland\", \"Guatemala\", \"Guam\", \"Guyana\", \"High income\", \"Hong Kong SAR, China\", \"Honduras\", \"Croatia\", \"Haiti\", \"Hungary\", \"IDA total\", \"IDA blend\", \"Indonesia\", \"IDA only\", \"Isle of Man\", \"India\", \"Ireland\", \"Iraq\", \"Iceland\", \"Israel\", \"Italy\", \"Jamaica\", \"Jordan\", \"Japan\", \"Kazakhstan\", \"Kenya\", \"Kyrgyz Republic\", \"Cambodia\", \"Kiribati\", \"St. Kitts and Nevis\", \"Kuwait\", \"Lao PDR\", \"Lebanon\", \"Liberia\", \"Libya\", \"St. Lucia\", \"Latin America & Caribbean\", \"Low income\", \"Liechtenstein\", \"Sri Lanka\", \"Lesotho\", \"Lithuania\", \"Luxembourg\", \"Latvia\", \"Macao SAR, China\", \"St. Martin (French part)\", \"Morocco\", \"Monaco\", \"Moldova\", \"Madagascar\", \"Maldives\", \"Middle East & North Africa\", \"Mexico\", \"Marshall Islands\", \"Middle income\", \"North Macedonia\", \"Mali\", \"Malta\", \"Myanmar\", \"Montenegro\", \"Mongolia\", \"Northern Mariana Islands\", \"Mozambique\", \"Mauritania\", \"Mauritius\", \"Malawi\", \"Malaysia\", \"North America\", \"Namibia\", \"New Caledonia\", \"Niger\", \"Nigeria\", \"Nicaragua\", \"Netherlands\", \"Norway\", \"Nepal\", \"Nauru\", \"New Zealand\", \"Oman\", \"Pakistan\", \"Panama\", \"Peru\", \"Philippines\", \"Palau\", \"Papua New Guinea\", \"Poland\", \"Puerto Rico\", \"Portugal\", \"Paraguay\", \"West Bank and Gaza\", \"French Polynesia\", \"Qatar\", \"Romania\", \"Russian Federation\", \"Rwanda\", \"South Asia\", \"Saudi Arabia\", \"Sudan\", \"Senegal\", \"Singapore\", \"Solomon Islands\", \"Sierra Leone\", \"El Salvador\", \"San Marino\", \"Somalia\", \"Serbia\", \"South Sudan\", \"Small states\", \"Sao Tome and Principe\", \"Suriname\", \"Slovak Republic\", \"Slovenia\", \"Sweden\", \"Eswatini\", \"Sint Maarten (Dutch part)\", \"Seychelles\", \"Syrian Arab Republic\", \"Turks and Caicos Islands\", \"Chad\", \"Togo\", \"Thailand\", \"Tajikistan\", \"Turkmenistan\", \"Timor-Leste\", \"Tonga\", \"Trinidad and Tobago\", \"Tunisia\", \"Turkey\", \"Tuvalu\", \"Tanzania\", \"Uganda\", \"Ukraine\", \"Uruguay\", \"United States\", \"Uzbekistan\", \"St. Vincent and the Grenadines\", \"Venezuela, RB\", \"British Virgin Islands\", \"Virgin Islands (U.S.)\", \"Vietnam\", \"Vanuatu\", \"World\", \"Samoa\", \"Kosovo\", \"South Africa\", \"Zambia\", \"Zimbabwe\"], \"type\": \"choropleth\", \"z\": [0.430593396217136, 0.23737000696955513, 0.5978300194303485, 0.5216299504878269, 0.8881928738054921, 0.5644087951050484, 0.8408699520981784, 0.9084900081893275, 0.6343999396660572, 0.8759428663135933, 0.26238242377425364, 0.8518199870641233, 0.5739899686778255, 0.5340600499296911, 0.10642005015905524, 0.9765100289236394, 0.4309300346908376, 0.24632999336055372, 0.3046199967027032, 0.7230200014900754, 0.8863401189497606, 0.8242698807129052, 0.4555800178762652, 0.7467199854845588, 0.45227994442790515, 1.0, 0.6642999664629565, 0.8433499996052907, 0.3186994693954227, 0.7496101851041822, 0.34792991423815794, 0.6241200137889039, 0.3890399492291364, 0.8093699997079832, 0.736070029696192, 0.3105412748694705, 0.8707400236400966, 0.4922599997757353, 0.4732999885549811, 0.5155899780155989, 0.7796399816906111, 0.2797306623826288, 0.618210752373877, 0.7173600257614731, 0.7659700412405958, 0.8990470938716771, 1.0, 0.6755104205239563, 0.7325499956560799, 0.7696600006872354, 0.7699899309448487, 0.6809447219165327, 0.8679499171095393, 0.7375300421727589, 0.6753999970259152, 0.5194533735624958, 0.7062946820324675, 0.6268999835255431, 0.7528169852258779, 0.35175015415865646, 0.7844200097743738, 0.68094031055784, 0.1731899958334077, 0.7297232643478051, 0.8377000055189366, 0.521710408481795, 0.7836900006023605, 0.40925252018237335, 0.8553302055241543, 0.8130199988481092, 0.5553499819763672, 0.5071299925959314, 1.0, 0.3367799967347503, 0.5566201352222512, 0.4011102069553441, 0.6594004698830803, 0.762919957224583, 0.3586456185930925, 0.8438274316843862, 0.48402997905914763, 0.9409886856827475, 0.26634028789649816, 0.7942468555953835, 1.0, 0.5188499627891655, 0.5515500554426835, 0.4750899609038686, 0.6891100150469653, 0.3326436291187656, 0.3853915421587446, 0.49913999968945666, 0.30618839994515323, 0.5199453197732656, 0.3093000000964124, 0.6154200898872955, 0.6910300109179027, 0.9357409893692952, 0.918260008394984, 0.6832700048316883, 0.5374301715733367, 0.8608800420957596, 0.9081199968767081, 0.5682699876582784, 0.23571000856612442, 0.3530600781952679, 0.2029399788097046, 0.47389897694482497, 0.3131834503019422, 1.0, 0.3006400055047354, 0.873339940695259, 0.47812998862093314, 0.7805200121400598, 0.1845018238216963, 0.7854068795134237, 0.3034008894040114, 0.14463521698060788, 0.18225999083889008, 0.2479799116147127, 0.6675701469869388, 0.8854706452077411, 0.6784098629118187, 1.0, null, 0.5801799867045473, 1.0, 0.42620008408215726, 0.31938001024979623, 0.36434129722694636, 0.6265662120671961, 0.7781499986112203, 0.735673987865025, 0.4751401333686625, 0.5708898408830462, 0.3599900274782577, 0.9407200826039546, 0.2888499944803264, 0.6413998075643981, 0.6756699520864033, 0.9094884289711141, 0.3182999998215164, 0.4658801240342912, 0.41555022392834295, 0.15543998010400828, 0.7091200078275569, 0.8079198593510474, 0.41616018696722884, 0.6710190190190191, 0.16220996991926337, 0.43479999964921845, 0.5691699869421101, 0.8713399754468657, 0.791019976061778, 0.16767998563073505, 1.0, 0.8615999724182315, 0.7516099313679008, 0.349970002169323, 0.6513999144038453, 0.7642999917940376, 0.4533200030904539, 0.7481481481481481, 0.1301900128130648, 0.6089199967804678, 0.9382500453443144, 0.6056699548855113, 0.592609978841297, 0.7414901268065462, 0.6031712671933347, 0.9850101840893334, 0.5382899905866936, 0.7368699966036976, 0.16933995050271242, 0.30817367253793637, 0.8208399982772617, 0.3308899898228436, 0.4377300217665861, 1.0, 0.2004808083946342, 0.3885600394286831, 0.6545200218309717, 0.9574113804476608, 0.39309996618200294, 0.5499299452124382, 0.17860001994033883, 0.5478732211976123, 0.6495223733305243, 0.6634330628899082, 0.5468499254742899, 0.5265800799869959, 0.8505600159349533, 0.2247996641739534, 1.0, 0.5333630388771304, 0.5559999941954438, 0.9022657685241886, 0.2198499916667615, 0.3753300344037751, 0.4385599928613766, 0.2652000147727089, 0.48490991039691084, 0.27732018439484124, 0.23388725405343028, 0.5402496862169625, 0.6665700382614634, 0.7082499965296495, 0.5479582146248813, 0.2811399991318373, 0.19383001203860828, 0.6859599891791589, 0.9441400302148529, 0.8077199998011132, 0.509560015965045, 0.4896124890305298, 0.8808299876863313, 0.4481542779017054, 0.9459384632422156, 0.30416999539978623, 0.24462027593973185, 0.5163274959869835, 0.20078085926786376, null, 0.6221800066087478, 0.39354999976480937, 0.3319599899919064]}],                        {\"geo\": {\"projection\": {\"type\": \"mercator\"}}, \"template\": {\"data\": {\"bar\": [{\"error_x\": {\"color\": \"#2a3f5f\"}, \"error_y\": {\"color\": \"#2a3f5f\"}, \"marker\": {\"line\": {\"color\": \"#E5ECF6\", \"width\": 0.5}}, \"type\": \"bar\"}], \"barpolar\": [{\"marker\": {\"line\": {\"color\": \"#E5ECF6\", \"width\": 0.5}}, \"type\": \"barpolar\"}], \"carpet\": [{\"aaxis\": {\"endlinecolor\": \"#2a3f5f\", \"gridcolor\": \"white\", \"linecolor\": \"white\", \"minorgridcolor\": \"white\", \"startlinecolor\": \"#2a3f5f\"}, \"baxis\": {\"endlinecolor\": \"#2a3f5f\", \"gridcolor\": \"white\", \"linecolor\": \"white\", \"minorgridcolor\": \"white\", \"startlinecolor\": \"#2a3f5f\"}, \"type\": \"carpet\"}], \"choropleth\": [{\"colorbar\": {\"outlinewidth\": 0, \"ticks\": \"\"}, \"type\": \"choropleth\"}], \"contour\": [{\"colorbar\": {\"outlinewidth\": 0, \"ticks\": \"\"}, \"colorscale\": [[0.0, \"#0d0887\"], [0.1111111111111111, \"#46039f\"], [0.2222222222222222, \"#7201a8\"], [0.3333333333333333, \"#9c179e\"], [0.4444444444444444, \"#bd3786\"], [0.5555555555555556, \"#d8576b\"], [0.6666666666666666, \"#ed7953\"], [0.7777777777777778, \"#fb9f3a\"], [0.8888888888888888, \"#fdca26\"], [1.0, \"#f0f921\"]], \"type\": \"contour\"}], \"contourcarpet\": [{\"colorbar\": {\"outlinewidth\": 0, \"ticks\": \"\"}, \"type\": \"contourcarpet\"}], \"heatmap\": [{\"colorbar\": {\"outlinewidth\": 0, \"ticks\": \"\"}, \"colorscale\": [[0.0, \"#0d0887\"], [0.1111111111111111, \"#46039f\"], [0.2222222222222222, \"#7201a8\"], [0.3333333333333333, \"#9c179e\"], [0.4444444444444444, \"#bd3786\"], [0.5555555555555556, \"#d8576b\"], [0.6666666666666666, \"#ed7953\"], [0.7777777777777778, \"#fb9f3a\"], [0.8888888888888888, \"#fdca26\"], [1.0, \"#f0f921\"]], \"type\": \"heatmap\"}], \"heatmapgl\": [{\"colorbar\": {\"outlinewidth\": 0, \"ticks\": \"\"}, \"colorscale\": [[0.0, \"#0d0887\"], [0.1111111111111111, \"#46039f\"], [0.2222222222222222, \"#7201a8\"], [0.3333333333333333, \"#9c179e\"], [0.4444444444444444, \"#bd3786\"], [0.5555555555555556, \"#d8576b\"], [0.6666666666666666, \"#ed7953\"], [0.7777777777777778, \"#fb9f3a\"], [0.8888888888888888, \"#fdca26\"], [1.0, \"#f0f921\"]], \"type\": \"heatmapgl\"}], \"histogram\": [{\"marker\": {\"colorbar\": {\"outlinewidth\": 0, \"ticks\": \"\"}}, \"type\": \"histogram\"}], \"histogram2d\": [{\"colorbar\": {\"outlinewidth\": 0, \"ticks\": \"\"}, \"colorscale\": [[0.0, \"#0d0887\"], [0.1111111111111111, \"#46039f\"], [0.2222222222222222, \"#7201a8\"], [0.3333333333333333, \"#9c179e\"], [0.4444444444444444, \"#bd3786\"], [0.5555555555555556, \"#d8576b\"], [0.6666666666666666, \"#ed7953\"], [0.7777777777777778, \"#fb9f3a\"], [0.8888888888888888, \"#fdca26\"], [1.0, \"#f0f921\"]], \"type\": \"histogram2d\"}], \"histogram2dcontour\": [{\"colorbar\": {\"outlinewidth\": 0, \"ticks\": \"\"}, \"colorscale\": [[0.0, \"#0d0887\"], [0.1111111111111111, \"#46039f\"], [0.2222222222222222, \"#7201a8\"], [0.3333333333333333, \"#9c179e\"], [0.4444444444444444, \"#bd3786\"], [0.5555555555555556, \"#d8576b\"], [0.6666666666666666, \"#ed7953\"], [0.7777777777777778, \"#fb9f3a\"], [0.8888888888888888, \"#fdca26\"], [1.0, \"#f0f921\"]], \"type\": \"histogram2dcontour\"}], \"mesh3d\": [{\"colorbar\": {\"outlinewidth\": 0, \"ticks\": \"\"}, \"type\": \"mesh3d\"}], \"parcoords\": [{\"line\": {\"colorbar\": {\"outlinewidth\": 0, \"ticks\": \"\"}}, \"type\": \"parcoords\"}], \"pie\": [{\"automargin\": true, \"type\": \"pie\"}], \"scatter\": [{\"marker\": {\"colorbar\": {\"outlinewidth\": 0, \"ticks\": \"\"}}, \"type\": \"scatter\"}], \"scatter3d\": [{\"line\": {\"colorbar\": {\"outlinewidth\": 0, \"ticks\": \"\"}}, \"marker\": {\"colorbar\": {\"outlinewidth\": 0, \"ticks\": \"\"}}, \"type\": \"scatter3d\"}], \"scattercarpet\": [{\"marker\": {\"colorbar\": {\"outlinewidth\": 0, \"ticks\": \"\"}}, \"type\": \"scattercarpet\"}], \"scattergeo\": [{\"marker\": {\"colorbar\": {\"outlinewidth\": 0, \"ticks\": \"\"}}, \"type\": \"scattergeo\"}], \"scattergl\": [{\"marker\": {\"colorbar\": {\"outlinewidth\": 0, \"ticks\": \"\"}}, \"type\": \"scattergl\"}], \"scattermapbox\": [{\"marker\": {\"colorbar\": {\"outlinewidth\": 0, \"ticks\": \"\"}}, \"type\": \"scattermapbox\"}], \"scatterpolar\": [{\"marker\": {\"colorbar\": {\"outlinewidth\": 0, \"ticks\": \"\"}}, \"type\": \"scatterpolar\"}], \"scatterpolargl\": [{\"marker\": {\"colorbar\": {\"outlinewidth\": 0, \"ticks\": \"\"}}, \"type\": \"scatterpolargl\"}], \"scatterternary\": [{\"marker\": {\"colorbar\": {\"outlinewidth\": 0, \"ticks\": \"\"}}, \"type\": \"scatterternary\"}], \"surface\": [{\"colorbar\": {\"outlinewidth\": 0, \"ticks\": \"\"}, \"colorscale\": [[0.0, \"#0d0887\"], [0.1111111111111111, \"#46039f\"], [0.2222222222222222, \"#7201a8\"], [0.3333333333333333, \"#9c179e\"], [0.4444444444444444, \"#bd3786\"], [0.5555555555555556, \"#d8576b\"], [0.6666666666666666, \"#ed7953\"], [0.7777777777777778, \"#fb9f3a\"], [0.8888888888888888, \"#fdca26\"], [1.0, \"#f0f921\"]], \"type\": \"surface\"}], \"table\": [{\"cells\": {\"fill\": {\"color\": \"#EBF0F8\"}, \"line\": {\"color\": \"white\"}}, \"header\": {\"fill\": {\"color\": \"#C8D4E3\"}, \"line\": {\"color\": \"white\"}}, \"type\": \"table\"}]}, \"layout\": {\"annotationdefaults\": {\"arrowcolor\": \"#2a3f5f\", \"arrowhead\": 0, \"arrowwidth\": 1}, \"autotypenumbers\": \"strict\", \"coloraxis\": {\"colorbar\": {\"outlinewidth\": 0, \"ticks\": \"\"}}, \"colorscale\": {\"diverging\": [[0, \"#8e0152\"], [0.1, \"#c51b7d\"], [0.2, \"#de77ae\"], [0.3, \"#f1b6da\"], [0.4, \"#fde0ef\"], [0.5, \"#f7f7f7\"], [0.6, \"#e6f5d0\"], [0.7, \"#b8e186\"], [0.8, \"#7fbc41\"], [0.9, \"#4d9221\"], [1, \"#276419\"]], \"sequential\": [[0.0, \"#0d0887\"], [0.1111111111111111, \"#46039f\"], [0.2222222222222222, \"#7201a8\"], [0.3333333333333333, \"#9c179e\"], [0.4444444444444444, \"#bd3786\"], [0.5555555555555556, \"#d8576b\"], [0.6666666666666666, \"#ed7953\"], [0.7777777777777778, \"#fb9f3a\"], [0.8888888888888888, \"#fdca26\"], [1.0, \"#f0f921\"]], \"sequentialminus\": [[0.0, \"#0d0887\"], [0.1111111111111111, \"#46039f\"], [0.2222222222222222, \"#7201a8\"], [0.3333333333333333, \"#9c179e\"], [0.4444444444444444, \"#bd3786\"], [0.5555555555555556, \"#d8576b\"], [0.6666666666666666, \"#ed7953\"], [0.7777777777777778, \"#fb9f3a\"], [0.8888888888888888, \"#fdca26\"], [1.0, \"#f0f921\"]]}, \"colorway\": [\"#636efa\", \"#EF553B\", \"#00cc96\", \"#ab63fa\", \"#FFA15A\", \"#19d3f3\", \"#FF6692\", \"#B6E880\", \"#FF97FF\", \"#FECB52\"], \"font\": {\"color\": \"#2a3f5f\"}, \"geo\": {\"bgcolor\": \"white\", \"lakecolor\": \"white\", \"landcolor\": \"#E5ECF6\", \"showlakes\": true, \"showland\": true, \"subunitcolor\": \"white\"}, \"hoverlabel\": {\"align\": \"left\"}, \"hovermode\": \"closest\", \"mapbox\": {\"style\": \"light\"}, \"paper_bgcolor\": \"white\", \"plot_bgcolor\": \"#E5ECF6\", \"polar\": {\"angularaxis\": {\"gridcolor\": \"white\", \"linecolor\": \"white\", \"ticks\": \"\"}, \"bgcolor\": \"#E5ECF6\", \"radialaxis\": {\"gridcolor\": \"white\", \"linecolor\": \"white\", \"ticks\": \"\"}}, \"scene\": {\"xaxis\": {\"backgroundcolor\": \"#E5ECF6\", \"gridcolor\": \"white\", \"gridwidth\": 2, \"linecolor\": \"white\", \"showbackground\": true, \"ticks\": \"\", \"zerolinecolor\": \"white\"}, \"yaxis\": {\"backgroundcolor\": \"#E5ECF6\", \"gridcolor\": \"white\", \"gridwidth\": 2, \"linecolor\": \"white\", \"showbackground\": true, \"ticks\": \"\", \"zerolinecolor\": \"white\"}, \"zaxis\": {\"backgroundcolor\": \"#E5ECF6\", \"gridcolor\": \"white\", \"gridwidth\": 2, \"linecolor\": \"white\", \"showbackground\": true, \"ticks\": \"\", \"zerolinecolor\": \"white\"}}, \"shapedefaults\": {\"line\": {\"color\": \"#2a3f5f\"}}, \"ternary\": {\"aaxis\": {\"gridcolor\": \"white\", \"linecolor\": \"white\", \"ticks\": \"\"}, \"baxis\": {\"gridcolor\": \"white\", \"linecolor\": \"white\", \"ticks\": \"\"}, \"bgcolor\": \"#E5ECF6\", \"caxis\": {\"gridcolor\": \"white\", \"linecolor\": \"white\", \"ticks\": \"\"}}, \"title\": {\"x\": 0.05}, \"xaxis\": {\"automargin\": true, \"gridcolor\": \"white\", \"linecolor\": \"white\", \"ticks\": \"\", \"title\": {\"standoff\": 15}, \"zerolinecolor\": \"white\", \"zerolinewidth\": 2}, \"yaxis\": {\"automargin\": true, \"gridcolor\": \"white\", \"linecolor\": \"white\", \"ticks\": \"\", \"title\": {\"standoff\": 15}, \"zerolinecolor\": \"white\", \"zerolinewidth\": 2}}}, \"title\": {\"text\": \"World Urban Population per Capita, 2010\"}},                        {\"responsive\": true}                    ).then(function(){\n",
       "                            \n",
       "var gd = document.getElementById('336f342a-c878-4dea-af17-cded3e203523');\n",
       "var x = new MutationObserver(function (mutations, observer) {{\n",
       "        var display = window.getComputedStyle(gd).display;\n",
       "        if (!display || display === 'none') {{\n",
       "            console.log([gd, 'removed!']);\n",
       "            Plotly.purge(gd);\n",
       "            observer.disconnect();\n",
       "        }}\n",
       "}});\n",
       "\n",
       "// Listen for the removal of the full notebook cells\n",
       "var notebookContainer = gd.closest('#notebook-container');\n",
       "if (notebookContainer) {{\n",
       "    x.observe(notebookContainer, {childList: true});\n",
       "}}\n",
       "\n",
       "// Listen for the clearing of the current output cell\n",
       "var outputEl = gd.closest('.output');\n",
       "if (outputEl) {{\n",
       "    x.observe(outputEl, {childList: true});\n",
       "}}\n",
       "\n",
       "                        })                };                });            </script>        </div>"
      ]
     },
     "metadata": {},
     "output_type": "display_data"
    }
   ],
   "source": [
    "data = dict(\n",
    "        type = 'choropleth',\n",
    "        colorscale = 'Viridis',\n",
    "        locations = gdf_populations['Country Name'],\n",
    "        locationmode = \"country names\",\n",
    "        z = gdf_populations['WUP_per_cap_2010'],\n",
    "        text = gdf_populations['Country Name'],\n",
    "        colorbar = {'title' : 'World Urban Population per Capita'},\n",
    "      )\n",
    "\n",
    "layout = dict(title = 'World Urban Population per Capita, 2010',\n",
    "              geo = dict(projection = {'type':'mercator'})\n",
    "             )\n",
    "\n",
    "choromap = go.Figure(data = [data],layout = layout)\n",
    "iplot(choromap,validate=False)"
   ]
  },
  {
   "cell_type": "markdown",
   "id": "ab2aa225",
   "metadata": {},
   "source": [
    "# TASK 2.2 "
   ]
  },
  {
   "cell_type": "markdown",
   "id": "4e2359b8",
   "metadata": {},
   "source": [
    "> For year 2010, plot the urban population per capita for only the countries having \n",
    "population greater than 290000000. "
   ]
  },
  {
   "cell_type": "code",
   "execution_count": 22,
   "id": "7f4f509b",
   "metadata": {},
   "outputs": [],
   "source": [
    "#save the countries with population greater than 290000000 to a dataframe\n",
    "gdf1 = gdf_populations[gdf_populations[\"2010 World Population\"] > 290000000]"
   ]
  },
  {
   "cell_type": "code",
   "execution_count": 23,
   "id": "0210def4",
   "metadata": {},
   "outputs": [
    {
     "data": {
      "text/html": [
       "<div>\n",
       "<style scoped>\n",
       "    .dataframe tbody tr th:only-of-type {\n",
       "        vertical-align: middle;\n",
       "    }\n",
       "\n",
       "    .dataframe tbody tr th {\n",
       "        vertical-align: top;\n",
       "    }\n",
       "\n",
       "    .dataframe thead th {\n",
       "        text-align: right;\n",
       "    }\n",
       "</style>\n",
       "<table border=\"1\" class=\"dataframe\">\n",
       "  <thead>\n",
       "    <tr style=\"text-align: right;\">\n",
       "      <th></th>\n",
       "      <th>Country Name</th>\n",
       "      <th>1990 World Population</th>\n",
       "      <th>1991 World Population</th>\n",
       "      <th>1992 World Population</th>\n",
       "      <th>1993 World Population</th>\n",
       "      <th>1994 World Population</th>\n",
       "      <th>1995 World Population</th>\n",
       "      <th>1996 World Population</th>\n",
       "      <th>1997 World Population</th>\n",
       "      <th>1998 World Population</th>\n",
       "      <th>...</th>\n",
       "      <th>2008 Urban World Population</th>\n",
       "      <th>2009 Urban World Population</th>\n",
       "      <th>2010 Urban World Population</th>\n",
       "      <th>points</th>\n",
       "      <th>lat</th>\n",
       "      <th>lng</th>\n",
       "      <th>WUP_per_cap_1990</th>\n",
       "      <th>WUP_per_cap_2000</th>\n",
       "      <th>WUP_per_cap_2010</th>\n",
       "      <th>geometry</th>\n",
       "    </tr>\n",
       "  </thead>\n",
       "  <tbody>\n",
       "    <tr>\n",
       "      <th>5</th>\n",
       "      <td>Arab World</td>\n",
       "      <td>2.226534e+08</td>\n",
       "      <td>2.287317e+08</td>\n",
       "      <td>2.329564e+08</td>\n",
       "      <td>2.392433e+08</td>\n",
       "      <td>2.454494e+08</td>\n",
       "      <td>2.531073e+08</td>\n",
       "      <td>2.590010e+08</td>\n",
       "      <td>2.648222e+08</td>\n",
       "      <td>2.705758e+08</td>\n",
       "      <td>...</td>\n",
       "      <td>1.880773e+08</td>\n",
       "      <td>1.941462e+08</td>\n",
       "      <td>2.003031e+08</td>\n",
       "      <td>(30.84165265, 29.670019315230654, 0.0)</td>\n",
       "      <td>30.841653</td>\n",
       "      <td>29.670019</td>\n",
       "      <td>0.503952</td>\n",
       "      <td>0.529893</td>\n",
       "      <td>0.564409</td>\n",
       "      <td>POINT (29.67002 30.84165)</td>\n",
       "    </tr>\n",
       "    <tr>\n",
       "      <th>38</th>\n",
       "      <td>China</td>\n",
       "      <td>1.135185e+09</td>\n",
       "      <td>1.150780e+09</td>\n",
       "      <td>1.164970e+09</td>\n",
       "      <td>1.178440e+09</td>\n",
       "      <td>1.191835e+09</td>\n",
       "      <td>1.204855e+09</td>\n",
       "      <td>1.217550e+09</td>\n",
       "      <td>1.230075e+09</td>\n",
       "      <td>1.241935e+09</td>\n",
       "      <td>...</td>\n",
       "      <td>6.164812e+08</td>\n",
       "      <td>6.374073e+08</td>\n",
       "      <td>6.584987e+08</td>\n",
       "      <td>(35.000074, 104.999927, 0.0)</td>\n",
       "      <td>35.000074</td>\n",
       "      <td>104.999927</td>\n",
       "      <td>0.264420</td>\n",
       "      <td>0.358770</td>\n",
       "      <td>0.492260</td>\n",
       "      <td>POINT (104.99993 35.00007)</td>\n",
       "    </tr>\n",
       "    <tr>\n",
       "      <th>61</th>\n",
       "      <td>East Asia &amp; Pacific</td>\n",
       "      <td>1.822193e+09</td>\n",
       "      <td>1.848222e+09</td>\n",
       "      <td>1.872481e+09</td>\n",
       "      <td>1.895898e+09</td>\n",
       "      <td>1.919360e+09</td>\n",
       "      <td>1.942431e+09</td>\n",
       "      <td>1.965147e+09</td>\n",
       "      <td>1.987316e+09</td>\n",
       "      <td>2.008705e+09</td>\n",
       "      <td>...</td>\n",
       "      <td>1.086071e+09</td>\n",
       "      <td>1.116141e+09</td>\n",
       "      <td>1.146374e+09</td>\n",
       "      <td>(34.8528895, -82.3573713, 0.0)</td>\n",
       "      <td>34.852890</td>\n",
       "      <td>-82.357371</td>\n",
       "      <td>0.339576</td>\n",
       "      <td>0.414208</td>\n",
       "      <td>0.519453</td>\n",
       "      <td>POINT (-82.35737 34.85289)</td>\n",
       "    </tr>\n",
       "    <tr>\n",
       "      <th>63</th>\n",
       "      <td>Europe &amp; Central Asia</td>\n",
       "      <td>8.415204e+08</td>\n",
       "      <td>8.453981e+08</td>\n",
       "      <td>8.488779e+08</td>\n",
       "      <td>8.519238e+08</td>\n",
       "      <td>8.540320e+08</td>\n",
       "      <td>8.554907e+08</td>\n",
       "      <td>8.568569e+08</td>\n",
       "      <td>8.581647e+08</td>\n",
       "      <td>8.592978e+08</td>\n",
       "      <td>...</td>\n",
       "      <td>6.186692e+08</td>\n",
       "      <td>6.229916e+08</td>\n",
       "      <td>6.271380e+08</td>\n",
       "      <td>(16.853218, 96.117122, 0.0)</td>\n",
       "      <td>16.853218</td>\n",
       "      <td>96.117122</td>\n",
       "      <td>0.674567</td>\n",
       "      <td>0.686059</td>\n",
       "      <td>0.706295</td>\n",
       "      <td>POINT (96.11712 16.85322)</td>\n",
       "    </tr>\n",
       "    <tr>\n",
       "      <th>66</th>\n",
       "      <td>Euro area</td>\n",
       "      <td>3.112626e+08</td>\n",
       "      <td>3.127081e+08</td>\n",
       "      <td>3.141621e+08</td>\n",
       "      <td>3.154491e+08</td>\n",
       "      <td>3.163668e+08</td>\n",
       "      <td>3.171814e+08</td>\n",
       "      <td>3.180030e+08</td>\n",
       "      <td>3.187618e+08</td>\n",
       "      <td>3.194340e+08</td>\n",
       "      <td>...</td>\n",
       "      <td>2.501149e+08</td>\n",
       "      <td>2.516913e+08</td>\n",
       "      <td>2.530605e+08</td>\n",
       "      <td>(38.6811851, -9.1546646, 0.0)</td>\n",
       "      <td>38.681185</td>\n",
       "      <td>-9.154665</td>\n",
       "      <td>0.712200</td>\n",
       "      <td>0.729422</td>\n",
       "      <td>0.752817</td>\n",
       "      <td>POINT (-9.15466 38.68119)</td>\n",
       "    </tr>\n",
       "    <tr>\n",
       "      <th>71</th>\n",
       "      <td>European Union</td>\n",
       "      <td>4.204780e+08</td>\n",
       "      <td>4.217305e+08</td>\n",
       "      <td>4.229639e+08</td>\n",
       "      <td>4.243411e+08</td>\n",
       "      <td>4.253991e+08</td>\n",
       "      <td>4.262033e+08</td>\n",
       "      <td>4.268969e+08</td>\n",
       "      <td>4.275381e+08</td>\n",
       "      <td>4.281099e+08</td>\n",
       "      <td>...</td>\n",
       "      <td>3.191527e+08</td>\n",
       "      <td>3.208268e+08</td>\n",
       "      <td>3.221965e+08</td>\n",
       "      <td>(42.6788082, 23.3216264, 0.0)</td>\n",
       "      <td>42.678808</td>\n",
       "      <td>23.321626</td>\n",
       "      <td>0.693689</td>\n",
       "      <td>0.708257</td>\n",
       "      <td>0.729723</td>\n",
       "      <td>POINT (23.32163 42.67881)</td>\n",
       "    </tr>\n",
       "    <tr>\n",
       "      <th>93</th>\n",
       "      <td>High income</td>\n",
       "      <td>1.028439e+09</td>\n",
       "      <td>1.036688e+09</td>\n",
       "      <td>1.042742e+09</td>\n",
       "      <td>1.050718e+09</td>\n",
       "      <td>1.058315e+09</td>\n",
       "      <td>1.067202e+09</td>\n",
       "      <td>1.074337e+09</td>\n",
       "      <td>1.081272e+09</td>\n",
       "      <td>1.088082e+09</td>\n",
       "      <td>...</td>\n",
       "      <td>9.175934e+08</td>\n",
       "      <td>9.274879e+08</td>\n",
       "      <td>9.366784e+08</td>\n",
       "      <td>(35.9239085, -79.9803402, 0.0)</td>\n",
       "      <td>35.923909</td>\n",
       "      <td>-79.980340</td>\n",
       "      <td>0.737523</td>\n",
       "      <td>0.761523</td>\n",
       "      <td>0.794247</td>\n",
       "      <td>POINT (-79.98034 35.92391)</td>\n",
       "    </tr>\n",
       "    <tr>\n",
       "      <th>102</th>\n",
       "      <td>IDA total</td>\n",
       "      <td>8.333640e+08</td>\n",
       "      <td>8.562907e+08</td>\n",
       "      <td>8.797743e+08</td>\n",
       "      <td>9.036457e+08</td>\n",
       "      <td>9.277926e+08</td>\n",
       "      <td>9.522224e+08</td>\n",
       "      <td>9.769370e+08</td>\n",
       "      <td>1.001908e+09</td>\n",
       "      <td>1.026987e+09</td>\n",
       "      <td>...</td>\n",
       "      <td>4.211431e+08</td>\n",
       "      <td>4.373727e+08</td>\n",
       "      <td>4.541739e+08</td>\n",
       "      <td>(30.4181709, -9.5965706, 0.0)</td>\n",
       "      <td>30.418171</td>\n",
       "      <td>-9.596571</td>\n",
       "      <td>0.255007</td>\n",
       "      <td>0.289078</td>\n",
       "      <td>0.332644</td>\n",
       "      <td>POINT (-9.59657 30.41817)</td>\n",
       "    </tr>\n",
       "    <tr>\n",
       "      <th>103</th>\n",
       "      <td>IDA blend</td>\n",
       "      <td>2.784966e+08</td>\n",
       "      <td>2.861425e+08</td>\n",
       "      <td>2.938749e+08</td>\n",
       "      <td>3.016798e+08</td>\n",
       "      <td>3.095681e+08</td>\n",
       "      <td>3.176161e+08</td>\n",
       "      <td>3.259087e+08</td>\n",
       "      <td>3.343992e+08</td>\n",
       "      <td>3.429810e+08</td>\n",
       "      <td>...</td>\n",
       "      <td>1.631992e+08</td>\n",
       "      <td>1.692951e+08</td>\n",
       "      <td>1.757576e+08</td>\n",
       "      <td>(51.0494836, 3.7298482, 0.0)</td>\n",
       "      <td>51.049484</td>\n",
       "      <td>3.729848</td>\n",
       "      <td>0.301859</td>\n",
       "      <td>0.338644</td>\n",
       "      <td>0.385392</td>\n",
       "      <td>POINT (3.72985 51.04948)</td>\n",
       "    </tr>\n",
       "    <tr>\n",
       "      <th>105</th>\n",
       "      <td>IDA only</td>\n",
       "      <td>5.548674e+08</td>\n",
       "      <td>5.701482e+08</td>\n",
       "      <td>5.858993e+08</td>\n",
       "      <td>6.019659e+08</td>\n",
       "      <td>6.182245e+08</td>\n",
       "      <td>6.346063e+08</td>\n",
       "      <td>6.510284e+08</td>\n",
       "      <td>6.675084e+08</td>\n",
       "      <td>6.840062e+08</td>\n",
       "      <td>...</td>\n",
       "      <td>2.579439e+08</td>\n",
       "      <td>2.680776e+08</td>\n",
       "      <td>2.784162e+08</td>\n",
       "      <td>(51.0661369, 3.7087344, 0.0)</td>\n",
       "      <td>51.066137</td>\n",
       "      <td>3.708734</td>\n",
       "      <td>0.231491</td>\n",
       "      <td>0.264214</td>\n",
       "      <td>0.306188</td>\n",
       "      <td>POINT (3.70873 51.06614)</td>\n",
       "    </tr>\n",
       "    <tr>\n",
       "      <th>107</th>\n",
       "      <td>India</td>\n",
       "      <td>8.732778e+08</td>\n",
       "      <td>8.912732e+08</td>\n",
       "      <td>9.093070e+08</td>\n",
       "      <td>9.274039e+08</td>\n",
       "      <td>9.456018e+08</td>\n",
       "      <td>9.639226e+08</td>\n",
       "      <td>9.823652e+08</td>\n",
       "      <td>1.000900e+09</td>\n",
       "      <td>1.019484e+09</td>\n",
       "      <td>...</td>\n",
       "      <td>3.631546e+08</td>\n",
       "      <td>3.724659e+08</td>\n",
       "      <td>3.817632e+08</td>\n",
       "      <td>(22.3511148, 78.6677428, 0.0)</td>\n",
       "      <td>22.351115</td>\n",
       "      <td>78.667743</td>\n",
       "      <td>0.255470</td>\n",
       "      <td>0.276670</td>\n",
       "      <td>0.309300</td>\n",
       "      <td>POINT (78.66774 22.35111)</td>\n",
       "    </tr>\n",
       "    <tr>\n",
       "      <th>132</th>\n",
       "      <td>Latin America &amp; Caribbean</td>\n",
       "      <td>4.418270e+08</td>\n",
       "      <td>4.499388e+08</td>\n",
       "      <td>4.580110e+08</td>\n",
       "      <td>4.660516e+08</td>\n",
       "      <td>4.740586e+08</td>\n",
       "      <td>4.820289e+08</td>\n",
       "      <td>4.899709e+08</td>\n",
       "      <td>4.978581e+08</td>\n",
       "      <td>5.056871e+08</td>\n",
       "      <td>...</td>\n",
       "      <td>4.497694e+08</td>\n",
       "      <td>4.566041e+08</td>\n",
       "      <td>4.633371e+08</td>\n",
       "      <td>(10.64174505, -61.400713892586495, 0.0)</td>\n",
       "      <td>10.641745</td>\n",
       "      <td>-61.400714</td>\n",
       "      <td>0.706813</td>\n",
       "      <td>0.754740</td>\n",
       "      <td>0.785407</td>\n",
       "      <td>POINT (-61.40071 10.64175)</td>\n",
       "    </tr>\n",
       "    <tr>\n",
       "      <th>134</th>\n",
       "      <td>Low income</td>\n",
       "      <td>3.033904e+08</td>\n",
       "      <td>3.122356e+08</td>\n",
       "      <td>3.215310e+08</td>\n",
       "      <td>3.311557e+08</td>\n",
       "      <td>3.409416e+08</td>\n",
       "      <td>3.507743e+08</td>\n",
       "      <td>3.606019e+08</td>\n",
       "      <td>3.704780e+08</td>\n",
       "      <td>3.805226e+08</td>\n",
       "      <td>...</td>\n",
       "      <td>1.491925e+08</td>\n",
       "      <td>1.551579e+08</td>\n",
       "      <td>1.611848e+08</td>\n",
       "      <td>(31.3458901, 27.222160782361907, 0.0)</td>\n",
       "      <td>31.345890</td>\n",
       "      <td>27.222161</td>\n",
       "      <td>0.247012</td>\n",
       "      <td>0.274537</td>\n",
       "      <td>0.303401</td>\n",
       "      <td>POINT (27.22216 31.34589)</td>\n",
       "    </tr>\n",
       "    <tr>\n",
       "      <th>151</th>\n",
       "      <td>Middle East &amp; North Africa</td>\n",
       "      <td>2.542151e+08</td>\n",
       "      <td>2.610463e+08</td>\n",
       "      <td>2.656566e+08</td>\n",
       "      <td>2.721078e+08</td>\n",
       "      <td>2.783850e+08</td>\n",
       "      <td>2.860970e+08</td>\n",
       "      <td>2.920412e+08</td>\n",
       "      <td>2.978917e+08</td>\n",
       "      <td>3.036417e+08</td>\n",
       "      <td>...</td>\n",
       "      <td>2.286106e+08</td>\n",
       "      <td>2.351875e+08</td>\n",
       "      <td>2.418031e+08</td>\n",
       "      <td>(54.1587944, -4.4849548, 0.0)</td>\n",
       "      <td>54.158794</td>\n",
       "      <td>-4.484955</td>\n",
       "      <td>0.549404</td>\n",
       "      <td>0.585957</td>\n",
       "      <td>0.626566</td>\n",
       "      <td>POINT (-4.48495 54.15879)</td>\n",
       "    </tr>\n",
       "    <tr>\n",
       "      <th>154</th>\n",
       "      <td>Middle income</td>\n",
       "      <td>3.948247e+09</td>\n",
       "      <td>4.019142e+09</td>\n",
       "      <td>4.088077e+09</td>\n",
       "      <td>4.155638e+09</td>\n",
       "      <td>4.222531e+09</td>\n",
       "      <td>4.288713e+09</td>\n",
       "      <td>4.354685e+09</td>\n",
       "      <td>4.420504e+09</td>\n",
       "      <td>4.485401e+09</td>\n",
       "      <td>...</td>\n",
       "      <td>2.354628e+09</td>\n",
       "      <td>2.414817e+09</td>\n",
       "      <td>2.476089e+09</td>\n",
       "      <td>(39.3258793, -76.44377725453991, 0.0)</td>\n",
       "      <td>39.325879</td>\n",
       "      <td>-76.443777</td>\n",
       "      <td>0.364136</td>\n",
       "      <td>0.413098</td>\n",
       "      <td>0.475140</td>\n",
       "      <td>POINT (-76.44378 39.32588)</td>\n",
       "    </tr>\n",
       "    <tr>\n",
       "      <th>168</th>\n",
       "      <td>North America</td>\n",
       "      <td>2.773735e+08</td>\n",
       "      <td>2.810774e+08</td>\n",
       "      <td>2.849439e+08</td>\n",
       "      <td>2.886627e+08</td>\n",
       "      <td>2.921860e+08</td>\n",
       "      <td>2.956401e+08</td>\n",
       "      <td>2.990643e+08</td>\n",
       "      <td>3.026234e+08</td>\n",
       "      <td>3.060701e+08</td>\n",
       "      <td>...</td>\n",
       "      <td>2.714622e+08</td>\n",
       "      <td>2.744999e+08</td>\n",
       "      <td>2.774330e+08</td>\n",
       "      <td>(51.0000002, -109.0, 0.0)</td>\n",
       "      <td>51.000000</td>\n",
       "      <td>-109.000000</td>\n",
       "      <td>0.754333</td>\n",
       "      <td>0.791024</td>\n",
       "      <td>0.807920</td>\n",
       "      <td>POINT (-109.00000 51.00000)</td>\n",
       "    </tr>\n",
       "    <tr>\n",
       "      <th>202</th>\n",
       "      <td>South Asia</td>\n",
       "      <td>1.133495e+09</td>\n",
       "      <td>1.158656e+09</td>\n",
       "      <td>1.184133e+09</td>\n",
       "      <td>1.209848e+09</td>\n",
       "      <td>1.235694e+09</td>\n",
       "      <td>1.261588e+09</td>\n",
       "      <td>1.287476e+09</td>\n",
       "      <td>1.313346e+09</td>\n",
       "      <td>1.339203e+09</td>\n",
       "      <td>...</td>\n",
       "      <td>4.790835e+08</td>\n",
       "      <td>4.920170e+08</td>\n",
       "      <td>5.050328e+08</td>\n",
       "      <td>(24.7512671, 46.6692078, 0.0)</td>\n",
       "      <td>24.751267</td>\n",
       "      <td>46.669208</td>\n",
       "      <td>0.250648</td>\n",
       "      <td>0.273813</td>\n",
       "      <td>0.308174</td>\n",
       "      <td>POINT (46.66921 24.75127)</td>\n",
       "    </tr>\n",
       "    <tr>\n",
       "      <th>249</th>\n",
       "      <td>United States</td>\n",
       "      <td>2.496230e+08</td>\n",
       "      <td>2.529810e+08</td>\n",
       "      <td>2.565140e+08</td>\n",
       "      <td>2.599190e+08</td>\n",
       "      <td>2.631260e+08</td>\n",
       "      <td>2.662780e+08</td>\n",
       "      <td>2.693940e+08</td>\n",
       "      <td>2.726570e+08</td>\n",
       "      <td>2.758540e+08</td>\n",
       "      <td>...</td>\n",
       "      <td>2.446071e+08</td>\n",
       "      <td>2.472763e+08</td>\n",
       "      <td>2.498453e+08</td>\n",
       "      <td>(39.7837304, -100.4458825, 0.0)</td>\n",
       "      <td>39.783730</td>\n",
       "      <td>-100.445882</td>\n",
       "      <td>0.753000</td>\n",
       "      <td>0.790570</td>\n",
       "      <td>0.807720</td>\n",
       "      <td>POINT (-100.44588 39.78373)</td>\n",
       "    </tr>\n",
       "    <tr>\n",
       "      <th>257</th>\n",
       "      <td>World</td>\n",
       "      <td>5.280076e+09</td>\n",
       "      <td>5.368065e+09</td>\n",
       "      <td>5.452350e+09</td>\n",
       "      <td>5.537512e+09</td>\n",
       "      <td>5.621787e+09</td>\n",
       "      <td>5.706689e+09</td>\n",
       "      <td>5.789624e+09</td>\n",
       "      <td>5.872254e+09</td>\n",
       "      <td>5.954006e+09</td>\n",
       "      <td>...</td>\n",
       "      <td>3.421414e+09</td>\n",
       "      <td>3.497463e+09</td>\n",
       "      <td>3.573953e+09</td>\n",
       "      <td>(25.2528888, 55.17696777178696, 0.0)</td>\n",
       "      <td>25.252889</td>\n",
       "      <td>55.176968</td>\n",
       "      <td>0.430134</td>\n",
       "      <td>0.466761</td>\n",
       "      <td>0.516327</td>\n",
       "      <td>POINT (55.17697 25.25289)</td>\n",
       "    </tr>\n",
       "  </tbody>\n",
       "</table>\n",
       "<p>19 rows × 50 columns</p>\n",
       "</div>"
      ],
      "text/plain": [
       "                   Country Name  1990 World Population  1991 World Population  \\\n",
       "5                    Arab World           2.226534e+08           2.287317e+08   \n",
       "38                        China           1.135185e+09           1.150780e+09   \n",
       "61          East Asia & Pacific           1.822193e+09           1.848222e+09   \n",
       "63        Europe & Central Asia           8.415204e+08           8.453981e+08   \n",
       "66                    Euro area           3.112626e+08           3.127081e+08   \n",
       "71               European Union           4.204780e+08           4.217305e+08   \n",
       "93                  High income           1.028439e+09           1.036688e+09   \n",
       "102                   IDA total           8.333640e+08           8.562907e+08   \n",
       "103                   IDA blend           2.784966e+08           2.861425e+08   \n",
       "105                    IDA only           5.548674e+08           5.701482e+08   \n",
       "107                       India           8.732778e+08           8.912732e+08   \n",
       "132   Latin America & Caribbean           4.418270e+08           4.499388e+08   \n",
       "134                  Low income           3.033904e+08           3.122356e+08   \n",
       "151  Middle East & North Africa           2.542151e+08           2.610463e+08   \n",
       "154               Middle income           3.948247e+09           4.019142e+09   \n",
       "168               North America           2.773735e+08           2.810774e+08   \n",
       "202                  South Asia           1.133495e+09           1.158656e+09   \n",
       "249               United States           2.496230e+08           2.529810e+08   \n",
       "257                       World           5.280076e+09           5.368065e+09   \n",
       "\n",
       "     1992 World Population  1993 World Population  1994 World Population  \\\n",
       "5             2.329564e+08           2.392433e+08           2.454494e+08   \n",
       "38            1.164970e+09           1.178440e+09           1.191835e+09   \n",
       "61            1.872481e+09           1.895898e+09           1.919360e+09   \n",
       "63            8.488779e+08           8.519238e+08           8.540320e+08   \n",
       "66            3.141621e+08           3.154491e+08           3.163668e+08   \n",
       "71            4.229639e+08           4.243411e+08           4.253991e+08   \n",
       "93            1.042742e+09           1.050718e+09           1.058315e+09   \n",
       "102           8.797743e+08           9.036457e+08           9.277926e+08   \n",
       "103           2.938749e+08           3.016798e+08           3.095681e+08   \n",
       "105           5.858993e+08           6.019659e+08           6.182245e+08   \n",
       "107           9.093070e+08           9.274039e+08           9.456018e+08   \n",
       "132           4.580110e+08           4.660516e+08           4.740586e+08   \n",
       "134           3.215310e+08           3.311557e+08           3.409416e+08   \n",
       "151           2.656566e+08           2.721078e+08           2.783850e+08   \n",
       "154           4.088077e+09           4.155638e+09           4.222531e+09   \n",
       "168           2.849439e+08           2.886627e+08           2.921860e+08   \n",
       "202           1.184133e+09           1.209848e+09           1.235694e+09   \n",
       "249           2.565140e+08           2.599190e+08           2.631260e+08   \n",
       "257           5.452350e+09           5.537512e+09           5.621787e+09   \n",
       "\n",
       "     1995 World Population  1996 World Population  1997 World Population  \\\n",
       "5             2.531073e+08           2.590010e+08           2.648222e+08   \n",
       "38            1.204855e+09           1.217550e+09           1.230075e+09   \n",
       "61            1.942431e+09           1.965147e+09           1.987316e+09   \n",
       "63            8.554907e+08           8.568569e+08           8.581647e+08   \n",
       "66            3.171814e+08           3.180030e+08           3.187618e+08   \n",
       "71            4.262033e+08           4.268969e+08           4.275381e+08   \n",
       "93            1.067202e+09           1.074337e+09           1.081272e+09   \n",
       "102           9.522224e+08           9.769370e+08           1.001908e+09   \n",
       "103           3.176161e+08           3.259087e+08           3.343992e+08   \n",
       "105           6.346063e+08           6.510284e+08           6.675084e+08   \n",
       "107           9.639226e+08           9.823652e+08           1.000900e+09   \n",
       "132           4.820289e+08           4.899709e+08           4.978581e+08   \n",
       "134           3.507743e+08           3.606019e+08           3.704780e+08   \n",
       "151           2.860970e+08           2.920412e+08           2.978917e+08   \n",
       "154           4.288713e+09           4.354685e+09           4.420504e+09   \n",
       "168           2.956401e+08           2.990643e+08           3.026234e+08   \n",
       "202           1.261588e+09           1.287476e+09           1.313346e+09   \n",
       "249           2.662780e+08           2.693940e+08           2.726570e+08   \n",
       "257           5.706689e+09           5.789624e+09           5.872254e+09   \n",
       "\n",
       "     1998 World Population  ...  2008 Urban World Population  \\\n",
       "5             2.705758e+08  ...                 1.880773e+08   \n",
       "38            1.241935e+09  ...                 6.164812e+08   \n",
       "61            2.008705e+09  ...                 1.086071e+09   \n",
       "63            8.592978e+08  ...                 6.186692e+08   \n",
       "66            3.194340e+08  ...                 2.501149e+08   \n",
       "71            4.281099e+08  ...                 3.191527e+08   \n",
       "93            1.088082e+09  ...                 9.175934e+08   \n",
       "102           1.026987e+09  ...                 4.211431e+08   \n",
       "103           3.429810e+08  ...                 1.631992e+08   \n",
       "105           6.840062e+08  ...                 2.579439e+08   \n",
       "107           1.019484e+09  ...                 3.631546e+08   \n",
       "132           5.056871e+08  ...                 4.497694e+08   \n",
       "134           3.805226e+08  ...                 1.491925e+08   \n",
       "151           3.036417e+08  ...                 2.286106e+08   \n",
       "154           4.485401e+09  ...                 2.354628e+09   \n",
       "168           3.060701e+08  ...                 2.714622e+08   \n",
       "202           1.339203e+09  ...                 4.790835e+08   \n",
       "249           2.758540e+08  ...                 2.446071e+08   \n",
       "257           5.954006e+09  ...                 3.421414e+09   \n",
       "\n",
       "     2009 Urban World Population  2010 Urban World Population  \\\n",
       "5                   1.941462e+08                 2.003031e+08   \n",
       "38                  6.374073e+08                 6.584987e+08   \n",
       "61                  1.116141e+09                 1.146374e+09   \n",
       "63                  6.229916e+08                 6.271380e+08   \n",
       "66                  2.516913e+08                 2.530605e+08   \n",
       "71                  3.208268e+08                 3.221965e+08   \n",
       "93                  9.274879e+08                 9.366784e+08   \n",
       "102                 4.373727e+08                 4.541739e+08   \n",
       "103                 1.692951e+08                 1.757576e+08   \n",
       "105                 2.680776e+08                 2.784162e+08   \n",
       "107                 3.724659e+08                 3.817632e+08   \n",
       "132                 4.566041e+08                 4.633371e+08   \n",
       "134                 1.551579e+08                 1.611848e+08   \n",
       "151                 2.351875e+08                 2.418031e+08   \n",
       "154                 2.414817e+09                 2.476089e+09   \n",
       "168                 2.744999e+08                 2.774330e+08   \n",
       "202                 4.920170e+08                 5.050328e+08   \n",
       "249                 2.472763e+08                 2.498453e+08   \n",
       "257                 3.497463e+09                 3.573953e+09   \n",
       "\n",
       "                                      points        lat         lng  \\\n",
       "5     (30.84165265, 29.670019315230654, 0.0)  30.841653   29.670019   \n",
       "38              (35.000074, 104.999927, 0.0)  35.000074  104.999927   \n",
       "61            (34.8528895, -82.3573713, 0.0)  34.852890  -82.357371   \n",
       "63               (16.853218, 96.117122, 0.0)  16.853218   96.117122   \n",
       "66             (38.6811851, -9.1546646, 0.0)  38.681185   -9.154665   \n",
       "71             (42.6788082, 23.3216264, 0.0)  42.678808   23.321626   \n",
       "93            (35.9239085, -79.9803402, 0.0)  35.923909  -79.980340   \n",
       "102            (30.4181709, -9.5965706, 0.0)  30.418171   -9.596571   \n",
       "103             (51.0494836, 3.7298482, 0.0)  51.049484    3.729848   \n",
       "105             (51.0661369, 3.7087344, 0.0)  51.066137    3.708734   \n",
       "107            (22.3511148, 78.6677428, 0.0)  22.351115   78.667743   \n",
       "132  (10.64174505, -61.400713892586495, 0.0)  10.641745  -61.400714   \n",
       "134    (31.3458901, 27.222160782361907, 0.0)  31.345890   27.222161   \n",
       "151            (54.1587944, -4.4849548, 0.0)  54.158794   -4.484955   \n",
       "154    (39.3258793, -76.44377725453991, 0.0)  39.325879  -76.443777   \n",
       "168                (51.0000002, -109.0, 0.0)  51.000000 -109.000000   \n",
       "202            (24.7512671, 46.6692078, 0.0)  24.751267   46.669208   \n",
       "249          (39.7837304, -100.4458825, 0.0)  39.783730 -100.445882   \n",
       "257     (25.2528888, 55.17696777178696, 0.0)  25.252889   55.176968   \n",
       "\n",
       "     WUP_per_cap_1990  WUP_per_cap_2000  WUP_per_cap_2010  \\\n",
       "5            0.503952          0.529893          0.564409   \n",
       "38           0.264420          0.358770          0.492260   \n",
       "61           0.339576          0.414208          0.519453   \n",
       "63           0.674567          0.686059          0.706295   \n",
       "66           0.712200          0.729422          0.752817   \n",
       "71           0.693689          0.708257          0.729723   \n",
       "93           0.737523          0.761523          0.794247   \n",
       "102          0.255007          0.289078          0.332644   \n",
       "103          0.301859          0.338644          0.385392   \n",
       "105          0.231491          0.264214          0.306188   \n",
       "107          0.255470          0.276670          0.309300   \n",
       "132          0.706813          0.754740          0.785407   \n",
       "134          0.247012          0.274537          0.303401   \n",
       "151          0.549404          0.585957          0.626566   \n",
       "154          0.364136          0.413098          0.475140   \n",
       "168          0.754333          0.791024          0.807920   \n",
       "202          0.250648          0.273813          0.308174   \n",
       "249          0.753000          0.790570          0.807720   \n",
       "257          0.430134          0.466761          0.516327   \n",
       "\n",
       "                        geometry  \n",
       "5      POINT (29.67002 30.84165)  \n",
       "38    POINT (104.99993 35.00007)  \n",
       "61    POINT (-82.35737 34.85289)  \n",
       "63     POINT (96.11712 16.85322)  \n",
       "66     POINT (-9.15466 38.68119)  \n",
       "71     POINT (23.32163 42.67881)  \n",
       "93    POINT (-79.98034 35.92391)  \n",
       "102    POINT (-9.59657 30.41817)  \n",
       "103     POINT (3.72985 51.04948)  \n",
       "105     POINT (3.70873 51.06614)  \n",
       "107    POINT (78.66774 22.35111)  \n",
       "132   POINT (-61.40071 10.64175)  \n",
       "134    POINT (27.22216 31.34589)  \n",
       "151    POINT (-4.48495 54.15879)  \n",
       "154   POINT (-76.44378 39.32588)  \n",
       "168  POINT (-109.00000 51.00000)  \n",
       "202    POINT (46.66921 24.75127)  \n",
       "249  POINT (-100.44588 39.78373)  \n",
       "257    POINT (55.17697 25.25289)  \n",
       "\n",
       "[19 rows x 50 columns]"
      ]
     },
     "execution_count": 23,
     "metadata": {},
     "output_type": "execute_result"
    }
   ],
   "source": [
    "#visulaize the dataframe\n",
    "gdf1"
   ]
  },
  {
   "cell_type": "markdown",
   "id": "29c0d684",
   "metadata": {},
   "source": [
    "Plot World Urban Population per Capita with Population > 29000000000, 2010 and hover over the countries. "
   ]
  },
  {
   "cell_type": "code",
   "execution_count": 24,
   "id": "ce7653b1",
   "metadata": {},
   "outputs": [
    {
     "data": {
      "application/vnd.plotly.v1+json": {
       "config": {
        "linkText": "Export to plot.ly",
        "plotlyServerURL": "https://plot.ly",
        "showLink": false
       },
       "data": [
        {
         "colorbar": {
          "title": {
           "text": "World Urban Population per Capita"
          }
         },
         "colorscale": [
          [
           0,
           "#440154"
          ],
          [
           0.1111111111111111,
           "#482878"
          ],
          [
           0.2222222222222222,
           "#3e4989"
          ],
          [
           0.3333333333333333,
           "#31688e"
          ],
          [
           0.4444444444444444,
           "#26828e"
          ],
          [
           0.5555555555555556,
           "#1f9e89"
          ],
          [
           0.6666666666666666,
           "#35b779"
          ],
          [
           0.7777777777777778,
           "#6ece58"
          ],
          [
           0.8888888888888888,
           "#b5de2b"
          ],
          [
           1,
           "#fde725"
          ]
         ],
         "locationmode": "country names",
         "locations": [
          "Arab World",
          "China",
          "East Asia & Pacific",
          "Europe & Central Asia",
          "Euro area",
          "European Union",
          "High income",
          "IDA total",
          "IDA blend",
          "IDA only",
          "India",
          "Latin America & Caribbean",
          "Low income",
          "Middle East & North Africa",
          "Middle income",
          "North America",
          "South Asia",
          "United States",
          "World"
         ],
         "text": [
          "Arab World",
          "China",
          "East Asia & Pacific",
          "Europe & Central Asia",
          "Euro area",
          "European Union",
          "High income",
          "IDA total",
          "IDA blend",
          "IDA only",
          "India",
          "Latin America & Caribbean",
          "Low income",
          "Middle East & North Africa",
          "Middle income",
          "North America",
          "South Asia",
          "United States",
          "World"
         ],
         "type": "choropleth",
         "z": [
          0.5644087951050484,
          0.4922599997757353,
          0.5194533735624958,
          0.7062946820324675,
          0.7528169852258779,
          0.7297232643478051,
          0.7942468555953835,
          0.3326436291187656,
          0.3853915421587446,
          0.30618839994515323,
          0.3093000000964124,
          0.7854068795134237,
          0.3034008894040114,
          0.6265662120671961,
          0.4751401333686625,
          0.8079198593510474,
          0.30817367253793637,
          0.8077199998011132,
          0.5163274959869835
         ]
        }
       ],
       "layout": {
        "geo": {
         "projection": {
          "type": "mercator"
         }
        },
        "template": {
         "data": {
          "bar": [
           {
            "error_x": {
             "color": "#2a3f5f"
            },
            "error_y": {
             "color": "#2a3f5f"
            },
            "marker": {
             "line": {
              "color": "#E5ECF6",
              "width": 0.5
             }
            },
            "type": "bar"
           }
          ],
          "barpolar": [
           {
            "marker": {
             "line": {
              "color": "#E5ECF6",
              "width": 0.5
             }
            },
            "type": "barpolar"
           }
          ],
          "carpet": [
           {
            "aaxis": {
             "endlinecolor": "#2a3f5f",
             "gridcolor": "white",
             "linecolor": "white",
             "minorgridcolor": "white",
             "startlinecolor": "#2a3f5f"
            },
            "baxis": {
             "endlinecolor": "#2a3f5f",
             "gridcolor": "white",
             "linecolor": "white",
             "minorgridcolor": "white",
             "startlinecolor": "#2a3f5f"
            },
            "type": "carpet"
           }
          ],
          "choropleth": [
           {
            "colorbar": {
             "outlinewidth": 0,
             "ticks": ""
            },
            "type": "choropleth"
           }
          ],
          "contour": [
           {
            "colorbar": {
             "outlinewidth": 0,
             "ticks": ""
            },
            "colorscale": [
             [
              0,
              "#0d0887"
             ],
             [
              0.1111111111111111,
              "#46039f"
             ],
             [
              0.2222222222222222,
              "#7201a8"
             ],
             [
              0.3333333333333333,
              "#9c179e"
             ],
             [
              0.4444444444444444,
              "#bd3786"
             ],
             [
              0.5555555555555556,
              "#d8576b"
             ],
             [
              0.6666666666666666,
              "#ed7953"
             ],
             [
              0.7777777777777778,
              "#fb9f3a"
             ],
             [
              0.8888888888888888,
              "#fdca26"
             ],
             [
              1,
              "#f0f921"
             ]
            ],
            "type": "contour"
           }
          ],
          "contourcarpet": [
           {
            "colorbar": {
             "outlinewidth": 0,
             "ticks": ""
            },
            "type": "contourcarpet"
           }
          ],
          "heatmap": [
           {
            "colorbar": {
             "outlinewidth": 0,
             "ticks": ""
            },
            "colorscale": [
             [
              0,
              "#0d0887"
             ],
             [
              0.1111111111111111,
              "#46039f"
             ],
             [
              0.2222222222222222,
              "#7201a8"
             ],
             [
              0.3333333333333333,
              "#9c179e"
             ],
             [
              0.4444444444444444,
              "#bd3786"
             ],
             [
              0.5555555555555556,
              "#d8576b"
             ],
             [
              0.6666666666666666,
              "#ed7953"
             ],
             [
              0.7777777777777778,
              "#fb9f3a"
             ],
             [
              0.8888888888888888,
              "#fdca26"
             ],
             [
              1,
              "#f0f921"
             ]
            ],
            "type": "heatmap"
           }
          ],
          "heatmapgl": [
           {
            "colorbar": {
             "outlinewidth": 0,
             "ticks": ""
            },
            "colorscale": [
             [
              0,
              "#0d0887"
             ],
             [
              0.1111111111111111,
              "#46039f"
             ],
             [
              0.2222222222222222,
              "#7201a8"
             ],
             [
              0.3333333333333333,
              "#9c179e"
             ],
             [
              0.4444444444444444,
              "#bd3786"
             ],
             [
              0.5555555555555556,
              "#d8576b"
             ],
             [
              0.6666666666666666,
              "#ed7953"
             ],
             [
              0.7777777777777778,
              "#fb9f3a"
             ],
             [
              0.8888888888888888,
              "#fdca26"
             ],
             [
              1,
              "#f0f921"
             ]
            ],
            "type": "heatmapgl"
           }
          ],
          "histogram": [
           {
            "marker": {
             "colorbar": {
              "outlinewidth": 0,
              "ticks": ""
             }
            },
            "type": "histogram"
           }
          ],
          "histogram2d": [
           {
            "colorbar": {
             "outlinewidth": 0,
             "ticks": ""
            },
            "colorscale": [
             [
              0,
              "#0d0887"
             ],
             [
              0.1111111111111111,
              "#46039f"
             ],
             [
              0.2222222222222222,
              "#7201a8"
             ],
             [
              0.3333333333333333,
              "#9c179e"
             ],
             [
              0.4444444444444444,
              "#bd3786"
             ],
             [
              0.5555555555555556,
              "#d8576b"
             ],
             [
              0.6666666666666666,
              "#ed7953"
             ],
             [
              0.7777777777777778,
              "#fb9f3a"
             ],
             [
              0.8888888888888888,
              "#fdca26"
             ],
             [
              1,
              "#f0f921"
             ]
            ],
            "type": "histogram2d"
           }
          ],
          "histogram2dcontour": [
           {
            "colorbar": {
             "outlinewidth": 0,
             "ticks": ""
            },
            "colorscale": [
             [
              0,
              "#0d0887"
             ],
             [
              0.1111111111111111,
              "#46039f"
             ],
             [
              0.2222222222222222,
              "#7201a8"
             ],
             [
              0.3333333333333333,
              "#9c179e"
             ],
             [
              0.4444444444444444,
              "#bd3786"
             ],
             [
              0.5555555555555556,
              "#d8576b"
             ],
             [
              0.6666666666666666,
              "#ed7953"
             ],
             [
              0.7777777777777778,
              "#fb9f3a"
             ],
             [
              0.8888888888888888,
              "#fdca26"
             ],
             [
              1,
              "#f0f921"
             ]
            ],
            "type": "histogram2dcontour"
           }
          ],
          "mesh3d": [
           {
            "colorbar": {
             "outlinewidth": 0,
             "ticks": ""
            },
            "type": "mesh3d"
           }
          ],
          "parcoords": [
           {
            "line": {
             "colorbar": {
              "outlinewidth": 0,
              "ticks": ""
             }
            },
            "type": "parcoords"
           }
          ],
          "pie": [
           {
            "automargin": true,
            "type": "pie"
           }
          ],
          "scatter": [
           {
            "marker": {
             "colorbar": {
              "outlinewidth": 0,
              "ticks": ""
             }
            },
            "type": "scatter"
           }
          ],
          "scatter3d": [
           {
            "line": {
             "colorbar": {
              "outlinewidth": 0,
              "ticks": ""
             }
            },
            "marker": {
             "colorbar": {
              "outlinewidth": 0,
              "ticks": ""
             }
            },
            "type": "scatter3d"
           }
          ],
          "scattercarpet": [
           {
            "marker": {
             "colorbar": {
              "outlinewidth": 0,
              "ticks": ""
             }
            },
            "type": "scattercarpet"
           }
          ],
          "scattergeo": [
           {
            "marker": {
             "colorbar": {
              "outlinewidth": 0,
              "ticks": ""
             }
            },
            "type": "scattergeo"
           }
          ],
          "scattergl": [
           {
            "marker": {
             "colorbar": {
              "outlinewidth": 0,
              "ticks": ""
             }
            },
            "type": "scattergl"
           }
          ],
          "scattermapbox": [
           {
            "marker": {
             "colorbar": {
              "outlinewidth": 0,
              "ticks": ""
             }
            },
            "type": "scattermapbox"
           }
          ],
          "scatterpolar": [
           {
            "marker": {
             "colorbar": {
              "outlinewidth": 0,
              "ticks": ""
             }
            },
            "type": "scatterpolar"
           }
          ],
          "scatterpolargl": [
           {
            "marker": {
             "colorbar": {
              "outlinewidth": 0,
              "ticks": ""
             }
            },
            "type": "scatterpolargl"
           }
          ],
          "scatterternary": [
           {
            "marker": {
             "colorbar": {
              "outlinewidth": 0,
              "ticks": ""
             }
            },
            "type": "scatterternary"
           }
          ],
          "surface": [
           {
            "colorbar": {
             "outlinewidth": 0,
             "ticks": ""
            },
            "colorscale": [
             [
              0,
              "#0d0887"
             ],
             [
              0.1111111111111111,
              "#46039f"
             ],
             [
              0.2222222222222222,
              "#7201a8"
             ],
             [
              0.3333333333333333,
              "#9c179e"
             ],
             [
              0.4444444444444444,
              "#bd3786"
             ],
             [
              0.5555555555555556,
              "#d8576b"
             ],
             [
              0.6666666666666666,
              "#ed7953"
             ],
             [
              0.7777777777777778,
              "#fb9f3a"
             ],
             [
              0.8888888888888888,
              "#fdca26"
             ],
             [
              1,
              "#f0f921"
             ]
            ],
            "type": "surface"
           }
          ],
          "table": [
           {
            "cells": {
             "fill": {
              "color": "#EBF0F8"
             },
             "line": {
              "color": "white"
             }
            },
            "header": {
             "fill": {
              "color": "#C8D4E3"
             },
             "line": {
              "color": "white"
             }
            },
            "type": "table"
           }
          ]
         },
         "layout": {
          "annotationdefaults": {
           "arrowcolor": "#2a3f5f",
           "arrowhead": 0,
           "arrowwidth": 1
          },
          "autotypenumbers": "strict",
          "coloraxis": {
           "colorbar": {
            "outlinewidth": 0,
            "ticks": ""
           }
          },
          "colorscale": {
           "diverging": [
            [
             0,
             "#8e0152"
            ],
            [
             0.1,
             "#c51b7d"
            ],
            [
             0.2,
             "#de77ae"
            ],
            [
             0.3,
             "#f1b6da"
            ],
            [
             0.4,
             "#fde0ef"
            ],
            [
             0.5,
             "#f7f7f7"
            ],
            [
             0.6,
             "#e6f5d0"
            ],
            [
             0.7,
             "#b8e186"
            ],
            [
             0.8,
             "#7fbc41"
            ],
            [
             0.9,
             "#4d9221"
            ],
            [
             1,
             "#276419"
            ]
           ],
           "sequential": [
            [
             0,
             "#0d0887"
            ],
            [
             0.1111111111111111,
             "#46039f"
            ],
            [
             0.2222222222222222,
             "#7201a8"
            ],
            [
             0.3333333333333333,
             "#9c179e"
            ],
            [
             0.4444444444444444,
             "#bd3786"
            ],
            [
             0.5555555555555556,
             "#d8576b"
            ],
            [
             0.6666666666666666,
             "#ed7953"
            ],
            [
             0.7777777777777778,
             "#fb9f3a"
            ],
            [
             0.8888888888888888,
             "#fdca26"
            ],
            [
             1,
             "#f0f921"
            ]
           ],
           "sequentialminus": [
            [
             0,
             "#0d0887"
            ],
            [
             0.1111111111111111,
             "#46039f"
            ],
            [
             0.2222222222222222,
             "#7201a8"
            ],
            [
             0.3333333333333333,
             "#9c179e"
            ],
            [
             0.4444444444444444,
             "#bd3786"
            ],
            [
             0.5555555555555556,
             "#d8576b"
            ],
            [
             0.6666666666666666,
             "#ed7953"
            ],
            [
             0.7777777777777778,
             "#fb9f3a"
            ],
            [
             0.8888888888888888,
             "#fdca26"
            ],
            [
             1,
             "#f0f921"
            ]
           ]
          },
          "colorway": [
           "#636efa",
           "#EF553B",
           "#00cc96",
           "#ab63fa",
           "#FFA15A",
           "#19d3f3",
           "#FF6692",
           "#B6E880",
           "#FF97FF",
           "#FECB52"
          ],
          "font": {
           "color": "#2a3f5f"
          },
          "geo": {
           "bgcolor": "white",
           "lakecolor": "white",
           "landcolor": "#E5ECF6",
           "showlakes": true,
           "showland": true,
           "subunitcolor": "white"
          },
          "hoverlabel": {
           "align": "left"
          },
          "hovermode": "closest",
          "mapbox": {
           "style": "light"
          },
          "paper_bgcolor": "white",
          "plot_bgcolor": "#E5ECF6",
          "polar": {
           "angularaxis": {
            "gridcolor": "white",
            "linecolor": "white",
            "ticks": ""
           },
           "bgcolor": "#E5ECF6",
           "radialaxis": {
            "gridcolor": "white",
            "linecolor": "white",
            "ticks": ""
           }
          },
          "scene": {
           "xaxis": {
            "backgroundcolor": "#E5ECF6",
            "gridcolor": "white",
            "gridwidth": 2,
            "linecolor": "white",
            "showbackground": true,
            "ticks": "",
            "zerolinecolor": "white"
           },
           "yaxis": {
            "backgroundcolor": "#E5ECF6",
            "gridcolor": "white",
            "gridwidth": 2,
            "linecolor": "white",
            "showbackground": true,
            "ticks": "",
            "zerolinecolor": "white"
           },
           "zaxis": {
            "backgroundcolor": "#E5ECF6",
            "gridcolor": "white",
            "gridwidth": 2,
            "linecolor": "white",
            "showbackground": true,
            "ticks": "",
            "zerolinecolor": "white"
           }
          },
          "shapedefaults": {
           "line": {
            "color": "#2a3f5f"
           }
          },
          "ternary": {
           "aaxis": {
            "gridcolor": "white",
            "linecolor": "white",
            "ticks": ""
           },
           "baxis": {
            "gridcolor": "white",
            "linecolor": "white",
            "ticks": ""
           },
           "bgcolor": "#E5ECF6",
           "caxis": {
            "gridcolor": "white",
            "linecolor": "white",
            "ticks": ""
           }
          },
          "title": {
           "x": 0.05
          },
          "xaxis": {
           "automargin": true,
           "gridcolor": "white",
           "linecolor": "white",
           "ticks": "",
           "title": {
            "standoff": 15
           },
           "zerolinecolor": "white",
           "zerolinewidth": 2
          },
          "yaxis": {
           "automargin": true,
           "gridcolor": "white",
           "linecolor": "white",
           "ticks": "",
           "title": {
            "standoff": 15
           },
           "zerolinecolor": "white",
           "zerolinewidth": 2
          }
         }
        },
        "title": {
         "text": "World Urban Population per Capita with Population > 29000000000, 2010"
        }
       }
      },
      "text/html": [
       "<div>                            <div id=\"f7d7eea8-9324-4625-85bb-df906caca0f0\" class=\"plotly-graph-div\" style=\"height:525px; width:100%;\"></div>            <script type=\"text/javascript\">                require([\"plotly\"], function(Plotly) {                    window.PLOTLYENV=window.PLOTLYENV || {};                                    if (document.getElementById(\"f7d7eea8-9324-4625-85bb-df906caca0f0\")) {                    Plotly.newPlot(                        \"f7d7eea8-9324-4625-85bb-df906caca0f0\",                        [{\"colorbar\": {\"title\": {\"text\": \"World Urban Population per Capita\"}}, \"colorscale\": [[0.0, \"#440154\"], [0.1111111111111111, \"#482878\"], [0.2222222222222222, \"#3e4989\"], [0.3333333333333333, \"#31688e\"], [0.4444444444444444, \"#26828e\"], [0.5555555555555556, \"#1f9e89\"], [0.6666666666666666, \"#35b779\"], [0.7777777777777778, \"#6ece58\"], [0.8888888888888888, \"#b5de2b\"], [1.0, \"#fde725\"]], \"locationmode\": \"country names\", \"locations\": [\"Arab World\", \"China\", \"East Asia & Pacific\", \"Europe & Central Asia\", \"Euro area\", \"European Union\", \"High income\", \"IDA total\", \"IDA blend\", \"IDA only\", \"India\", \"Latin America & Caribbean\", \"Low income\", \"Middle East & North Africa\", \"Middle income\", \"North America\", \"South Asia\", \"United States\", \"World\"], \"text\": [\"Arab World\", \"China\", \"East Asia & Pacific\", \"Europe & Central Asia\", \"Euro area\", \"European Union\", \"High income\", \"IDA total\", \"IDA blend\", \"IDA only\", \"India\", \"Latin America & Caribbean\", \"Low income\", \"Middle East & North Africa\", \"Middle income\", \"North America\", \"South Asia\", \"United States\", \"World\"], \"type\": \"choropleth\", \"z\": [0.5644087951050484, 0.4922599997757353, 0.5194533735624958, 0.7062946820324675, 0.7528169852258779, 0.7297232643478051, 0.7942468555953835, 0.3326436291187656, 0.3853915421587446, 0.30618839994515323, 0.3093000000964124, 0.7854068795134237, 0.3034008894040114, 0.6265662120671961, 0.4751401333686625, 0.8079198593510474, 0.30817367253793637, 0.8077199998011132, 0.5163274959869835]}],                        {\"geo\": {\"projection\": {\"type\": \"mercator\"}}, \"template\": {\"data\": {\"bar\": [{\"error_x\": {\"color\": \"#2a3f5f\"}, \"error_y\": {\"color\": \"#2a3f5f\"}, \"marker\": {\"line\": {\"color\": \"#E5ECF6\", \"width\": 0.5}}, \"type\": \"bar\"}], \"barpolar\": [{\"marker\": {\"line\": {\"color\": \"#E5ECF6\", \"width\": 0.5}}, \"type\": \"barpolar\"}], \"carpet\": [{\"aaxis\": {\"endlinecolor\": \"#2a3f5f\", \"gridcolor\": \"white\", \"linecolor\": \"white\", \"minorgridcolor\": \"white\", \"startlinecolor\": \"#2a3f5f\"}, \"baxis\": {\"endlinecolor\": \"#2a3f5f\", \"gridcolor\": \"white\", \"linecolor\": \"white\", \"minorgridcolor\": \"white\", \"startlinecolor\": \"#2a3f5f\"}, \"type\": \"carpet\"}], \"choropleth\": [{\"colorbar\": {\"outlinewidth\": 0, \"ticks\": \"\"}, \"type\": \"choropleth\"}], \"contour\": [{\"colorbar\": {\"outlinewidth\": 0, \"ticks\": \"\"}, \"colorscale\": [[0.0, \"#0d0887\"], [0.1111111111111111, \"#46039f\"], [0.2222222222222222, \"#7201a8\"], [0.3333333333333333, \"#9c179e\"], [0.4444444444444444, \"#bd3786\"], [0.5555555555555556, \"#d8576b\"], [0.6666666666666666, \"#ed7953\"], [0.7777777777777778, \"#fb9f3a\"], [0.8888888888888888, \"#fdca26\"], [1.0, \"#f0f921\"]], \"type\": \"contour\"}], \"contourcarpet\": [{\"colorbar\": {\"outlinewidth\": 0, \"ticks\": \"\"}, \"type\": \"contourcarpet\"}], \"heatmap\": [{\"colorbar\": {\"outlinewidth\": 0, \"ticks\": \"\"}, \"colorscale\": [[0.0, \"#0d0887\"], [0.1111111111111111, \"#46039f\"], [0.2222222222222222, \"#7201a8\"], [0.3333333333333333, \"#9c179e\"], [0.4444444444444444, \"#bd3786\"], [0.5555555555555556, \"#d8576b\"], [0.6666666666666666, \"#ed7953\"], [0.7777777777777778, \"#fb9f3a\"], [0.8888888888888888, \"#fdca26\"], [1.0, \"#f0f921\"]], \"type\": \"heatmap\"}], \"heatmapgl\": [{\"colorbar\": {\"outlinewidth\": 0, \"ticks\": \"\"}, \"colorscale\": [[0.0, \"#0d0887\"], [0.1111111111111111, \"#46039f\"], [0.2222222222222222, \"#7201a8\"], [0.3333333333333333, \"#9c179e\"], [0.4444444444444444, \"#bd3786\"], [0.5555555555555556, \"#d8576b\"], [0.6666666666666666, \"#ed7953\"], [0.7777777777777778, \"#fb9f3a\"], [0.8888888888888888, \"#fdca26\"], [1.0, \"#f0f921\"]], \"type\": \"heatmapgl\"}], \"histogram\": [{\"marker\": {\"colorbar\": {\"outlinewidth\": 0, \"ticks\": \"\"}}, \"type\": \"histogram\"}], \"histogram2d\": [{\"colorbar\": {\"outlinewidth\": 0, \"ticks\": \"\"}, \"colorscale\": [[0.0, \"#0d0887\"], [0.1111111111111111, \"#46039f\"], [0.2222222222222222, \"#7201a8\"], [0.3333333333333333, \"#9c179e\"], [0.4444444444444444, \"#bd3786\"], [0.5555555555555556, \"#d8576b\"], [0.6666666666666666, \"#ed7953\"], [0.7777777777777778, \"#fb9f3a\"], [0.8888888888888888, \"#fdca26\"], [1.0, \"#f0f921\"]], \"type\": \"histogram2d\"}], \"histogram2dcontour\": [{\"colorbar\": {\"outlinewidth\": 0, \"ticks\": \"\"}, \"colorscale\": [[0.0, \"#0d0887\"], [0.1111111111111111, \"#46039f\"], [0.2222222222222222, \"#7201a8\"], [0.3333333333333333, \"#9c179e\"], [0.4444444444444444, \"#bd3786\"], [0.5555555555555556, \"#d8576b\"], [0.6666666666666666, \"#ed7953\"], [0.7777777777777778, \"#fb9f3a\"], [0.8888888888888888, \"#fdca26\"], [1.0, \"#f0f921\"]], \"type\": \"histogram2dcontour\"}], \"mesh3d\": [{\"colorbar\": {\"outlinewidth\": 0, \"ticks\": \"\"}, \"type\": \"mesh3d\"}], \"parcoords\": [{\"line\": {\"colorbar\": {\"outlinewidth\": 0, \"ticks\": \"\"}}, \"type\": \"parcoords\"}], \"pie\": [{\"automargin\": true, \"type\": \"pie\"}], \"scatter\": [{\"marker\": {\"colorbar\": {\"outlinewidth\": 0, \"ticks\": \"\"}}, \"type\": \"scatter\"}], \"scatter3d\": [{\"line\": {\"colorbar\": {\"outlinewidth\": 0, \"ticks\": \"\"}}, \"marker\": {\"colorbar\": {\"outlinewidth\": 0, \"ticks\": \"\"}}, \"type\": \"scatter3d\"}], \"scattercarpet\": [{\"marker\": {\"colorbar\": {\"outlinewidth\": 0, \"ticks\": \"\"}}, \"type\": \"scattercarpet\"}], \"scattergeo\": [{\"marker\": {\"colorbar\": {\"outlinewidth\": 0, \"ticks\": \"\"}}, \"type\": \"scattergeo\"}], \"scattergl\": [{\"marker\": {\"colorbar\": {\"outlinewidth\": 0, \"ticks\": \"\"}}, \"type\": \"scattergl\"}], \"scattermapbox\": [{\"marker\": {\"colorbar\": {\"outlinewidth\": 0, \"ticks\": \"\"}}, \"type\": \"scattermapbox\"}], \"scatterpolar\": [{\"marker\": {\"colorbar\": {\"outlinewidth\": 0, \"ticks\": \"\"}}, \"type\": \"scatterpolar\"}], \"scatterpolargl\": [{\"marker\": {\"colorbar\": {\"outlinewidth\": 0, \"ticks\": \"\"}}, \"type\": \"scatterpolargl\"}], \"scatterternary\": [{\"marker\": {\"colorbar\": {\"outlinewidth\": 0, \"ticks\": \"\"}}, \"type\": \"scatterternary\"}], \"surface\": [{\"colorbar\": {\"outlinewidth\": 0, \"ticks\": \"\"}, \"colorscale\": [[0.0, \"#0d0887\"], [0.1111111111111111, \"#46039f\"], [0.2222222222222222, \"#7201a8\"], [0.3333333333333333, \"#9c179e\"], [0.4444444444444444, \"#bd3786\"], [0.5555555555555556, \"#d8576b\"], [0.6666666666666666, \"#ed7953\"], [0.7777777777777778, \"#fb9f3a\"], [0.8888888888888888, \"#fdca26\"], [1.0, \"#f0f921\"]], \"type\": \"surface\"}], \"table\": [{\"cells\": {\"fill\": {\"color\": \"#EBF0F8\"}, \"line\": {\"color\": \"white\"}}, \"header\": {\"fill\": {\"color\": \"#C8D4E3\"}, \"line\": {\"color\": \"white\"}}, \"type\": \"table\"}]}, \"layout\": {\"annotationdefaults\": {\"arrowcolor\": \"#2a3f5f\", \"arrowhead\": 0, \"arrowwidth\": 1}, \"autotypenumbers\": \"strict\", \"coloraxis\": {\"colorbar\": {\"outlinewidth\": 0, \"ticks\": \"\"}}, \"colorscale\": {\"diverging\": [[0, \"#8e0152\"], [0.1, \"#c51b7d\"], [0.2, \"#de77ae\"], [0.3, \"#f1b6da\"], [0.4, \"#fde0ef\"], [0.5, \"#f7f7f7\"], [0.6, \"#e6f5d0\"], [0.7, \"#b8e186\"], [0.8, \"#7fbc41\"], [0.9, \"#4d9221\"], [1, \"#276419\"]], \"sequential\": [[0.0, \"#0d0887\"], [0.1111111111111111, \"#46039f\"], [0.2222222222222222, \"#7201a8\"], [0.3333333333333333, \"#9c179e\"], [0.4444444444444444, \"#bd3786\"], [0.5555555555555556, \"#d8576b\"], [0.6666666666666666, \"#ed7953\"], [0.7777777777777778, \"#fb9f3a\"], [0.8888888888888888, \"#fdca26\"], [1.0, \"#f0f921\"]], \"sequentialminus\": [[0.0, \"#0d0887\"], [0.1111111111111111, \"#46039f\"], [0.2222222222222222, \"#7201a8\"], [0.3333333333333333, \"#9c179e\"], [0.4444444444444444, \"#bd3786\"], [0.5555555555555556, \"#d8576b\"], [0.6666666666666666, \"#ed7953\"], [0.7777777777777778, \"#fb9f3a\"], [0.8888888888888888, \"#fdca26\"], [1.0, \"#f0f921\"]]}, \"colorway\": [\"#636efa\", \"#EF553B\", \"#00cc96\", \"#ab63fa\", \"#FFA15A\", \"#19d3f3\", \"#FF6692\", \"#B6E880\", \"#FF97FF\", \"#FECB52\"], \"font\": {\"color\": \"#2a3f5f\"}, \"geo\": {\"bgcolor\": \"white\", \"lakecolor\": \"white\", \"landcolor\": \"#E5ECF6\", \"showlakes\": true, \"showland\": true, \"subunitcolor\": \"white\"}, \"hoverlabel\": {\"align\": \"left\"}, \"hovermode\": \"closest\", \"mapbox\": {\"style\": \"light\"}, \"paper_bgcolor\": \"white\", \"plot_bgcolor\": \"#E5ECF6\", \"polar\": {\"angularaxis\": {\"gridcolor\": \"white\", \"linecolor\": \"white\", \"ticks\": \"\"}, \"bgcolor\": \"#E5ECF6\", \"radialaxis\": {\"gridcolor\": \"white\", \"linecolor\": \"white\", \"ticks\": \"\"}}, \"scene\": {\"xaxis\": {\"backgroundcolor\": \"#E5ECF6\", \"gridcolor\": \"white\", \"gridwidth\": 2, \"linecolor\": \"white\", \"showbackground\": true, \"ticks\": \"\", \"zerolinecolor\": \"white\"}, \"yaxis\": {\"backgroundcolor\": \"#E5ECF6\", \"gridcolor\": \"white\", \"gridwidth\": 2, \"linecolor\": \"white\", \"showbackground\": true, \"ticks\": \"\", \"zerolinecolor\": \"white\"}, \"zaxis\": {\"backgroundcolor\": \"#E5ECF6\", \"gridcolor\": \"white\", \"gridwidth\": 2, \"linecolor\": \"white\", \"showbackground\": true, \"ticks\": \"\", \"zerolinecolor\": \"white\"}}, \"shapedefaults\": {\"line\": {\"color\": \"#2a3f5f\"}}, \"ternary\": {\"aaxis\": {\"gridcolor\": \"white\", \"linecolor\": \"white\", \"ticks\": \"\"}, \"baxis\": {\"gridcolor\": \"white\", \"linecolor\": \"white\", \"ticks\": \"\"}, \"bgcolor\": \"#E5ECF6\", \"caxis\": {\"gridcolor\": \"white\", \"linecolor\": \"white\", \"ticks\": \"\"}}, \"title\": {\"x\": 0.05}, \"xaxis\": {\"automargin\": true, \"gridcolor\": \"white\", \"linecolor\": \"white\", \"ticks\": \"\", \"title\": {\"standoff\": 15}, \"zerolinecolor\": \"white\", \"zerolinewidth\": 2}, \"yaxis\": {\"automargin\": true, \"gridcolor\": \"white\", \"linecolor\": \"white\", \"ticks\": \"\", \"title\": {\"standoff\": 15}, \"zerolinecolor\": \"white\", \"zerolinewidth\": 2}}}, \"title\": {\"text\": \"World Urban Population per Capita with Population > 29000000000, 2010\"}},                        {\"responsive\": true}                    ).then(function(){\n",
       "                            \n",
       "var gd = document.getElementById('f7d7eea8-9324-4625-85bb-df906caca0f0');\n",
       "var x = new MutationObserver(function (mutations, observer) {{\n",
       "        var display = window.getComputedStyle(gd).display;\n",
       "        if (!display || display === 'none') {{\n",
       "            console.log([gd, 'removed!']);\n",
       "            Plotly.purge(gd);\n",
       "            observer.disconnect();\n",
       "        }}\n",
       "}});\n",
       "\n",
       "// Listen for the removal of the full notebook cells\n",
       "var notebookContainer = gd.closest('#notebook-container');\n",
       "if (notebookContainer) {{\n",
       "    x.observe(notebookContainer, {childList: true});\n",
       "}}\n",
       "\n",
       "// Listen for the clearing of the current output cell\n",
       "var outputEl = gd.closest('.output');\n",
       "if (outputEl) {{\n",
       "    x.observe(outputEl, {childList: true});\n",
       "}}\n",
       "\n",
       "                        })                };                });            </script>        </div>"
      ]
     },
     "metadata": {},
     "output_type": "display_data"
    }
   ],
   "source": [
    "data = dict(\n",
    "        type = 'choropleth',\n",
    "        colorscale = 'Viridis',\n",
    "        locations = gdf1['Country Name'],\n",
    "        locationmode = \"country names\",\n",
    "        z = gdf1['WUP_per_cap_2010'],\n",
    "        text = gdf1['Country Name'],\n",
    "        colorbar = {'title' : 'World Urban Population per Capita'},\n",
    "      )\n",
    "\n",
    "layout = dict(title = 'World Urban Population per Capita with Population > 29000000000, 2010',\n",
    "              geo = dict(projection = {'type':'mercator'})\n",
    "             )\n",
    "\n",
    "choromap = go.Figure(data = [data],layout = layout)\n",
    "iplot(choromap,validate=False)"
   ]
  },
  {
   "cell_type": "markdown",
   "id": "6a82bc70",
   "metadata": {},
   "source": [
    "From the above plot, we can see only the countries with population more than 290000000 are displayed. "
   ]
  },
  {
   "cell_type": "markdown",
   "id": "11b80f90",
   "metadata": {},
   "source": [
    "> For year 2010, plot the urban population per capita for only the countries having \n",
    "population less than 69000000."
   ]
  },
  {
   "cell_type": "code",
   "execution_count": 25,
   "id": "c1a2570b",
   "metadata": {
    "scrolled": true
   },
   "outputs": [
    {
     "data": {
      "text/html": [
       "<div>\n",
       "<style scoped>\n",
       "    .dataframe tbody tr th:only-of-type {\n",
       "        vertical-align: middle;\n",
       "    }\n",
       "\n",
       "    .dataframe tbody tr th {\n",
       "        vertical-align: top;\n",
       "    }\n",
       "\n",
       "    .dataframe thead th {\n",
       "        text-align: right;\n",
       "    }\n",
       "</style>\n",
       "<table border=\"1\" class=\"dataframe\">\n",
       "  <thead>\n",
       "    <tr style=\"text-align: right;\">\n",
       "      <th></th>\n",
       "      <th>Country Name</th>\n",
       "      <th>1990 World Population</th>\n",
       "      <th>1991 World Population</th>\n",
       "      <th>1992 World Population</th>\n",
       "      <th>1993 World Population</th>\n",
       "      <th>1994 World Population</th>\n",
       "      <th>1995 World Population</th>\n",
       "      <th>1996 World Population</th>\n",
       "      <th>1997 World Population</th>\n",
       "      <th>1998 World Population</th>\n",
       "      <th>...</th>\n",
       "      <th>2008 Urban World Population</th>\n",
       "      <th>2009 Urban World Population</th>\n",
       "      <th>2010 Urban World Population</th>\n",
       "      <th>points</th>\n",
       "      <th>lat</th>\n",
       "      <th>lng</th>\n",
       "      <th>WUP_per_cap_1990</th>\n",
       "      <th>WUP_per_cap_2000</th>\n",
       "      <th>WUP_per_cap_2010</th>\n",
       "      <th>geometry</th>\n",
       "    </tr>\n",
       "  </thead>\n",
       "  <tbody>\n",
       "    <tr>\n",
       "      <th>0</th>\n",
       "      <td>Aruba</td>\n",
       "      <td>62149.0</td>\n",
       "      <td>64622.0</td>\n",
       "      <td>68235.0</td>\n",
       "      <td>72504.0</td>\n",
       "      <td>76700.0</td>\n",
       "      <td>80324.0</td>\n",
       "      <td>83200.0</td>\n",
       "      <td>85451.0</td>\n",
       "      <td>87277.0</td>\n",
       "      <td>...</td>\n",
       "      <td>44378.0</td>\n",
       "      <td>44053.0</td>\n",
       "      <td>43778.0</td>\n",
       "      <td>(12.4902998, -69.9609842, 0.0)</td>\n",
       "      <td>12.490300</td>\n",
       "      <td>-69.960984</td>\n",
       "      <td>0.503194</td>\n",
       "      <td>0.467172</td>\n",
       "      <td>0.430593</td>\n",
       "      <td>POINT (-69.96098 12.49030)</td>\n",
       "    </tr>\n",
       "    <tr>\n",
       "      <th>1</th>\n",
       "      <td>Afghanistan</td>\n",
       "      <td>12412308.0</td>\n",
       "      <td>13299017.0</td>\n",
       "      <td>14485546.0</td>\n",
       "      <td>15816603.0</td>\n",
       "      <td>17075727.0</td>\n",
       "      <td>18110657.0</td>\n",
       "      <td>18853437.0</td>\n",
       "      <td>19357126.0</td>\n",
       "      <td>19737765.0</td>\n",
       "      <td>...</td>\n",
       "      <td>6464835.0</td>\n",
       "      <td>6680732.0</td>\n",
       "      <td>6927764.0</td>\n",
       "      <td>(33.7680065, 66.2385139, 0.0)</td>\n",
       "      <td>33.768006</td>\n",
       "      <td>66.238514</td>\n",
       "      <td>0.211770</td>\n",
       "      <td>0.220780</td>\n",
       "      <td>0.237370</td>\n",
       "      <td>POINT (66.23851 33.76801)</td>\n",
       "    </tr>\n",
       "    <tr>\n",
       "      <th>2</th>\n",
       "      <td>Angola</td>\n",
       "      <td>11848386.0</td>\n",
       "      <td>12248901.0</td>\n",
       "      <td>12657366.0</td>\n",
       "      <td>13075049.0</td>\n",
       "      <td>13503747.0</td>\n",
       "      <td>13945206.0</td>\n",
       "      <td>14400719.0</td>\n",
       "      <td>14871570.0</td>\n",
       "      <td>15359601.0</td>\n",
       "      <td>...</td>\n",
       "      <td>12644649.0</td>\n",
       "      <td>13291081.0</td>\n",
       "      <td>13963065.0</td>\n",
       "      <td>(-11.8775768, 17.5691241, 0.0)</td>\n",
       "      <td>-11.877577</td>\n",
       "      <td>17.569124</td>\n",
       "      <td>0.371440</td>\n",
       "      <td>0.500870</td>\n",
       "      <td>0.597830</td>\n",
       "      <td>POINT (17.56912 -11.87758)</td>\n",
       "    </tr>\n",
       "    <tr>\n",
       "      <th>3</th>\n",
       "      <td>Albania</td>\n",
       "      <td>3286542.0</td>\n",
       "      <td>3266790.0</td>\n",
       "      <td>3247039.0</td>\n",
       "      <td>3227287.0</td>\n",
       "      <td>3207536.0</td>\n",
       "      <td>3187784.0</td>\n",
       "      <td>3168033.0</td>\n",
       "      <td>3148281.0</td>\n",
       "      <td>3128530.0</td>\n",
       "      <td>...</td>\n",
       "      <td>1473392.0</td>\n",
       "      <td>1495260.0</td>\n",
       "      <td>1519519.0</td>\n",
       "      <td>(41.000028, 19.9999619, 0.0)</td>\n",
       "      <td>41.000028</td>\n",
       "      <td>19.999962</td>\n",
       "      <td>0.364280</td>\n",
       "      <td>0.417410</td>\n",
       "      <td>0.521630</td>\n",
       "      <td>POINT (19.99996 41.00003)</td>\n",
       "    </tr>\n",
       "    <tr>\n",
       "      <th>4</th>\n",
       "      <td>Andorra</td>\n",
       "      <td>54509.0</td>\n",
       "      <td>56671.0</td>\n",
       "      <td>58888.0</td>\n",
       "      <td>60971.0</td>\n",
       "      <td>62677.0</td>\n",
       "      <td>63850.0</td>\n",
       "      <td>64360.0</td>\n",
       "      <td>64327.0</td>\n",
       "      <td>64142.0</td>\n",
       "      <td>...</td>\n",
       "      <td>74641.0</td>\n",
       "      <td>75098.0</td>\n",
       "      <td>75007.0</td>\n",
       "      <td>(42.5407167, 1.5732033, 0.0)</td>\n",
       "      <td>42.540717</td>\n",
       "      <td>1.573203</td>\n",
       "      <td>0.947128</td>\n",
       "      <td>0.923949</td>\n",
       "      <td>0.888193</td>\n",
       "      <td>POINT (1.57320 42.54072)</td>\n",
       "    </tr>\n",
       "    <tr>\n",
       "      <th>...</th>\n",
       "      <td>...</td>\n",
       "      <td>...</td>\n",
       "      <td>...</td>\n",
       "      <td>...</td>\n",
       "      <td>...</td>\n",
       "      <td>...</td>\n",
       "      <td>...</td>\n",
       "      <td>...</td>\n",
       "      <td>...</td>\n",
       "      <td>...</td>\n",
       "      <td>...</td>\n",
       "      <td>...</td>\n",
       "      <td>...</td>\n",
       "      <td>...</td>\n",
       "      <td>...</td>\n",
       "      <td>...</td>\n",
       "      <td>...</td>\n",
       "      <td>...</td>\n",
       "      <td>...</td>\n",
       "      <td>...</td>\n",
       "      <td>...</td>\n",
       "    </tr>\n",
       "    <tr>\n",
       "      <th>258</th>\n",
       "      <td>Samoa</td>\n",
       "      <td>162803.0</td>\n",
       "      <td>163997.0</td>\n",
       "      <td>165490.0</td>\n",
       "      <td>167119.0</td>\n",
       "      <td>168694.0</td>\n",
       "      <td>170054.0</td>\n",
       "      <td>171165.0</td>\n",
       "      <td>172068.0</td>\n",
       "      <td>172839.0</td>\n",
       "      <td>...</td>\n",
       "      <td>37613.0</td>\n",
       "      <td>37465.0</td>\n",
       "      <td>37335.0</td>\n",
       "      <td>(-13.7693895, -172.1200508, 0.0)</td>\n",
       "      <td>-13.769390</td>\n",
       "      <td>-172.120051</td>\n",
       "      <td>0.211999</td>\n",
       "      <td>0.219771</td>\n",
       "      <td>0.200781</td>\n",
       "      <td>POINT (-172.12005 -13.76939)</td>\n",
       "    </tr>\n",
       "    <tr>\n",
       "      <th>259</th>\n",
       "      <td>Kosovo</td>\n",
       "      <td>1862000.0</td>\n",
       "      <td>1898000.0</td>\n",
       "      <td>1932000.0</td>\n",
       "      <td>1965000.0</td>\n",
       "      <td>1997000.0</td>\n",
       "      <td>2029000.0</td>\n",
       "      <td>2059000.0</td>\n",
       "      <td>2086000.0</td>\n",
       "      <td>1966000.0</td>\n",
       "      <td>...</td>\n",
       "      <td>NaN</td>\n",
       "      <td>NaN</td>\n",
       "      <td>NaN</td>\n",
       "      <td>(42.5869578, 20.9021231, 0.0)</td>\n",
       "      <td>42.586958</td>\n",
       "      <td>20.902123</td>\n",
       "      <td>NaN</td>\n",
       "      <td>NaN</td>\n",
       "      <td>NaN</td>\n",
       "      <td>POINT (20.90212 42.58696)</td>\n",
       "    </tr>\n",
       "    <tr>\n",
       "      <th>261</th>\n",
       "      <td>South Africa</td>\n",
       "      <td>36800509.0</td>\n",
       "      <td>37718950.0</td>\n",
       "      <td>38672607.0</td>\n",
       "      <td>39633750.0</td>\n",
       "      <td>40564059.0</td>\n",
       "      <td>41435758.0</td>\n",
       "      <td>42241011.0</td>\n",
       "      <td>42987461.0</td>\n",
       "      <td>43682260.0</td>\n",
       "      <td>...</td>\n",
       "      <td>30442138.0</td>\n",
       "      <td>31137754.0</td>\n",
       "      <td>31866171.0</td>\n",
       "      <td>(-28.8166236, 24.991639, 0.0)</td>\n",
       "      <td>-28.816624</td>\n",
       "      <td>24.991639</td>\n",
       "      <td>0.520370</td>\n",
       "      <td>0.568910</td>\n",
       "      <td>0.622180</td>\n",
       "      <td>POINT (24.99164 -28.81662)</td>\n",
       "    </tr>\n",
       "    <tr>\n",
       "      <th>262</th>\n",
       "      <td>Zambia</td>\n",
       "      <td>8036845.0</td>\n",
       "      <td>8246656.0</td>\n",
       "      <td>8451347.0</td>\n",
       "      <td>8656486.0</td>\n",
       "      <td>8869740.0</td>\n",
       "      <td>9096607.0</td>\n",
       "      <td>9339733.0</td>\n",
       "      <td>9597609.0</td>\n",
       "      <td>9866476.0</td>\n",
       "      <td>...</td>\n",
       "      <td>4930109.0</td>\n",
       "      <td>5135535.0</td>\n",
       "      <td>5354635.0</td>\n",
       "      <td>(-14.5189121, 27.5589884, 0.0)</td>\n",
       "      <td>-14.518912</td>\n",
       "      <td>27.558988</td>\n",
       "      <td>0.394070</td>\n",
       "      <td>0.348020</td>\n",
       "      <td>0.393550</td>\n",
       "      <td>POINT (27.55899 -14.51891)</td>\n",
       "    </tr>\n",
       "    <tr>\n",
       "      <th>263</th>\n",
       "      <td>Zimbabwe</td>\n",
       "      <td>10432421.0</td>\n",
       "      <td>10680995.0</td>\n",
       "      <td>10900502.0</td>\n",
       "      <td>11092766.0</td>\n",
       "      <td>11261744.0</td>\n",
       "      <td>11410714.0</td>\n",
       "      <td>11541217.0</td>\n",
       "      <td>11653242.0</td>\n",
       "      <td>11747072.0</td>\n",
       "      <td>...</td>\n",
       "      <td>4154577.0</td>\n",
       "      <td>4181251.0</td>\n",
       "      <td>4215136.0</td>\n",
       "      <td>(-19.01688, 29.35365015971339, 0.0)</td>\n",
       "      <td>-19.016880</td>\n",
       "      <td>29.353650</td>\n",
       "      <td>0.289880</td>\n",
       "      <td>0.337580</td>\n",
       "      <td>0.331960</td>\n",
       "      <td>POINT (29.35365 -19.01688)</td>\n",
       "    </tr>\n",
       "  </tbody>\n",
       "</table>\n",
       "<p>194 rows × 50 columns</p>\n",
       "</div>"
      ],
      "text/plain": [
       "     Country Name  1990 World Population  1991 World Population  \\\n",
       "0           Aruba                62149.0                64622.0   \n",
       "1     Afghanistan             12412308.0             13299017.0   \n",
       "2          Angola             11848386.0             12248901.0   \n",
       "3         Albania              3286542.0              3266790.0   \n",
       "4         Andorra                54509.0                56671.0   \n",
       "..            ...                    ...                    ...   \n",
       "258         Samoa               162803.0               163997.0   \n",
       "259        Kosovo              1862000.0              1898000.0   \n",
       "261  South Africa             36800509.0             37718950.0   \n",
       "262        Zambia              8036845.0              8246656.0   \n",
       "263      Zimbabwe             10432421.0             10680995.0   \n",
       "\n",
       "     1992 World Population  1993 World Population  1994 World Population  \\\n",
       "0                  68235.0                72504.0                76700.0   \n",
       "1               14485546.0             15816603.0             17075727.0   \n",
       "2               12657366.0             13075049.0             13503747.0   \n",
       "3                3247039.0              3227287.0              3207536.0   \n",
       "4                  58888.0                60971.0                62677.0   \n",
       "..                     ...                    ...                    ...   \n",
       "258               165490.0               167119.0               168694.0   \n",
       "259              1932000.0              1965000.0              1997000.0   \n",
       "261             38672607.0             39633750.0             40564059.0   \n",
       "262              8451347.0              8656486.0              8869740.0   \n",
       "263             10900502.0             11092766.0             11261744.0   \n",
       "\n",
       "     1995 World Population  1996 World Population  1997 World Population  \\\n",
       "0                  80324.0                83200.0                85451.0   \n",
       "1               18110657.0             18853437.0             19357126.0   \n",
       "2               13945206.0             14400719.0             14871570.0   \n",
       "3                3187784.0              3168033.0              3148281.0   \n",
       "4                  63850.0                64360.0                64327.0   \n",
       "..                     ...                    ...                    ...   \n",
       "258               170054.0               171165.0               172068.0   \n",
       "259              2029000.0              2059000.0              2086000.0   \n",
       "261             41435758.0             42241011.0             42987461.0   \n",
       "262              9096607.0              9339733.0              9597609.0   \n",
       "263             11410714.0             11541217.0             11653242.0   \n",
       "\n",
       "     1998 World Population  ...  2008 Urban World Population  \\\n",
       "0                  87277.0  ...                      44378.0   \n",
       "1               19737765.0  ...                    6464835.0   \n",
       "2               15359601.0  ...                   12644649.0   \n",
       "3                3128530.0  ...                    1473392.0   \n",
       "4                  64142.0  ...                      74641.0   \n",
       "..                     ...  ...                          ...   \n",
       "258               172839.0  ...                      37613.0   \n",
       "259              1966000.0  ...                          NaN   \n",
       "261             43682260.0  ...                   30442138.0   \n",
       "262              9866476.0  ...                    4930109.0   \n",
       "263             11747072.0  ...                    4154577.0   \n",
       "\n",
       "     2009 Urban World Population  2010 Urban World Population  \\\n",
       "0                        44053.0                      43778.0   \n",
       "1                      6680732.0                    6927764.0   \n",
       "2                     13291081.0                   13963065.0   \n",
       "3                      1495260.0                    1519519.0   \n",
       "4                        75098.0                      75007.0   \n",
       "..                           ...                          ...   \n",
       "258                      37465.0                      37335.0   \n",
       "259                          NaN                          NaN   \n",
       "261                   31137754.0                   31866171.0   \n",
       "262                    5135535.0                    5354635.0   \n",
       "263                    4181251.0                    4215136.0   \n",
       "\n",
       "                                  points        lat         lng  \\\n",
       "0         (12.4902998, -69.9609842, 0.0)  12.490300  -69.960984   \n",
       "1          (33.7680065, 66.2385139, 0.0)  33.768006   66.238514   \n",
       "2         (-11.8775768, 17.5691241, 0.0) -11.877577   17.569124   \n",
       "3           (41.000028, 19.9999619, 0.0)  41.000028   19.999962   \n",
       "4           (42.5407167, 1.5732033, 0.0)  42.540717    1.573203   \n",
       "..                                   ...        ...         ...   \n",
       "258     (-13.7693895, -172.1200508, 0.0) -13.769390 -172.120051   \n",
       "259        (42.5869578, 20.9021231, 0.0)  42.586958   20.902123   \n",
       "261        (-28.8166236, 24.991639, 0.0) -28.816624   24.991639   \n",
       "262       (-14.5189121, 27.5589884, 0.0) -14.518912   27.558988   \n",
       "263  (-19.01688, 29.35365015971339, 0.0) -19.016880   29.353650   \n",
       "\n",
       "     WUP_per_cap_1990  WUP_per_cap_2000  WUP_per_cap_2010  \\\n",
       "0            0.503194          0.467172          0.430593   \n",
       "1            0.211770          0.220780          0.237370   \n",
       "2            0.371440          0.500870          0.597830   \n",
       "3            0.364280          0.417410          0.521630   \n",
       "4            0.947128          0.923949          0.888193   \n",
       "..                ...               ...               ...   \n",
       "258          0.211999          0.219771          0.200781   \n",
       "259               NaN               NaN               NaN   \n",
       "261          0.520370          0.568910          0.622180   \n",
       "262          0.394070          0.348020          0.393550   \n",
       "263          0.289880          0.337580          0.331960   \n",
       "\n",
       "                         geometry  \n",
       "0      POINT (-69.96098 12.49030)  \n",
       "1       POINT (66.23851 33.76801)  \n",
       "2      POINT (17.56912 -11.87758)  \n",
       "3       POINT (19.99996 41.00003)  \n",
       "4        POINT (1.57320 42.54072)  \n",
       "..                            ...  \n",
       "258  POINT (-172.12005 -13.76939)  \n",
       "259     POINT (20.90212 42.58696)  \n",
       "261    POINT (24.99164 -28.81662)  \n",
       "262    POINT (27.55899 -14.51891)  \n",
       "263    POINT (29.35365 -19.01688)  \n",
       "\n",
       "[194 rows x 50 columns]"
      ]
     },
     "execution_count": 25,
     "metadata": {},
     "output_type": "execute_result"
    }
   ],
   "source": [
    "#save the countries with population less than 69000000 to a dataframe\n",
    "gdf2 = gdf_populations[gdf_populations[\"2010 World Population\"] < 69000000]\n",
    "gdf2"
   ]
  },
  {
   "cell_type": "markdown",
   "id": "3cdb7a96",
   "metadata": {},
   "source": [
    "Plot World Urban Population per Capita with Population < 69000000, 2010 and hover over the countries. "
   ]
  },
  {
   "cell_type": "code",
   "execution_count": 26,
   "id": "3629ef2b",
   "metadata": {},
   "outputs": [
    {
     "data": {
      "application/vnd.plotly.v1+json": {
       "config": {
        "linkText": "Export to plot.ly",
        "plotlyServerURL": "https://plot.ly",
        "showLink": false
       },
       "data": [
        {
         "colorbar": {
          "title": {
           "text": "World Urban Population per Capita"
          }
         },
         "colorscale": [
          [
           0,
           "#440154"
          ],
          [
           0.1111111111111111,
           "#482878"
          ],
          [
           0.2222222222222222,
           "#3e4989"
          ],
          [
           0.3333333333333333,
           "#31688e"
          ],
          [
           0.4444444444444444,
           "#26828e"
          ],
          [
           0.5555555555555556,
           "#1f9e89"
          ],
          [
           0.6666666666666666,
           "#35b779"
          ],
          [
           0.7777777777777778,
           "#6ece58"
          ],
          [
           0.8888888888888888,
           "#b5de2b"
          ],
          [
           1,
           "#fde725"
          ]
         ],
         "locationmode": "country names",
         "locations": [
          "Aruba",
          "Afghanistan",
          "Angola",
          "Albania",
          "Andorra",
          "United Arab Emirates",
          "Argentina",
          "Armenia",
          "American Samoa",
          "Antigua and Barbuda",
          "Australia",
          "Austria",
          "Azerbaijan",
          "Burundi",
          "Belgium",
          "Benin",
          "Burkina Faso",
          "Bulgaria",
          "Bahrain",
          "Bahamas, The",
          "Bosnia and Herzegovina",
          "Belarus",
          "Belize",
          "Bermuda",
          "Bolivia",
          "Barbados",
          "Brunei Darussalam",
          "Bhutan",
          "Botswana",
          "Central African Republic",
          "Canada",
          "Switzerland",
          "Channel Islands",
          "Chile",
          "Cote d'Ivoire",
          "Cameroon",
          "Colombia",
          "Comoros",
          "Cabo Verde",
          "Costa Rica",
          "Cuba",
          "Curacao",
          "Cayman Islands",
          "Cyprus",
          "Czech Republic",
          "Djibouti",
          "Dominica",
          "Denmark",
          "Dominican Republic",
          "Algeria",
          "Ecuador",
          "Eritrea",
          "Spain",
          "Estonia",
          "Finland",
          "Fiji",
          "France",
          "Faroe Islands",
          "Gabon",
          "United Kingdom",
          "Georgia",
          "Ghana",
          "Gibraltar",
          "Guinea",
          "Gambia, The",
          "Guinea-Bissau",
          "Equatorial Guinea",
          "Greece",
          "Grenada",
          "Greenland",
          "Guatemala",
          "Guam",
          "Guyana",
          "Hong Kong SAR, China",
          "Honduras",
          "Croatia",
          "Haiti",
          "Hungary",
          "Isle of Man",
          "Ireland",
          "Iraq",
          "Iceland",
          "Israel",
          "Italy",
          "Jamaica",
          "Jordan",
          "Kazakhstan",
          "Kenya",
          "Kyrgyz Republic",
          "Cambodia",
          "Kiribati",
          "St. Kitts and Nevis",
          "Kuwait",
          "Lao PDR",
          "Lebanon",
          "Liberia",
          "Libya",
          "St. Lucia",
          "Liechtenstein",
          "Sri Lanka",
          "Lesotho",
          "Lithuania",
          "Luxembourg",
          "Latvia",
          "Macao SAR, China",
          "St. Martin (French part)",
          "Morocco",
          "Monaco",
          "Moldova",
          "Madagascar",
          "Maldives",
          "Marshall Islands",
          "North Macedonia",
          "Mali",
          "Malta",
          "Myanmar",
          "Montenegro",
          "Mongolia",
          "Northern Mariana Islands",
          "Mozambique",
          "Mauritania",
          "Mauritius",
          "Malawi",
          "Malaysia",
          "Namibia",
          "New Caledonia",
          "Niger",
          "Nicaragua",
          "Netherlands",
          "Norway",
          "Nepal",
          "Nauru",
          "New Zealand",
          "Oman",
          "Panama",
          "Peru",
          "Palau",
          "Papua New Guinea",
          "Poland",
          "Puerto Rico",
          "Portugal",
          "Paraguay",
          "West Bank and Gaza",
          "French Polynesia",
          "Qatar",
          "Romania",
          "Rwanda",
          "Saudi Arabia",
          "Sudan",
          "Senegal",
          "Singapore",
          "Solomon Islands",
          "Sierra Leone",
          "El Salvador",
          "San Marino",
          "Somalia",
          "Serbia",
          "South Sudan",
          "Small states",
          "Sao Tome and Principe",
          "Suriname",
          "Slovak Republic",
          "Slovenia",
          "Sweden",
          "Eswatini",
          "Sint Maarten (Dutch part)",
          "Seychelles",
          "Syrian Arab Republic",
          "Turks and Caicos Islands",
          "Chad",
          "Togo",
          "Thailand",
          "Tajikistan",
          "Turkmenistan",
          "Timor-Leste",
          "Tonga",
          "Trinidad and Tobago",
          "Tunisia",
          "Tuvalu",
          "Tanzania",
          "Uganda",
          "Ukraine",
          "Uruguay",
          "Uzbekistan",
          "St. Vincent and the Grenadines",
          "Venezuela, RB",
          "British Virgin Islands",
          "Virgin Islands (U.S.)",
          "Vanuatu",
          "Samoa",
          "Kosovo",
          "South Africa",
          "Zambia",
          "Zimbabwe"
         ],
         "text": [
          "Aruba",
          "Afghanistan",
          "Angola",
          "Albania",
          "Andorra",
          "United Arab Emirates",
          "Argentina",
          "Armenia",
          "American Samoa",
          "Antigua and Barbuda",
          "Australia",
          "Austria",
          "Azerbaijan",
          "Burundi",
          "Belgium",
          "Benin",
          "Burkina Faso",
          "Bulgaria",
          "Bahrain",
          "Bahamas, The",
          "Bosnia and Herzegovina",
          "Belarus",
          "Belize",
          "Bermuda",
          "Bolivia",
          "Barbados",
          "Brunei Darussalam",
          "Bhutan",
          "Botswana",
          "Central African Republic",
          "Canada",
          "Switzerland",
          "Channel Islands",
          "Chile",
          "Cote d'Ivoire",
          "Cameroon",
          "Colombia",
          "Comoros",
          "Cabo Verde",
          "Costa Rica",
          "Cuba",
          "Curacao",
          "Cayman Islands",
          "Cyprus",
          "Czech Republic",
          "Djibouti",
          "Dominica",
          "Denmark",
          "Dominican Republic",
          "Algeria",
          "Ecuador",
          "Eritrea",
          "Spain",
          "Estonia",
          "Finland",
          "Fiji",
          "France",
          "Faroe Islands",
          "Gabon",
          "United Kingdom",
          "Georgia",
          "Ghana",
          "Gibraltar",
          "Guinea",
          "Gambia, The",
          "Guinea-Bissau",
          "Equatorial Guinea",
          "Greece",
          "Grenada",
          "Greenland",
          "Guatemala",
          "Guam",
          "Guyana",
          "Hong Kong SAR, China",
          "Honduras",
          "Croatia",
          "Haiti",
          "Hungary",
          "Isle of Man",
          "Ireland",
          "Iraq",
          "Iceland",
          "Israel",
          "Italy",
          "Jamaica",
          "Jordan",
          "Kazakhstan",
          "Kenya",
          "Kyrgyz Republic",
          "Cambodia",
          "Kiribati",
          "St. Kitts and Nevis",
          "Kuwait",
          "Lao PDR",
          "Lebanon",
          "Liberia",
          "Libya",
          "St. Lucia",
          "Liechtenstein",
          "Sri Lanka",
          "Lesotho",
          "Lithuania",
          "Luxembourg",
          "Latvia",
          "Macao SAR, China",
          "St. Martin (French part)",
          "Morocco",
          "Monaco",
          "Moldova",
          "Madagascar",
          "Maldives",
          "Marshall Islands",
          "North Macedonia",
          "Mali",
          "Malta",
          "Myanmar",
          "Montenegro",
          "Mongolia",
          "Northern Mariana Islands",
          "Mozambique",
          "Mauritania",
          "Mauritius",
          "Malawi",
          "Malaysia",
          "Namibia",
          "New Caledonia",
          "Niger",
          "Nicaragua",
          "Netherlands",
          "Norway",
          "Nepal",
          "Nauru",
          "New Zealand",
          "Oman",
          "Panama",
          "Peru",
          "Palau",
          "Papua New Guinea",
          "Poland",
          "Puerto Rico",
          "Portugal",
          "Paraguay",
          "West Bank and Gaza",
          "French Polynesia",
          "Qatar",
          "Romania",
          "Rwanda",
          "Saudi Arabia",
          "Sudan",
          "Senegal",
          "Singapore",
          "Solomon Islands",
          "Sierra Leone",
          "El Salvador",
          "San Marino",
          "Somalia",
          "Serbia",
          "South Sudan",
          "Small states",
          "Sao Tome and Principe",
          "Suriname",
          "Slovak Republic",
          "Slovenia",
          "Sweden",
          "Eswatini",
          "Sint Maarten (Dutch part)",
          "Seychelles",
          "Syrian Arab Republic",
          "Turks and Caicos Islands",
          "Chad",
          "Togo",
          "Thailand",
          "Tajikistan",
          "Turkmenistan",
          "Timor-Leste",
          "Tonga",
          "Trinidad and Tobago",
          "Tunisia",
          "Tuvalu",
          "Tanzania",
          "Uganda",
          "Ukraine",
          "Uruguay",
          "Uzbekistan",
          "St. Vincent and the Grenadines",
          "Venezuela, RB",
          "British Virgin Islands",
          "Virgin Islands (U.S.)",
          "Vanuatu",
          "Samoa",
          "Kosovo",
          "South Africa",
          "Zambia",
          "Zimbabwe"
         ],
         "type": "choropleth",
         "z": [
          0.430593396217136,
          0.23737000696955513,
          0.5978300194303485,
          0.5216299504878269,
          0.8881928738054921,
          0.8408699520981784,
          0.9084900081893275,
          0.6343999396660572,
          0.8759428663135933,
          0.26238242377425364,
          0.8518199870641233,
          0.5739899686778255,
          0.5340600499296911,
          0.10642005015905524,
          0.9765100289236394,
          0.4309300346908376,
          0.24632999336055372,
          0.7230200014900754,
          0.8863401189497606,
          0.8242698807129052,
          0.4555800178762652,
          0.7467199854845588,
          0.45227994442790515,
          1,
          0.6642999664629565,
          0.3186994693954227,
          0.7496101851041822,
          0.34792991423815794,
          0.6241200137889039,
          0.3890399492291364,
          0.8093699997079832,
          0.736070029696192,
          0.3105412748694705,
          0.8707400236400966,
          0.4732999885549811,
          0.5155899780155989,
          0.7796399816906111,
          0.2797306623826288,
          0.618210752373877,
          0.7173600257614731,
          0.7659700412405958,
          0.8990470938716771,
          1,
          0.6755104205239563,
          0.7325499956560799,
          0.7699899309448487,
          0.6809447219165327,
          0.8679499171095393,
          0.7375300421727589,
          0.6753999970259152,
          0.6268999835255431,
          0.35175015415865646,
          0.7844200097743738,
          0.68094031055784,
          0.8377000055189366,
          0.521710408481795,
          0.7836900006023605,
          0.40925252018237335,
          0.8553302055241543,
          0.8130199988481092,
          0.5553499819763672,
          0.5071299925959314,
          1,
          0.3367799967347503,
          0.5566201352222512,
          0.4011102069553441,
          0.6594004698830803,
          0.762919957224583,
          0.3586456185930925,
          0.8438274316843862,
          0.48402997905914763,
          0.9409886856827475,
          0.26634028789649816,
          1,
          0.5188499627891655,
          0.5515500554426835,
          0.4750899609038686,
          0.6891100150469653,
          0.5199453197732656,
          0.6154200898872955,
          0.6910300109179027,
          0.9357409893692952,
          0.918260008394984,
          0.6832700048316883,
          0.5374301715733367,
          0.8608800420957596,
          0.5682699876582784,
          0.23571000856612442,
          0.3530600781952679,
          0.2029399788097046,
          0.47389897694482497,
          0.3131834503019422,
          1,
          0.3006400055047354,
          0.873339940695259,
          0.47812998862093314,
          0.7805200121400598,
          0.1845018238216963,
          0.14463521698060788,
          0.18225999083889008,
          0.2479799116147127,
          0.6675701469869388,
          0.8854706452077411,
          0.6784098629118187,
          1,
          null,
          0.5801799867045473,
          1,
          0.42620008408215726,
          0.31938001024979623,
          0.36434129722694636,
          0.735673987865025,
          0.5708898408830462,
          0.3599900274782577,
          0.9407200826039546,
          0.2888499944803264,
          0.6413998075643981,
          0.6756699520864033,
          0.9094884289711141,
          0.3182999998215164,
          0.4658801240342912,
          0.41555022392834295,
          0.15543998010400828,
          0.7091200078275569,
          0.41616018696722884,
          0.6710190190190191,
          0.16220996991926337,
          0.5691699869421101,
          0.8713399754468657,
          0.791019976061778,
          0.16767998563073505,
          1,
          0.8615999724182315,
          0.7516099313679008,
          0.6513999144038453,
          0.7642999917940376,
          0.7481481481481481,
          0.1301900128130648,
          0.6089199967804678,
          0.9382500453443144,
          0.6056699548855113,
          0.592609978841297,
          0.7414901268065462,
          0.6031712671933347,
          0.9850101840893334,
          0.5382899905866936,
          0.16933995050271242,
          0.8208399982772617,
          0.3308899898228436,
          0.4377300217665861,
          1,
          0.2004808083946342,
          0.3885600394286831,
          0.6545200218309717,
          0.9574113804476608,
          0.39309996618200294,
          0.5499299452124382,
          0.17860001994033883,
          0.5478732211976123,
          0.6495223733305243,
          0.6634330628899082,
          0.5468499254742899,
          0.5265800799869959,
          0.8505600159349533,
          0.2247996641739534,
          1,
          0.5333630388771304,
          0.5559999941954438,
          0.9022657685241886,
          0.2198499916667615,
          0.3753300344037751,
          0.4385599928613766,
          0.2652000147727089,
          0.48490991039691084,
          0.27732018439484124,
          0.23388725405343028,
          0.5402496862169625,
          0.6665700382614634,
          0.5479582146248813,
          0.2811399991318373,
          0.19383001203860828,
          0.6859599891791589,
          0.9441400302148529,
          0.509560015965045,
          0.4896124890305298,
          0.8808299876863313,
          0.4481542779017054,
          0.9459384632422156,
          0.24462027593973185,
          0.20078085926786376,
          null,
          0.6221800066087478,
          0.39354999976480937,
          0.3319599899919064
         ]
        }
       ],
       "layout": {
        "geo": {
         "projection": {
          "type": "mercator"
         }
        },
        "template": {
         "data": {
          "bar": [
           {
            "error_x": {
             "color": "#2a3f5f"
            },
            "error_y": {
             "color": "#2a3f5f"
            },
            "marker": {
             "line": {
              "color": "#E5ECF6",
              "width": 0.5
             }
            },
            "type": "bar"
           }
          ],
          "barpolar": [
           {
            "marker": {
             "line": {
              "color": "#E5ECF6",
              "width": 0.5
             }
            },
            "type": "barpolar"
           }
          ],
          "carpet": [
           {
            "aaxis": {
             "endlinecolor": "#2a3f5f",
             "gridcolor": "white",
             "linecolor": "white",
             "minorgridcolor": "white",
             "startlinecolor": "#2a3f5f"
            },
            "baxis": {
             "endlinecolor": "#2a3f5f",
             "gridcolor": "white",
             "linecolor": "white",
             "minorgridcolor": "white",
             "startlinecolor": "#2a3f5f"
            },
            "type": "carpet"
           }
          ],
          "choropleth": [
           {
            "colorbar": {
             "outlinewidth": 0,
             "ticks": ""
            },
            "type": "choropleth"
           }
          ],
          "contour": [
           {
            "colorbar": {
             "outlinewidth": 0,
             "ticks": ""
            },
            "colorscale": [
             [
              0,
              "#0d0887"
             ],
             [
              0.1111111111111111,
              "#46039f"
             ],
             [
              0.2222222222222222,
              "#7201a8"
             ],
             [
              0.3333333333333333,
              "#9c179e"
             ],
             [
              0.4444444444444444,
              "#bd3786"
             ],
             [
              0.5555555555555556,
              "#d8576b"
             ],
             [
              0.6666666666666666,
              "#ed7953"
             ],
             [
              0.7777777777777778,
              "#fb9f3a"
             ],
             [
              0.8888888888888888,
              "#fdca26"
             ],
             [
              1,
              "#f0f921"
             ]
            ],
            "type": "contour"
           }
          ],
          "contourcarpet": [
           {
            "colorbar": {
             "outlinewidth": 0,
             "ticks": ""
            },
            "type": "contourcarpet"
           }
          ],
          "heatmap": [
           {
            "colorbar": {
             "outlinewidth": 0,
             "ticks": ""
            },
            "colorscale": [
             [
              0,
              "#0d0887"
             ],
             [
              0.1111111111111111,
              "#46039f"
             ],
             [
              0.2222222222222222,
              "#7201a8"
             ],
             [
              0.3333333333333333,
              "#9c179e"
             ],
             [
              0.4444444444444444,
              "#bd3786"
             ],
             [
              0.5555555555555556,
              "#d8576b"
             ],
             [
              0.6666666666666666,
              "#ed7953"
             ],
             [
              0.7777777777777778,
              "#fb9f3a"
             ],
             [
              0.8888888888888888,
              "#fdca26"
             ],
             [
              1,
              "#f0f921"
             ]
            ],
            "type": "heatmap"
           }
          ],
          "heatmapgl": [
           {
            "colorbar": {
             "outlinewidth": 0,
             "ticks": ""
            },
            "colorscale": [
             [
              0,
              "#0d0887"
             ],
             [
              0.1111111111111111,
              "#46039f"
             ],
             [
              0.2222222222222222,
              "#7201a8"
             ],
             [
              0.3333333333333333,
              "#9c179e"
             ],
             [
              0.4444444444444444,
              "#bd3786"
             ],
             [
              0.5555555555555556,
              "#d8576b"
             ],
             [
              0.6666666666666666,
              "#ed7953"
             ],
             [
              0.7777777777777778,
              "#fb9f3a"
             ],
             [
              0.8888888888888888,
              "#fdca26"
             ],
             [
              1,
              "#f0f921"
             ]
            ],
            "type": "heatmapgl"
           }
          ],
          "histogram": [
           {
            "marker": {
             "colorbar": {
              "outlinewidth": 0,
              "ticks": ""
             }
            },
            "type": "histogram"
           }
          ],
          "histogram2d": [
           {
            "colorbar": {
             "outlinewidth": 0,
             "ticks": ""
            },
            "colorscale": [
             [
              0,
              "#0d0887"
             ],
             [
              0.1111111111111111,
              "#46039f"
             ],
             [
              0.2222222222222222,
              "#7201a8"
             ],
             [
              0.3333333333333333,
              "#9c179e"
             ],
             [
              0.4444444444444444,
              "#bd3786"
             ],
             [
              0.5555555555555556,
              "#d8576b"
             ],
             [
              0.6666666666666666,
              "#ed7953"
             ],
             [
              0.7777777777777778,
              "#fb9f3a"
             ],
             [
              0.8888888888888888,
              "#fdca26"
             ],
             [
              1,
              "#f0f921"
             ]
            ],
            "type": "histogram2d"
           }
          ],
          "histogram2dcontour": [
           {
            "colorbar": {
             "outlinewidth": 0,
             "ticks": ""
            },
            "colorscale": [
             [
              0,
              "#0d0887"
             ],
             [
              0.1111111111111111,
              "#46039f"
             ],
             [
              0.2222222222222222,
              "#7201a8"
             ],
             [
              0.3333333333333333,
              "#9c179e"
             ],
             [
              0.4444444444444444,
              "#bd3786"
             ],
             [
              0.5555555555555556,
              "#d8576b"
             ],
             [
              0.6666666666666666,
              "#ed7953"
             ],
             [
              0.7777777777777778,
              "#fb9f3a"
             ],
             [
              0.8888888888888888,
              "#fdca26"
             ],
             [
              1,
              "#f0f921"
             ]
            ],
            "type": "histogram2dcontour"
           }
          ],
          "mesh3d": [
           {
            "colorbar": {
             "outlinewidth": 0,
             "ticks": ""
            },
            "type": "mesh3d"
           }
          ],
          "parcoords": [
           {
            "line": {
             "colorbar": {
              "outlinewidth": 0,
              "ticks": ""
             }
            },
            "type": "parcoords"
           }
          ],
          "pie": [
           {
            "automargin": true,
            "type": "pie"
           }
          ],
          "scatter": [
           {
            "marker": {
             "colorbar": {
              "outlinewidth": 0,
              "ticks": ""
             }
            },
            "type": "scatter"
           }
          ],
          "scatter3d": [
           {
            "line": {
             "colorbar": {
              "outlinewidth": 0,
              "ticks": ""
             }
            },
            "marker": {
             "colorbar": {
              "outlinewidth": 0,
              "ticks": ""
             }
            },
            "type": "scatter3d"
           }
          ],
          "scattercarpet": [
           {
            "marker": {
             "colorbar": {
              "outlinewidth": 0,
              "ticks": ""
             }
            },
            "type": "scattercarpet"
           }
          ],
          "scattergeo": [
           {
            "marker": {
             "colorbar": {
              "outlinewidth": 0,
              "ticks": ""
             }
            },
            "type": "scattergeo"
           }
          ],
          "scattergl": [
           {
            "marker": {
             "colorbar": {
              "outlinewidth": 0,
              "ticks": ""
             }
            },
            "type": "scattergl"
           }
          ],
          "scattermapbox": [
           {
            "marker": {
             "colorbar": {
              "outlinewidth": 0,
              "ticks": ""
             }
            },
            "type": "scattermapbox"
           }
          ],
          "scatterpolar": [
           {
            "marker": {
             "colorbar": {
              "outlinewidth": 0,
              "ticks": ""
             }
            },
            "type": "scatterpolar"
           }
          ],
          "scatterpolargl": [
           {
            "marker": {
             "colorbar": {
              "outlinewidth": 0,
              "ticks": ""
             }
            },
            "type": "scatterpolargl"
           }
          ],
          "scatterternary": [
           {
            "marker": {
             "colorbar": {
              "outlinewidth": 0,
              "ticks": ""
             }
            },
            "type": "scatterternary"
           }
          ],
          "surface": [
           {
            "colorbar": {
             "outlinewidth": 0,
             "ticks": ""
            },
            "colorscale": [
             [
              0,
              "#0d0887"
             ],
             [
              0.1111111111111111,
              "#46039f"
             ],
             [
              0.2222222222222222,
              "#7201a8"
             ],
             [
              0.3333333333333333,
              "#9c179e"
             ],
             [
              0.4444444444444444,
              "#bd3786"
             ],
             [
              0.5555555555555556,
              "#d8576b"
             ],
             [
              0.6666666666666666,
              "#ed7953"
             ],
             [
              0.7777777777777778,
              "#fb9f3a"
             ],
             [
              0.8888888888888888,
              "#fdca26"
             ],
             [
              1,
              "#f0f921"
             ]
            ],
            "type": "surface"
           }
          ],
          "table": [
           {
            "cells": {
             "fill": {
              "color": "#EBF0F8"
             },
             "line": {
              "color": "white"
             }
            },
            "header": {
             "fill": {
              "color": "#C8D4E3"
             },
             "line": {
              "color": "white"
             }
            },
            "type": "table"
           }
          ]
         },
         "layout": {
          "annotationdefaults": {
           "arrowcolor": "#2a3f5f",
           "arrowhead": 0,
           "arrowwidth": 1
          },
          "autotypenumbers": "strict",
          "coloraxis": {
           "colorbar": {
            "outlinewidth": 0,
            "ticks": ""
           }
          },
          "colorscale": {
           "diverging": [
            [
             0,
             "#8e0152"
            ],
            [
             0.1,
             "#c51b7d"
            ],
            [
             0.2,
             "#de77ae"
            ],
            [
             0.3,
             "#f1b6da"
            ],
            [
             0.4,
             "#fde0ef"
            ],
            [
             0.5,
             "#f7f7f7"
            ],
            [
             0.6,
             "#e6f5d0"
            ],
            [
             0.7,
             "#b8e186"
            ],
            [
             0.8,
             "#7fbc41"
            ],
            [
             0.9,
             "#4d9221"
            ],
            [
             1,
             "#276419"
            ]
           ],
           "sequential": [
            [
             0,
             "#0d0887"
            ],
            [
             0.1111111111111111,
             "#46039f"
            ],
            [
             0.2222222222222222,
             "#7201a8"
            ],
            [
             0.3333333333333333,
             "#9c179e"
            ],
            [
             0.4444444444444444,
             "#bd3786"
            ],
            [
             0.5555555555555556,
             "#d8576b"
            ],
            [
             0.6666666666666666,
             "#ed7953"
            ],
            [
             0.7777777777777778,
             "#fb9f3a"
            ],
            [
             0.8888888888888888,
             "#fdca26"
            ],
            [
             1,
             "#f0f921"
            ]
           ],
           "sequentialminus": [
            [
             0,
             "#0d0887"
            ],
            [
             0.1111111111111111,
             "#46039f"
            ],
            [
             0.2222222222222222,
             "#7201a8"
            ],
            [
             0.3333333333333333,
             "#9c179e"
            ],
            [
             0.4444444444444444,
             "#bd3786"
            ],
            [
             0.5555555555555556,
             "#d8576b"
            ],
            [
             0.6666666666666666,
             "#ed7953"
            ],
            [
             0.7777777777777778,
             "#fb9f3a"
            ],
            [
             0.8888888888888888,
             "#fdca26"
            ],
            [
             1,
             "#f0f921"
            ]
           ]
          },
          "colorway": [
           "#636efa",
           "#EF553B",
           "#00cc96",
           "#ab63fa",
           "#FFA15A",
           "#19d3f3",
           "#FF6692",
           "#B6E880",
           "#FF97FF",
           "#FECB52"
          ],
          "font": {
           "color": "#2a3f5f"
          },
          "geo": {
           "bgcolor": "white",
           "lakecolor": "white",
           "landcolor": "#E5ECF6",
           "showlakes": true,
           "showland": true,
           "subunitcolor": "white"
          },
          "hoverlabel": {
           "align": "left"
          },
          "hovermode": "closest",
          "mapbox": {
           "style": "light"
          },
          "paper_bgcolor": "white",
          "plot_bgcolor": "#E5ECF6",
          "polar": {
           "angularaxis": {
            "gridcolor": "white",
            "linecolor": "white",
            "ticks": ""
           },
           "bgcolor": "#E5ECF6",
           "radialaxis": {
            "gridcolor": "white",
            "linecolor": "white",
            "ticks": ""
           }
          },
          "scene": {
           "xaxis": {
            "backgroundcolor": "#E5ECF6",
            "gridcolor": "white",
            "gridwidth": 2,
            "linecolor": "white",
            "showbackground": true,
            "ticks": "",
            "zerolinecolor": "white"
           },
           "yaxis": {
            "backgroundcolor": "#E5ECF6",
            "gridcolor": "white",
            "gridwidth": 2,
            "linecolor": "white",
            "showbackground": true,
            "ticks": "",
            "zerolinecolor": "white"
           },
           "zaxis": {
            "backgroundcolor": "#E5ECF6",
            "gridcolor": "white",
            "gridwidth": 2,
            "linecolor": "white",
            "showbackground": true,
            "ticks": "",
            "zerolinecolor": "white"
           }
          },
          "shapedefaults": {
           "line": {
            "color": "#2a3f5f"
           }
          },
          "ternary": {
           "aaxis": {
            "gridcolor": "white",
            "linecolor": "white",
            "ticks": ""
           },
           "baxis": {
            "gridcolor": "white",
            "linecolor": "white",
            "ticks": ""
           },
           "bgcolor": "#E5ECF6",
           "caxis": {
            "gridcolor": "white",
            "linecolor": "white",
            "ticks": ""
           }
          },
          "title": {
           "x": 0.05
          },
          "xaxis": {
           "automargin": true,
           "gridcolor": "white",
           "linecolor": "white",
           "ticks": "",
           "title": {
            "standoff": 15
           },
           "zerolinecolor": "white",
           "zerolinewidth": 2
          },
          "yaxis": {
           "automargin": true,
           "gridcolor": "white",
           "linecolor": "white",
           "ticks": "",
           "title": {
            "standoff": 15
           },
           "zerolinecolor": "white",
           "zerolinewidth": 2
          }
         }
        },
        "title": {
         "text": "World Urban Population per Capita with Population < 69000000, 2010"
        }
       }
      },
      "text/html": [
       "<div>                            <div id=\"b5e64382-657d-4744-8940-31eb3e839101\" class=\"plotly-graph-div\" style=\"height:525px; width:100%;\"></div>            <script type=\"text/javascript\">                require([\"plotly\"], function(Plotly) {                    window.PLOTLYENV=window.PLOTLYENV || {};                                    if (document.getElementById(\"b5e64382-657d-4744-8940-31eb3e839101\")) {                    Plotly.newPlot(                        \"b5e64382-657d-4744-8940-31eb3e839101\",                        [{\"colorbar\": {\"title\": {\"text\": \"World Urban Population per Capita\"}}, \"colorscale\": [[0.0, \"#440154\"], [0.1111111111111111, \"#482878\"], [0.2222222222222222, \"#3e4989\"], [0.3333333333333333, \"#31688e\"], [0.4444444444444444, \"#26828e\"], [0.5555555555555556, \"#1f9e89\"], [0.6666666666666666, \"#35b779\"], [0.7777777777777778, \"#6ece58\"], [0.8888888888888888, \"#b5de2b\"], [1.0, \"#fde725\"]], \"locationmode\": \"country names\", \"locations\": [\"Aruba\", \"Afghanistan\", \"Angola\", \"Albania\", \"Andorra\", \"United Arab Emirates\", \"Argentina\", \"Armenia\", \"American Samoa\", \"Antigua and Barbuda\", \"Australia\", \"Austria\", \"Azerbaijan\", \"Burundi\", \"Belgium\", \"Benin\", \"Burkina Faso\", \"Bulgaria\", \"Bahrain\", \"Bahamas, The\", \"Bosnia and Herzegovina\", \"Belarus\", \"Belize\", \"Bermuda\", \"Bolivia\", \"Barbados\", \"Brunei Darussalam\", \"Bhutan\", \"Botswana\", \"Central African Republic\", \"Canada\", \"Switzerland\", \"Channel Islands\", \"Chile\", \"Cote d'Ivoire\", \"Cameroon\", \"Colombia\", \"Comoros\", \"Cabo Verde\", \"Costa Rica\", \"Cuba\", \"Curacao\", \"Cayman Islands\", \"Cyprus\", \"Czech Republic\", \"Djibouti\", \"Dominica\", \"Denmark\", \"Dominican Republic\", \"Algeria\", \"Ecuador\", \"Eritrea\", \"Spain\", \"Estonia\", \"Finland\", \"Fiji\", \"France\", \"Faroe Islands\", \"Gabon\", \"United Kingdom\", \"Georgia\", \"Ghana\", \"Gibraltar\", \"Guinea\", \"Gambia, The\", \"Guinea-Bissau\", \"Equatorial Guinea\", \"Greece\", \"Grenada\", \"Greenland\", \"Guatemala\", \"Guam\", \"Guyana\", \"Hong Kong SAR, China\", \"Honduras\", \"Croatia\", \"Haiti\", \"Hungary\", \"Isle of Man\", \"Ireland\", \"Iraq\", \"Iceland\", \"Israel\", \"Italy\", \"Jamaica\", \"Jordan\", \"Kazakhstan\", \"Kenya\", \"Kyrgyz Republic\", \"Cambodia\", \"Kiribati\", \"St. Kitts and Nevis\", \"Kuwait\", \"Lao PDR\", \"Lebanon\", \"Liberia\", \"Libya\", \"St. Lucia\", \"Liechtenstein\", \"Sri Lanka\", \"Lesotho\", \"Lithuania\", \"Luxembourg\", \"Latvia\", \"Macao SAR, China\", \"St. Martin (French part)\", \"Morocco\", \"Monaco\", \"Moldova\", \"Madagascar\", \"Maldives\", \"Marshall Islands\", \"North Macedonia\", \"Mali\", \"Malta\", \"Myanmar\", \"Montenegro\", \"Mongolia\", \"Northern Mariana Islands\", \"Mozambique\", \"Mauritania\", \"Mauritius\", \"Malawi\", \"Malaysia\", \"Namibia\", \"New Caledonia\", \"Niger\", \"Nicaragua\", \"Netherlands\", \"Norway\", \"Nepal\", \"Nauru\", \"New Zealand\", \"Oman\", \"Panama\", \"Peru\", \"Palau\", \"Papua New Guinea\", \"Poland\", \"Puerto Rico\", \"Portugal\", \"Paraguay\", \"West Bank and Gaza\", \"French Polynesia\", \"Qatar\", \"Romania\", \"Rwanda\", \"Saudi Arabia\", \"Sudan\", \"Senegal\", \"Singapore\", \"Solomon Islands\", \"Sierra Leone\", \"El Salvador\", \"San Marino\", \"Somalia\", \"Serbia\", \"South Sudan\", \"Small states\", \"Sao Tome and Principe\", \"Suriname\", \"Slovak Republic\", \"Slovenia\", \"Sweden\", \"Eswatini\", \"Sint Maarten (Dutch part)\", \"Seychelles\", \"Syrian Arab Republic\", \"Turks and Caicos Islands\", \"Chad\", \"Togo\", \"Thailand\", \"Tajikistan\", \"Turkmenistan\", \"Timor-Leste\", \"Tonga\", \"Trinidad and Tobago\", \"Tunisia\", \"Tuvalu\", \"Tanzania\", \"Uganda\", \"Ukraine\", \"Uruguay\", \"Uzbekistan\", \"St. Vincent and the Grenadines\", \"Venezuela, RB\", \"British Virgin Islands\", \"Virgin Islands (U.S.)\", \"Vanuatu\", \"Samoa\", \"Kosovo\", \"South Africa\", \"Zambia\", \"Zimbabwe\"], \"text\": [\"Aruba\", \"Afghanistan\", \"Angola\", \"Albania\", \"Andorra\", \"United Arab Emirates\", \"Argentina\", \"Armenia\", \"American Samoa\", \"Antigua and Barbuda\", \"Australia\", \"Austria\", \"Azerbaijan\", \"Burundi\", \"Belgium\", \"Benin\", \"Burkina Faso\", \"Bulgaria\", \"Bahrain\", \"Bahamas, The\", \"Bosnia and Herzegovina\", \"Belarus\", \"Belize\", \"Bermuda\", \"Bolivia\", \"Barbados\", \"Brunei Darussalam\", \"Bhutan\", \"Botswana\", \"Central African Republic\", \"Canada\", \"Switzerland\", \"Channel Islands\", \"Chile\", \"Cote d'Ivoire\", \"Cameroon\", \"Colombia\", \"Comoros\", \"Cabo Verde\", \"Costa Rica\", \"Cuba\", \"Curacao\", \"Cayman Islands\", \"Cyprus\", \"Czech Republic\", \"Djibouti\", \"Dominica\", \"Denmark\", \"Dominican Republic\", \"Algeria\", \"Ecuador\", \"Eritrea\", \"Spain\", \"Estonia\", \"Finland\", \"Fiji\", \"France\", \"Faroe Islands\", \"Gabon\", \"United Kingdom\", \"Georgia\", \"Ghana\", \"Gibraltar\", \"Guinea\", \"Gambia, The\", \"Guinea-Bissau\", \"Equatorial Guinea\", \"Greece\", \"Grenada\", \"Greenland\", \"Guatemala\", \"Guam\", \"Guyana\", \"Hong Kong SAR, China\", \"Honduras\", \"Croatia\", \"Haiti\", \"Hungary\", \"Isle of Man\", \"Ireland\", \"Iraq\", \"Iceland\", \"Israel\", \"Italy\", \"Jamaica\", \"Jordan\", \"Kazakhstan\", \"Kenya\", \"Kyrgyz Republic\", \"Cambodia\", \"Kiribati\", \"St. Kitts and Nevis\", \"Kuwait\", \"Lao PDR\", \"Lebanon\", \"Liberia\", \"Libya\", \"St. Lucia\", \"Liechtenstein\", \"Sri Lanka\", \"Lesotho\", \"Lithuania\", \"Luxembourg\", \"Latvia\", \"Macao SAR, China\", \"St. Martin (French part)\", \"Morocco\", \"Monaco\", \"Moldova\", \"Madagascar\", \"Maldives\", \"Marshall Islands\", \"North Macedonia\", \"Mali\", \"Malta\", \"Myanmar\", \"Montenegro\", \"Mongolia\", \"Northern Mariana Islands\", \"Mozambique\", \"Mauritania\", \"Mauritius\", \"Malawi\", \"Malaysia\", \"Namibia\", \"New Caledonia\", \"Niger\", \"Nicaragua\", \"Netherlands\", \"Norway\", \"Nepal\", \"Nauru\", \"New Zealand\", \"Oman\", \"Panama\", \"Peru\", \"Palau\", \"Papua New Guinea\", \"Poland\", \"Puerto Rico\", \"Portugal\", \"Paraguay\", \"West Bank and Gaza\", \"French Polynesia\", \"Qatar\", \"Romania\", \"Rwanda\", \"Saudi Arabia\", \"Sudan\", \"Senegal\", \"Singapore\", \"Solomon Islands\", \"Sierra Leone\", \"El Salvador\", \"San Marino\", \"Somalia\", \"Serbia\", \"South Sudan\", \"Small states\", \"Sao Tome and Principe\", \"Suriname\", \"Slovak Republic\", \"Slovenia\", \"Sweden\", \"Eswatini\", \"Sint Maarten (Dutch part)\", \"Seychelles\", \"Syrian Arab Republic\", \"Turks and Caicos Islands\", \"Chad\", \"Togo\", \"Thailand\", \"Tajikistan\", \"Turkmenistan\", \"Timor-Leste\", \"Tonga\", \"Trinidad and Tobago\", \"Tunisia\", \"Tuvalu\", \"Tanzania\", \"Uganda\", \"Ukraine\", \"Uruguay\", \"Uzbekistan\", \"St. Vincent and the Grenadines\", \"Venezuela, RB\", \"British Virgin Islands\", \"Virgin Islands (U.S.)\", \"Vanuatu\", \"Samoa\", \"Kosovo\", \"South Africa\", \"Zambia\", \"Zimbabwe\"], \"type\": \"choropleth\", \"z\": [0.430593396217136, 0.23737000696955513, 0.5978300194303485, 0.5216299504878269, 0.8881928738054921, 0.8408699520981784, 0.9084900081893275, 0.6343999396660572, 0.8759428663135933, 0.26238242377425364, 0.8518199870641233, 0.5739899686778255, 0.5340600499296911, 0.10642005015905524, 0.9765100289236394, 0.4309300346908376, 0.24632999336055372, 0.7230200014900754, 0.8863401189497606, 0.8242698807129052, 0.4555800178762652, 0.7467199854845588, 0.45227994442790515, 1.0, 0.6642999664629565, 0.3186994693954227, 0.7496101851041822, 0.34792991423815794, 0.6241200137889039, 0.3890399492291364, 0.8093699997079832, 0.736070029696192, 0.3105412748694705, 0.8707400236400966, 0.4732999885549811, 0.5155899780155989, 0.7796399816906111, 0.2797306623826288, 0.618210752373877, 0.7173600257614731, 0.7659700412405958, 0.8990470938716771, 1.0, 0.6755104205239563, 0.7325499956560799, 0.7699899309448487, 0.6809447219165327, 0.8679499171095393, 0.7375300421727589, 0.6753999970259152, 0.6268999835255431, 0.35175015415865646, 0.7844200097743738, 0.68094031055784, 0.8377000055189366, 0.521710408481795, 0.7836900006023605, 0.40925252018237335, 0.8553302055241543, 0.8130199988481092, 0.5553499819763672, 0.5071299925959314, 1.0, 0.3367799967347503, 0.5566201352222512, 0.4011102069553441, 0.6594004698830803, 0.762919957224583, 0.3586456185930925, 0.8438274316843862, 0.48402997905914763, 0.9409886856827475, 0.26634028789649816, 1.0, 0.5188499627891655, 0.5515500554426835, 0.4750899609038686, 0.6891100150469653, 0.5199453197732656, 0.6154200898872955, 0.6910300109179027, 0.9357409893692952, 0.918260008394984, 0.6832700048316883, 0.5374301715733367, 0.8608800420957596, 0.5682699876582784, 0.23571000856612442, 0.3530600781952679, 0.2029399788097046, 0.47389897694482497, 0.3131834503019422, 1.0, 0.3006400055047354, 0.873339940695259, 0.47812998862093314, 0.7805200121400598, 0.1845018238216963, 0.14463521698060788, 0.18225999083889008, 0.2479799116147127, 0.6675701469869388, 0.8854706452077411, 0.6784098629118187, 1.0, null, 0.5801799867045473, 1.0, 0.42620008408215726, 0.31938001024979623, 0.36434129722694636, 0.735673987865025, 0.5708898408830462, 0.3599900274782577, 0.9407200826039546, 0.2888499944803264, 0.6413998075643981, 0.6756699520864033, 0.9094884289711141, 0.3182999998215164, 0.4658801240342912, 0.41555022392834295, 0.15543998010400828, 0.7091200078275569, 0.41616018696722884, 0.6710190190190191, 0.16220996991926337, 0.5691699869421101, 0.8713399754468657, 0.791019976061778, 0.16767998563073505, 1.0, 0.8615999724182315, 0.7516099313679008, 0.6513999144038453, 0.7642999917940376, 0.7481481481481481, 0.1301900128130648, 0.6089199967804678, 0.9382500453443144, 0.6056699548855113, 0.592609978841297, 0.7414901268065462, 0.6031712671933347, 0.9850101840893334, 0.5382899905866936, 0.16933995050271242, 0.8208399982772617, 0.3308899898228436, 0.4377300217665861, 1.0, 0.2004808083946342, 0.3885600394286831, 0.6545200218309717, 0.9574113804476608, 0.39309996618200294, 0.5499299452124382, 0.17860001994033883, 0.5478732211976123, 0.6495223733305243, 0.6634330628899082, 0.5468499254742899, 0.5265800799869959, 0.8505600159349533, 0.2247996641739534, 1.0, 0.5333630388771304, 0.5559999941954438, 0.9022657685241886, 0.2198499916667615, 0.3753300344037751, 0.4385599928613766, 0.2652000147727089, 0.48490991039691084, 0.27732018439484124, 0.23388725405343028, 0.5402496862169625, 0.6665700382614634, 0.5479582146248813, 0.2811399991318373, 0.19383001203860828, 0.6859599891791589, 0.9441400302148529, 0.509560015965045, 0.4896124890305298, 0.8808299876863313, 0.4481542779017054, 0.9459384632422156, 0.24462027593973185, 0.20078085926786376, null, 0.6221800066087478, 0.39354999976480937, 0.3319599899919064]}],                        {\"geo\": {\"projection\": {\"type\": \"mercator\"}}, \"template\": {\"data\": {\"bar\": [{\"error_x\": {\"color\": \"#2a3f5f\"}, \"error_y\": {\"color\": \"#2a3f5f\"}, \"marker\": {\"line\": {\"color\": \"#E5ECF6\", \"width\": 0.5}}, \"type\": \"bar\"}], \"barpolar\": [{\"marker\": {\"line\": {\"color\": \"#E5ECF6\", \"width\": 0.5}}, \"type\": \"barpolar\"}], \"carpet\": [{\"aaxis\": {\"endlinecolor\": \"#2a3f5f\", \"gridcolor\": \"white\", \"linecolor\": \"white\", \"minorgridcolor\": \"white\", \"startlinecolor\": \"#2a3f5f\"}, \"baxis\": {\"endlinecolor\": \"#2a3f5f\", \"gridcolor\": \"white\", \"linecolor\": \"white\", \"minorgridcolor\": \"white\", \"startlinecolor\": \"#2a3f5f\"}, \"type\": \"carpet\"}], \"choropleth\": [{\"colorbar\": {\"outlinewidth\": 0, \"ticks\": \"\"}, \"type\": \"choropleth\"}], \"contour\": [{\"colorbar\": {\"outlinewidth\": 0, \"ticks\": \"\"}, \"colorscale\": [[0.0, \"#0d0887\"], [0.1111111111111111, \"#46039f\"], [0.2222222222222222, \"#7201a8\"], [0.3333333333333333, \"#9c179e\"], [0.4444444444444444, \"#bd3786\"], [0.5555555555555556, \"#d8576b\"], [0.6666666666666666, \"#ed7953\"], [0.7777777777777778, \"#fb9f3a\"], [0.8888888888888888, \"#fdca26\"], [1.0, \"#f0f921\"]], \"type\": \"contour\"}], \"contourcarpet\": [{\"colorbar\": {\"outlinewidth\": 0, \"ticks\": \"\"}, \"type\": \"contourcarpet\"}], \"heatmap\": [{\"colorbar\": {\"outlinewidth\": 0, \"ticks\": \"\"}, \"colorscale\": [[0.0, \"#0d0887\"], [0.1111111111111111, \"#46039f\"], [0.2222222222222222, \"#7201a8\"], [0.3333333333333333, \"#9c179e\"], [0.4444444444444444, \"#bd3786\"], [0.5555555555555556, \"#d8576b\"], [0.6666666666666666, \"#ed7953\"], [0.7777777777777778, \"#fb9f3a\"], [0.8888888888888888, \"#fdca26\"], [1.0, \"#f0f921\"]], \"type\": \"heatmap\"}], \"heatmapgl\": [{\"colorbar\": {\"outlinewidth\": 0, \"ticks\": \"\"}, \"colorscale\": [[0.0, \"#0d0887\"], [0.1111111111111111, \"#46039f\"], [0.2222222222222222, \"#7201a8\"], [0.3333333333333333, \"#9c179e\"], [0.4444444444444444, \"#bd3786\"], [0.5555555555555556, \"#d8576b\"], [0.6666666666666666, \"#ed7953\"], [0.7777777777777778, \"#fb9f3a\"], [0.8888888888888888, \"#fdca26\"], [1.0, \"#f0f921\"]], \"type\": \"heatmapgl\"}], \"histogram\": [{\"marker\": {\"colorbar\": {\"outlinewidth\": 0, \"ticks\": \"\"}}, \"type\": \"histogram\"}], \"histogram2d\": [{\"colorbar\": {\"outlinewidth\": 0, \"ticks\": \"\"}, \"colorscale\": [[0.0, \"#0d0887\"], [0.1111111111111111, \"#46039f\"], [0.2222222222222222, \"#7201a8\"], [0.3333333333333333, \"#9c179e\"], [0.4444444444444444, \"#bd3786\"], [0.5555555555555556, \"#d8576b\"], [0.6666666666666666, \"#ed7953\"], [0.7777777777777778, \"#fb9f3a\"], [0.8888888888888888, \"#fdca26\"], [1.0, \"#f0f921\"]], \"type\": \"histogram2d\"}], \"histogram2dcontour\": [{\"colorbar\": {\"outlinewidth\": 0, \"ticks\": \"\"}, \"colorscale\": [[0.0, \"#0d0887\"], [0.1111111111111111, \"#46039f\"], [0.2222222222222222, \"#7201a8\"], [0.3333333333333333, \"#9c179e\"], [0.4444444444444444, \"#bd3786\"], [0.5555555555555556, \"#d8576b\"], [0.6666666666666666, \"#ed7953\"], [0.7777777777777778, \"#fb9f3a\"], [0.8888888888888888, \"#fdca26\"], [1.0, \"#f0f921\"]], \"type\": \"histogram2dcontour\"}], \"mesh3d\": [{\"colorbar\": {\"outlinewidth\": 0, \"ticks\": \"\"}, \"type\": \"mesh3d\"}], \"parcoords\": [{\"line\": {\"colorbar\": {\"outlinewidth\": 0, \"ticks\": \"\"}}, \"type\": \"parcoords\"}], \"pie\": [{\"automargin\": true, \"type\": \"pie\"}], \"scatter\": [{\"marker\": {\"colorbar\": {\"outlinewidth\": 0, \"ticks\": \"\"}}, \"type\": \"scatter\"}], \"scatter3d\": [{\"line\": {\"colorbar\": {\"outlinewidth\": 0, \"ticks\": \"\"}}, \"marker\": {\"colorbar\": {\"outlinewidth\": 0, \"ticks\": \"\"}}, \"type\": \"scatter3d\"}], \"scattercarpet\": [{\"marker\": {\"colorbar\": {\"outlinewidth\": 0, \"ticks\": \"\"}}, \"type\": \"scattercarpet\"}], \"scattergeo\": [{\"marker\": {\"colorbar\": {\"outlinewidth\": 0, \"ticks\": \"\"}}, \"type\": \"scattergeo\"}], \"scattergl\": [{\"marker\": {\"colorbar\": {\"outlinewidth\": 0, \"ticks\": \"\"}}, \"type\": \"scattergl\"}], \"scattermapbox\": [{\"marker\": {\"colorbar\": {\"outlinewidth\": 0, \"ticks\": \"\"}}, \"type\": \"scattermapbox\"}], \"scatterpolar\": [{\"marker\": {\"colorbar\": {\"outlinewidth\": 0, \"ticks\": \"\"}}, \"type\": \"scatterpolar\"}], \"scatterpolargl\": [{\"marker\": {\"colorbar\": {\"outlinewidth\": 0, \"ticks\": \"\"}}, \"type\": \"scatterpolargl\"}], \"scatterternary\": [{\"marker\": {\"colorbar\": {\"outlinewidth\": 0, \"ticks\": \"\"}}, \"type\": \"scatterternary\"}], \"surface\": [{\"colorbar\": {\"outlinewidth\": 0, \"ticks\": \"\"}, \"colorscale\": [[0.0, \"#0d0887\"], [0.1111111111111111, \"#46039f\"], [0.2222222222222222, \"#7201a8\"], [0.3333333333333333, \"#9c179e\"], [0.4444444444444444, \"#bd3786\"], [0.5555555555555556, \"#d8576b\"], [0.6666666666666666, \"#ed7953\"], [0.7777777777777778, \"#fb9f3a\"], [0.8888888888888888, \"#fdca26\"], [1.0, \"#f0f921\"]], \"type\": \"surface\"}], \"table\": [{\"cells\": {\"fill\": {\"color\": \"#EBF0F8\"}, \"line\": {\"color\": \"white\"}}, \"header\": {\"fill\": {\"color\": \"#C8D4E3\"}, \"line\": {\"color\": \"white\"}}, \"type\": \"table\"}]}, \"layout\": {\"annotationdefaults\": {\"arrowcolor\": \"#2a3f5f\", \"arrowhead\": 0, \"arrowwidth\": 1}, \"autotypenumbers\": \"strict\", \"coloraxis\": {\"colorbar\": {\"outlinewidth\": 0, \"ticks\": \"\"}}, \"colorscale\": {\"diverging\": [[0, \"#8e0152\"], [0.1, \"#c51b7d\"], [0.2, \"#de77ae\"], [0.3, \"#f1b6da\"], [0.4, \"#fde0ef\"], [0.5, \"#f7f7f7\"], [0.6, \"#e6f5d0\"], [0.7, \"#b8e186\"], [0.8, \"#7fbc41\"], [0.9, \"#4d9221\"], [1, \"#276419\"]], \"sequential\": [[0.0, \"#0d0887\"], [0.1111111111111111, \"#46039f\"], [0.2222222222222222, \"#7201a8\"], [0.3333333333333333, \"#9c179e\"], [0.4444444444444444, \"#bd3786\"], [0.5555555555555556, \"#d8576b\"], [0.6666666666666666, \"#ed7953\"], [0.7777777777777778, \"#fb9f3a\"], [0.8888888888888888, \"#fdca26\"], [1.0, \"#f0f921\"]], \"sequentialminus\": [[0.0, \"#0d0887\"], [0.1111111111111111, \"#46039f\"], [0.2222222222222222, \"#7201a8\"], [0.3333333333333333, \"#9c179e\"], [0.4444444444444444, \"#bd3786\"], [0.5555555555555556, \"#d8576b\"], [0.6666666666666666, \"#ed7953\"], [0.7777777777777778, \"#fb9f3a\"], [0.8888888888888888, \"#fdca26\"], [1.0, \"#f0f921\"]]}, \"colorway\": [\"#636efa\", \"#EF553B\", \"#00cc96\", \"#ab63fa\", \"#FFA15A\", \"#19d3f3\", \"#FF6692\", \"#B6E880\", \"#FF97FF\", \"#FECB52\"], \"font\": {\"color\": \"#2a3f5f\"}, \"geo\": {\"bgcolor\": \"white\", \"lakecolor\": \"white\", \"landcolor\": \"#E5ECF6\", \"showlakes\": true, \"showland\": true, \"subunitcolor\": \"white\"}, \"hoverlabel\": {\"align\": \"left\"}, \"hovermode\": \"closest\", \"mapbox\": {\"style\": \"light\"}, \"paper_bgcolor\": \"white\", \"plot_bgcolor\": \"#E5ECF6\", \"polar\": {\"angularaxis\": {\"gridcolor\": \"white\", \"linecolor\": \"white\", \"ticks\": \"\"}, \"bgcolor\": \"#E5ECF6\", \"radialaxis\": {\"gridcolor\": \"white\", \"linecolor\": \"white\", \"ticks\": \"\"}}, \"scene\": {\"xaxis\": {\"backgroundcolor\": \"#E5ECF6\", \"gridcolor\": \"white\", \"gridwidth\": 2, \"linecolor\": \"white\", \"showbackground\": true, \"ticks\": \"\", \"zerolinecolor\": \"white\"}, \"yaxis\": {\"backgroundcolor\": \"#E5ECF6\", \"gridcolor\": \"white\", \"gridwidth\": 2, \"linecolor\": \"white\", \"showbackground\": true, \"ticks\": \"\", \"zerolinecolor\": \"white\"}, \"zaxis\": {\"backgroundcolor\": \"#E5ECF6\", \"gridcolor\": \"white\", \"gridwidth\": 2, \"linecolor\": \"white\", \"showbackground\": true, \"ticks\": \"\", \"zerolinecolor\": \"white\"}}, \"shapedefaults\": {\"line\": {\"color\": \"#2a3f5f\"}}, \"ternary\": {\"aaxis\": {\"gridcolor\": \"white\", \"linecolor\": \"white\", \"ticks\": \"\"}, \"baxis\": {\"gridcolor\": \"white\", \"linecolor\": \"white\", \"ticks\": \"\"}, \"bgcolor\": \"#E5ECF6\", \"caxis\": {\"gridcolor\": \"white\", \"linecolor\": \"white\", \"ticks\": \"\"}}, \"title\": {\"x\": 0.05}, \"xaxis\": {\"automargin\": true, \"gridcolor\": \"white\", \"linecolor\": \"white\", \"ticks\": \"\", \"title\": {\"standoff\": 15}, \"zerolinecolor\": \"white\", \"zerolinewidth\": 2}, \"yaxis\": {\"automargin\": true, \"gridcolor\": \"white\", \"linecolor\": \"white\", \"ticks\": \"\", \"title\": {\"standoff\": 15}, \"zerolinecolor\": \"white\", \"zerolinewidth\": 2}}}, \"title\": {\"text\": \"World Urban Population per Capita with Population < 69000000, 2010\"}},                        {\"responsive\": true}                    ).then(function(){\n",
       "                            \n",
       "var gd = document.getElementById('b5e64382-657d-4744-8940-31eb3e839101');\n",
       "var x = new MutationObserver(function (mutations, observer) {{\n",
       "        var display = window.getComputedStyle(gd).display;\n",
       "        if (!display || display === 'none') {{\n",
       "            console.log([gd, 'removed!']);\n",
       "            Plotly.purge(gd);\n",
       "            observer.disconnect();\n",
       "        }}\n",
       "}});\n",
       "\n",
       "// Listen for the removal of the full notebook cells\n",
       "var notebookContainer = gd.closest('#notebook-container');\n",
       "if (notebookContainer) {{\n",
       "    x.observe(notebookContainer, {childList: true});\n",
       "}}\n",
       "\n",
       "// Listen for the clearing of the current output cell\n",
       "var outputEl = gd.closest('.output');\n",
       "if (outputEl) {{\n",
       "    x.observe(outputEl, {childList: true});\n",
       "}}\n",
       "\n",
       "                        })                };                });            </script>        </div>"
      ]
     },
     "metadata": {},
     "output_type": "display_data"
    }
   ],
   "source": [
    "data = dict(\n",
    "        type = 'choropleth',\n",
    "        colorscale = 'Viridis',\n",
    "        locations = gdf2['Country Name'],\n",
    "        locationmode = \"country names\",\n",
    "        z = gdf2['WUP_per_cap_2010'],\n",
    "        text = gdf2['Country Name'],\n",
    "        colorbar = {'title' : 'World Urban Population per Capita'},\n",
    "      )\n",
    "\n",
    "layout = dict(title = 'World Urban Population per Capita with Population < 69000000, 2010',\n",
    "              geo = dict(projection = {'type':'mercator'})\n",
    "             )\n",
    "choromap = go.Figure(data = [data],layout = layout)\n",
    "iplot(choromap,validate=False)"
   ]
  },
  {
   "cell_type": "markdown",
   "id": "ffe8392a",
   "metadata": {},
   "source": [
    "The plot above only shows the WUP per capita of the countries with population less than 69000000"
   ]
  },
  {
   "cell_type": "markdown",
   "id": "01bae1d0",
   "metadata": {},
   "source": [
    ">For year 2010, plot the urban population per capita for only the countries having \n",
    "urban population between 110146163 and 223096279. "
   ]
  },
  {
   "cell_type": "code",
   "execution_count": 27,
   "id": "e83c0818",
   "metadata": {
    "scrolled": true
   },
   "outputs": [
    {
     "data": {
      "text/html": [
       "<div>\n",
       "<style scoped>\n",
       "    .dataframe tbody tr th:only-of-type {\n",
       "        vertical-align: middle;\n",
       "    }\n",
       "\n",
       "    .dataframe tbody tr th {\n",
       "        vertical-align: top;\n",
       "    }\n",
       "\n",
       "    .dataframe thead th {\n",
       "        text-align: right;\n",
       "    }\n",
       "</style>\n",
       "<table border=\"1\" class=\"dataframe\">\n",
       "  <thead>\n",
       "    <tr style=\"text-align: right;\">\n",
       "      <th></th>\n",
       "      <th>Country Name</th>\n",
       "      <th>1990 World Population</th>\n",
       "      <th>1991 World Population</th>\n",
       "      <th>1992 World Population</th>\n",
       "      <th>1993 World Population</th>\n",
       "      <th>1994 World Population</th>\n",
       "      <th>1995 World Population</th>\n",
       "      <th>1996 World Population</th>\n",
       "      <th>1997 World Population</th>\n",
       "      <th>1998 World Population</th>\n",
       "      <th>...</th>\n",
       "      <th>2008 Urban World Population</th>\n",
       "      <th>2009 Urban World Population</th>\n",
       "      <th>2010 Urban World Population</th>\n",
       "      <th>points</th>\n",
       "      <th>lat</th>\n",
       "      <th>lng</th>\n",
       "      <th>WUP_per_cap_1990</th>\n",
       "      <th>WUP_per_cap_2000</th>\n",
       "      <th>WUP_per_cap_2010</th>\n",
       "      <th>geometry</th>\n",
       "    </tr>\n",
       "  </thead>\n",
       "  <tbody>\n",
       "    <tr>\n",
       "      <th>5</th>\n",
       "      <td>Arab World</td>\n",
       "      <td>222653373.0</td>\n",
       "      <td>228731685.0</td>\n",
       "      <td>232956352.0</td>\n",
       "      <td>239243261.0</td>\n",
       "      <td>245449409.0</td>\n",
       "      <td>253107289.0</td>\n",
       "      <td>259000953.0</td>\n",
       "      <td>264822188.0</td>\n",
       "      <td>270575803.0</td>\n",
       "      <td>...</td>\n",
       "      <td>188077348.0</td>\n",
       "      <td>194146230.0</td>\n",
       "      <td>200303061.0</td>\n",
       "      <td>(30.84165265, 29.670019315230654, 0.0)</td>\n",
       "      <td>30.841653</td>\n",
       "      <td>29.670019</td>\n",
       "      <td>0.503952</td>\n",
       "      <td>0.529893</td>\n",
       "      <td>0.564409</td>\n",
       "      <td>POINT (29.67002 30.84165)</td>\n",
       "    </tr>\n",
       "    <tr>\n",
       "      <th>27</th>\n",
       "      <td>Brazil</td>\n",
       "      <td>149003223.0</td>\n",
       "      <td>151648011.0</td>\n",
       "      <td>154259380.0</td>\n",
       "      <td>156849078.0</td>\n",
       "      <td>159432716.0</td>\n",
       "      <td>162019896.0</td>\n",
       "      <td>164614688.0</td>\n",
       "      <td>167209040.0</td>\n",
       "      <td>169785250.0</td>\n",
       "      <td>...</td>\n",
       "      <td>160823508.0</td>\n",
       "      <td>162949977.0</td>\n",
       "      <td>165055094.0</td>\n",
       "      <td>(-10.3333333, -53.2, 0.0)</td>\n",
       "      <td>-10.333333</td>\n",
       "      <td>-53.200000</td>\n",
       "      <td>0.739220</td>\n",
       "      <td>0.811920</td>\n",
       "      <td>0.843350</td>\n",
       "      <td>POINT (-53.20000 -10.33333)</td>\n",
       "    </tr>\n",
       "    <tr>\n",
       "      <th>103</th>\n",
       "      <td>IDA blend</td>\n",
       "      <td>278496626.0</td>\n",
       "      <td>286142505.0</td>\n",
       "      <td>293874927.0</td>\n",
       "      <td>301679813.0</td>\n",
       "      <td>309568081.0</td>\n",
       "      <td>317616103.0</td>\n",
       "      <td>325908651.0</td>\n",
       "      <td>334399200.0</td>\n",
       "      <td>342980958.0</td>\n",
       "      <td>...</td>\n",
       "      <td>163199201.0</td>\n",
       "      <td>169295147.0</td>\n",
       "      <td>175757644.0</td>\n",
       "      <td>(51.0494836, 3.7298482, 0.0)</td>\n",
       "      <td>51.049484</td>\n",
       "      <td>3.729848</td>\n",
       "      <td>0.301859</td>\n",
       "      <td>0.338644</td>\n",
       "      <td>0.385392</td>\n",
       "      <td>POINT (3.72985 51.04948)</td>\n",
       "    </tr>\n",
       "    <tr>\n",
       "      <th>104</th>\n",
       "      <td>Indonesia</td>\n",
       "      <td>181413402.0</td>\n",
       "      <td>184591903.0</td>\n",
       "      <td>187739786.0</td>\n",
       "      <td>190851175.0</td>\n",
       "      <td>193917462.0</td>\n",
       "      <td>196934260.0</td>\n",
       "      <td>199901228.0</td>\n",
       "      <td>202826446.0</td>\n",
       "      <td>205724592.0</td>\n",
       "      <td>...</td>\n",
       "      <td>113814309.0</td>\n",
       "      <td>117243827.0</td>\n",
       "      <td>120709130.0</td>\n",
       "      <td>(-2.4833826, 117.8902853, 0.0)</td>\n",
       "      <td>-2.483383</td>\n",
       "      <td>117.890285</td>\n",
       "      <td>0.305840</td>\n",
       "      <td>0.420020</td>\n",
       "      <td>0.499140</td>\n",
       "      <td>POINT (117.89029 -2.48338)</td>\n",
       "    </tr>\n",
       "    <tr>\n",
       "      <th>117</th>\n",
       "      <td>Japan</td>\n",
       "      <td>123537000.0</td>\n",
       "      <td>123921000.0</td>\n",
       "      <td>124229000.0</td>\n",
       "      <td>124536000.0</td>\n",
       "      <td>124961000.0</td>\n",
       "      <td>125439000.0</td>\n",
       "      <td>125757000.0</td>\n",
       "      <td>126057000.0</td>\n",
       "      <td>126400000.0</td>\n",
       "      <td>...</td>\n",
       "      <td>114107975.0</td>\n",
       "      <td>115228215.0</td>\n",
       "      <td>116302928.0</td>\n",
       "      <td>(36.5748441, 139.2394179, 0.0)</td>\n",
       "      <td>36.574844</td>\n",
       "      <td>139.239418</td>\n",
       "      <td>0.773390</td>\n",
       "      <td>0.786490</td>\n",
       "      <td>0.908120</td>\n",
       "      <td>POINT (139.23942 36.57484)</td>\n",
       "    </tr>\n",
       "    <tr>\n",
       "      <th>134</th>\n",
       "      <td>Low income</td>\n",
       "      <td>303390406.0</td>\n",
       "      <td>312235599.0</td>\n",
       "      <td>321531045.0</td>\n",
       "      <td>331155718.0</td>\n",
       "      <td>340941571.0</td>\n",
       "      <td>350774281.0</td>\n",
       "      <td>360601917.0</td>\n",
       "      <td>370477990.0</td>\n",
       "      <td>380522587.0</td>\n",
       "      <td>...</td>\n",
       "      <td>149192526.0</td>\n",
       "      <td>155157909.0</td>\n",
       "      <td>161184765.0</td>\n",
       "      <td>(31.3458901, 27.222160782361907, 0.0)</td>\n",
       "      <td>31.345890</td>\n",
       "      <td>27.222161</td>\n",
       "      <td>0.247012</td>\n",
       "      <td>0.274537</td>\n",
       "      <td>0.303401</td>\n",
       "      <td>POINT (27.22216 31.34589)</td>\n",
       "    </tr>\n",
       "  </tbody>\n",
       "</table>\n",
       "<p>6 rows × 50 columns</p>\n",
       "</div>"
      ],
      "text/plain": [
       "    Country Name  1990 World Population  1991 World Population  \\\n",
       "5     Arab World            222653373.0            228731685.0   \n",
       "27        Brazil            149003223.0            151648011.0   \n",
       "103    IDA blend            278496626.0            286142505.0   \n",
       "104    Indonesia            181413402.0            184591903.0   \n",
       "117        Japan            123537000.0            123921000.0   \n",
       "134   Low income            303390406.0            312235599.0   \n",
       "\n",
       "     1992 World Population  1993 World Population  1994 World Population  \\\n",
       "5              232956352.0            239243261.0            245449409.0   \n",
       "27             154259380.0            156849078.0            159432716.0   \n",
       "103            293874927.0            301679813.0            309568081.0   \n",
       "104            187739786.0            190851175.0            193917462.0   \n",
       "117            124229000.0            124536000.0            124961000.0   \n",
       "134            321531045.0            331155718.0            340941571.0   \n",
       "\n",
       "     1995 World Population  1996 World Population  1997 World Population  \\\n",
       "5              253107289.0            259000953.0            264822188.0   \n",
       "27             162019896.0            164614688.0            167209040.0   \n",
       "103            317616103.0            325908651.0            334399200.0   \n",
       "104            196934260.0            199901228.0            202826446.0   \n",
       "117            125439000.0            125757000.0            126057000.0   \n",
       "134            350774281.0            360601917.0            370477990.0   \n",
       "\n",
       "     1998 World Population  ...  2008 Urban World Population  \\\n",
       "5              270575803.0  ...                  188077348.0   \n",
       "27             169785250.0  ...                  160823508.0   \n",
       "103            342980958.0  ...                  163199201.0   \n",
       "104            205724592.0  ...                  113814309.0   \n",
       "117            126400000.0  ...                  114107975.0   \n",
       "134            380522587.0  ...                  149192526.0   \n",
       "\n",
       "     2009 Urban World Population  2010 Urban World Population  \\\n",
       "5                    194146230.0                  200303061.0   \n",
       "27                   162949977.0                  165055094.0   \n",
       "103                  169295147.0                  175757644.0   \n",
       "104                  117243827.0                  120709130.0   \n",
       "117                  115228215.0                  116302928.0   \n",
       "134                  155157909.0                  161184765.0   \n",
       "\n",
       "                                     points        lat         lng  \\\n",
       "5    (30.84165265, 29.670019315230654, 0.0)  30.841653   29.670019   \n",
       "27                (-10.3333333, -53.2, 0.0) -10.333333  -53.200000   \n",
       "103            (51.0494836, 3.7298482, 0.0)  51.049484    3.729848   \n",
       "104          (-2.4833826, 117.8902853, 0.0)  -2.483383  117.890285   \n",
       "117          (36.5748441, 139.2394179, 0.0)  36.574844  139.239418   \n",
       "134   (31.3458901, 27.222160782361907, 0.0)  31.345890   27.222161   \n",
       "\n",
       "     WUP_per_cap_1990  WUP_per_cap_2000  WUP_per_cap_2010  \\\n",
       "5            0.503952          0.529893          0.564409   \n",
       "27           0.739220          0.811920          0.843350   \n",
       "103          0.301859          0.338644          0.385392   \n",
       "104          0.305840          0.420020          0.499140   \n",
       "117          0.773390          0.786490          0.908120   \n",
       "134          0.247012          0.274537          0.303401   \n",
       "\n",
       "                        geometry  \n",
       "5      POINT (29.67002 30.84165)  \n",
       "27   POINT (-53.20000 -10.33333)  \n",
       "103     POINT (3.72985 51.04948)  \n",
       "104   POINT (117.89029 -2.48338)  \n",
       "117   POINT (139.23942 36.57484)  \n",
       "134    POINT (27.22216 31.34589)  \n",
       "\n",
       "[6 rows x 50 columns]"
      ]
     },
     "execution_count": 27,
     "metadata": {},
     "output_type": "execute_result"
    }
   ],
   "source": [
    "#save the countries with population between 110146163 and 223096279 to a dataframe\n",
    "gdf3 = gdf_populations[(gdf_populations[\"2010 Urban World Population\"] > 110146163) & \n",
    "                       (gdf_populations[\"2010 Urban World Population\"] < 223096279)]\n",
    "gdf3"
   ]
  },
  {
   "cell_type": "markdown",
   "id": "894f7fdd",
   "metadata": {},
   "source": [
    "Plot World Urban Population per Capita with Population between 110146163 and 223096279, 2010 and hover over the countries."
   ]
  },
  {
   "cell_type": "code",
   "execution_count": 28,
   "id": "da94aae6",
   "metadata": {
    "scrolled": true
   },
   "outputs": [
    {
     "data": {
      "application/vnd.plotly.v1+json": {
       "config": {
        "linkText": "Export to plot.ly",
        "plotlyServerURL": "https://plot.ly",
        "showLink": false
       },
       "data": [
        {
         "colorbar": {
          "title": {
           "text": "World Urban Population per Capita"
          }
         },
         "colorscale": [
          [
           0,
           "#440154"
          ],
          [
           0.1111111111111111,
           "#482878"
          ],
          [
           0.2222222222222222,
           "#3e4989"
          ],
          [
           0.3333333333333333,
           "#31688e"
          ],
          [
           0.4444444444444444,
           "#26828e"
          ],
          [
           0.5555555555555556,
           "#1f9e89"
          ],
          [
           0.6666666666666666,
           "#35b779"
          ],
          [
           0.7777777777777778,
           "#6ece58"
          ],
          [
           0.8888888888888888,
           "#b5de2b"
          ],
          [
           1,
           "#fde725"
          ]
         ],
         "locationmode": "country names",
         "locations": [
          "Arab World",
          "Brazil",
          "IDA blend",
          "Indonesia",
          "Japan",
          "Low income"
         ],
         "text": [
          "Arab World",
          "Brazil",
          "IDA blend",
          "Indonesia",
          "Japan",
          "Low income"
         ],
         "type": "choropleth",
         "z": [
          0.5644087951050484,
          0.8433499996052907,
          0.3853915421587446,
          0.49913999968945666,
          0.9081199968767081,
          0.3034008894040114
         ]
        }
       ],
       "layout": {
        "geo": {
         "projection": {
          "type": "mercator"
         }
        },
        "template": {
         "data": {
          "bar": [
           {
            "error_x": {
             "color": "#2a3f5f"
            },
            "error_y": {
             "color": "#2a3f5f"
            },
            "marker": {
             "line": {
              "color": "#E5ECF6",
              "width": 0.5
             }
            },
            "type": "bar"
           }
          ],
          "barpolar": [
           {
            "marker": {
             "line": {
              "color": "#E5ECF6",
              "width": 0.5
             }
            },
            "type": "barpolar"
           }
          ],
          "carpet": [
           {
            "aaxis": {
             "endlinecolor": "#2a3f5f",
             "gridcolor": "white",
             "linecolor": "white",
             "minorgridcolor": "white",
             "startlinecolor": "#2a3f5f"
            },
            "baxis": {
             "endlinecolor": "#2a3f5f",
             "gridcolor": "white",
             "linecolor": "white",
             "minorgridcolor": "white",
             "startlinecolor": "#2a3f5f"
            },
            "type": "carpet"
           }
          ],
          "choropleth": [
           {
            "colorbar": {
             "outlinewidth": 0,
             "ticks": ""
            },
            "type": "choropleth"
           }
          ],
          "contour": [
           {
            "colorbar": {
             "outlinewidth": 0,
             "ticks": ""
            },
            "colorscale": [
             [
              0,
              "#0d0887"
             ],
             [
              0.1111111111111111,
              "#46039f"
             ],
             [
              0.2222222222222222,
              "#7201a8"
             ],
             [
              0.3333333333333333,
              "#9c179e"
             ],
             [
              0.4444444444444444,
              "#bd3786"
             ],
             [
              0.5555555555555556,
              "#d8576b"
             ],
             [
              0.6666666666666666,
              "#ed7953"
             ],
             [
              0.7777777777777778,
              "#fb9f3a"
             ],
             [
              0.8888888888888888,
              "#fdca26"
             ],
             [
              1,
              "#f0f921"
             ]
            ],
            "type": "contour"
           }
          ],
          "contourcarpet": [
           {
            "colorbar": {
             "outlinewidth": 0,
             "ticks": ""
            },
            "type": "contourcarpet"
           }
          ],
          "heatmap": [
           {
            "colorbar": {
             "outlinewidth": 0,
             "ticks": ""
            },
            "colorscale": [
             [
              0,
              "#0d0887"
             ],
             [
              0.1111111111111111,
              "#46039f"
             ],
             [
              0.2222222222222222,
              "#7201a8"
             ],
             [
              0.3333333333333333,
              "#9c179e"
             ],
             [
              0.4444444444444444,
              "#bd3786"
             ],
             [
              0.5555555555555556,
              "#d8576b"
             ],
             [
              0.6666666666666666,
              "#ed7953"
             ],
             [
              0.7777777777777778,
              "#fb9f3a"
             ],
             [
              0.8888888888888888,
              "#fdca26"
             ],
             [
              1,
              "#f0f921"
             ]
            ],
            "type": "heatmap"
           }
          ],
          "heatmapgl": [
           {
            "colorbar": {
             "outlinewidth": 0,
             "ticks": ""
            },
            "colorscale": [
             [
              0,
              "#0d0887"
             ],
             [
              0.1111111111111111,
              "#46039f"
             ],
             [
              0.2222222222222222,
              "#7201a8"
             ],
             [
              0.3333333333333333,
              "#9c179e"
             ],
             [
              0.4444444444444444,
              "#bd3786"
             ],
             [
              0.5555555555555556,
              "#d8576b"
             ],
             [
              0.6666666666666666,
              "#ed7953"
             ],
             [
              0.7777777777777778,
              "#fb9f3a"
             ],
             [
              0.8888888888888888,
              "#fdca26"
             ],
             [
              1,
              "#f0f921"
             ]
            ],
            "type": "heatmapgl"
           }
          ],
          "histogram": [
           {
            "marker": {
             "colorbar": {
              "outlinewidth": 0,
              "ticks": ""
             }
            },
            "type": "histogram"
           }
          ],
          "histogram2d": [
           {
            "colorbar": {
             "outlinewidth": 0,
             "ticks": ""
            },
            "colorscale": [
             [
              0,
              "#0d0887"
             ],
             [
              0.1111111111111111,
              "#46039f"
             ],
             [
              0.2222222222222222,
              "#7201a8"
             ],
             [
              0.3333333333333333,
              "#9c179e"
             ],
             [
              0.4444444444444444,
              "#bd3786"
             ],
             [
              0.5555555555555556,
              "#d8576b"
             ],
             [
              0.6666666666666666,
              "#ed7953"
             ],
             [
              0.7777777777777778,
              "#fb9f3a"
             ],
             [
              0.8888888888888888,
              "#fdca26"
             ],
             [
              1,
              "#f0f921"
             ]
            ],
            "type": "histogram2d"
           }
          ],
          "histogram2dcontour": [
           {
            "colorbar": {
             "outlinewidth": 0,
             "ticks": ""
            },
            "colorscale": [
             [
              0,
              "#0d0887"
             ],
             [
              0.1111111111111111,
              "#46039f"
             ],
             [
              0.2222222222222222,
              "#7201a8"
             ],
             [
              0.3333333333333333,
              "#9c179e"
             ],
             [
              0.4444444444444444,
              "#bd3786"
             ],
             [
              0.5555555555555556,
              "#d8576b"
             ],
             [
              0.6666666666666666,
              "#ed7953"
             ],
             [
              0.7777777777777778,
              "#fb9f3a"
             ],
             [
              0.8888888888888888,
              "#fdca26"
             ],
             [
              1,
              "#f0f921"
             ]
            ],
            "type": "histogram2dcontour"
           }
          ],
          "mesh3d": [
           {
            "colorbar": {
             "outlinewidth": 0,
             "ticks": ""
            },
            "type": "mesh3d"
           }
          ],
          "parcoords": [
           {
            "line": {
             "colorbar": {
              "outlinewidth": 0,
              "ticks": ""
             }
            },
            "type": "parcoords"
           }
          ],
          "pie": [
           {
            "automargin": true,
            "type": "pie"
           }
          ],
          "scatter": [
           {
            "marker": {
             "colorbar": {
              "outlinewidth": 0,
              "ticks": ""
             }
            },
            "type": "scatter"
           }
          ],
          "scatter3d": [
           {
            "line": {
             "colorbar": {
              "outlinewidth": 0,
              "ticks": ""
             }
            },
            "marker": {
             "colorbar": {
              "outlinewidth": 0,
              "ticks": ""
             }
            },
            "type": "scatter3d"
           }
          ],
          "scattercarpet": [
           {
            "marker": {
             "colorbar": {
              "outlinewidth": 0,
              "ticks": ""
             }
            },
            "type": "scattercarpet"
           }
          ],
          "scattergeo": [
           {
            "marker": {
             "colorbar": {
              "outlinewidth": 0,
              "ticks": ""
             }
            },
            "type": "scattergeo"
           }
          ],
          "scattergl": [
           {
            "marker": {
             "colorbar": {
              "outlinewidth": 0,
              "ticks": ""
             }
            },
            "type": "scattergl"
           }
          ],
          "scattermapbox": [
           {
            "marker": {
             "colorbar": {
              "outlinewidth": 0,
              "ticks": ""
             }
            },
            "type": "scattermapbox"
           }
          ],
          "scatterpolar": [
           {
            "marker": {
             "colorbar": {
              "outlinewidth": 0,
              "ticks": ""
             }
            },
            "type": "scatterpolar"
           }
          ],
          "scatterpolargl": [
           {
            "marker": {
             "colorbar": {
              "outlinewidth": 0,
              "ticks": ""
             }
            },
            "type": "scatterpolargl"
           }
          ],
          "scatterternary": [
           {
            "marker": {
             "colorbar": {
              "outlinewidth": 0,
              "ticks": ""
             }
            },
            "type": "scatterternary"
           }
          ],
          "surface": [
           {
            "colorbar": {
             "outlinewidth": 0,
             "ticks": ""
            },
            "colorscale": [
             [
              0,
              "#0d0887"
             ],
             [
              0.1111111111111111,
              "#46039f"
             ],
             [
              0.2222222222222222,
              "#7201a8"
             ],
             [
              0.3333333333333333,
              "#9c179e"
             ],
             [
              0.4444444444444444,
              "#bd3786"
             ],
             [
              0.5555555555555556,
              "#d8576b"
             ],
             [
              0.6666666666666666,
              "#ed7953"
             ],
             [
              0.7777777777777778,
              "#fb9f3a"
             ],
             [
              0.8888888888888888,
              "#fdca26"
             ],
             [
              1,
              "#f0f921"
             ]
            ],
            "type": "surface"
           }
          ],
          "table": [
           {
            "cells": {
             "fill": {
              "color": "#EBF0F8"
             },
             "line": {
              "color": "white"
             }
            },
            "header": {
             "fill": {
              "color": "#C8D4E3"
             },
             "line": {
              "color": "white"
             }
            },
            "type": "table"
           }
          ]
         },
         "layout": {
          "annotationdefaults": {
           "arrowcolor": "#2a3f5f",
           "arrowhead": 0,
           "arrowwidth": 1
          },
          "autotypenumbers": "strict",
          "coloraxis": {
           "colorbar": {
            "outlinewidth": 0,
            "ticks": ""
           }
          },
          "colorscale": {
           "diverging": [
            [
             0,
             "#8e0152"
            ],
            [
             0.1,
             "#c51b7d"
            ],
            [
             0.2,
             "#de77ae"
            ],
            [
             0.3,
             "#f1b6da"
            ],
            [
             0.4,
             "#fde0ef"
            ],
            [
             0.5,
             "#f7f7f7"
            ],
            [
             0.6,
             "#e6f5d0"
            ],
            [
             0.7,
             "#b8e186"
            ],
            [
             0.8,
             "#7fbc41"
            ],
            [
             0.9,
             "#4d9221"
            ],
            [
             1,
             "#276419"
            ]
           ],
           "sequential": [
            [
             0,
             "#0d0887"
            ],
            [
             0.1111111111111111,
             "#46039f"
            ],
            [
             0.2222222222222222,
             "#7201a8"
            ],
            [
             0.3333333333333333,
             "#9c179e"
            ],
            [
             0.4444444444444444,
             "#bd3786"
            ],
            [
             0.5555555555555556,
             "#d8576b"
            ],
            [
             0.6666666666666666,
             "#ed7953"
            ],
            [
             0.7777777777777778,
             "#fb9f3a"
            ],
            [
             0.8888888888888888,
             "#fdca26"
            ],
            [
             1,
             "#f0f921"
            ]
           ],
           "sequentialminus": [
            [
             0,
             "#0d0887"
            ],
            [
             0.1111111111111111,
             "#46039f"
            ],
            [
             0.2222222222222222,
             "#7201a8"
            ],
            [
             0.3333333333333333,
             "#9c179e"
            ],
            [
             0.4444444444444444,
             "#bd3786"
            ],
            [
             0.5555555555555556,
             "#d8576b"
            ],
            [
             0.6666666666666666,
             "#ed7953"
            ],
            [
             0.7777777777777778,
             "#fb9f3a"
            ],
            [
             0.8888888888888888,
             "#fdca26"
            ],
            [
             1,
             "#f0f921"
            ]
           ]
          },
          "colorway": [
           "#636efa",
           "#EF553B",
           "#00cc96",
           "#ab63fa",
           "#FFA15A",
           "#19d3f3",
           "#FF6692",
           "#B6E880",
           "#FF97FF",
           "#FECB52"
          ],
          "font": {
           "color": "#2a3f5f"
          },
          "geo": {
           "bgcolor": "white",
           "lakecolor": "white",
           "landcolor": "#E5ECF6",
           "showlakes": true,
           "showland": true,
           "subunitcolor": "white"
          },
          "hoverlabel": {
           "align": "left"
          },
          "hovermode": "closest",
          "mapbox": {
           "style": "light"
          },
          "paper_bgcolor": "white",
          "plot_bgcolor": "#E5ECF6",
          "polar": {
           "angularaxis": {
            "gridcolor": "white",
            "linecolor": "white",
            "ticks": ""
           },
           "bgcolor": "#E5ECF6",
           "radialaxis": {
            "gridcolor": "white",
            "linecolor": "white",
            "ticks": ""
           }
          },
          "scene": {
           "xaxis": {
            "backgroundcolor": "#E5ECF6",
            "gridcolor": "white",
            "gridwidth": 2,
            "linecolor": "white",
            "showbackground": true,
            "ticks": "",
            "zerolinecolor": "white"
           },
           "yaxis": {
            "backgroundcolor": "#E5ECF6",
            "gridcolor": "white",
            "gridwidth": 2,
            "linecolor": "white",
            "showbackground": true,
            "ticks": "",
            "zerolinecolor": "white"
           },
           "zaxis": {
            "backgroundcolor": "#E5ECF6",
            "gridcolor": "white",
            "gridwidth": 2,
            "linecolor": "white",
            "showbackground": true,
            "ticks": "",
            "zerolinecolor": "white"
           }
          },
          "shapedefaults": {
           "line": {
            "color": "#2a3f5f"
           }
          },
          "ternary": {
           "aaxis": {
            "gridcolor": "white",
            "linecolor": "white",
            "ticks": ""
           },
           "baxis": {
            "gridcolor": "white",
            "linecolor": "white",
            "ticks": ""
           },
           "bgcolor": "#E5ECF6",
           "caxis": {
            "gridcolor": "white",
            "linecolor": "white",
            "ticks": ""
           }
          },
          "title": {
           "x": 0.05
          },
          "xaxis": {
           "automargin": true,
           "gridcolor": "white",
           "linecolor": "white",
           "ticks": "",
           "title": {
            "standoff": 15
           },
           "zerolinecolor": "white",
           "zerolinewidth": 2
          },
          "yaxis": {
           "automargin": true,
           "gridcolor": "white",
           "linecolor": "white",
           "ticks": "",
           "title": {
            "standoff": 15
           },
           "zerolinecolor": "white",
           "zerolinewidth": 2
          }
         }
        },
        "title": {
         "text": "World Urban Population per Capita with Urban Population between 110146163 and 223096279, 2010"
        }
       }
      },
      "text/html": [
       "<div>                            <div id=\"77a888b0-fe57-4171-83a4-01d557fba00d\" class=\"plotly-graph-div\" style=\"height:525px; width:100%;\"></div>            <script type=\"text/javascript\">                require([\"plotly\"], function(Plotly) {                    window.PLOTLYENV=window.PLOTLYENV || {};                                    if (document.getElementById(\"77a888b0-fe57-4171-83a4-01d557fba00d\")) {                    Plotly.newPlot(                        \"77a888b0-fe57-4171-83a4-01d557fba00d\",                        [{\"colorbar\": {\"title\": {\"text\": \"World Urban Population per Capita\"}}, \"colorscale\": [[0.0, \"#440154\"], [0.1111111111111111, \"#482878\"], [0.2222222222222222, \"#3e4989\"], [0.3333333333333333, \"#31688e\"], [0.4444444444444444, \"#26828e\"], [0.5555555555555556, \"#1f9e89\"], [0.6666666666666666, \"#35b779\"], [0.7777777777777778, \"#6ece58\"], [0.8888888888888888, \"#b5de2b\"], [1.0, \"#fde725\"]], \"locationmode\": \"country names\", \"locations\": [\"Arab World\", \"Brazil\", \"IDA blend\", \"Indonesia\", \"Japan\", \"Low income\"], \"text\": [\"Arab World\", \"Brazil\", \"IDA blend\", \"Indonesia\", \"Japan\", \"Low income\"], \"type\": \"choropleth\", \"z\": [0.5644087951050484, 0.8433499996052907, 0.3853915421587446, 0.49913999968945666, 0.9081199968767081, 0.3034008894040114]}],                        {\"geo\": {\"projection\": {\"type\": \"mercator\"}}, \"template\": {\"data\": {\"bar\": [{\"error_x\": {\"color\": \"#2a3f5f\"}, \"error_y\": {\"color\": \"#2a3f5f\"}, \"marker\": {\"line\": {\"color\": \"#E5ECF6\", \"width\": 0.5}}, \"type\": \"bar\"}], \"barpolar\": [{\"marker\": {\"line\": {\"color\": \"#E5ECF6\", \"width\": 0.5}}, \"type\": \"barpolar\"}], \"carpet\": [{\"aaxis\": {\"endlinecolor\": \"#2a3f5f\", \"gridcolor\": \"white\", \"linecolor\": \"white\", \"minorgridcolor\": \"white\", \"startlinecolor\": \"#2a3f5f\"}, \"baxis\": {\"endlinecolor\": \"#2a3f5f\", \"gridcolor\": \"white\", \"linecolor\": \"white\", \"minorgridcolor\": \"white\", \"startlinecolor\": \"#2a3f5f\"}, \"type\": \"carpet\"}], \"choropleth\": [{\"colorbar\": {\"outlinewidth\": 0, \"ticks\": \"\"}, \"type\": \"choropleth\"}], \"contour\": [{\"colorbar\": {\"outlinewidth\": 0, \"ticks\": \"\"}, \"colorscale\": [[0.0, \"#0d0887\"], [0.1111111111111111, \"#46039f\"], [0.2222222222222222, \"#7201a8\"], [0.3333333333333333, \"#9c179e\"], [0.4444444444444444, \"#bd3786\"], [0.5555555555555556, \"#d8576b\"], [0.6666666666666666, \"#ed7953\"], [0.7777777777777778, \"#fb9f3a\"], [0.8888888888888888, \"#fdca26\"], [1.0, \"#f0f921\"]], \"type\": \"contour\"}], \"contourcarpet\": [{\"colorbar\": {\"outlinewidth\": 0, \"ticks\": \"\"}, \"type\": \"contourcarpet\"}], \"heatmap\": [{\"colorbar\": {\"outlinewidth\": 0, \"ticks\": \"\"}, \"colorscale\": [[0.0, \"#0d0887\"], [0.1111111111111111, \"#46039f\"], [0.2222222222222222, \"#7201a8\"], [0.3333333333333333, \"#9c179e\"], [0.4444444444444444, \"#bd3786\"], [0.5555555555555556, \"#d8576b\"], [0.6666666666666666, \"#ed7953\"], [0.7777777777777778, \"#fb9f3a\"], [0.8888888888888888, \"#fdca26\"], [1.0, \"#f0f921\"]], \"type\": \"heatmap\"}], \"heatmapgl\": [{\"colorbar\": {\"outlinewidth\": 0, \"ticks\": \"\"}, \"colorscale\": [[0.0, \"#0d0887\"], [0.1111111111111111, \"#46039f\"], [0.2222222222222222, \"#7201a8\"], [0.3333333333333333, \"#9c179e\"], [0.4444444444444444, \"#bd3786\"], [0.5555555555555556, \"#d8576b\"], [0.6666666666666666, \"#ed7953\"], [0.7777777777777778, \"#fb9f3a\"], [0.8888888888888888, \"#fdca26\"], [1.0, \"#f0f921\"]], \"type\": \"heatmapgl\"}], \"histogram\": [{\"marker\": {\"colorbar\": {\"outlinewidth\": 0, \"ticks\": \"\"}}, \"type\": \"histogram\"}], \"histogram2d\": [{\"colorbar\": {\"outlinewidth\": 0, \"ticks\": \"\"}, \"colorscale\": [[0.0, \"#0d0887\"], [0.1111111111111111, \"#46039f\"], [0.2222222222222222, \"#7201a8\"], [0.3333333333333333, \"#9c179e\"], [0.4444444444444444, \"#bd3786\"], [0.5555555555555556, \"#d8576b\"], [0.6666666666666666, \"#ed7953\"], [0.7777777777777778, \"#fb9f3a\"], [0.8888888888888888, \"#fdca26\"], [1.0, \"#f0f921\"]], \"type\": \"histogram2d\"}], \"histogram2dcontour\": [{\"colorbar\": {\"outlinewidth\": 0, \"ticks\": \"\"}, \"colorscale\": [[0.0, \"#0d0887\"], [0.1111111111111111, \"#46039f\"], [0.2222222222222222, \"#7201a8\"], [0.3333333333333333, \"#9c179e\"], [0.4444444444444444, \"#bd3786\"], [0.5555555555555556, \"#d8576b\"], [0.6666666666666666, \"#ed7953\"], [0.7777777777777778, \"#fb9f3a\"], [0.8888888888888888, \"#fdca26\"], [1.0, \"#f0f921\"]], \"type\": \"histogram2dcontour\"}], \"mesh3d\": [{\"colorbar\": {\"outlinewidth\": 0, \"ticks\": \"\"}, \"type\": \"mesh3d\"}], \"parcoords\": [{\"line\": {\"colorbar\": {\"outlinewidth\": 0, \"ticks\": \"\"}}, \"type\": \"parcoords\"}], \"pie\": [{\"automargin\": true, \"type\": \"pie\"}], \"scatter\": [{\"marker\": {\"colorbar\": {\"outlinewidth\": 0, \"ticks\": \"\"}}, \"type\": \"scatter\"}], \"scatter3d\": [{\"line\": {\"colorbar\": {\"outlinewidth\": 0, \"ticks\": \"\"}}, \"marker\": {\"colorbar\": {\"outlinewidth\": 0, \"ticks\": \"\"}}, \"type\": \"scatter3d\"}], \"scattercarpet\": [{\"marker\": {\"colorbar\": {\"outlinewidth\": 0, \"ticks\": \"\"}}, \"type\": \"scattercarpet\"}], \"scattergeo\": [{\"marker\": {\"colorbar\": {\"outlinewidth\": 0, \"ticks\": \"\"}}, \"type\": \"scattergeo\"}], \"scattergl\": [{\"marker\": {\"colorbar\": {\"outlinewidth\": 0, \"ticks\": \"\"}}, \"type\": \"scattergl\"}], \"scattermapbox\": [{\"marker\": {\"colorbar\": {\"outlinewidth\": 0, \"ticks\": \"\"}}, \"type\": \"scattermapbox\"}], \"scatterpolar\": [{\"marker\": {\"colorbar\": {\"outlinewidth\": 0, \"ticks\": \"\"}}, \"type\": \"scatterpolar\"}], \"scatterpolargl\": [{\"marker\": {\"colorbar\": {\"outlinewidth\": 0, \"ticks\": \"\"}}, \"type\": \"scatterpolargl\"}], \"scatterternary\": [{\"marker\": {\"colorbar\": {\"outlinewidth\": 0, \"ticks\": \"\"}}, \"type\": \"scatterternary\"}], \"surface\": [{\"colorbar\": {\"outlinewidth\": 0, \"ticks\": \"\"}, \"colorscale\": [[0.0, \"#0d0887\"], [0.1111111111111111, \"#46039f\"], [0.2222222222222222, \"#7201a8\"], [0.3333333333333333, \"#9c179e\"], [0.4444444444444444, \"#bd3786\"], [0.5555555555555556, \"#d8576b\"], [0.6666666666666666, \"#ed7953\"], [0.7777777777777778, \"#fb9f3a\"], [0.8888888888888888, \"#fdca26\"], [1.0, \"#f0f921\"]], \"type\": \"surface\"}], \"table\": [{\"cells\": {\"fill\": {\"color\": \"#EBF0F8\"}, \"line\": {\"color\": \"white\"}}, \"header\": {\"fill\": {\"color\": \"#C8D4E3\"}, \"line\": {\"color\": \"white\"}}, \"type\": \"table\"}]}, \"layout\": {\"annotationdefaults\": {\"arrowcolor\": \"#2a3f5f\", \"arrowhead\": 0, \"arrowwidth\": 1}, \"autotypenumbers\": \"strict\", \"coloraxis\": {\"colorbar\": {\"outlinewidth\": 0, \"ticks\": \"\"}}, \"colorscale\": {\"diverging\": [[0, \"#8e0152\"], [0.1, \"#c51b7d\"], [0.2, \"#de77ae\"], [0.3, \"#f1b6da\"], [0.4, \"#fde0ef\"], [0.5, \"#f7f7f7\"], [0.6, \"#e6f5d0\"], [0.7, \"#b8e186\"], [0.8, \"#7fbc41\"], [0.9, \"#4d9221\"], [1, \"#276419\"]], \"sequential\": [[0.0, \"#0d0887\"], [0.1111111111111111, \"#46039f\"], [0.2222222222222222, \"#7201a8\"], [0.3333333333333333, \"#9c179e\"], [0.4444444444444444, \"#bd3786\"], [0.5555555555555556, \"#d8576b\"], [0.6666666666666666, \"#ed7953\"], [0.7777777777777778, \"#fb9f3a\"], [0.8888888888888888, \"#fdca26\"], [1.0, \"#f0f921\"]], \"sequentialminus\": [[0.0, \"#0d0887\"], [0.1111111111111111, \"#46039f\"], [0.2222222222222222, \"#7201a8\"], [0.3333333333333333, \"#9c179e\"], [0.4444444444444444, \"#bd3786\"], [0.5555555555555556, \"#d8576b\"], [0.6666666666666666, \"#ed7953\"], [0.7777777777777778, \"#fb9f3a\"], [0.8888888888888888, \"#fdca26\"], [1.0, \"#f0f921\"]]}, \"colorway\": [\"#636efa\", \"#EF553B\", \"#00cc96\", \"#ab63fa\", \"#FFA15A\", \"#19d3f3\", \"#FF6692\", \"#B6E880\", \"#FF97FF\", \"#FECB52\"], \"font\": {\"color\": \"#2a3f5f\"}, \"geo\": {\"bgcolor\": \"white\", \"lakecolor\": \"white\", \"landcolor\": \"#E5ECF6\", \"showlakes\": true, \"showland\": true, \"subunitcolor\": \"white\"}, \"hoverlabel\": {\"align\": \"left\"}, \"hovermode\": \"closest\", \"mapbox\": {\"style\": \"light\"}, \"paper_bgcolor\": \"white\", \"plot_bgcolor\": \"#E5ECF6\", \"polar\": {\"angularaxis\": {\"gridcolor\": \"white\", \"linecolor\": \"white\", \"ticks\": \"\"}, \"bgcolor\": \"#E5ECF6\", \"radialaxis\": {\"gridcolor\": \"white\", \"linecolor\": \"white\", \"ticks\": \"\"}}, \"scene\": {\"xaxis\": {\"backgroundcolor\": \"#E5ECF6\", \"gridcolor\": \"white\", \"gridwidth\": 2, \"linecolor\": \"white\", \"showbackground\": true, \"ticks\": \"\", \"zerolinecolor\": \"white\"}, \"yaxis\": {\"backgroundcolor\": \"#E5ECF6\", \"gridcolor\": \"white\", \"gridwidth\": 2, \"linecolor\": \"white\", \"showbackground\": true, \"ticks\": \"\", \"zerolinecolor\": \"white\"}, \"zaxis\": {\"backgroundcolor\": \"#E5ECF6\", \"gridcolor\": \"white\", \"gridwidth\": 2, \"linecolor\": \"white\", \"showbackground\": true, \"ticks\": \"\", \"zerolinecolor\": \"white\"}}, \"shapedefaults\": {\"line\": {\"color\": \"#2a3f5f\"}}, \"ternary\": {\"aaxis\": {\"gridcolor\": \"white\", \"linecolor\": \"white\", \"ticks\": \"\"}, \"baxis\": {\"gridcolor\": \"white\", \"linecolor\": \"white\", \"ticks\": \"\"}, \"bgcolor\": \"#E5ECF6\", \"caxis\": {\"gridcolor\": \"white\", \"linecolor\": \"white\", \"ticks\": \"\"}}, \"title\": {\"x\": 0.05}, \"xaxis\": {\"automargin\": true, \"gridcolor\": \"white\", \"linecolor\": \"white\", \"ticks\": \"\", \"title\": {\"standoff\": 15}, \"zerolinecolor\": \"white\", \"zerolinewidth\": 2}, \"yaxis\": {\"automargin\": true, \"gridcolor\": \"white\", \"linecolor\": \"white\", \"ticks\": \"\", \"title\": {\"standoff\": 15}, \"zerolinecolor\": \"white\", \"zerolinewidth\": 2}}}, \"title\": {\"text\": \"World Urban Population per Capita with Urban Population between 110146163 and 223096279, 2010\"}},                        {\"responsive\": true}                    ).then(function(){\n",
       "                            \n",
       "var gd = document.getElementById('77a888b0-fe57-4171-83a4-01d557fba00d');\n",
       "var x = new MutationObserver(function (mutations, observer) {{\n",
       "        var display = window.getComputedStyle(gd).display;\n",
       "        if (!display || display === 'none') {{\n",
       "            console.log([gd, 'removed!']);\n",
       "            Plotly.purge(gd);\n",
       "            observer.disconnect();\n",
       "        }}\n",
       "}});\n",
       "\n",
       "// Listen for the removal of the full notebook cells\n",
       "var notebookContainer = gd.closest('#notebook-container');\n",
       "if (notebookContainer) {{\n",
       "    x.observe(notebookContainer, {childList: true});\n",
       "}}\n",
       "\n",
       "// Listen for the clearing of the current output cell\n",
       "var outputEl = gd.closest('.output');\n",
       "if (outputEl) {{\n",
       "    x.observe(outputEl, {childList: true});\n",
       "}}\n",
       "\n",
       "                        })                };                });            </script>        </div>"
      ]
     },
     "metadata": {},
     "output_type": "display_data"
    }
   ],
   "source": [
    "data = dict(\n",
    "        type = 'choropleth',\n",
    "        colorscale = 'Viridis',\n",
    "        locations = gdf3['Country Name'],\n",
    "        locationmode = \"country names\",\n",
    "        z = gdf3['WUP_per_cap_2010'],\n",
    "        text = gdf3['Country Name'],\n",
    "        colorbar = {'title' : 'World Urban Population per Capita'},\n",
    "      )\n",
    "\n",
    "layout = dict(title = 'World Urban Population per Capita with Urban Population between 110146163 and 223096279, 2010',\n",
    "              geo = dict(projection = {'type':'mercator'})\n",
    "             )\n",
    "\n",
    "choromap = go.Figure(data = [data],layout = layout)\n",
    "iplot(choromap,validate=False)"
   ]
  },
  {
   "cell_type": "markdown",
   "id": "0651d52d",
   "metadata": {},
   "source": [
    "The plot above only shows the WUP per capita of the 6 countries with population between 110146163 and 223096279"
   ]
  },
  {
   "cell_type": "code",
   "execution_count": 29,
   "id": "15085fb8",
   "metadata": {},
   "outputs": [],
   "source": [
    "#gdf_populations = gdf_populations.drop(labels = 257, axis =0 )\n"
   ]
  },
  {
   "cell_type": "markdown",
   "id": "a472401c",
   "metadata": {},
   "source": [
    ">What is the percentage change in the urban population per capita from 1990 to \n",
    "2010, for the country having the highest population in 2010?"
   ]
  },
  {
   "cell_type": "code",
   "execution_count": 30,
   "id": "5a87b3fe",
   "metadata": {},
   "outputs": [
    {
     "data": {
      "text/plain": [
       "6921871614.0"
      ]
     },
     "execution_count": 30,
     "metadata": {},
     "output_type": "execute_result"
    }
   ],
   "source": [
    "#find the country with the highest population in 2010\n",
    "column = gdf_populations[\"2010 World Population\"]\n",
    "max_value = column.max()\n",
    "max_value"
   ]
  },
  {
   "cell_type": "code",
   "execution_count": 31,
   "id": "42aa5a69",
   "metadata": {},
   "outputs": [
    {
     "data": {
      "text/plain": [
       "257"
      ]
     },
     "execution_count": 31,
     "metadata": {},
     "output_type": "execute_result"
    }
   ],
   "source": [
    "#find the index of the column \n",
    "max_index = column.idxmax()\n",
    "max_index"
   ]
  },
  {
   "cell_type": "code",
   "execution_count": 32,
   "id": "ad8b3a91",
   "metadata": {},
   "outputs": [
    {
     "data": {
      "text/plain": [
       "Country Name                    World\n",
       "2010 World Population    6921871614.0\n",
       "WUP_per_cap_1990             0.430134\n",
       "WUP_per_cap_2010             0.516327\n",
       "Name: 257, dtype: object"
      ]
     },
     "execution_count": 32,
     "metadata": {},
     "output_type": "execute_result"
    }
   ],
   "source": [
    "#using the index of the column, locate the country \n",
    "x = gdf_populations.loc[257, ['Country Name', '2010 World Population', 'WUP_per_cap_1990', 'WUP_per_cap_2010']]\n",
    "x"
   ]
  },
  {
   "cell_type": "code",
   "execution_count": 33,
   "id": "4cd85cef",
   "metadata": {},
   "outputs": [
    {
     "data": {
      "text/plain": [
       "20.038834417808285"
      ]
     },
     "execution_count": 33,
     "metadata": {},
     "output_type": "execute_result"
    }
   ],
   "source": [
    "#calculate the percentage change in urban population per capita frm 1990 to 2010\n",
    "percent_change = ((x.WUP_per_cap_2010 - x.WUP_per_cap_1990)/x.WUP_per_cap_1990) * 100\n",
    "percent_change"
   ]
  },
  {
   "cell_type": "markdown",
   "id": "4a3c09b1",
   "metadata": {},
   "source": [
    ">Plot the mean per capita world urban population (from 1990 to 2010) of all the \n",
    "countries."
   ]
  },
  {
   "cell_type": "code",
   "execution_count": 34,
   "id": "91458116",
   "metadata": {},
   "outputs": [],
   "source": [
    "#create a dataframe\n",
    "df = pd.DataFrame()"
   ]
  },
  {
   "cell_type": "code",
   "execution_count": 35,
   "id": "97cf96f4",
   "metadata": {},
   "outputs": [],
   "source": [
    "#add the required columns to the dataframe \n",
    "df['Country Name'] = gdf_populations['Country Name']\n",
    "df['WUP_per_cap_1990'] = gdf_populations['1990 Urban World Population']/gdf_populations['1990 World Population']\n",
    "df['WUP_per_cap_1991'] = gdf_populations['1991 Urban World Population']/gdf_populations['1991 World Population']\n",
    "df['WUP_per_cap_1992'] = gdf_populations['1992 Urban World Population']/gdf_populations['1992 World Population']\n",
    "df['WUP_per_cap_1993'] = gdf_populations['1993 Urban World Population']/gdf_populations['1993 World Population']\n",
    "df['WUP_per_cap_1994'] = gdf_populations['1994 Urban World Population']/gdf_populations['1994 World Population']\n",
    "df['WUP_per_cap_1995'] = gdf_populations['1995 Urban World Population']/gdf_populations['1995 World Population']\n",
    "df['WUP_per_cap_1996'] = gdf_populations['1996 Urban World Population']/gdf_populations['1996 World Population']\n",
    "df['WUP_per_cap_1997'] = gdf_populations['1997 Urban World Population']/gdf_populations['1997 World Population']\n",
    "df['WUP_per_cap_1998'] = gdf_populations['1998 Urban World Population']/gdf_populations['1998 World Population']\n",
    "df['WUP_per_cap_1999'] = gdf_populations['1999 Urban World Population']/gdf_populations['1999 World Population']\n",
    "df['WUP_per_cap_2000'] = gdf_populations['2000 Urban World Population']/gdf_populations['2000 World Population']\n",
    "df['WUP_per_cap_2001'] = gdf_populations['2001 Urban World Population']/gdf_populations['2001 World Population']\n",
    "df['WUP_per_cap_2002'] = gdf_populations['2002 Urban World Population']/gdf_populations['2002 World Population']\n",
    "df['WUP_per_cap_2003'] = gdf_populations['2003 Urban World Population']/gdf_populations['2003 World Population']\n",
    "df['WUP_per_cap_2004'] = gdf_populations['2004 Urban World Population']/gdf_populations['2004 World Population']\n",
    "df['WUP_per_cap_2005'] = gdf_populations['2005 Urban World Population']/gdf_populations['2005 World Population']\n",
    "df['WUP_per_cap_2006'] = gdf_populations['2006 Urban World Population']/gdf_populations['2006 World Population']\n",
    "df['WUP_per_cap_2007'] = gdf_populations['2007 Urban World Population']/gdf_populations['2007 World Population']\n",
    "df['WUP_per_cap_2008'] = gdf_populations['2008 Urban World Population']/gdf_populations['2008 World Population']\n",
    "df['WUP_per_cap_2009'] = gdf_populations['2009 Urban World Population']/gdf_populations['2009 World Population']\n",
    "df['WUP_per_cap_2010'] = gdf_populations['2010 Urban World Population']/gdf_populations['2010 World Population']\n",
    "\n",
    "df['lat'] = gdf_populations['lat']\n",
    "df['lng'] = gdf_populations['lng']"
   ]
  },
  {
   "cell_type": "code",
   "execution_count": 36,
   "id": "36c90a59",
   "metadata": {},
   "outputs": [
    {
     "data": {
      "text/html": [
       "<div>\n",
       "<style scoped>\n",
       "    .dataframe tbody tr th:only-of-type {\n",
       "        vertical-align: middle;\n",
       "    }\n",
       "\n",
       "    .dataframe tbody tr th {\n",
       "        vertical-align: top;\n",
       "    }\n",
       "\n",
       "    .dataframe thead th {\n",
       "        text-align: right;\n",
       "    }\n",
       "</style>\n",
       "<table border=\"1\" class=\"dataframe\">\n",
       "  <thead>\n",
       "    <tr style=\"text-align: right;\">\n",
       "      <th></th>\n",
       "      <th>Country Name</th>\n",
       "      <th>WUP_per_cap_1990</th>\n",
       "      <th>WUP_per_cap_1991</th>\n",
       "      <th>WUP_per_cap_1992</th>\n",
       "      <th>WUP_per_cap_1993</th>\n",
       "      <th>WUP_per_cap_1994</th>\n",
       "      <th>WUP_per_cap_1995</th>\n",
       "      <th>WUP_per_cap_1996</th>\n",
       "      <th>WUP_per_cap_1997</th>\n",
       "      <th>WUP_per_cap_1998</th>\n",
       "      <th>...</th>\n",
       "      <th>WUP_per_cap_2003</th>\n",
       "      <th>WUP_per_cap_2004</th>\n",
       "      <th>WUP_per_cap_2005</th>\n",
       "      <th>WUP_per_cap_2006</th>\n",
       "      <th>WUP_per_cap_2007</th>\n",
       "      <th>WUP_per_cap_2008</th>\n",
       "      <th>WUP_per_cap_2009</th>\n",
       "      <th>WUP_per_cap_2010</th>\n",
       "      <th>lat</th>\n",
       "      <th>lng</th>\n",
       "    </tr>\n",
       "  </thead>\n",
       "  <tbody>\n",
       "    <tr>\n",
       "      <th>0</th>\n",
       "      <td>Aruba</td>\n",
       "      <td>0.503194</td>\n",
       "      <td>0.503033</td>\n",
       "      <td>0.499978</td>\n",
       "      <td>0.495876</td>\n",
       "      <td>0.491773</td>\n",
       "      <td>0.487675</td>\n",
       "      <td>0.483558</td>\n",
       "      <td>0.479456</td>\n",
       "      <td>0.475360</td>\n",
       "      <td>...</td>\n",
       "      <td>0.456064</td>\n",
       "      <td>0.452404</td>\n",
       "      <td>0.448751</td>\n",
       "      <td>0.445108</td>\n",
       "      <td>0.441465</td>\n",
       "      <td>0.437834</td>\n",
       "      <td>0.434212</td>\n",
       "      <td>0.430593</td>\n",
       "      <td>12.490300</td>\n",
       "      <td>-69.960984</td>\n",
       "    </tr>\n",
       "    <tr>\n",
       "      <th>1</th>\n",
       "      <td>Afghanistan</td>\n",
       "      <td>0.211770</td>\n",
       "      <td>0.212660</td>\n",
       "      <td>0.213550</td>\n",
       "      <td>0.214440</td>\n",
       "      <td>0.215340</td>\n",
       "      <td>0.216240</td>\n",
       "      <td>0.217140</td>\n",
       "      <td>0.218050</td>\n",
       "      <td>0.218950</td>\n",
       "      <td>...</td>\n",
       "      <td>0.223530</td>\n",
       "      <td>0.225000</td>\n",
       "      <td>0.227030</td>\n",
       "      <td>0.229070</td>\n",
       "      <td>0.231130</td>\n",
       "      <td>0.233200</td>\n",
       "      <td>0.235280</td>\n",
       "      <td>0.237370</td>\n",
       "      <td>33.768006</td>\n",
       "      <td>66.238514</td>\n",
       "    </tr>\n",
       "    <tr>\n",
       "      <th>2</th>\n",
       "      <td>Angola</td>\n",
       "      <td>0.371440</td>\n",
       "      <td>0.385800</td>\n",
       "      <td>0.400390</td>\n",
       "      <td>0.415110</td>\n",
       "      <td>0.430000</td>\n",
       "      <td>0.441690</td>\n",
       "      <td>0.453460</td>\n",
       "      <td>0.465250</td>\n",
       "      <td>0.477100</td>\n",
       "      <td>...</td>\n",
       "      <td>0.536450</td>\n",
       "      <td>0.548270</td>\n",
       "      <td>0.560000</td>\n",
       "      <td>0.567640</td>\n",
       "      <td>0.575240</td>\n",
       "      <td>0.582820</td>\n",
       "      <td>0.590340</td>\n",
       "      <td>0.597830</td>\n",
       "      <td>-11.877577</td>\n",
       "      <td>17.569124</td>\n",
       "    </tr>\n",
       "    <tr>\n",
       "      <th>3</th>\n",
       "      <td>Albania</td>\n",
       "      <td>0.364280</td>\n",
       "      <td>0.367000</td>\n",
       "      <td>0.372490</td>\n",
       "      <td>0.377990</td>\n",
       "      <td>0.383540</td>\n",
       "      <td>0.389110</td>\n",
       "      <td>0.394730</td>\n",
       "      <td>0.400350</td>\n",
       "      <td>0.406010</td>\n",
       "      <td>...</td>\n",
       "      <td>0.445730</td>\n",
       "      <td>0.456510</td>\n",
       "      <td>0.467310</td>\n",
       "      <td>0.478150</td>\n",
       "      <td>0.489020</td>\n",
       "      <td>0.499910</td>\n",
       "      <td>0.510760</td>\n",
       "      <td>0.521630</td>\n",
       "      <td>41.000028</td>\n",
       "      <td>19.999962</td>\n",
       "    </tr>\n",
       "    <tr>\n",
       "      <th>4</th>\n",
       "      <td>Andorra</td>\n",
       "      <td>0.947128</td>\n",
       "      <td>0.945298</td>\n",
       "      <td>0.943248</td>\n",
       "      <td>0.941103</td>\n",
       "      <td>0.938893</td>\n",
       "      <td>0.936617</td>\n",
       "      <td>0.934245</td>\n",
       "      <td>0.931802</td>\n",
       "      <td>0.929266</td>\n",
       "      <td>...</td>\n",
       "      <td>0.912069</td>\n",
       "      <td>0.907507</td>\n",
       "      <td>0.902849</td>\n",
       "      <td>0.898065</td>\n",
       "      <td>0.893075</td>\n",
       "      <td>0.890046</td>\n",
       "      <td>0.889123</td>\n",
       "      <td>0.888193</td>\n",
       "      <td>42.540717</td>\n",
       "      <td>1.573203</td>\n",
       "    </tr>\n",
       "    <tr>\n",
       "      <th>...</th>\n",
       "      <td>...</td>\n",
       "      <td>...</td>\n",
       "      <td>...</td>\n",
       "      <td>...</td>\n",
       "      <td>...</td>\n",
       "      <td>...</td>\n",
       "      <td>...</td>\n",
       "      <td>...</td>\n",
       "      <td>...</td>\n",
       "      <td>...</td>\n",
       "      <td>...</td>\n",
       "      <td>...</td>\n",
       "      <td>...</td>\n",
       "      <td>...</td>\n",
       "      <td>...</td>\n",
       "      <td>...</td>\n",
       "      <td>...</td>\n",
       "      <td>...</td>\n",
       "      <td>...</td>\n",
       "      <td>...</td>\n",
       "      <td>...</td>\n",
       "    </tr>\n",
       "    <tr>\n",
       "      <th>258</th>\n",
       "      <td>Samoa</td>\n",
       "      <td>0.211999</td>\n",
       "      <td>0.211998</td>\n",
       "      <td>0.212581</td>\n",
       "      <td>0.213471</td>\n",
       "      <td>0.214359</td>\n",
       "      <td>0.215261</td>\n",
       "      <td>0.216160</td>\n",
       "      <td>0.217048</td>\n",
       "      <td>0.217960</td>\n",
       "      <td>...</td>\n",
       "      <td>0.216977</td>\n",
       "      <td>0.214570</td>\n",
       "      <td>0.212177</td>\n",
       "      <td>0.209812</td>\n",
       "      <td>0.207502</td>\n",
       "      <td>0.205241</td>\n",
       "      <td>0.203001</td>\n",
       "      <td>0.200781</td>\n",
       "      <td>-13.769390</td>\n",
       "      <td>-172.120051</td>\n",
       "    </tr>\n",
       "    <tr>\n",
       "      <th>259</th>\n",
       "      <td>Kosovo</td>\n",
       "      <td>NaN</td>\n",
       "      <td>NaN</td>\n",
       "      <td>NaN</td>\n",
       "      <td>NaN</td>\n",
       "      <td>NaN</td>\n",
       "      <td>NaN</td>\n",
       "      <td>NaN</td>\n",
       "      <td>NaN</td>\n",
       "      <td>NaN</td>\n",
       "      <td>...</td>\n",
       "      <td>NaN</td>\n",
       "      <td>NaN</td>\n",
       "      <td>NaN</td>\n",
       "      <td>NaN</td>\n",
       "      <td>NaN</td>\n",
       "      <td>NaN</td>\n",
       "      <td>NaN</td>\n",
       "      <td>NaN</td>\n",
       "      <td>42.586958</td>\n",
       "      <td>20.902123</td>\n",
       "    </tr>\n",
       "    <tr>\n",
       "      <th>261</th>\n",
       "      <td>South Africa</td>\n",
       "      <td>0.520370</td>\n",
       "      <td>0.525540</td>\n",
       "      <td>0.530380</td>\n",
       "      <td>0.535210</td>\n",
       "      <td>0.540040</td>\n",
       "      <td>0.544860</td>\n",
       "      <td>0.549670</td>\n",
       "      <td>0.554490</td>\n",
       "      <td>0.559300</td>\n",
       "      <td>...</td>\n",
       "      <td>0.584460</td>\n",
       "      <td>0.589930</td>\n",
       "      <td>0.595360</td>\n",
       "      <td>0.600770</td>\n",
       "      <td>0.606160</td>\n",
       "      <td>0.611540</td>\n",
       "      <td>0.616870</td>\n",
       "      <td>0.622180</td>\n",
       "      <td>-28.816624</td>\n",
       "      <td>24.991639</td>\n",
       "    </tr>\n",
       "    <tr>\n",
       "      <th>262</th>\n",
       "      <td>Zambia</td>\n",
       "      <td>0.394070</td>\n",
       "      <td>0.389890</td>\n",
       "      <td>0.385140</td>\n",
       "      <td>0.380420</td>\n",
       "      <td>0.375720</td>\n",
       "      <td>0.371040</td>\n",
       "      <td>0.366380</td>\n",
       "      <td>0.361760</td>\n",
       "      <td>0.357160</td>\n",
       "      <td>...</td>\n",
       "      <td>0.359510</td>\n",
       "      <td>0.364300</td>\n",
       "      <td>0.369110</td>\n",
       "      <td>0.373950</td>\n",
       "      <td>0.378810</td>\n",
       "      <td>0.383710</td>\n",
       "      <td>0.388610</td>\n",
       "      <td>0.393550</td>\n",
       "      <td>-14.518912</td>\n",
       "      <td>27.558988</td>\n",
       "    </tr>\n",
       "    <tr>\n",
       "      <th>263</th>\n",
       "      <td>Zimbabwe</td>\n",
       "      <td>0.289880</td>\n",
       "      <td>0.297380</td>\n",
       "      <td>0.304990</td>\n",
       "      <td>0.309400</td>\n",
       "      <td>0.313350</td>\n",
       "      <td>0.317320</td>\n",
       "      <td>0.321320</td>\n",
       "      <td>0.325340</td>\n",
       "      <td>0.329390</td>\n",
       "      <td>...</td>\n",
       "      <td>0.344790</td>\n",
       "      <td>0.342940</td>\n",
       "      <td>0.341100</td>\n",
       "      <td>0.339260</td>\n",
       "      <td>0.337430</td>\n",
       "      <td>0.335600</td>\n",
       "      <td>0.333780</td>\n",
       "      <td>0.331960</td>\n",
       "      <td>-19.016880</td>\n",
       "      <td>29.353650</td>\n",
       "    </tr>\n",
       "  </tbody>\n",
       "</table>\n",
       "<p>226 rows × 24 columns</p>\n",
       "</div>"
      ],
      "text/plain": [
       "     Country Name  WUP_per_cap_1990  WUP_per_cap_1991  WUP_per_cap_1992  \\\n",
       "0           Aruba          0.503194          0.503033          0.499978   \n",
       "1     Afghanistan          0.211770          0.212660          0.213550   \n",
       "2          Angola          0.371440          0.385800          0.400390   \n",
       "3         Albania          0.364280          0.367000          0.372490   \n",
       "4         Andorra          0.947128          0.945298          0.943248   \n",
       "..            ...               ...               ...               ...   \n",
       "258         Samoa          0.211999          0.211998          0.212581   \n",
       "259        Kosovo               NaN               NaN               NaN   \n",
       "261  South Africa          0.520370          0.525540          0.530380   \n",
       "262        Zambia          0.394070          0.389890          0.385140   \n",
       "263      Zimbabwe          0.289880          0.297380          0.304990   \n",
       "\n",
       "     WUP_per_cap_1993  WUP_per_cap_1994  WUP_per_cap_1995  WUP_per_cap_1996  \\\n",
       "0            0.495876          0.491773          0.487675          0.483558   \n",
       "1            0.214440          0.215340          0.216240          0.217140   \n",
       "2            0.415110          0.430000          0.441690          0.453460   \n",
       "3            0.377990          0.383540          0.389110          0.394730   \n",
       "4            0.941103          0.938893          0.936617          0.934245   \n",
       "..                ...               ...               ...               ...   \n",
       "258          0.213471          0.214359          0.215261          0.216160   \n",
       "259               NaN               NaN               NaN               NaN   \n",
       "261          0.535210          0.540040          0.544860          0.549670   \n",
       "262          0.380420          0.375720          0.371040          0.366380   \n",
       "263          0.309400          0.313350          0.317320          0.321320   \n",
       "\n",
       "     WUP_per_cap_1997  WUP_per_cap_1998  ...  WUP_per_cap_2003  \\\n",
       "0            0.479456          0.475360  ...          0.456064   \n",
       "1            0.218050          0.218950  ...          0.223530   \n",
       "2            0.465250          0.477100  ...          0.536450   \n",
       "3            0.400350          0.406010  ...          0.445730   \n",
       "4            0.931802          0.929266  ...          0.912069   \n",
       "..                ...               ...  ...               ...   \n",
       "258          0.217048          0.217960  ...          0.216977   \n",
       "259               NaN               NaN  ...               NaN   \n",
       "261          0.554490          0.559300  ...          0.584460   \n",
       "262          0.361760          0.357160  ...          0.359510   \n",
       "263          0.325340          0.329390  ...          0.344790   \n",
       "\n",
       "     WUP_per_cap_2004  WUP_per_cap_2005  WUP_per_cap_2006  WUP_per_cap_2007  \\\n",
       "0            0.452404          0.448751          0.445108          0.441465   \n",
       "1            0.225000          0.227030          0.229070          0.231130   \n",
       "2            0.548270          0.560000          0.567640          0.575240   \n",
       "3            0.456510          0.467310          0.478150          0.489020   \n",
       "4            0.907507          0.902849          0.898065          0.893075   \n",
       "..                ...               ...               ...               ...   \n",
       "258          0.214570          0.212177          0.209812          0.207502   \n",
       "259               NaN               NaN               NaN               NaN   \n",
       "261          0.589930          0.595360          0.600770          0.606160   \n",
       "262          0.364300          0.369110          0.373950          0.378810   \n",
       "263          0.342940          0.341100          0.339260          0.337430   \n",
       "\n",
       "     WUP_per_cap_2008  WUP_per_cap_2009  WUP_per_cap_2010        lat  \\\n",
       "0            0.437834          0.434212          0.430593  12.490300   \n",
       "1            0.233200          0.235280          0.237370  33.768006   \n",
       "2            0.582820          0.590340          0.597830 -11.877577   \n",
       "3            0.499910          0.510760          0.521630  41.000028   \n",
       "4            0.890046          0.889123          0.888193  42.540717   \n",
       "..                ...               ...               ...        ...   \n",
       "258          0.205241          0.203001          0.200781 -13.769390   \n",
       "259               NaN               NaN               NaN  42.586958   \n",
       "261          0.611540          0.616870          0.622180 -28.816624   \n",
       "262          0.383710          0.388610          0.393550 -14.518912   \n",
       "263          0.335600          0.333780          0.331960 -19.016880   \n",
       "\n",
       "            lng  \n",
       "0    -69.960984  \n",
       "1     66.238514  \n",
       "2     17.569124  \n",
       "3     19.999962  \n",
       "4      1.573203  \n",
       "..          ...  \n",
       "258 -172.120051  \n",
       "259   20.902123  \n",
       "261   24.991639  \n",
       "262   27.558988  \n",
       "263   29.353650  \n",
       "\n",
       "[226 rows x 24 columns]"
      ]
     },
     "execution_count": 36,
     "metadata": {},
     "output_type": "execute_result"
    }
   ],
   "source": [
    "#visulaize the dataframe\n",
    "df"
   ]
  },
  {
   "cell_type": "code",
   "execution_count": 37,
   "id": "902ef78f",
   "metadata": {
    "scrolled": true
   },
   "outputs": [
    {
     "data": {
      "text/html": [
       "<div>\n",
       "<style scoped>\n",
       "    .dataframe tbody tr th:only-of-type {\n",
       "        vertical-align: middle;\n",
       "    }\n",
       "\n",
       "    .dataframe tbody tr th {\n",
       "        vertical-align: top;\n",
       "    }\n",
       "\n",
       "    .dataframe thead th {\n",
       "        text-align: right;\n",
       "    }\n",
       "</style>\n",
       "<table border=\"1\" class=\"dataframe\">\n",
       "  <thead>\n",
       "    <tr style=\"text-align: right;\">\n",
       "      <th></th>\n",
       "      <th>Country Name</th>\n",
       "      <th>WUP_per_cap_1990</th>\n",
       "      <th>WUP_per_cap_1991</th>\n",
       "      <th>WUP_per_cap_1992</th>\n",
       "      <th>WUP_per_cap_1993</th>\n",
       "      <th>WUP_per_cap_1994</th>\n",
       "      <th>WUP_per_cap_1995</th>\n",
       "      <th>WUP_per_cap_1996</th>\n",
       "      <th>WUP_per_cap_1997</th>\n",
       "      <th>WUP_per_cap_1998</th>\n",
       "      <th>...</th>\n",
       "      <th>WUP_per_cap_2004</th>\n",
       "      <th>WUP_per_cap_2005</th>\n",
       "      <th>WUP_per_cap_2006</th>\n",
       "      <th>WUP_per_cap_2007</th>\n",
       "      <th>WUP_per_cap_2008</th>\n",
       "      <th>WUP_per_cap_2009</th>\n",
       "      <th>WUP_per_cap_2010</th>\n",
       "      <th>lat</th>\n",
       "      <th>lng</th>\n",
       "      <th>mean_per_capita</th>\n",
       "    </tr>\n",
       "  </thead>\n",
       "  <tbody>\n",
       "    <tr>\n",
       "      <th>0</th>\n",
       "      <td>Aruba</td>\n",
       "      <td>0.503194</td>\n",
       "      <td>0.503033</td>\n",
       "      <td>0.499978</td>\n",
       "      <td>0.495876</td>\n",
       "      <td>0.491773</td>\n",
       "      <td>0.487675</td>\n",
       "      <td>0.483558</td>\n",
       "      <td>0.479456</td>\n",
       "      <td>0.475360</td>\n",
       "      <td>...</td>\n",
       "      <td>0.452404</td>\n",
       "      <td>0.448751</td>\n",
       "      <td>0.445108</td>\n",
       "      <td>0.441465</td>\n",
       "      <td>0.437834</td>\n",
       "      <td>0.434212</td>\n",
       "      <td>0.430593</td>\n",
       "      <td>12.490300</td>\n",
       "      <td>-69.960984</td>\n",
       "      <td>0.467995</td>\n",
       "    </tr>\n",
       "    <tr>\n",
       "      <th>1</th>\n",
       "      <td>Afghanistan</td>\n",
       "      <td>0.211770</td>\n",
       "      <td>0.212660</td>\n",
       "      <td>0.213550</td>\n",
       "      <td>0.214440</td>\n",
       "      <td>0.215340</td>\n",
       "      <td>0.216240</td>\n",
       "      <td>0.217140</td>\n",
       "      <td>0.218050</td>\n",
       "      <td>0.218950</td>\n",
       "      <td>...</td>\n",
       "      <td>0.225000</td>\n",
       "      <td>0.227030</td>\n",
       "      <td>0.229070</td>\n",
       "      <td>0.231130</td>\n",
       "      <td>0.233200</td>\n",
       "      <td>0.235280</td>\n",
       "      <td>0.237370</td>\n",
       "      <td>33.768006</td>\n",
       "      <td>66.238514</td>\n",
       "      <td>0.222128</td>\n",
       "    </tr>\n",
       "    <tr>\n",
       "      <th>2</th>\n",
       "      <td>Angola</td>\n",
       "      <td>0.371440</td>\n",
       "      <td>0.385800</td>\n",
       "      <td>0.400390</td>\n",
       "      <td>0.415110</td>\n",
       "      <td>0.430000</td>\n",
       "      <td>0.441690</td>\n",
       "      <td>0.453460</td>\n",
       "      <td>0.465250</td>\n",
       "      <td>0.477100</td>\n",
       "      <td>...</td>\n",
       "      <td>0.548270</td>\n",
       "      <td>0.560000</td>\n",
       "      <td>0.567640</td>\n",
       "      <td>0.575240</td>\n",
       "      <td>0.582820</td>\n",
       "      <td>0.590340</td>\n",
       "      <td>0.597830</td>\n",
       "      <td>-11.877577</td>\n",
       "      <td>17.569124</td>\n",
       "      <td>0.496477</td>\n",
       "    </tr>\n",
       "    <tr>\n",
       "      <th>3</th>\n",
       "      <td>Albania</td>\n",
       "      <td>0.364280</td>\n",
       "      <td>0.367000</td>\n",
       "      <td>0.372490</td>\n",
       "      <td>0.377990</td>\n",
       "      <td>0.383540</td>\n",
       "      <td>0.389110</td>\n",
       "      <td>0.394730</td>\n",
       "      <td>0.400350</td>\n",
       "      <td>0.406010</td>\n",
       "      <td>...</td>\n",
       "      <td>0.456510</td>\n",
       "      <td>0.467310</td>\n",
       "      <td>0.478150</td>\n",
       "      <td>0.489020</td>\n",
       "      <td>0.499910</td>\n",
       "      <td>0.510760</td>\n",
       "      <td>0.521630</td>\n",
       "      <td>41.000028</td>\n",
       "      <td>19.999962</td>\n",
       "      <td>0.429190</td>\n",
       "    </tr>\n",
       "    <tr>\n",
       "      <th>4</th>\n",
       "      <td>Andorra</td>\n",
       "      <td>0.947128</td>\n",
       "      <td>0.945298</td>\n",
       "      <td>0.943248</td>\n",
       "      <td>0.941103</td>\n",
       "      <td>0.938893</td>\n",
       "      <td>0.936617</td>\n",
       "      <td>0.934245</td>\n",
       "      <td>0.931802</td>\n",
       "      <td>0.929266</td>\n",
       "      <td>...</td>\n",
       "      <td>0.907507</td>\n",
       "      <td>0.902849</td>\n",
       "      <td>0.898065</td>\n",
       "      <td>0.893075</td>\n",
       "      <td>0.890046</td>\n",
       "      <td>0.889123</td>\n",
       "      <td>0.888193</td>\n",
       "      <td>42.540717</td>\n",
       "      <td>1.573203</td>\n",
       "      <td>0.919814</td>\n",
       "    </tr>\n",
       "    <tr>\n",
       "      <th>...</th>\n",
       "      <td>...</td>\n",
       "      <td>...</td>\n",
       "      <td>...</td>\n",
       "      <td>...</td>\n",
       "      <td>...</td>\n",
       "      <td>...</td>\n",
       "      <td>...</td>\n",
       "      <td>...</td>\n",
       "      <td>...</td>\n",
       "      <td>...</td>\n",
       "      <td>...</td>\n",
       "      <td>...</td>\n",
       "      <td>...</td>\n",
       "      <td>...</td>\n",
       "      <td>...</td>\n",
       "      <td>...</td>\n",
       "      <td>...</td>\n",
       "      <td>...</td>\n",
       "      <td>...</td>\n",
       "      <td>...</td>\n",
       "      <td>...</td>\n",
       "    </tr>\n",
       "    <tr>\n",
       "      <th>258</th>\n",
       "      <td>Samoa</td>\n",
       "      <td>0.211999</td>\n",
       "      <td>0.211998</td>\n",
       "      <td>0.212581</td>\n",
       "      <td>0.213471</td>\n",
       "      <td>0.214359</td>\n",
       "      <td>0.215261</td>\n",
       "      <td>0.216160</td>\n",
       "      <td>0.217048</td>\n",
       "      <td>0.217960</td>\n",
       "      <td>...</td>\n",
       "      <td>0.214570</td>\n",
       "      <td>0.212177</td>\n",
       "      <td>0.209812</td>\n",
       "      <td>0.207502</td>\n",
       "      <td>0.205241</td>\n",
       "      <td>0.203001</td>\n",
       "      <td>0.200781</td>\n",
       "      <td>-13.769390</td>\n",
       "      <td>-172.120051</td>\n",
       "      <td>0.213315</td>\n",
       "    </tr>\n",
       "    <tr>\n",
       "      <th>259</th>\n",
       "      <td>Kosovo</td>\n",
       "      <td>NaN</td>\n",
       "      <td>NaN</td>\n",
       "      <td>NaN</td>\n",
       "      <td>NaN</td>\n",
       "      <td>NaN</td>\n",
       "      <td>NaN</td>\n",
       "      <td>NaN</td>\n",
       "      <td>NaN</td>\n",
       "      <td>NaN</td>\n",
       "      <td>...</td>\n",
       "      <td>NaN</td>\n",
       "      <td>NaN</td>\n",
       "      <td>NaN</td>\n",
       "      <td>NaN</td>\n",
       "      <td>NaN</td>\n",
       "      <td>NaN</td>\n",
       "      <td>NaN</td>\n",
       "      <td>42.586958</td>\n",
       "      <td>20.902123</td>\n",
       "      <td>NaN</td>\n",
       "    </tr>\n",
       "    <tr>\n",
       "      <th>261</th>\n",
       "      <td>South Africa</td>\n",
       "      <td>0.520370</td>\n",
       "      <td>0.525540</td>\n",
       "      <td>0.530380</td>\n",
       "      <td>0.535210</td>\n",
       "      <td>0.540040</td>\n",
       "      <td>0.544860</td>\n",
       "      <td>0.549670</td>\n",
       "      <td>0.554490</td>\n",
       "      <td>0.559300</td>\n",
       "      <td>...</td>\n",
       "      <td>0.589930</td>\n",
       "      <td>0.595360</td>\n",
       "      <td>0.600770</td>\n",
       "      <td>0.606160</td>\n",
       "      <td>0.611540</td>\n",
       "      <td>0.616870</td>\n",
       "      <td>0.622180</td>\n",
       "      <td>-28.816624</td>\n",
       "      <td>24.991639</td>\n",
       "      <td>0.570134</td>\n",
       "    </tr>\n",
       "    <tr>\n",
       "      <th>262</th>\n",
       "      <td>Zambia</td>\n",
       "      <td>0.394070</td>\n",
       "      <td>0.389890</td>\n",
       "      <td>0.385140</td>\n",
       "      <td>0.380420</td>\n",
       "      <td>0.375720</td>\n",
       "      <td>0.371040</td>\n",
       "      <td>0.366380</td>\n",
       "      <td>0.361760</td>\n",
       "      <td>0.357160</td>\n",
       "      <td>...</td>\n",
       "      <td>0.364300</td>\n",
       "      <td>0.369110</td>\n",
       "      <td>0.373950</td>\n",
       "      <td>0.378810</td>\n",
       "      <td>0.383710</td>\n",
       "      <td>0.388610</td>\n",
       "      <td>0.393550</td>\n",
       "      <td>-14.518912</td>\n",
       "      <td>27.558988</td>\n",
       "      <td>0.371357</td>\n",
       "    </tr>\n",
       "    <tr>\n",
       "      <th>263</th>\n",
       "      <td>Zimbabwe</td>\n",
       "      <td>0.289880</td>\n",
       "      <td>0.297380</td>\n",
       "      <td>0.304990</td>\n",
       "      <td>0.309400</td>\n",
       "      <td>0.313350</td>\n",
       "      <td>0.317320</td>\n",
       "      <td>0.321320</td>\n",
       "      <td>0.325340</td>\n",
       "      <td>0.329390</td>\n",
       "      <td>...</td>\n",
       "      <td>0.342940</td>\n",
       "      <td>0.341100</td>\n",
       "      <td>0.339260</td>\n",
       "      <td>0.337430</td>\n",
       "      <td>0.335600</td>\n",
       "      <td>0.333780</td>\n",
       "      <td>0.331960</td>\n",
       "      <td>-19.016880</td>\n",
       "      <td>29.353650</td>\n",
       "      <td>0.327325</td>\n",
       "    </tr>\n",
       "  </tbody>\n",
       "</table>\n",
       "<p>226 rows × 25 columns</p>\n",
       "</div>"
      ],
      "text/plain": [
       "     Country Name  WUP_per_cap_1990  WUP_per_cap_1991  WUP_per_cap_1992  \\\n",
       "0           Aruba          0.503194          0.503033          0.499978   \n",
       "1     Afghanistan          0.211770          0.212660          0.213550   \n",
       "2          Angola          0.371440          0.385800          0.400390   \n",
       "3         Albania          0.364280          0.367000          0.372490   \n",
       "4         Andorra          0.947128          0.945298          0.943248   \n",
       "..            ...               ...               ...               ...   \n",
       "258         Samoa          0.211999          0.211998          0.212581   \n",
       "259        Kosovo               NaN               NaN               NaN   \n",
       "261  South Africa          0.520370          0.525540          0.530380   \n",
       "262        Zambia          0.394070          0.389890          0.385140   \n",
       "263      Zimbabwe          0.289880          0.297380          0.304990   \n",
       "\n",
       "     WUP_per_cap_1993  WUP_per_cap_1994  WUP_per_cap_1995  WUP_per_cap_1996  \\\n",
       "0            0.495876          0.491773          0.487675          0.483558   \n",
       "1            0.214440          0.215340          0.216240          0.217140   \n",
       "2            0.415110          0.430000          0.441690          0.453460   \n",
       "3            0.377990          0.383540          0.389110          0.394730   \n",
       "4            0.941103          0.938893          0.936617          0.934245   \n",
       "..                ...               ...               ...               ...   \n",
       "258          0.213471          0.214359          0.215261          0.216160   \n",
       "259               NaN               NaN               NaN               NaN   \n",
       "261          0.535210          0.540040          0.544860          0.549670   \n",
       "262          0.380420          0.375720          0.371040          0.366380   \n",
       "263          0.309400          0.313350          0.317320          0.321320   \n",
       "\n",
       "     WUP_per_cap_1997  WUP_per_cap_1998  ...  WUP_per_cap_2004  \\\n",
       "0            0.479456          0.475360  ...          0.452404   \n",
       "1            0.218050          0.218950  ...          0.225000   \n",
       "2            0.465250          0.477100  ...          0.548270   \n",
       "3            0.400350          0.406010  ...          0.456510   \n",
       "4            0.931802          0.929266  ...          0.907507   \n",
       "..                ...               ...  ...               ...   \n",
       "258          0.217048          0.217960  ...          0.214570   \n",
       "259               NaN               NaN  ...               NaN   \n",
       "261          0.554490          0.559300  ...          0.589930   \n",
       "262          0.361760          0.357160  ...          0.364300   \n",
       "263          0.325340          0.329390  ...          0.342940   \n",
       "\n",
       "     WUP_per_cap_2005  WUP_per_cap_2006  WUP_per_cap_2007  WUP_per_cap_2008  \\\n",
       "0            0.448751          0.445108          0.441465          0.437834   \n",
       "1            0.227030          0.229070          0.231130          0.233200   \n",
       "2            0.560000          0.567640          0.575240          0.582820   \n",
       "3            0.467310          0.478150          0.489020          0.499910   \n",
       "4            0.902849          0.898065          0.893075          0.890046   \n",
       "..                ...               ...               ...               ...   \n",
       "258          0.212177          0.209812          0.207502          0.205241   \n",
       "259               NaN               NaN               NaN               NaN   \n",
       "261          0.595360          0.600770          0.606160          0.611540   \n",
       "262          0.369110          0.373950          0.378810          0.383710   \n",
       "263          0.341100          0.339260          0.337430          0.335600   \n",
       "\n",
       "     WUP_per_cap_2009  WUP_per_cap_2010        lat         lng  \\\n",
       "0            0.434212          0.430593  12.490300  -69.960984   \n",
       "1            0.235280          0.237370  33.768006   66.238514   \n",
       "2            0.590340          0.597830 -11.877577   17.569124   \n",
       "3            0.510760          0.521630  41.000028   19.999962   \n",
       "4            0.889123          0.888193  42.540717    1.573203   \n",
       "..                ...               ...        ...         ...   \n",
       "258          0.203001          0.200781 -13.769390 -172.120051   \n",
       "259               NaN               NaN  42.586958   20.902123   \n",
       "261          0.616870          0.622180 -28.816624   24.991639   \n",
       "262          0.388610          0.393550 -14.518912   27.558988   \n",
       "263          0.333780          0.331960 -19.016880   29.353650   \n",
       "\n",
       "     mean_per_capita  \n",
       "0           0.467995  \n",
       "1           0.222128  \n",
       "2           0.496477  \n",
       "3           0.429190  \n",
       "4           0.919814  \n",
       "..               ...  \n",
       "258         0.213315  \n",
       "259              NaN  \n",
       "261         0.570134  \n",
       "262         0.371357  \n",
       "263         0.327325  \n",
       "\n",
       "[226 rows x 25 columns]"
      ]
     },
     "execution_count": 37,
     "metadata": {},
     "output_type": "execute_result"
    }
   ],
   "source": [
    "#calculate the mean per capita for each country \n",
    "df['mean_per_capita'] = df.iloc[:,1:22].mean(axis=1)\n",
    "df"
   ]
  },
  {
   "cell_type": "markdown",
   "id": "4e241ebe",
   "metadata": {},
   "source": [
    "Plot the mean per capita and hover over each counrty to view the value of its mean per capita"
   ]
  },
  {
   "cell_type": "code",
   "execution_count": 38,
   "id": "95981a8c",
   "metadata": {
    "scrolled": false
   },
   "outputs": [
    {
     "data": {
      "application/vnd.plotly.v1+json": {
       "config": {
        "linkText": "Export to plot.ly",
        "plotlyServerURL": "https://plot.ly",
        "showLink": false
       },
       "data": [
        {
         "colorbar": {
          "title": {
           "text": "Mean per Capita"
          }
         },
         "colorscale": [
          [
           0,
           "#440154"
          ],
          [
           0.1111111111111111,
           "#482878"
          ],
          [
           0.2222222222222222,
           "#3e4989"
          ],
          [
           0.3333333333333333,
           "#31688e"
          ],
          [
           0.4444444444444444,
           "#26828e"
          ],
          [
           0.5555555555555556,
           "#1f9e89"
          ],
          [
           0.6666666666666666,
           "#35b779"
          ],
          [
           0.7777777777777778,
           "#6ece58"
          ],
          [
           0.8888888888888888,
           "#b5de2b"
          ],
          [
           1,
           "#fde725"
          ]
         ],
         "locationmode": "country names",
         "locations": [
          "Aruba",
          "Afghanistan",
          "Angola",
          "Albania",
          "Andorra",
          "Arab World",
          "United Arab Emirates",
          "Argentina",
          "Armenia",
          "American Samoa",
          "Antigua and Barbuda",
          "Australia",
          "Austria",
          "Azerbaijan",
          "Burundi",
          "Belgium",
          "Benin",
          "Burkina Faso",
          "Bangladesh",
          "Bulgaria",
          "Bahrain",
          "Bahamas, The",
          "Bosnia and Herzegovina",
          "Belarus",
          "Belize",
          "Bermuda",
          "Bolivia",
          "Brazil",
          "Barbados",
          "Brunei Darussalam",
          "Bhutan",
          "Botswana",
          "Central African Republic",
          "Canada",
          "Switzerland",
          "Channel Islands",
          "Chile",
          "China",
          "Cote d'Ivoire",
          "Cameroon",
          "Colombia",
          "Comoros",
          "Cabo Verde",
          "Costa Rica",
          "Cuba",
          "Curacao",
          "Cayman Islands",
          "Cyprus",
          "Czech Republic",
          "Germany",
          "Djibouti",
          "Dominica",
          "Denmark",
          "Dominican Republic",
          "Algeria",
          "East Asia & Pacific",
          "Europe & Central Asia",
          "Ecuador",
          "Euro area",
          "Eritrea",
          "Spain",
          "Estonia",
          "Ethiopia",
          "European Union",
          "Finland",
          "Fiji",
          "France",
          "Faroe Islands",
          "Gabon",
          "United Kingdom",
          "Georgia",
          "Ghana",
          "Gibraltar",
          "Guinea",
          "Gambia, The",
          "Guinea-Bissau",
          "Equatorial Guinea",
          "Greece",
          "Grenada",
          "Greenland",
          "Guatemala",
          "Guam",
          "Guyana",
          "High income",
          "Hong Kong SAR, China",
          "Honduras",
          "Croatia",
          "Haiti",
          "Hungary",
          "IDA total",
          "IDA blend",
          "Indonesia",
          "IDA only",
          "Isle of Man",
          "India",
          "Ireland",
          "Iraq",
          "Iceland",
          "Israel",
          "Italy",
          "Jamaica",
          "Jordan",
          "Japan",
          "Kazakhstan",
          "Kenya",
          "Kyrgyz Republic",
          "Cambodia",
          "Kiribati",
          "St. Kitts and Nevis",
          "Kuwait",
          "Lao PDR",
          "Lebanon",
          "Liberia",
          "Libya",
          "St. Lucia",
          "Latin America & Caribbean",
          "Low income",
          "Liechtenstein",
          "Sri Lanka",
          "Lesotho",
          "Lithuania",
          "Luxembourg",
          "Latvia",
          "Macao SAR, China",
          "St. Martin (French part)",
          "Morocco",
          "Monaco",
          "Moldova",
          "Madagascar",
          "Maldives",
          "Middle East & North Africa",
          "Mexico",
          "Marshall Islands",
          "Middle income",
          "North Macedonia",
          "Mali",
          "Malta",
          "Myanmar",
          "Montenegro",
          "Mongolia",
          "Northern Mariana Islands",
          "Mozambique",
          "Mauritania",
          "Mauritius",
          "Malawi",
          "Malaysia",
          "North America",
          "Namibia",
          "New Caledonia",
          "Niger",
          "Nigeria",
          "Nicaragua",
          "Netherlands",
          "Norway",
          "Nepal",
          "Nauru",
          "New Zealand",
          "Oman",
          "Pakistan",
          "Panama",
          "Peru",
          "Philippines",
          "Palau",
          "Papua New Guinea",
          "Poland",
          "Puerto Rico",
          "Portugal",
          "Paraguay",
          "West Bank and Gaza",
          "French Polynesia",
          "Qatar",
          "Romania",
          "Russian Federation",
          "Rwanda",
          "South Asia",
          "Saudi Arabia",
          "Sudan",
          "Senegal",
          "Singapore",
          "Solomon Islands",
          "Sierra Leone",
          "El Salvador",
          "San Marino",
          "Somalia",
          "Serbia",
          "South Sudan",
          "Small states",
          "Sao Tome and Principe",
          "Suriname",
          "Slovak Republic",
          "Slovenia",
          "Sweden",
          "Eswatini",
          "Sint Maarten (Dutch part)",
          "Seychelles",
          "Syrian Arab Republic",
          "Turks and Caicos Islands",
          "Chad",
          "Togo",
          "Thailand",
          "Tajikistan",
          "Turkmenistan",
          "Timor-Leste",
          "Tonga",
          "Trinidad and Tobago",
          "Tunisia",
          "Turkey",
          "Tuvalu",
          "Tanzania",
          "Uganda",
          "Ukraine",
          "Uruguay",
          "United States",
          "Uzbekistan",
          "St. Vincent and the Grenadines",
          "Venezuela, RB",
          "British Virgin Islands",
          "Virgin Islands (U.S.)",
          "Vietnam",
          "Vanuatu",
          "World",
          "Samoa",
          "Kosovo",
          "South Africa",
          "Zambia",
          "Zimbabwe"
         ],
         "text": [
          "Aruba",
          "Afghanistan",
          "Angola",
          "Albania",
          "Andorra",
          "Arab World",
          "United Arab Emirates",
          "Argentina",
          "Armenia",
          "American Samoa",
          "Antigua and Barbuda",
          "Australia",
          "Austria",
          "Azerbaijan",
          "Burundi",
          "Belgium",
          "Benin",
          "Burkina Faso",
          "Bangladesh",
          "Bulgaria",
          "Bahrain",
          "Bahamas, The",
          "Bosnia and Herzegovina",
          "Belarus",
          "Belize",
          "Bermuda",
          "Bolivia",
          "Brazil",
          "Barbados",
          "Brunei Darussalam",
          "Bhutan",
          "Botswana",
          "Central African Republic",
          "Canada",
          "Switzerland",
          "Channel Islands",
          "Chile",
          "China",
          "Cote d'Ivoire",
          "Cameroon",
          "Colombia",
          "Comoros",
          "Cabo Verde",
          "Costa Rica",
          "Cuba",
          "Curacao",
          "Cayman Islands",
          "Cyprus",
          "Czech Republic",
          "Germany",
          "Djibouti",
          "Dominica",
          "Denmark",
          "Dominican Republic",
          "Algeria",
          "East Asia & Pacific",
          "Europe & Central Asia",
          "Ecuador",
          "Euro area",
          "Eritrea",
          "Spain",
          "Estonia",
          "Ethiopia",
          "European Union",
          "Finland",
          "Fiji",
          "France",
          "Faroe Islands",
          "Gabon",
          "United Kingdom",
          "Georgia",
          "Ghana",
          "Gibraltar",
          "Guinea",
          "Gambia, The",
          "Guinea-Bissau",
          "Equatorial Guinea",
          "Greece",
          "Grenada",
          "Greenland",
          "Guatemala",
          "Guam",
          "Guyana",
          "High income",
          "Hong Kong SAR, China",
          "Honduras",
          "Croatia",
          "Haiti",
          "Hungary",
          "IDA total",
          "IDA blend",
          "Indonesia",
          "IDA only",
          "Isle of Man",
          "India",
          "Ireland",
          "Iraq",
          "Iceland",
          "Israel",
          "Italy",
          "Jamaica",
          "Jordan",
          "Japan",
          "Kazakhstan",
          "Kenya",
          "Kyrgyz Republic",
          "Cambodia",
          "Kiribati",
          "St. Kitts and Nevis",
          "Kuwait",
          "Lao PDR",
          "Lebanon",
          "Liberia",
          "Libya",
          "St. Lucia",
          "Latin America & Caribbean",
          "Low income",
          "Liechtenstein",
          "Sri Lanka",
          "Lesotho",
          "Lithuania",
          "Luxembourg",
          "Latvia",
          "Macao SAR, China",
          "St. Martin (French part)",
          "Morocco",
          "Monaco",
          "Moldova",
          "Madagascar",
          "Maldives",
          "Middle East & North Africa",
          "Mexico",
          "Marshall Islands",
          "Middle income",
          "North Macedonia",
          "Mali",
          "Malta",
          "Myanmar",
          "Montenegro",
          "Mongolia",
          "Northern Mariana Islands",
          "Mozambique",
          "Mauritania",
          "Mauritius",
          "Malawi",
          "Malaysia",
          "North America",
          "Namibia",
          "New Caledonia",
          "Niger",
          "Nigeria",
          "Nicaragua",
          "Netherlands",
          "Norway",
          "Nepal",
          "Nauru",
          "New Zealand",
          "Oman",
          "Pakistan",
          "Panama",
          "Peru",
          "Philippines",
          "Palau",
          "Papua New Guinea",
          "Poland",
          "Puerto Rico",
          "Portugal",
          "Paraguay",
          "West Bank and Gaza",
          "French Polynesia",
          "Qatar",
          "Romania",
          "Russian Federation",
          "Rwanda",
          "South Asia",
          "Saudi Arabia",
          "Sudan",
          "Senegal",
          "Singapore",
          "Solomon Islands",
          "Sierra Leone",
          "El Salvador",
          "San Marino",
          "Somalia",
          "Serbia",
          "South Sudan",
          "Small states",
          "Sao Tome and Principe",
          "Suriname",
          "Slovak Republic",
          "Slovenia",
          "Sweden",
          "Eswatini",
          "Sint Maarten (Dutch part)",
          "Seychelles",
          "Syrian Arab Republic",
          "Turks and Caicos Islands",
          "Chad",
          "Togo",
          "Thailand",
          "Tajikistan",
          "Turkmenistan",
          "Timor-Leste",
          "Tonga",
          "Trinidad and Tobago",
          "Tunisia",
          "Turkey",
          "Tuvalu",
          "Tanzania",
          "Uganda",
          "Ukraine",
          "Uruguay",
          "United States",
          "Uzbekistan",
          "St. Vincent and the Grenadines",
          "Venezuela, RB",
          "British Virgin Islands",
          "Virgin Islands (U.S.)",
          "Vietnam",
          "Vanuatu",
          "World",
          "Samoa",
          "Kosovo",
          "South Africa",
          "Zambia",
          "Zimbabwe"
         ],
         "type": "choropleth",
         "z": [
          0.46799456132939143,
          0.2221280919467125,
          0.49647714235019885,
          0.4291895391055568,
          0.919814451420625,
          0.5315027650911044,
          0.8062790433448237,
          0.8907452393128727,
          0.6502381062012402,
          0.865002697865321,
          0.31556727826975955,
          0.8476833334857584,
          0.6020061842835622,
          0.523859529495944,
          0.083207148243772,
          0.9708038116774459,
          0.38645524034785744,
          0.1844142757700243,
          0.24327333347382163,
          0.6916999969030331,
          0.8840787291003094,
          0.8156287965741986,
          0.42393714531479665,
          0.7014138058605701,
          0.4589241227117727,
          1,
          0.6157628561539393,
          0.8015614285063095,
          0.3422844462818545,
          0.7088666807721398,
          0.25584801435305227,
          0.5275737488107105,
          0.3769619342071032,
          0.7898285706058419,
          0.7357638106964088,
          0.3075008297216276,
          0.8562819028310192,
          0.36815333333832506,
          0.43233285443917896,
          0.45565095583273224,
          0.7387233081319843,
          0.2808630266923689,
          0.5320888125498557,
          0.6010138192720385,
          0.7519442973178231,
          0.8897787041236469,
          1,
          0.6805795098164474,
          0.74126000676046,
          0.7497019049413991,
          0.7652571042889426,
          0.6568039992091526,
          0.8544104761501582,
          0.6274409434930117,
          0.5989180973059443,
          0.42187584540433193,
          0.6882022339758456,
          0.5967557117933366,
          0.7309496353274997,
          0.2684809838700457,
          0.7657714274825906,
          0.6952257148686277,
          0.14790237982828197,
          0.7101618796717559,
          0.8189580958384178,
          0.4753205814510005,
          0.7603099994994261,
          0.36536472689412847,
          0.7840532258272648,
          0.7916238117626894,
          0.5383557323946754,
          0.43727999421135844,
          1,
          0.3086319073876402,
          0.4758685693252709,
          0.36167816109602446,
          0.49408243539303165,
          0.7330904752828237,
          0.3515704353016985,
          0.8188197112686424,
          0.4527528542509359,
          0.9280781516663917,
          0.2844580742829866,
          0.7644474873115337,
          0.9996800016302029,
          0.4579085731666793,
          0.5328366514539635,
          0.3741928570821255,
          0.6592471446264253,
          0.291401702489907,
          0.3411826424694815,
          0.4100947615608545,
          0.2664750881235433,
          0.5184469699346964,
          0.2794385713779963,
          0.5919823780078998,
          0.6884661920444527,
          0.9231280692897064,
          0.9116809549017663,
          0.6734528565262708,
          0.5170595388359318,
          0.7894885447730507,
          0.8184147611776159,
          0.5625461908401842,
          0.19995999908216827,
          0.3586857340935622,
          0.18231189538388437,
          0.4100289490578224,
          0.3287738441657888,
          0.992991654259272,
          0.22310572656364047,
          0.8567642670347573,
          0.4742457292152995,
          0.7658509518580845,
          0.258672341088516,
          0.7507867931666116,
          0.2751922296961777,
          0.155159304782395,
          0.1838047614122142,
          0.19527186882124536,
          0.6703942798627315,
          0.845048375273468,
          0.6831414158944917,
          0.9995499376530953,
          null,
          0.5335742871356325,
          1,
          0.4460390421083454,
          0.2739428508061956,
          0.29649330115051753,
          0.5865056423815433,
          0.7475395236182498,
          0.6894309829743026,
          0.4162620873017426,
          0.5828294747466971,
          0.2888876202090681,
          0.9230060462747205,
          0.27039381014258634,
          0.5763972051026973,
          0.5976575754770036,
          0.9016019301442265,
          0.2873604774839017,
          0.40547762174036045,
          0.4269961046856302,
          0.14123475428125623,
          0.6108119069991599,
          0.7860069999667013,
          0.3334542812238754,
          0.6240127308798514,
          0.15996334696210437,
          0.3570719039139536,
          0.5513366583198769,
          0.7755723822378506,
          0.7572557056986261,
          0.13046190409567227,
          1,
          0.8584828495283777,
          0.7166495294670914,
          0.3289857143225014,
          0.608323328848819,
          0.7293785698224384,
          0.46137380925486143,
          0.7119857737740949,
          0.13618238480505399,
          0.6144038074503462,
          0.9388614399931354,
          0.5430899957801564,
          0.5478976077473022,
          0.7155366654274419,
          0.5727066043451501,
          0.9609952003331866,
          0.5344223784939262,
          0.7342947615139345,
          0.13184095229027562,
          0.2764684079119736,
          0.7974861943280489,
          0.3218995226802736,
          0.4073347589758707,
          1,
          0.1630052240291504,
          0.357615701629579,
          0.5789624064589156,
          0.931085644988997,
          0.33546190692830363,
          0.5275990408104974,
          0.16335382431925763,
          0.4932768761118641,
          0.5390120158817941,
          0.6630546291288981,
          0.5601437957325274,
          0.5111166708327362,
          0.8405833248372171,
          0.22079290823142123,
          1,
          0.5075262019966831,
          0.5202390464823227,
          0.8363672713913036,
          0.21592570918692242,
          0.3296319054175288,
          0.3401823796229621,
          0.27778237897628566,
          0.46143428069114883,
          0.24283962898139094,
          0.23018303129711457,
          0.5495766293910591,
          0.6312804771450491,
          0.6496023809116641,
          0.46912514410781275,
          0.227874763549499,
          0.1495547638081279,
          0.6739433320991048,
          0.9189923747078014,
          0.7855395243501752,
          0.4613814355382849,
          0.4520892039420855,
          0.8692595237276114,
          0.41772341087908,
          0.9194841712594515,
          0.24786285732657562,
          0.21637613498942837,
          0.4699648920436103,
          0.21331512603954667,
          null,
          0.5701338082393338,
          0.3713571491105,
          0.32732523598863894
         ]
        }
       ],
       "layout": {
        "geo": {
         "projection": {
          "type": "mercator"
         }
        },
        "template": {
         "data": {
          "bar": [
           {
            "error_x": {
             "color": "#2a3f5f"
            },
            "error_y": {
             "color": "#2a3f5f"
            },
            "marker": {
             "line": {
              "color": "#E5ECF6",
              "width": 0.5
             }
            },
            "type": "bar"
           }
          ],
          "barpolar": [
           {
            "marker": {
             "line": {
              "color": "#E5ECF6",
              "width": 0.5
             }
            },
            "type": "barpolar"
           }
          ],
          "carpet": [
           {
            "aaxis": {
             "endlinecolor": "#2a3f5f",
             "gridcolor": "white",
             "linecolor": "white",
             "minorgridcolor": "white",
             "startlinecolor": "#2a3f5f"
            },
            "baxis": {
             "endlinecolor": "#2a3f5f",
             "gridcolor": "white",
             "linecolor": "white",
             "minorgridcolor": "white",
             "startlinecolor": "#2a3f5f"
            },
            "type": "carpet"
           }
          ],
          "choropleth": [
           {
            "colorbar": {
             "outlinewidth": 0,
             "ticks": ""
            },
            "type": "choropleth"
           }
          ],
          "contour": [
           {
            "colorbar": {
             "outlinewidth": 0,
             "ticks": ""
            },
            "colorscale": [
             [
              0,
              "#0d0887"
             ],
             [
              0.1111111111111111,
              "#46039f"
             ],
             [
              0.2222222222222222,
              "#7201a8"
             ],
             [
              0.3333333333333333,
              "#9c179e"
             ],
             [
              0.4444444444444444,
              "#bd3786"
             ],
             [
              0.5555555555555556,
              "#d8576b"
             ],
             [
              0.6666666666666666,
              "#ed7953"
             ],
             [
              0.7777777777777778,
              "#fb9f3a"
             ],
             [
              0.8888888888888888,
              "#fdca26"
             ],
             [
              1,
              "#f0f921"
             ]
            ],
            "type": "contour"
           }
          ],
          "contourcarpet": [
           {
            "colorbar": {
             "outlinewidth": 0,
             "ticks": ""
            },
            "type": "contourcarpet"
           }
          ],
          "heatmap": [
           {
            "colorbar": {
             "outlinewidth": 0,
             "ticks": ""
            },
            "colorscale": [
             [
              0,
              "#0d0887"
             ],
             [
              0.1111111111111111,
              "#46039f"
             ],
             [
              0.2222222222222222,
              "#7201a8"
             ],
             [
              0.3333333333333333,
              "#9c179e"
             ],
             [
              0.4444444444444444,
              "#bd3786"
             ],
             [
              0.5555555555555556,
              "#d8576b"
             ],
             [
              0.6666666666666666,
              "#ed7953"
             ],
             [
              0.7777777777777778,
              "#fb9f3a"
             ],
             [
              0.8888888888888888,
              "#fdca26"
             ],
             [
              1,
              "#f0f921"
             ]
            ],
            "type": "heatmap"
           }
          ],
          "heatmapgl": [
           {
            "colorbar": {
             "outlinewidth": 0,
             "ticks": ""
            },
            "colorscale": [
             [
              0,
              "#0d0887"
             ],
             [
              0.1111111111111111,
              "#46039f"
             ],
             [
              0.2222222222222222,
              "#7201a8"
             ],
             [
              0.3333333333333333,
              "#9c179e"
             ],
             [
              0.4444444444444444,
              "#bd3786"
             ],
             [
              0.5555555555555556,
              "#d8576b"
             ],
             [
              0.6666666666666666,
              "#ed7953"
             ],
             [
              0.7777777777777778,
              "#fb9f3a"
             ],
             [
              0.8888888888888888,
              "#fdca26"
             ],
             [
              1,
              "#f0f921"
             ]
            ],
            "type": "heatmapgl"
           }
          ],
          "histogram": [
           {
            "marker": {
             "colorbar": {
              "outlinewidth": 0,
              "ticks": ""
             }
            },
            "type": "histogram"
           }
          ],
          "histogram2d": [
           {
            "colorbar": {
             "outlinewidth": 0,
             "ticks": ""
            },
            "colorscale": [
             [
              0,
              "#0d0887"
             ],
             [
              0.1111111111111111,
              "#46039f"
             ],
             [
              0.2222222222222222,
              "#7201a8"
             ],
             [
              0.3333333333333333,
              "#9c179e"
             ],
             [
              0.4444444444444444,
              "#bd3786"
             ],
             [
              0.5555555555555556,
              "#d8576b"
             ],
             [
              0.6666666666666666,
              "#ed7953"
             ],
             [
              0.7777777777777778,
              "#fb9f3a"
             ],
             [
              0.8888888888888888,
              "#fdca26"
             ],
             [
              1,
              "#f0f921"
             ]
            ],
            "type": "histogram2d"
           }
          ],
          "histogram2dcontour": [
           {
            "colorbar": {
             "outlinewidth": 0,
             "ticks": ""
            },
            "colorscale": [
             [
              0,
              "#0d0887"
             ],
             [
              0.1111111111111111,
              "#46039f"
             ],
             [
              0.2222222222222222,
              "#7201a8"
             ],
             [
              0.3333333333333333,
              "#9c179e"
             ],
             [
              0.4444444444444444,
              "#bd3786"
             ],
             [
              0.5555555555555556,
              "#d8576b"
             ],
             [
              0.6666666666666666,
              "#ed7953"
             ],
             [
              0.7777777777777778,
              "#fb9f3a"
             ],
             [
              0.8888888888888888,
              "#fdca26"
             ],
             [
              1,
              "#f0f921"
             ]
            ],
            "type": "histogram2dcontour"
           }
          ],
          "mesh3d": [
           {
            "colorbar": {
             "outlinewidth": 0,
             "ticks": ""
            },
            "type": "mesh3d"
           }
          ],
          "parcoords": [
           {
            "line": {
             "colorbar": {
              "outlinewidth": 0,
              "ticks": ""
             }
            },
            "type": "parcoords"
           }
          ],
          "pie": [
           {
            "automargin": true,
            "type": "pie"
           }
          ],
          "scatter": [
           {
            "marker": {
             "colorbar": {
              "outlinewidth": 0,
              "ticks": ""
             }
            },
            "type": "scatter"
           }
          ],
          "scatter3d": [
           {
            "line": {
             "colorbar": {
              "outlinewidth": 0,
              "ticks": ""
             }
            },
            "marker": {
             "colorbar": {
              "outlinewidth": 0,
              "ticks": ""
             }
            },
            "type": "scatter3d"
           }
          ],
          "scattercarpet": [
           {
            "marker": {
             "colorbar": {
              "outlinewidth": 0,
              "ticks": ""
             }
            },
            "type": "scattercarpet"
           }
          ],
          "scattergeo": [
           {
            "marker": {
             "colorbar": {
              "outlinewidth": 0,
              "ticks": ""
             }
            },
            "type": "scattergeo"
           }
          ],
          "scattergl": [
           {
            "marker": {
             "colorbar": {
              "outlinewidth": 0,
              "ticks": ""
             }
            },
            "type": "scattergl"
           }
          ],
          "scattermapbox": [
           {
            "marker": {
             "colorbar": {
              "outlinewidth": 0,
              "ticks": ""
             }
            },
            "type": "scattermapbox"
           }
          ],
          "scatterpolar": [
           {
            "marker": {
             "colorbar": {
              "outlinewidth": 0,
              "ticks": ""
             }
            },
            "type": "scatterpolar"
           }
          ],
          "scatterpolargl": [
           {
            "marker": {
             "colorbar": {
              "outlinewidth": 0,
              "ticks": ""
             }
            },
            "type": "scatterpolargl"
           }
          ],
          "scatterternary": [
           {
            "marker": {
             "colorbar": {
              "outlinewidth": 0,
              "ticks": ""
             }
            },
            "type": "scatterternary"
           }
          ],
          "surface": [
           {
            "colorbar": {
             "outlinewidth": 0,
             "ticks": ""
            },
            "colorscale": [
             [
              0,
              "#0d0887"
             ],
             [
              0.1111111111111111,
              "#46039f"
             ],
             [
              0.2222222222222222,
              "#7201a8"
             ],
             [
              0.3333333333333333,
              "#9c179e"
             ],
             [
              0.4444444444444444,
              "#bd3786"
             ],
             [
              0.5555555555555556,
              "#d8576b"
             ],
             [
              0.6666666666666666,
              "#ed7953"
             ],
             [
              0.7777777777777778,
              "#fb9f3a"
             ],
             [
              0.8888888888888888,
              "#fdca26"
             ],
             [
              1,
              "#f0f921"
             ]
            ],
            "type": "surface"
           }
          ],
          "table": [
           {
            "cells": {
             "fill": {
              "color": "#EBF0F8"
             },
             "line": {
              "color": "white"
             }
            },
            "header": {
             "fill": {
              "color": "#C8D4E3"
             },
             "line": {
              "color": "white"
             }
            },
            "type": "table"
           }
          ]
         },
         "layout": {
          "annotationdefaults": {
           "arrowcolor": "#2a3f5f",
           "arrowhead": 0,
           "arrowwidth": 1
          },
          "autotypenumbers": "strict",
          "coloraxis": {
           "colorbar": {
            "outlinewidth": 0,
            "ticks": ""
           }
          },
          "colorscale": {
           "diverging": [
            [
             0,
             "#8e0152"
            ],
            [
             0.1,
             "#c51b7d"
            ],
            [
             0.2,
             "#de77ae"
            ],
            [
             0.3,
             "#f1b6da"
            ],
            [
             0.4,
             "#fde0ef"
            ],
            [
             0.5,
             "#f7f7f7"
            ],
            [
             0.6,
             "#e6f5d0"
            ],
            [
             0.7,
             "#b8e186"
            ],
            [
             0.8,
             "#7fbc41"
            ],
            [
             0.9,
             "#4d9221"
            ],
            [
             1,
             "#276419"
            ]
           ],
           "sequential": [
            [
             0,
             "#0d0887"
            ],
            [
             0.1111111111111111,
             "#46039f"
            ],
            [
             0.2222222222222222,
             "#7201a8"
            ],
            [
             0.3333333333333333,
             "#9c179e"
            ],
            [
             0.4444444444444444,
             "#bd3786"
            ],
            [
             0.5555555555555556,
             "#d8576b"
            ],
            [
             0.6666666666666666,
             "#ed7953"
            ],
            [
             0.7777777777777778,
             "#fb9f3a"
            ],
            [
             0.8888888888888888,
             "#fdca26"
            ],
            [
             1,
             "#f0f921"
            ]
           ],
           "sequentialminus": [
            [
             0,
             "#0d0887"
            ],
            [
             0.1111111111111111,
             "#46039f"
            ],
            [
             0.2222222222222222,
             "#7201a8"
            ],
            [
             0.3333333333333333,
             "#9c179e"
            ],
            [
             0.4444444444444444,
             "#bd3786"
            ],
            [
             0.5555555555555556,
             "#d8576b"
            ],
            [
             0.6666666666666666,
             "#ed7953"
            ],
            [
             0.7777777777777778,
             "#fb9f3a"
            ],
            [
             0.8888888888888888,
             "#fdca26"
            ],
            [
             1,
             "#f0f921"
            ]
           ]
          },
          "colorway": [
           "#636efa",
           "#EF553B",
           "#00cc96",
           "#ab63fa",
           "#FFA15A",
           "#19d3f3",
           "#FF6692",
           "#B6E880",
           "#FF97FF",
           "#FECB52"
          ],
          "font": {
           "color": "#2a3f5f"
          },
          "geo": {
           "bgcolor": "white",
           "lakecolor": "white",
           "landcolor": "#E5ECF6",
           "showlakes": true,
           "showland": true,
           "subunitcolor": "white"
          },
          "hoverlabel": {
           "align": "left"
          },
          "hovermode": "closest",
          "mapbox": {
           "style": "light"
          },
          "paper_bgcolor": "white",
          "plot_bgcolor": "#E5ECF6",
          "polar": {
           "angularaxis": {
            "gridcolor": "white",
            "linecolor": "white",
            "ticks": ""
           },
           "bgcolor": "#E5ECF6",
           "radialaxis": {
            "gridcolor": "white",
            "linecolor": "white",
            "ticks": ""
           }
          },
          "scene": {
           "xaxis": {
            "backgroundcolor": "#E5ECF6",
            "gridcolor": "white",
            "gridwidth": 2,
            "linecolor": "white",
            "showbackground": true,
            "ticks": "",
            "zerolinecolor": "white"
           },
           "yaxis": {
            "backgroundcolor": "#E5ECF6",
            "gridcolor": "white",
            "gridwidth": 2,
            "linecolor": "white",
            "showbackground": true,
            "ticks": "",
            "zerolinecolor": "white"
           },
           "zaxis": {
            "backgroundcolor": "#E5ECF6",
            "gridcolor": "white",
            "gridwidth": 2,
            "linecolor": "white",
            "showbackground": true,
            "ticks": "",
            "zerolinecolor": "white"
           }
          },
          "shapedefaults": {
           "line": {
            "color": "#2a3f5f"
           }
          },
          "ternary": {
           "aaxis": {
            "gridcolor": "white",
            "linecolor": "white",
            "ticks": ""
           },
           "baxis": {
            "gridcolor": "white",
            "linecolor": "white",
            "ticks": ""
           },
           "bgcolor": "#E5ECF6",
           "caxis": {
            "gridcolor": "white",
            "linecolor": "white",
            "ticks": ""
           }
          },
          "title": {
           "x": 0.05
          },
          "xaxis": {
           "automargin": true,
           "gridcolor": "white",
           "linecolor": "white",
           "ticks": "",
           "title": {
            "standoff": 15
           },
           "zerolinecolor": "white",
           "zerolinewidth": 2
          },
          "yaxis": {
           "automargin": true,
           "gridcolor": "white",
           "linecolor": "white",
           "ticks": "",
           "title": {
            "standoff": 15
           },
           "zerolinecolor": "white",
           "zerolinewidth": 2
          }
         }
        },
        "title": {
         "text": "Mean per Capita World Urban Population from 1990 to 2010"
        }
       }
      },
      "text/html": [
       "<div>                            <div id=\"d087ec69-1083-4878-8bc7-1082369a5cce\" class=\"plotly-graph-div\" style=\"height:525px; width:100%;\"></div>            <script type=\"text/javascript\">                require([\"plotly\"], function(Plotly) {                    window.PLOTLYENV=window.PLOTLYENV || {};                                    if (document.getElementById(\"d087ec69-1083-4878-8bc7-1082369a5cce\")) {                    Plotly.newPlot(                        \"d087ec69-1083-4878-8bc7-1082369a5cce\",                        [{\"colorbar\": {\"title\": {\"text\": \"Mean per Capita\"}}, \"colorscale\": [[0.0, \"#440154\"], [0.1111111111111111, \"#482878\"], [0.2222222222222222, \"#3e4989\"], [0.3333333333333333, \"#31688e\"], [0.4444444444444444, \"#26828e\"], [0.5555555555555556, \"#1f9e89\"], [0.6666666666666666, \"#35b779\"], [0.7777777777777778, \"#6ece58\"], [0.8888888888888888, \"#b5de2b\"], [1.0, \"#fde725\"]], \"locationmode\": \"country names\", \"locations\": [\"Aruba\", \"Afghanistan\", \"Angola\", \"Albania\", \"Andorra\", \"Arab World\", \"United Arab Emirates\", \"Argentina\", \"Armenia\", \"American Samoa\", \"Antigua and Barbuda\", \"Australia\", \"Austria\", \"Azerbaijan\", \"Burundi\", \"Belgium\", \"Benin\", \"Burkina Faso\", \"Bangladesh\", \"Bulgaria\", \"Bahrain\", \"Bahamas, The\", \"Bosnia and Herzegovina\", \"Belarus\", \"Belize\", \"Bermuda\", \"Bolivia\", \"Brazil\", \"Barbados\", \"Brunei Darussalam\", \"Bhutan\", \"Botswana\", \"Central African Republic\", \"Canada\", \"Switzerland\", \"Channel Islands\", \"Chile\", \"China\", \"Cote d'Ivoire\", \"Cameroon\", \"Colombia\", \"Comoros\", \"Cabo Verde\", \"Costa Rica\", \"Cuba\", \"Curacao\", \"Cayman Islands\", \"Cyprus\", \"Czech Republic\", \"Germany\", \"Djibouti\", \"Dominica\", \"Denmark\", \"Dominican Republic\", \"Algeria\", \"East Asia & Pacific\", \"Europe & Central Asia\", \"Ecuador\", \"Euro area\", \"Eritrea\", \"Spain\", \"Estonia\", \"Ethiopia\", \"European Union\", \"Finland\", \"Fiji\", \"France\", \"Faroe Islands\", \"Gabon\", \"United Kingdom\", \"Georgia\", \"Ghana\", \"Gibraltar\", \"Guinea\", \"Gambia, The\", \"Guinea-Bissau\", \"Equatorial Guinea\", \"Greece\", \"Grenada\", \"Greenland\", \"Guatemala\", \"Guam\", \"Guyana\", \"High income\", \"Hong Kong SAR, China\", \"Honduras\", \"Croatia\", \"Haiti\", \"Hungary\", \"IDA total\", \"IDA blend\", \"Indonesia\", \"IDA only\", \"Isle of Man\", \"India\", \"Ireland\", \"Iraq\", \"Iceland\", \"Israel\", \"Italy\", \"Jamaica\", \"Jordan\", \"Japan\", \"Kazakhstan\", \"Kenya\", \"Kyrgyz Republic\", \"Cambodia\", \"Kiribati\", \"St. Kitts and Nevis\", \"Kuwait\", \"Lao PDR\", \"Lebanon\", \"Liberia\", \"Libya\", \"St. Lucia\", \"Latin America & Caribbean\", \"Low income\", \"Liechtenstein\", \"Sri Lanka\", \"Lesotho\", \"Lithuania\", \"Luxembourg\", \"Latvia\", \"Macao SAR, China\", \"St. Martin (French part)\", \"Morocco\", \"Monaco\", \"Moldova\", \"Madagascar\", \"Maldives\", \"Middle East & North Africa\", \"Mexico\", \"Marshall Islands\", \"Middle income\", \"North Macedonia\", \"Mali\", \"Malta\", \"Myanmar\", \"Montenegro\", \"Mongolia\", \"Northern Mariana Islands\", \"Mozambique\", \"Mauritania\", \"Mauritius\", \"Malawi\", \"Malaysia\", \"North America\", \"Namibia\", \"New Caledonia\", \"Niger\", \"Nigeria\", \"Nicaragua\", \"Netherlands\", \"Norway\", \"Nepal\", \"Nauru\", \"New Zealand\", \"Oman\", \"Pakistan\", \"Panama\", \"Peru\", \"Philippines\", \"Palau\", \"Papua New Guinea\", \"Poland\", \"Puerto Rico\", \"Portugal\", \"Paraguay\", \"West Bank and Gaza\", \"French Polynesia\", \"Qatar\", \"Romania\", \"Russian Federation\", \"Rwanda\", \"South Asia\", \"Saudi Arabia\", \"Sudan\", \"Senegal\", \"Singapore\", \"Solomon Islands\", \"Sierra Leone\", \"El Salvador\", \"San Marino\", \"Somalia\", \"Serbia\", \"South Sudan\", \"Small states\", \"Sao Tome and Principe\", \"Suriname\", \"Slovak Republic\", \"Slovenia\", \"Sweden\", \"Eswatini\", \"Sint Maarten (Dutch part)\", \"Seychelles\", \"Syrian Arab Republic\", \"Turks and Caicos Islands\", \"Chad\", \"Togo\", \"Thailand\", \"Tajikistan\", \"Turkmenistan\", \"Timor-Leste\", \"Tonga\", \"Trinidad and Tobago\", \"Tunisia\", \"Turkey\", \"Tuvalu\", \"Tanzania\", \"Uganda\", \"Ukraine\", \"Uruguay\", \"United States\", \"Uzbekistan\", \"St. Vincent and the Grenadines\", \"Venezuela, RB\", \"British Virgin Islands\", \"Virgin Islands (U.S.)\", \"Vietnam\", \"Vanuatu\", \"World\", \"Samoa\", \"Kosovo\", \"South Africa\", \"Zambia\", \"Zimbabwe\"], \"text\": [\"Aruba\", \"Afghanistan\", \"Angola\", \"Albania\", \"Andorra\", \"Arab World\", \"United Arab Emirates\", \"Argentina\", \"Armenia\", \"American Samoa\", \"Antigua and Barbuda\", \"Australia\", \"Austria\", \"Azerbaijan\", \"Burundi\", \"Belgium\", \"Benin\", \"Burkina Faso\", \"Bangladesh\", \"Bulgaria\", \"Bahrain\", \"Bahamas, The\", \"Bosnia and Herzegovina\", \"Belarus\", \"Belize\", \"Bermuda\", \"Bolivia\", \"Brazil\", \"Barbados\", \"Brunei Darussalam\", \"Bhutan\", \"Botswana\", \"Central African Republic\", \"Canada\", \"Switzerland\", \"Channel Islands\", \"Chile\", \"China\", \"Cote d'Ivoire\", \"Cameroon\", \"Colombia\", \"Comoros\", \"Cabo Verde\", \"Costa Rica\", \"Cuba\", \"Curacao\", \"Cayman Islands\", \"Cyprus\", \"Czech Republic\", \"Germany\", \"Djibouti\", \"Dominica\", \"Denmark\", \"Dominican Republic\", \"Algeria\", \"East Asia & Pacific\", \"Europe & Central Asia\", \"Ecuador\", \"Euro area\", \"Eritrea\", \"Spain\", \"Estonia\", \"Ethiopia\", \"European Union\", \"Finland\", \"Fiji\", \"France\", \"Faroe Islands\", \"Gabon\", \"United Kingdom\", \"Georgia\", \"Ghana\", \"Gibraltar\", \"Guinea\", \"Gambia, The\", \"Guinea-Bissau\", \"Equatorial Guinea\", \"Greece\", \"Grenada\", \"Greenland\", \"Guatemala\", \"Guam\", \"Guyana\", \"High income\", \"Hong Kong SAR, China\", \"Honduras\", \"Croatia\", \"Haiti\", \"Hungary\", \"IDA total\", \"IDA blend\", \"Indonesia\", \"IDA only\", \"Isle of Man\", \"India\", \"Ireland\", \"Iraq\", \"Iceland\", \"Israel\", \"Italy\", \"Jamaica\", \"Jordan\", \"Japan\", \"Kazakhstan\", \"Kenya\", \"Kyrgyz Republic\", \"Cambodia\", \"Kiribati\", \"St. Kitts and Nevis\", \"Kuwait\", \"Lao PDR\", \"Lebanon\", \"Liberia\", \"Libya\", \"St. Lucia\", \"Latin America & Caribbean\", \"Low income\", \"Liechtenstein\", \"Sri Lanka\", \"Lesotho\", \"Lithuania\", \"Luxembourg\", \"Latvia\", \"Macao SAR, China\", \"St. Martin (French part)\", \"Morocco\", \"Monaco\", \"Moldova\", \"Madagascar\", \"Maldives\", \"Middle East & North Africa\", \"Mexico\", \"Marshall Islands\", \"Middle income\", \"North Macedonia\", \"Mali\", \"Malta\", \"Myanmar\", \"Montenegro\", \"Mongolia\", \"Northern Mariana Islands\", \"Mozambique\", \"Mauritania\", \"Mauritius\", \"Malawi\", \"Malaysia\", \"North America\", \"Namibia\", \"New Caledonia\", \"Niger\", \"Nigeria\", \"Nicaragua\", \"Netherlands\", \"Norway\", \"Nepal\", \"Nauru\", \"New Zealand\", \"Oman\", \"Pakistan\", \"Panama\", \"Peru\", \"Philippines\", \"Palau\", \"Papua New Guinea\", \"Poland\", \"Puerto Rico\", \"Portugal\", \"Paraguay\", \"West Bank and Gaza\", \"French Polynesia\", \"Qatar\", \"Romania\", \"Russian Federation\", \"Rwanda\", \"South Asia\", \"Saudi Arabia\", \"Sudan\", \"Senegal\", \"Singapore\", \"Solomon Islands\", \"Sierra Leone\", \"El Salvador\", \"San Marino\", \"Somalia\", \"Serbia\", \"South Sudan\", \"Small states\", \"Sao Tome and Principe\", \"Suriname\", \"Slovak Republic\", \"Slovenia\", \"Sweden\", \"Eswatini\", \"Sint Maarten (Dutch part)\", \"Seychelles\", \"Syrian Arab Republic\", \"Turks and Caicos Islands\", \"Chad\", \"Togo\", \"Thailand\", \"Tajikistan\", \"Turkmenistan\", \"Timor-Leste\", \"Tonga\", \"Trinidad and Tobago\", \"Tunisia\", \"Turkey\", \"Tuvalu\", \"Tanzania\", \"Uganda\", \"Ukraine\", \"Uruguay\", \"United States\", \"Uzbekistan\", \"St. Vincent and the Grenadines\", \"Venezuela, RB\", \"British Virgin Islands\", \"Virgin Islands (U.S.)\", \"Vietnam\", \"Vanuatu\", \"World\", \"Samoa\", \"Kosovo\", \"South Africa\", \"Zambia\", \"Zimbabwe\"], \"type\": \"choropleth\", \"z\": [0.46799456132939143, 0.2221280919467125, 0.49647714235019885, 0.4291895391055568, 0.919814451420625, 0.5315027650911044, 0.8062790433448237, 0.8907452393128727, 0.6502381062012402, 0.865002697865321, 0.31556727826975955, 0.8476833334857584, 0.6020061842835622, 0.523859529495944, 0.083207148243772, 0.9708038116774459, 0.38645524034785744, 0.1844142757700243, 0.24327333347382163, 0.6916999969030331, 0.8840787291003094, 0.8156287965741986, 0.42393714531479665, 0.7014138058605701, 0.4589241227117727, 1.0, 0.6157628561539393, 0.8015614285063095, 0.3422844462818545, 0.7088666807721398, 0.25584801435305227, 0.5275737488107105, 0.3769619342071032, 0.7898285706058419, 0.7357638106964088, 0.3075008297216276, 0.8562819028310192, 0.36815333333832506, 0.43233285443917896, 0.45565095583273224, 0.7387233081319843, 0.2808630266923689, 0.5320888125498557, 0.6010138192720385, 0.7519442973178231, 0.8897787041236469, 1.0, 0.6805795098164474, 0.74126000676046, 0.7497019049413991, 0.7652571042889426, 0.6568039992091526, 0.8544104761501582, 0.6274409434930117, 0.5989180973059443, 0.42187584540433193, 0.6882022339758456, 0.5967557117933366, 0.7309496353274997, 0.2684809838700457, 0.7657714274825906, 0.6952257148686277, 0.14790237982828197, 0.7101618796717559, 0.8189580958384178, 0.4753205814510005, 0.7603099994994261, 0.36536472689412847, 0.7840532258272648, 0.7916238117626894, 0.5383557323946754, 0.43727999421135844, 1.0, 0.3086319073876402, 0.4758685693252709, 0.36167816109602446, 0.49408243539303165, 0.7330904752828237, 0.3515704353016985, 0.8188197112686424, 0.4527528542509359, 0.9280781516663917, 0.2844580742829866, 0.7644474873115337, 0.9996800016302029, 0.4579085731666793, 0.5328366514539635, 0.3741928570821255, 0.6592471446264253, 0.291401702489907, 0.3411826424694815, 0.4100947615608545, 0.2664750881235433, 0.5184469699346964, 0.2794385713779963, 0.5919823780078998, 0.6884661920444527, 0.9231280692897064, 0.9116809549017663, 0.6734528565262708, 0.5170595388359318, 0.7894885447730507, 0.8184147611776159, 0.5625461908401842, 0.19995999908216827, 0.3586857340935622, 0.18231189538388437, 0.4100289490578224, 0.3287738441657888, 0.992991654259272, 0.22310572656364047, 0.8567642670347573, 0.4742457292152995, 0.7658509518580845, 0.258672341088516, 0.7507867931666116, 0.2751922296961777, 0.155159304782395, 0.1838047614122142, 0.19527186882124536, 0.6703942798627315, 0.845048375273468, 0.6831414158944917, 0.9995499376530953, null, 0.5335742871356325, 1.0, 0.4460390421083454, 0.2739428508061956, 0.29649330115051753, 0.5865056423815433, 0.7475395236182498, 0.6894309829743026, 0.4162620873017426, 0.5828294747466971, 0.2888876202090681, 0.9230060462747205, 0.27039381014258634, 0.5763972051026973, 0.5976575754770036, 0.9016019301442265, 0.2873604774839017, 0.40547762174036045, 0.4269961046856302, 0.14123475428125623, 0.6108119069991599, 0.7860069999667013, 0.3334542812238754, 0.6240127308798514, 0.15996334696210437, 0.3570719039139536, 0.5513366583198769, 0.7755723822378506, 0.7572557056986261, 0.13046190409567227, 1.0, 0.8584828495283777, 0.7166495294670914, 0.3289857143225014, 0.608323328848819, 0.7293785698224384, 0.46137380925486143, 0.7119857737740949, 0.13618238480505399, 0.6144038074503462, 0.9388614399931354, 0.5430899957801564, 0.5478976077473022, 0.7155366654274419, 0.5727066043451501, 0.9609952003331866, 0.5344223784939262, 0.7342947615139345, 0.13184095229027562, 0.2764684079119736, 0.7974861943280489, 0.3218995226802736, 0.4073347589758707, 1.0, 0.1630052240291504, 0.357615701629579, 0.5789624064589156, 0.931085644988997, 0.33546190692830363, 0.5275990408104974, 0.16335382431925763, 0.4932768761118641, 0.5390120158817941, 0.6630546291288981, 0.5601437957325274, 0.5111166708327362, 0.8405833248372171, 0.22079290823142123, 1.0, 0.5075262019966831, 0.5202390464823227, 0.8363672713913036, 0.21592570918692242, 0.3296319054175288, 0.3401823796229621, 0.27778237897628566, 0.46143428069114883, 0.24283962898139094, 0.23018303129711457, 0.5495766293910591, 0.6312804771450491, 0.6496023809116641, 0.46912514410781275, 0.227874763549499, 0.1495547638081279, 0.6739433320991048, 0.9189923747078014, 0.7855395243501752, 0.4613814355382849, 0.4520892039420855, 0.8692595237276114, 0.41772341087908, 0.9194841712594515, 0.24786285732657562, 0.21637613498942837, 0.4699648920436103, 0.21331512603954667, null, 0.5701338082393338, 0.3713571491105, 0.32732523598863894]}],                        {\"geo\": {\"projection\": {\"type\": \"mercator\"}}, \"template\": {\"data\": {\"bar\": [{\"error_x\": {\"color\": \"#2a3f5f\"}, \"error_y\": {\"color\": \"#2a3f5f\"}, \"marker\": {\"line\": {\"color\": \"#E5ECF6\", \"width\": 0.5}}, \"type\": \"bar\"}], \"barpolar\": [{\"marker\": {\"line\": {\"color\": \"#E5ECF6\", \"width\": 0.5}}, \"type\": \"barpolar\"}], \"carpet\": [{\"aaxis\": {\"endlinecolor\": \"#2a3f5f\", \"gridcolor\": \"white\", \"linecolor\": \"white\", \"minorgridcolor\": \"white\", \"startlinecolor\": \"#2a3f5f\"}, \"baxis\": {\"endlinecolor\": \"#2a3f5f\", \"gridcolor\": \"white\", \"linecolor\": \"white\", \"minorgridcolor\": \"white\", \"startlinecolor\": \"#2a3f5f\"}, \"type\": \"carpet\"}], \"choropleth\": [{\"colorbar\": {\"outlinewidth\": 0, \"ticks\": \"\"}, \"type\": \"choropleth\"}], \"contour\": [{\"colorbar\": {\"outlinewidth\": 0, \"ticks\": \"\"}, \"colorscale\": [[0.0, \"#0d0887\"], [0.1111111111111111, \"#46039f\"], [0.2222222222222222, \"#7201a8\"], [0.3333333333333333, \"#9c179e\"], [0.4444444444444444, \"#bd3786\"], [0.5555555555555556, \"#d8576b\"], [0.6666666666666666, \"#ed7953\"], [0.7777777777777778, \"#fb9f3a\"], [0.8888888888888888, \"#fdca26\"], [1.0, \"#f0f921\"]], \"type\": \"contour\"}], \"contourcarpet\": [{\"colorbar\": {\"outlinewidth\": 0, \"ticks\": \"\"}, \"type\": \"contourcarpet\"}], \"heatmap\": [{\"colorbar\": {\"outlinewidth\": 0, \"ticks\": \"\"}, \"colorscale\": [[0.0, \"#0d0887\"], [0.1111111111111111, \"#46039f\"], [0.2222222222222222, \"#7201a8\"], [0.3333333333333333, \"#9c179e\"], [0.4444444444444444, \"#bd3786\"], [0.5555555555555556, \"#d8576b\"], [0.6666666666666666, \"#ed7953\"], [0.7777777777777778, \"#fb9f3a\"], [0.8888888888888888, \"#fdca26\"], [1.0, \"#f0f921\"]], \"type\": \"heatmap\"}], \"heatmapgl\": [{\"colorbar\": {\"outlinewidth\": 0, \"ticks\": \"\"}, \"colorscale\": [[0.0, \"#0d0887\"], [0.1111111111111111, \"#46039f\"], [0.2222222222222222, \"#7201a8\"], [0.3333333333333333, \"#9c179e\"], [0.4444444444444444, \"#bd3786\"], [0.5555555555555556, \"#d8576b\"], [0.6666666666666666, \"#ed7953\"], [0.7777777777777778, \"#fb9f3a\"], [0.8888888888888888, \"#fdca26\"], [1.0, \"#f0f921\"]], \"type\": \"heatmapgl\"}], \"histogram\": [{\"marker\": {\"colorbar\": {\"outlinewidth\": 0, \"ticks\": \"\"}}, \"type\": \"histogram\"}], \"histogram2d\": [{\"colorbar\": {\"outlinewidth\": 0, \"ticks\": \"\"}, \"colorscale\": [[0.0, \"#0d0887\"], [0.1111111111111111, \"#46039f\"], [0.2222222222222222, \"#7201a8\"], [0.3333333333333333, \"#9c179e\"], [0.4444444444444444, \"#bd3786\"], [0.5555555555555556, \"#d8576b\"], [0.6666666666666666, \"#ed7953\"], [0.7777777777777778, \"#fb9f3a\"], [0.8888888888888888, \"#fdca26\"], [1.0, \"#f0f921\"]], \"type\": \"histogram2d\"}], \"histogram2dcontour\": [{\"colorbar\": {\"outlinewidth\": 0, \"ticks\": \"\"}, \"colorscale\": [[0.0, \"#0d0887\"], [0.1111111111111111, \"#46039f\"], [0.2222222222222222, \"#7201a8\"], [0.3333333333333333, \"#9c179e\"], [0.4444444444444444, \"#bd3786\"], [0.5555555555555556, \"#d8576b\"], [0.6666666666666666, \"#ed7953\"], [0.7777777777777778, \"#fb9f3a\"], [0.8888888888888888, \"#fdca26\"], [1.0, \"#f0f921\"]], \"type\": \"histogram2dcontour\"}], \"mesh3d\": [{\"colorbar\": {\"outlinewidth\": 0, \"ticks\": \"\"}, \"type\": \"mesh3d\"}], \"parcoords\": [{\"line\": {\"colorbar\": {\"outlinewidth\": 0, \"ticks\": \"\"}}, \"type\": \"parcoords\"}], \"pie\": [{\"automargin\": true, \"type\": \"pie\"}], \"scatter\": [{\"marker\": {\"colorbar\": {\"outlinewidth\": 0, \"ticks\": \"\"}}, \"type\": \"scatter\"}], \"scatter3d\": [{\"line\": {\"colorbar\": {\"outlinewidth\": 0, \"ticks\": \"\"}}, \"marker\": {\"colorbar\": {\"outlinewidth\": 0, \"ticks\": \"\"}}, \"type\": \"scatter3d\"}], \"scattercarpet\": [{\"marker\": {\"colorbar\": {\"outlinewidth\": 0, \"ticks\": \"\"}}, \"type\": \"scattercarpet\"}], \"scattergeo\": [{\"marker\": {\"colorbar\": {\"outlinewidth\": 0, \"ticks\": \"\"}}, \"type\": \"scattergeo\"}], \"scattergl\": [{\"marker\": {\"colorbar\": {\"outlinewidth\": 0, \"ticks\": \"\"}}, \"type\": \"scattergl\"}], \"scattermapbox\": [{\"marker\": {\"colorbar\": {\"outlinewidth\": 0, \"ticks\": \"\"}}, \"type\": \"scattermapbox\"}], \"scatterpolar\": [{\"marker\": {\"colorbar\": {\"outlinewidth\": 0, \"ticks\": \"\"}}, \"type\": \"scatterpolar\"}], \"scatterpolargl\": [{\"marker\": {\"colorbar\": {\"outlinewidth\": 0, \"ticks\": \"\"}}, \"type\": \"scatterpolargl\"}], \"scatterternary\": [{\"marker\": {\"colorbar\": {\"outlinewidth\": 0, \"ticks\": \"\"}}, \"type\": \"scatterternary\"}], \"surface\": [{\"colorbar\": {\"outlinewidth\": 0, \"ticks\": \"\"}, \"colorscale\": [[0.0, \"#0d0887\"], [0.1111111111111111, \"#46039f\"], [0.2222222222222222, \"#7201a8\"], [0.3333333333333333, \"#9c179e\"], [0.4444444444444444, \"#bd3786\"], [0.5555555555555556, \"#d8576b\"], [0.6666666666666666, \"#ed7953\"], [0.7777777777777778, \"#fb9f3a\"], [0.8888888888888888, \"#fdca26\"], [1.0, \"#f0f921\"]], \"type\": \"surface\"}], \"table\": [{\"cells\": {\"fill\": {\"color\": \"#EBF0F8\"}, \"line\": {\"color\": \"white\"}}, \"header\": {\"fill\": {\"color\": \"#C8D4E3\"}, \"line\": {\"color\": \"white\"}}, \"type\": \"table\"}]}, \"layout\": {\"annotationdefaults\": {\"arrowcolor\": \"#2a3f5f\", \"arrowhead\": 0, \"arrowwidth\": 1}, \"autotypenumbers\": \"strict\", \"coloraxis\": {\"colorbar\": {\"outlinewidth\": 0, \"ticks\": \"\"}}, \"colorscale\": {\"diverging\": [[0, \"#8e0152\"], [0.1, \"#c51b7d\"], [0.2, \"#de77ae\"], [0.3, \"#f1b6da\"], [0.4, \"#fde0ef\"], [0.5, \"#f7f7f7\"], [0.6, \"#e6f5d0\"], [0.7, \"#b8e186\"], [0.8, \"#7fbc41\"], [0.9, \"#4d9221\"], [1, \"#276419\"]], \"sequential\": [[0.0, \"#0d0887\"], [0.1111111111111111, \"#46039f\"], [0.2222222222222222, \"#7201a8\"], [0.3333333333333333, \"#9c179e\"], [0.4444444444444444, \"#bd3786\"], [0.5555555555555556, \"#d8576b\"], [0.6666666666666666, \"#ed7953\"], [0.7777777777777778, \"#fb9f3a\"], [0.8888888888888888, \"#fdca26\"], [1.0, \"#f0f921\"]], \"sequentialminus\": [[0.0, \"#0d0887\"], [0.1111111111111111, \"#46039f\"], [0.2222222222222222, \"#7201a8\"], [0.3333333333333333, \"#9c179e\"], [0.4444444444444444, \"#bd3786\"], [0.5555555555555556, \"#d8576b\"], [0.6666666666666666, \"#ed7953\"], [0.7777777777777778, \"#fb9f3a\"], [0.8888888888888888, \"#fdca26\"], [1.0, \"#f0f921\"]]}, \"colorway\": [\"#636efa\", \"#EF553B\", \"#00cc96\", \"#ab63fa\", \"#FFA15A\", \"#19d3f3\", \"#FF6692\", \"#B6E880\", \"#FF97FF\", \"#FECB52\"], \"font\": {\"color\": \"#2a3f5f\"}, \"geo\": {\"bgcolor\": \"white\", \"lakecolor\": \"white\", \"landcolor\": \"#E5ECF6\", \"showlakes\": true, \"showland\": true, \"subunitcolor\": \"white\"}, \"hoverlabel\": {\"align\": \"left\"}, \"hovermode\": \"closest\", \"mapbox\": {\"style\": \"light\"}, \"paper_bgcolor\": \"white\", \"plot_bgcolor\": \"#E5ECF6\", \"polar\": {\"angularaxis\": {\"gridcolor\": \"white\", \"linecolor\": \"white\", \"ticks\": \"\"}, \"bgcolor\": \"#E5ECF6\", \"radialaxis\": {\"gridcolor\": \"white\", \"linecolor\": \"white\", \"ticks\": \"\"}}, \"scene\": {\"xaxis\": {\"backgroundcolor\": \"#E5ECF6\", \"gridcolor\": \"white\", \"gridwidth\": 2, \"linecolor\": \"white\", \"showbackground\": true, \"ticks\": \"\", \"zerolinecolor\": \"white\"}, \"yaxis\": {\"backgroundcolor\": \"#E5ECF6\", \"gridcolor\": \"white\", \"gridwidth\": 2, \"linecolor\": \"white\", \"showbackground\": true, \"ticks\": \"\", \"zerolinecolor\": \"white\"}, \"zaxis\": {\"backgroundcolor\": \"#E5ECF6\", \"gridcolor\": \"white\", \"gridwidth\": 2, \"linecolor\": \"white\", \"showbackground\": true, \"ticks\": \"\", \"zerolinecolor\": \"white\"}}, \"shapedefaults\": {\"line\": {\"color\": \"#2a3f5f\"}}, \"ternary\": {\"aaxis\": {\"gridcolor\": \"white\", \"linecolor\": \"white\", \"ticks\": \"\"}, \"baxis\": {\"gridcolor\": \"white\", \"linecolor\": \"white\", \"ticks\": \"\"}, \"bgcolor\": \"#E5ECF6\", \"caxis\": {\"gridcolor\": \"white\", \"linecolor\": \"white\", \"ticks\": \"\"}}, \"title\": {\"x\": 0.05}, \"xaxis\": {\"automargin\": true, \"gridcolor\": \"white\", \"linecolor\": \"white\", \"ticks\": \"\", \"title\": {\"standoff\": 15}, \"zerolinecolor\": \"white\", \"zerolinewidth\": 2}, \"yaxis\": {\"automargin\": true, \"gridcolor\": \"white\", \"linecolor\": \"white\", \"ticks\": \"\", \"title\": {\"standoff\": 15}, \"zerolinecolor\": \"white\", \"zerolinewidth\": 2}}}, \"title\": {\"text\": \"Mean per Capita World Urban Population from 1990 to 2010\"}},                        {\"responsive\": true}                    ).then(function(){\n",
       "                            \n",
       "var gd = document.getElementById('d087ec69-1083-4878-8bc7-1082369a5cce');\n",
       "var x = new MutationObserver(function (mutations, observer) {{\n",
       "        var display = window.getComputedStyle(gd).display;\n",
       "        if (!display || display === 'none') {{\n",
       "            console.log([gd, 'removed!']);\n",
       "            Plotly.purge(gd);\n",
       "            observer.disconnect();\n",
       "        }}\n",
       "}});\n",
       "\n",
       "// Listen for the removal of the full notebook cells\n",
       "var notebookContainer = gd.closest('#notebook-container');\n",
       "if (notebookContainer) {{\n",
       "    x.observe(notebookContainer, {childList: true});\n",
       "}}\n",
       "\n",
       "// Listen for the clearing of the current output cell\n",
       "var outputEl = gd.closest('.output');\n",
       "if (outputEl) {{\n",
       "    x.observe(outputEl, {childList: true});\n",
       "}}\n",
       "\n",
       "                        })                };                });            </script>        </div>"
      ]
     },
     "metadata": {},
     "output_type": "display_data"
    }
   ],
   "source": [
    "data = dict(\n",
    "        type = 'choropleth',\n",
    "        colorscale = 'Viridis',\n",
    "        locations = df['Country Name'],\n",
    "        locationmode = \"country names\",\n",
    "        z = df['mean_per_capita'],\n",
    "        text = df['Country Name'],\n",
    "        colorbar = {'title' : 'Mean per Capita'},\n",
    "      )\n",
    "\n",
    "layout = dict(title = 'Mean per Capita World Urban Population from 1990 to 2010',\n",
    "              geo = dict(projection = {'type':'mercator'})\n",
    "             )\n",
    "\n",
    "choromap = go.Figure(data = [data],layout = layout)\n",
    "iplot(choromap,validate=False)"
   ]
  },
  {
   "cell_type": "markdown",
   "id": "46c011c3",
   "metadata": {},
   "source": [
    "The plot above shows the mean per capita for each counrty. "
   ]
  },
  {
   "cell_type": "markdown",
   "id": "2a4658c5",
   "metadata": {},
   "source": [
    ">Present a correlation plot between mean world population and mean per capita \n",
    "world urban population (from 1990 to 2010)"
   ]
  },
  {
   "cell_type": "code",
   "execution_count": 39,
   "id": "affe14bf",
   "metadata": {},
   "outputs": [],
   "source": [
    "#create another dataframe\n",
    "df1 = pd.DataFrame()"
   ]
  },
  {
   "cell_type": "code",
   "execution_count": 40,
   "id": "bccabfc3",
   "metadata": {},
   "outputs": [
    {
     "data": {
      "text/html": [
       "<div>\n",
       "<style scoped>\n",
       "    .dataframe tbody tr th:only-of-type {\n",
       "        vertical-align: middle;\n",
       "    }\n",
       "\n",
       "    .dataframe tbody tr th {\n",
       "        vertical-align: top;\n",
       "    }\n",
       "\n",
       "    .dataframe thead th {\n",
       "        text-align: right;\n",
       "    }\n",
       "</style>\n",
       "<table border=\"1\" class=\"dataframe\">\n",
       "  <thead>\n",
       "    <tr style=\"text-align: right;\">\n",
       "      <th></th>\n",
       "      <th>1990 World Population</th>\n",
       "      <th>1991 World Population</th>\n",
       "      <th>1992 World Population</th>\n",
       "      <th>1993 World Population</th>\n",
       "      <th>1994 World Population</th>\n",
       "      <th>1995 World Population</th>\n",
       "      <th>1996 World Population</th>\n",
       "      <th>1997 World Population</th>\n",
       "      <th>1998 World Population</th>\n",
       "      <th>1999 World Population</th>\n",
       "      <th>...</th>\n",
       "      <th>2001 World Population</th>\n",
       "      <th>2002 World Population</th>\n",
       "      <th>2003 World Population</th>\n",
       "      <th>2004 World Population</th>\n",
       "      <th>2005 World Population</th>\n",
       "      <th>2006 World Population</th>\n",
       "      <th>2007 World Population</th>\n",
       "      <th>2008 World Population</th>\n",
       "      <th>2009 World Population</th>\n",
       "      <th>2010 World Population</th>\n",
       "    </tr>\n",
       "  </thead>\n",
       "  <tbody>\n",
       "    <tr>\n",
       "      <th>0</th>\n",
       "      <td>62149.0</td>\n",
       "      <td>64622.0</td>\n",
       "      <td>68235.0</td>\n",
       "      <td>72504.0</td>\n",
       "      <td>76700.0</td>\n",
       "      <td>80324.0</td>\n",
       "      <td>83200.0</td>\n",
       "      <td>85451.0</td>\n",
       "      <td>87277.0</td>\n",
       "      <td>89005.0</td>\n",
       "      <td>...</td>\n",
       "      <td>92898.0</td>\n",
       "      <td>94992.0</td>\n",
       "      <td>97017.0</td>\n",
       "      <td>98737.0</td>\n",
       "      <td>100031.0</td>\n",
       "      <td>100834.0</td>\n",
       "      <td>101222.0</td>\n",
       "      <td>101358.0</td>\n",
       "      <td>101455.0</td>\n",
       "      <td>101669.0</td>\n",
       "    </tr>\n",
       "    <tr>\n",
       "      <th>1</th>\n",
       "      <td>12412308.0</td>\n",
       "      <td>13299017.0</td>\n",
       "      <td>14485546.0</td>\n",
       "      <td>15816603.0</td>\n",
       "      <td>17075727.0</td>\n",
       "      <td>18110657.0</td>\n",
       "      <td>18853437.0</td>\n",
       "      <td>19357126.0</td>\n",
       "      <td>19737765.0</td>\n",
       "      <td>20170844.0</td>\n",
       "      <td>...</td>\n",
       "      <td>21606988.0</td>\n",
       "      <td>22600770.0</td>\n",
       "      <td>23680871.0</td>\n",
       "      <td>24726684.0</td>\n",
       "      <td>25654277.0</td>\n",
       "      <td>26433049.0</td>\n",
       "      <td>27100536.0</td>\n",
       "      <td>27722276.0</td>\n",
       "      <td>28394813.0</td>\n",
       "      <td>29185507.0</td>\n",
       "    </tr>\n",
       "    <tr>\n",
       "      <th>2</th>\n",
       "      <td>11848386.0</td>\n",
       "      <td>12248901.0</td>\n",
       "      <td>12657366.0</td>\n",
       "      <td>13075049.0</td>\n",
       "      <td>13503747.0</td>\n",
       "      <td>13945206.0</td>\n",
       "      <td>14400719.0</td>\n",
       "      <td>14871570.0</td>\n",
       "      <td>15359601.0</td>\n",
       "      <td>15866869.0</td>\n",
       "      <td>...</td>\n",
       "      <td>16945753.0</td>\n",
       "      <td>17519417.0</td>\n",
       "      <td>18121479.0</td>\n",
       "      <td>18758145.0</td>\n",
       "      <td>19433602.0</td>\n",
       "      <td>20149901.0</td>\n",
       "      <td>20905363.0</td>\n",
       "      <td>21695634.0</td>\n",
       "      <td>22514281.0</td>\n",
       "      <td>23356246.0</td>\n",
       "    </tr>\n",
       "    <tr>\n",
       "      <th>3</th>\n",
       "      <td>3286542.0</td>\n",
       "      <td>3266790.0</td>\n",
       "      <td>3247039.0</td>\n",
       "      <td>3227287.0</td>\n",
       "      <td>3207536.0</td>\n",
       "      <td>3187784.0</td>\n",
       "      <td>3168033.0</td>\n",
       "      <td>3148281.0</td>\n",
       "      <td>3128530.0</td>\n",
       "      <td>3108778.0</td>\n",
       "      <td>...</td>\n",
       "      <td>3060173.0</td>\n",
       "      <td>3051010.0</td>\n",
       "      <td>3039616.0</td>\n",
       "      <td>3026939.0</td>\n",
       "      <td>3011487.0</td>\n",
       "      <td>2992547.0</td>\n",
       "      <td>2970017.0</td>\n",
       "      <td>2947314.0</td>\n",
       "      <td>2927519.0</td>\n",
       "      <td>2913021.0</td>\n",
       "    </tr>\n",
       "    <tr>\n",
       "      <th>4</th>\n",
       "      <td>54509.0</td>\n",
       "      <td>56671.0</td>\n",
       "      <td>58888.0</td>\n",
       "      <td>60971.0</td>\n",
       "      <td>62677.0</td>\n",
       "      <td>63850.0</td>\n",
       "      <td>64360.0</td>\n",
       "      <td>64327.0</td>\n",
       "      <td>64142.0</td>\n",
       "      <td>64370.0</td>\n",
       "      <td>...</td>\n",
       "      <td>67341.0</td>\n",
       "      <td>70049.0</td>\n",
       "      <td>73182.0</td>\n",
       "      <td>76244.0</td>\n",
       "      <td>78867.0</td>\n",
       "      <td>80993.0</td>\n",
       "      <td>82684.0</td>\n",
       "      <td>83862.0</td>\n",
       "      <td>84463.0</td>\n",
       "      <td>84449.0</td>\n",
       "    </tr>\n",
       "  </tbody>\n",
       "</table>\n",
       "<p>5 rows × 21 columns</p>\n",
       "</div>"
      ],
      "text/plain": [
       "   1990 World Population  1991 World Population  1992 World Population  \\\n",
       "0                62149.0                64622.0                68235.0   \n",
       "1             12412308.0             13299017.0             14485546.0   \n",
       "2             11848386.0             12248901.0             12657366.0   \n",
       "3              3286542.0              3266790.0              3247039.0   \n",
       "4                54509.0                56671.0                58888.0   \n",
       "\n",
       "   1993 World Population  1994 World Population  1995 World Population  \\\n",
       "0                72504.0                76700.0                80324.0   \n",
       "1             15816603.0             17075727.0             18110657.0   \n",
       "2             13075049.0             13503747.0             13945206.0   \n",
       "3              3227287.0              3207536.0              3187784.0   \n",
       "4                60971.0                62677.0                63850.0   \n",
       "\n",
       "   1996 World Population  1997 World Population  1998 World Population  \\\n",
       "0                83200.0                85451.0                87277.0   \n",
       "1             18853437.0             19357126.0             19737765.0   \n",
       "2             14400719.0             14871570.0             15359601.0   \n",
       "3              3168033.0              3148281.0              3128530.0   \n",
       "4                64360.0                64327.0                64142.0   \n",
       "\n",
       "   1999 World Population  ...  2001 World Population  2002 World Population  \\\n",
       "0                89005.0  ...                92898.0                94992.0   \n",
       "1             20170844.0  ...             21606988.0             22600770.0   \n",
       "2             15866869.0  ...             16945753.0             17519417.0   \n",
       "3              3108778.0  ...              3060173.0              3051010.0   \n",
       "4                64370.0  ...                67341.0                70049.0   \n",
       "\n",
       "   2003 World Population  2004 World Population  2005 World Population  \\\n",
       "0                97017.0                98737.0               100031.0   \n",
       "1             23680871.0             24726684.0             25654277.0   \n",
       "2             18121479.0             18758145.0             19433602.0   \n",
       "3              3039616.0              3026939.0              3011487.0   \n",
       "4                73182.0                76244.0                78867.0   \n",
       "\n",
       "   2006 World Population  2007 World Population  2008 World Population  \\\n",
       "0               100834.0               101222.0               101358.0   \n",
       "1             26433049.0             27100536.0             27722276.0   \n",
       "2             20149901.0             20905363.0             21695634.0   \n",
       "3              2992547.0              2970017.0              2947314.0   \n",
       "4                80993.0                82684.0                83862.0   \n",
       "\n",
       "   2009 World Population  2010 World Population  \n",
       "0               101455.0               101669.0  \n",
       "1             28394813.0             29185507.0  \n",
       "2             22514281.0             23356246.0  \n",
       "3              2927519.0              2913021.0  \n",
       "4                84463.0                84449.0  \n",
       "\n",
       "[5 rows x 21 columns]"
      ]
     },
     "execution_count": 40,
     "metadata": {},
     "output_type": "execute_result"
    }
   ],
   "source": [
    "#pass the required columns into the dataframe\n",
    "df1 = gdf_populations.loc[:, '1990 World Population':'2010 World Population']\n",
    "df1.head()"
   ]
  },
  {
   "cell_type": "code",
   "execution_count": 41,
   "id": "9bcf617c",
   "metadata": {},
   "outputs": [
    {
     "data": {
      "text/html": [
       "<div>\n",
       "<style scoped>\n",
       "    .dataframe tbody tr th:only-of-type {\n",
       "        vertical-align: middle;\n",
       "    }\n",
       "\n",
       "    .dataframe tbody tr th {\n",
       "        vertical-align: top;\n",
       "    }\n",
       "\n",
       "    .dataframe thead th {\n",
       "        text-align: right;\n",
       "    }\n",
       "</style>\n",
       "<table border=\"1\" class=\"dataframe\">\n",
       "  <thead>\n",
       "    <tr style=\"text-align: right;\">\n",
       "      <th></th>\n",
       "      <th>1990 World Population</th>\n",
       "      <th>1991 World Population</th>\n",
       "      <th>1992 World Population</th>\n",
       "      <th>1993 World Population</th>\n",
       "      <th>1994 World Population</th>\n",
       "      <th>1995 World Population</th>\n",
       "      <th>1996 World Population</th>\n",
       "      <th>1997 World Population</th>\n",
       "      <th>1998 World Population</th>\n",
       "      <th>1999 World Population</th>\n",
       "      <th>...</th>\n",
       "      <th>2002 World Population</th>\n",
       "      <th>2003 World Population</th>\n",
       "      <th>2004 World Population</th>\n",
       "      <th>2005 World Population</th>\n",
       "      <th>2006 World Population</th>\n",
       "      <th>2007 World Population</th>\n",
       "      <th>2008 World Population</th>\n",
       "      <th>2009 World Population</th>\n",
       "      <th>2010 World Population</th>\n",
       "      <th>mean_world_population</th>\n",
       "    </tr>\n",
       "  </thead>\n",
       "  <tbody>\n",
       "    <tr>\n",
       "      <th>0</th>\n",
       "      <td>62149.0</td>\n",
       "      <td>64622.0</td>\n",
       "      <td>68235.0</td>\n",
       "      <td>72504.0</td>\n",
       "      <td>76700.0</td>\n",
       "      <td>80324.0</td>\n",
       "      <td>83200.0</td>\n",
       "      <td>85451.0</td>\n",
       "      <td>87277.0</td>\n",
       "      <td>89005.0</td>\n",
       "      <td>...</td>\n",
       "      <td>94992.0</td>\n",
       "      <td>97017.0</td>\n",
       "      <td>98737.0</td>\n",
       "      <td>100031.0</td>\n",
       "      <td>100834.0</td>\n",
       "      <td>101222.0</td>\n",
       "      <td>101358.0</td>\n",
       "      <td>101455.0</td>\n",
       "      <td>101669.0</td>\n",
       "      <td>89419.20</td>\n",
       "    </tr>\n",
       "    <tr>\n",
       "      <th>1</th>\n",
       "      <td>12412308.0</td>\n",
       "      <td>13299017.0</td>\n",
       "      <td>14485546.0</td>\n",
       "      <td>15816603.0</td>\n",
       "      <td>17075727.0</td>\n",
       "      <td>18110657.0</td>\n",
       "      <td>18853437.0</td>\n",
       "      <td>19357126.0</td>\n",
       "      <td>19737765.0</td>\n",
       "      <td>20170844.0</td>\n",
       "      <td>...</td>\n",
       "      <td>22600770.0</td>\n",
       "      <td>23680871.0</td>\n",
       "      <td>24726684.0</td>\n",
       "      <td>25654277.0</td>\n",
       "      <td>26433049.0</td>\n",
       "      <td>27100536.0</td>\n",
       "      <td>27722276.0</td>\n",
       "      <td>28394813.0</td>\n",
       "      <td>29185507.0</td>\n",
       "      <td>21739622.30</td>\n",
       "    </tr>\n",
       "    <tr>\n",
       "      <th>2</th>\n",
       "      <td>11848386.0</td>\n",
       "      <td>12248901.0</td>\n",
       "      <td>12657366.0</td>\n",
       "      <td>13075049.0</td>\n",
       "      <td>13503747.0</td>\n",
       "      <td>13945206.0</td>\n",
       "      <td>14400719.0</td>\n",
       "      <td>14871570.0</td>\n",
       "      <td>15359601.0</td>\n",
       "      <td>15866869.0</td>\n",
       "      <td>...</td>\n",
       "      <td>17519417.0</td>\n",
       "      <td>18121479.0</td>\n",
       "      <td>18758145.0</td>\n",
       "      <td>19433602.0</td>\n",
       "      <td>20149901.0</td>\n",
       "      <td>20905363.0</td>\n",
       "      <td>21695634.0</td>\n",
       "      <td>22514281.0</td>\n",
       "      <td>23356246.0</td>\n",
       "      <td>17086216.10</td>\n",
       "    </tr>\n",
       "    <tr>\n",
       "      <th>3</th>\n",
       "      <td>3286542.0</td>\n",
       "      <td>3266790.0</td>\n",
       "      <td>3247039.0</td>\n",
       "      <td>3227287.0</td>\n",
       "      <td>3207536.0</td>\n",
       "      <td>3187784.0</td>\n",
       "      <td>3168033.0</td>\n",
       "      <td>3148281.0</td>\n",
       "      <td>3128530.0</td>\n",
       "      <td>3108778.0</td>\n",
       "      <td>...</td>\n",
       "      <td>3051010.0</td>\n",
       "      <td>3039616.0</td>\n",
       "      <td>3026939.0</td>\n",
       "      <td>3011487.0</td>\n",
       "      <td>2992547.0</td>\n",
       "      <td>2970017.0</td>\n",
       "      <td>2947314.0</td>\n",
       "      <td>2927519.0</td>\n",
       "      <td>2913021.0</td>\n",
       "      <td>3085936.40</td>\n",
       "    </tr>\n",
       "    <tr>\n",
       "      <th>4</th>\n",
       "      <td>54509.0</td>\n",
       "      <td>56671.0</td>\n",
       "      <td>58888.0</td>\n",
       "      <td>60971.0</td>\n",
       "      <td>62677.0</td>\n",
       "      <td>63850.0</td>\n",
       "      <td>64360.0</td>\n",
       "      <td>64327.0</td>\n",
       "      <td>64142.0</td>\n",
       "      <td>64370.0</td>\n",
       "      <td>...</td>\n",
       "      <td>70049.0</td>\n",
       "      <td>73182.0</td>\n",
       "      <td>76244.0</td>\n",
       "      <td>78867.0</td>\n",
       "      <td>80993.0</td>\n",
       "      <td>82684.0</td>\n",
       "      <td>83862.0</td>\n",
       "      <td>84463.0</td>\n",
       "      <td>84449.0</td>\n",
       "      <td>70389.00</td>\n",
       "    </tr>\n",
       "    <tr>\n",
       "      <th>...</th>\n",
       "      <td>...</td>\n",
       "      <td>...</td>\n",
       "      <td>...</td>\n",
       "      <td>...</td>\n",
       "      <td>...</td>\n",
       "      <td>...</td>\n",
       "      <td>...</td>\n",
       "      <td>...</td>\n",
       "      <td>...</td>\n",
       "      <td>...</td>\n",
       "      <td>...</td>\n",
       "      <td>...</td>\n",
       "      <td>...</td>\n",
       "      <td>...</td>\n",
       "      <td>...</td>\n",
       "      <td>...</td>\n",
       "      <td>...</td>\n",
       "      <td>...</td>\n",
       "      <td>...</td>\n",
       "      <td>...</td>\n",
       "      <td>...</td>\n",
       "    </tr>\n",
       "    <tr>\n",
       "      <th>258</th>\n",
       "      <td>162803.0</td>\n",
       "      <td>163997.0</td>\n",
       "      <td>165490.0</td>\n",
       "      <td>167119.0</td>\n",
       "      <td>168694.0</td>\n",
       "      <td>170054.0</td>\n",
       "      <td>171165.0</td>\n",
       "      <td>172068.0</td>\n",
       "      <td>172839.0</td>\n",
       "      <td>173609.0</td>\n",
       "      <td>...</td>\n",
       "      <td>176407.0</td>\n",
       "      <td>177484.0</td>\n",
       "      <td>178590.0</td>\n",
       "      <td>179727.0</td>\n",
       "      <td>180876.0</td>\n",
       "      <td>182046.0</td>\n",
       "      <td>183263.0</td>\n",
       "      <td>184556.0</td>\n",
       "      <td>185949.0</td>\n",
       "      <td>175188.95</td>\n",
       "    </tr>\n",
       "    <tr>\n",
       "      <th>259</th>\n",
       "      <td>1862000.0</td>\n",
       "      <td>1898000.0</td>\n",
       "      <td>1932000.0</td>\n",
       "      <td>1965000.0</td>\n",
       "      <td>1997000.0</td>\n",
       "      <td>2029000.0</td>\n",
       "      <td>2059000.0</td>\n",
       "      <td>2086000.0</td>\n",
       "      <td>1966000.0</td>\n",
       "      <td>1762000.0</td>\n",
       "      <td>...</td>\n",
       "      <td>1702310.0</td>\n",
       "      <td>1703466.0</td>\n",
       "      <td>1704622.0</td>\n",
       "      <td>1705780.0</td>\n",
       "      <td>1719536.0</td>\n",
       "      <td>1733404.0</td>\n",
       "      <td>1747383.0</td>\n",
       "      <td>1761474.0</td>\n",
       "      <td>1775680.0</td>\n",
       "      <td>1832440.45</td>\n",
       "    </tr>\n",
       "    <tr>\n",
       "      <th>261</th>\n",
       "      <td>36800509.0</td>\n",
       "      <td>37718950.0</td>\n",
       "      <td>38672607.0</td>\n",
       "      <td>39633750.0</td>\n",
       "      <td>40564059.0</td>\n",
       "      <td>41435758.0</td>\n",
       "      <td>42241011.0</td>\n",
       "      <td>42987461.0</td>\n",
       "      <td>43682260.0</td>\n",
       "      <td>44338543.0</td>\n",
       "      <td>...</td>\n",
       "      <td>46150913.0</td>\n",
       "      <td>46719196.0</td>\n",
       "      <td>47291610.0</td>\n",
       "      <td>47880601.0</td>\n",
       "      <td>48489459.0</td>\n",
       "      <td>49119759.0</td>\n",
       "      <td>49779471.0</td>\n",
       "      <td>50477011.0</td>\n",
       "      <td>51216964.0</td>\n",
       "      <td>44946918.25</td>\n",
       "    </tr>\n",
       "    <tr>\n",
       "      <th>262</th>\n",
       "      <td>8036845.0</td>\n",
       "      <td>8246656.0</td>\n",
       "      <td>8451347.0</td>\n",
       "      <td>8656486.0</td>\n",
       "      <td>8869740.0</td>\n",
       "      <td>9096607.0</td>\n",
       "      <td>9339733.0</td>\n",
       "      <td>9597609.0</td>\n",
       "      <td>9866476.0</td>\n",
       "      <td>10140561.0</td>\n",
       "      <td>...</td>\n",
       "      <td>10971698.0</td>\n",
       "      <td>11256743.0</td>\n",
       "      <td>11550642.0</td>\n",
       "      <td>11856247.0</td>\n",
       "      <td>12173514.0</td>\n",
       "      <td>12502958.0</td>\n",
       "      <td>12848530.0</td>\n",
       "      <td>13215139.0</td>\n",
       "      <td>13605984.0</td>\n",
       "      <td>10667740.35</td>\n",
       "    </tr>\n",
       "    <tr>\n",
       "      <th>263</th>\n",
       "      <td>10432421.0</td>\n",
       "      <td>10680995.0</td>\n",
       "      <td>10900502.0</td>\n",
       "      <td>11092766.0</td>\n",
       "      <td>11261744.0</td>\n",
       "      <td>11410714.0</td>\n",
       "      <td>11541217.0</td>\n",
       "      <td>11653242.0</td>\n",
       "      <td>11747072.0</td>\n",
       "      <td>11822719.0</td>\n",
       "      <td>...</td>\n",
       "      <td>11954290.0</td>\n",
       "      <td>11982224.0</td>\n",
       "      <td>12019912.0</td>\n",
       "      <td>12076699.0</td>\n",
       "      <td>12155491.0</td>\n",
       "      <td>12255922.0</td>\n",
       "      <td>12379549.0</td>\n",
       "      <td>12526968.0</td>\n",
       "      <td>12697723.0</td>\n",
       "      <td>11798257.00</td>\n",
       "    </tr>\n",
       "  </tbody>\n",
       "</table>\n",
       "<p>226 rows × 22 columns</p>\n",
       "</div>"
      ],
      "text/plain": [
       "     1990 World Population  1991 World Population  1992 World Population  \\\n",
       "0                  62149.0                64622.0                68235.0   \n",
       "1               12412308.0             13299017.0             14485546.0   \n",
       "2               11848386.0             12248901.0             12657366.0   \n",
       "3                3286542.0              3266790.0              3247039.0   \n",
       "4                  54509.0                56671.0                58888.0   \n",
       "..                     ...                    ...                    ...   \n",
       "258               162803.0               163997.0               165490.0   \n",
       "259              1862000.0              1898000.0              1932000.0   \n",
       "261             36800509.0             37718950.0             38672607.0   \n",
       "262              8036845.0              8246656.0              8451347.0   \n",
       "263             10432421.0             10680995.0             10900502.0   \n",
       "\n",
       "     1993 World Population  1994 World Population  1995 World Population  \\\n",
       "0                  72504.0                76700.0                80324.0   \n",
       "1               15816603.0             17075727.0             18110657.0   \n",
       "2               13075049.0             13503747.0             13945206.0   \n",
       "3                3227287.0              3207536.0              3187784.0   \n",
       "4                  60971.0                62677.0                63850.0   \n",
       "..                     ...                    ...                    ...   \n",
       "258               167119.0               168694.0               170054.0   \n",
       "259              1965000.0              1997000.0              2029000.0   \n",
       "261             39633750.0             40564059.0             41435758.0   \n",
       "262              8656486.0              8869740.0              9096607.0   \n",
       "263             11092766.0             11261744.0             11410714.0   \n",
       "\n",
       "     1996 World Population  1997 World Population  1998 World Population  \\\n",
       "0                  83200.0                85451.0                87277.0   \n",
       "1               18853437.0             19357126.0             19737765.0   \n",
       "2               14400719.0             14871570.0             15359601.0   \n",
       "3                3168033.0              3148281.0              3128530.0   \n",
       "4                  64360.0                64327.0                64142.0   \n",
       "..                     ...                    ...                    ...   \n",
       "258               171165.0               172068.0               172839.0   \n",
       "259              2059000.0              2086000.0              1966000.0   \n",
       "261             42241011.0             42987461.0             43682260.0   \n",
       "262              9339733.0              9597609.0              9866476.0   \n",
       "263             11541217.0             11653242.0             11747072.0   \n",
       "\n",
       "     1999 World Population  ...  2002 World Population  2003 World Population  \\\n",
       "0                  89005.0  ...                94992.0                97017.0   \n",
       "1               20170844.0  ...             22600770.0             23680871.0   \n",
       "2               15866869.0  ...             17519417.0             18121479.0   \n",
       "3                3108778.0  ...              3051010.0              3039616.0   \n",
       "4                  64370.0  ...                70049.0                73182.0   \n",
       "..                     ...  ...                    ...                    ...   \n",
       "258               173609.0  ...               176407.0               177484.0   \n",
       "259              1762000.0  ...              1702310.0              1703466.0   \n",
       "261             44338543.0  ...             46150913.0             46719196.0   \n",
       "262             10140561.0  ...             10971698.0             11256743.0   \n",
       "263             11822719.0  ...             11954290.0             11982224.0   \n",
       "\n",
       "     2004 World Population  2005 World Population  2006 World Population  \\\n",
       "0                  98737.0               100031.0               100834.0   \n",
       "1               24726684.0             25654277.0             26433049.0   \n",
       "2               18758145.0             19433602.0             20149901.0   \n",
       "3                3026939.0              3011487.0              2992547.0   \n",
       "4                  76244.0                78867.0                80993.0   \n",
       "..                     ...                    ...                    ...   \n",
       "258               178590.0               179727.0               180876.0   \n",
       "259              1704622.0              1705780.0              1719536.0   \n",
       "261             47291610.0             47880601.0             48489459.0   \n",
       "262             11550642.0             11856247.0             12173514.0   \n",
       "263             12019912.0             12076699.0             12155491.0   \n",
       "\n",
       "     2007 World Population  2008 World Population  2009 World Population  \\\n",
       "0                 101222.0               101358.0               101455.0   \n",
       "1               27100536.0             27722276.0             28394813.0   \n",
       "2               20905363.0             21695634.0             22514281.0   \n",
       "3                2970017.0              2947314.0              2927519.0   \n",
       "4                  82684.0                83862.0                84463.0   \n",
       "..                     ...                    ...                    ...   \n",
       "258               182046.0               183263.0               184556.0   \n",
       "259              1733404.0              1747383.0              1761474.0   \n",
       "261             49119759.0             49779471.0             50477011.0   \n",
       "262             12502958.0             12848530.0             13215139.0   \n",
       "263             12255922.0             12379549.0             12526968.0   \n",
       "\n",
       "     2010 World Population  mean_world_population  \n",
       "0                 101669.0               89419.20  \n",
       "1               29185507.0            21739622.30  \n",
       "2               23356246.0            17086216.10  \n",
       "3                2913021.0             3085936.40  \n",
       "4                  84449.0               70389.00  \n",
       "..                     ...                    ...  \n",
       "258               185949.0              175188.95  \n",
       "259              1775680.0             1832440.45  \n",
       "261             51216964.0            44946918.25  \n",
       "262             13605984.0            10667740.35  \n",
       "263             12697723.0            11798257.00  \n",
       "\n",
       "[226 rows x 22 columns]"
      ]
     },
     "execution_count": 41,
     "metadata": {},
     "output_type": "execute_result"
    }
   ],
   "source": [
    "#calculate the mean of the world population from 1990 to 2010\n",
    "df1['mean_world_population'] = df1.iloc[:,1:22].mean(axis=1)\n",
    "df1"
   ]
  },
  {
   "cell_type": "code",
   "execution_count": 42,
   "id": "1443744b",
   "metadata": {},
   "outputs": [
    {
     "data": {
      "text/html": [
       "<div>\n",
       "<style scoped>\n",
       "    .dataframe tbody tr th:only-of-type {\n",
       "        vertical-align: middle;\n",
       "    }\n",
       "\n",
       "    .dataframe tbody tr th {\n",
       "        vertical-align: top;\n",
       "    }\n",
       "\n",
       "    .dataframe thead th {\n",
       "        text-align: right;\n",
       "    }\n",
       "</style>\n",
       "<table border=\"1\" class=\"dataframe\">\n",
       "  <thead>\n",
       "    <tr style=\"text-align: right;\">\n",
       "      <th></th>\n",
       "      <th>Country Name</th>\n",
       "      <th>WUP_per_cap_1990</th>\n",
       "      <th>WUP_per_cap_1991</th>\n",
       "      <th>WUP_per_cap_1992</th>\n",
       "      <th>WUP_per_cap_1993</th>\n",
       "      <th>WUP_per_cap_1994</th>\n",
       "      <th>WUP_per_cap_1995</th>\n",
       "      <th>WUP_per_cap_1996</th>\n",
       "      <th>WUP_per_cap_1997</th>\n",
       "      <th>WUP_per_cap_1998</th>\n",
       "      <th>...</th>\n",
       "      <th>2002 World Population</th>\n",
       "      <th>2003 World Population</th>\n",
       "      <th>2004 World Population</th>\n",
       "      <th>2005 World Population</th>\n",
       "      <th>2006 World Population</th>\n",
       "      <th>2007 World Population</th>\n",
       "      <th>2008 World Population</th>\n",
       "      <th>2009 World Population</th>\n",
       "      <th>2010 World Population</th>\n",
       "      <th>mean_world_population</th>\n",
       "    </tr>\n",
       "  </thead>\n",
       "  <tbody>\n",
       "    <tr>\n",
       "      <th>0</th>\n",
       "      <td>Aruba</td>\n",
       "      <td>0.503194</td>\n",
       "      <td>0.503033</td>\n",
       "      <td>0.499978</td>\n",
       "      <td>0.495876</td>\n",
       "      <td>0.491773</td>\n",
       "      <td>0.487675</td>\n",
       "      <td>0.483558</td>\n",
       "      <td>0.479456</td>\n",
       "      <td>0.475360</td>\n",
       "      <td>...</td>\n",
       "      <td>94992.0</td>\n",
       "      <td>97017.0</td>\n",
       "      <td>98737.0</td>\n",
       "      <td>100031.0</td>\n",
       "      <td>100834.0</td>\n",
       "      <td>101222.0</td>\n",
       "      <td>101358.0</td>\n",
       "      <td>101455.0</td>\n",
       "      <td>101669.0</td>\n",
       "      <td>89419.20</td>\n",
       "    </tr>\n",
       "    <tr>\n",
       "      <th>1</th>\n",
       "      <td>Afghanistan</td>\n",
       "      <td>0.211770</td>\n",
       "      <td>0.212660</td>\n",
       "      <td>0.213550</td>\n",
       "      <td>0.214440</td>\n",
       "      <td>0.215340</td>\n",
       "      <td>0.216240</td>\n",
       "      <td>0.217140</td>\n",
       "      <td>0.218050</td>\n",
       "      <td>0.218950</td>\n",
       "      <td>...</td>\n",
       "      <td>22600770.0</td>\n",
       "      <td>23680871.0</td>\n",
       "      <td>24726684.0</td>\n",
       "      <td>25654277.0</td>\n",
       "      <td>26433049.0</td>\n",
       "      <td>27100536.0</td>\n",
       "      <td>27722276.0</td>\n",
       "      <td>28394813.0</td>\n",
       "      <td>29185507.0</td>\n",
       "      <td>21739622.30</td>\n",
       "    </tr>\n",
       "    <tr>\n",
       "      <th>2</th>\n",
       "      <td>Angola</td>\n",
       "      <td>0.371440</td>\n",
       "      <td>0.385800</td>\n",
       "      <td>0.400390</td>\n",
       "      <td>0.415110</td>\n",
       "      <td>0.430000</td>\n",
       "      <td>0.441690</td>\n",
       "      <td>0.453460</td>\n",
       "      <td>0.465250</td>\n",
       "      <td>0.477100</td>\n",
       "      <td>...</td>\n",
       "      <td>17519417.0</td>\n",
       "      <td>18121479.0</td>\n",
       "      <td>18758145.0</td>\n",
       "      <td>19433602.0</td>\n",
       "      <td>20149901.0</td>\n",
       "      <td>20905363.0</td>\n",
       "      <td>21695634.0</td>\n",
       "      <td>22514281.0</td>\n",
       "      <td>23356246.0</td>\n",
       "      <td>17086216.10</td>\n",
       "    </tr>\n",
       "    <tr>\n",
       "      <th>3</th>\n",
       "      <td>Albania</td>\n",
       "      <td>0.364280</td>\n",
       "      <td>0.367000</td>\n",
       "      <td>0.372490</td>\n",
       "      <td>0.377990</td>\n",
       "      <td>0.383540</td>\n",
       "      <td>0.389110</td>\n",
       "      <td>0.394730</td>\n",
       "      <td>0.400350</td>\n",
       "      <td>0.406010</td>\n",
       "      <td>...</td>\n",
       "      <td>3051010.0</td>\n",
       "      <td>3039616.0</td>\n",
       "      <td>3026939.0</td>\n",
       "      <td>3011487.0</td>\n",
       "      <td>2992547.0</td>\n",
       "      <td>2970017.0</td>\n",
       "      <td>2947314.0</td>\n",
       "      <td>2927519.0</td>\n",
       "      <td>2913021.0</td>\n",
       "      <td>3085936.40</td>\n",
       "    </tr>\n",
       "    <tr>\n",
       "      <th>4</th>\n",
       "      <td>Andorra</td>\n",
       "      <td>0.947128</td>\n",
       "      <td>0.945298</td>\n",
       "      <td>0.943248</td>\n",
       "      <td>0.941103</td>\n",
       "      <td>0.938893</td>\n",
       "      <td>0.936617</td>\n",
       "      <td>0.934245</td>\n",
       "      <td>0.931802</td>\n",
       "      <td>0.929266</td>\n",
       "      <td>...</td>\n",
       "      <td>70049.0</td>\n",
       "      <td>73182.0</td>\n",
       "      <td>76244.0</td>\n",
       "      <td>78867.0</td>\n",
       "      <td>80993.0</td>\n",
       "      <td>82684.0</td>\n",
       "      <td>83862.0</td>\n",
       "      <td>84463.0</td>\n",
       "      <td>84449.0</td>\n",
       "      <td>70389.00</td>\n",
       "    </tr>\n",
       "    <tr>\n",
       "      <th>...</th>\n",
       "      <td>...</td>\n",
       "      <td>...</td>\n",
       "      <td>...</td>\n",
       "      <td>...</td>\n",
       "      <td>...</td>\n",
       "      <td>...</td>\n",
       "      <td>...</td>\n",
       "      <td>...</td>\n",
       "      <td>...</td>\n",
       "      <td>...</td>\n",
       "      <td>...</td>\n",
       "      <td>...</td>\n",
       "      <td>...</td>\n",
       "      <td>...</td>\n",
       "      <td>...</td>\n",
       "      <td>...</td>\n",
       "      <td>...</td>\n",
       "      <td>...</td>\n",
       "      <td>...</td>\n",
       "      <td>...</td>\n",
       "      <td>...</td>\n",
       "    </tr>\n",
       "    <tr>\n",
       "      <th>258</th>\n",
       "      <td>Samoa</td>\n",
       "      <td>0.211999</td>\n",
       "      <td>0.211998</td>\n",
       "      <td>0.212581</td>\n",
       "      <td>0.213471</td>\n",
       "      <td>0.214359</td>\n",
       "      <td>0.215261</td>\n",
       "      <td>0.216160</td>\n",
       "      <td>0.217048</td>\n",
       "      <td>0.217960</td>\n",
       "      <td>...</td>\n",
       "      <td>176407.0</td>\n",
       "      <td>177484.0</td>\n",
       "      <td>178590.0</td>\n",
       "      <td>179727.0</td>\n",
       "      <td>180876.0</td>\n",
       "      <td>182046.0</td>\n",
       "      <td>183263.0</td>\n",
       "      <td>184556.0</td>\n",
       "      <td>185949.0</td>\n",
       "      <td>175188.95</td>\n",
       "    </tr>\n",
       "    <tr>\n",
       "      <th>259</th>\n",
       "      <td>Kosovo</td>\n",
       "      <td>NaN</td>\n",
       "      <td>NaN</td>\n",
       "      <td>NaN</td>\n",
       "      <td>NaN</td>\n",
       "      <td>NaN</td>\n",
       "      <td>NaN</td>\n",
       "      <td>NaN</td>\n",
       "      <td>NaN</td>\n",
       "      <td>NaN</td>\n",
       "      <td>...</td>\n",
       "      <td>1702310.0</td>\n",
       "      <td>1703466.0</td>\n",
       "      <td>1704622.0</td>\n",
       "      <td>1705780.0</td>\n",
       "      <td>1719536.0</td>\n",
       "      <td>1733404.0</td>\n",
       "      <td>1747383.0</td>\n",
       "      <td>1761474.0</td>\n",
       "      <td>1775680.0</td>\n",
       "      <td>1832440.45</td>\n",
       "    </tr>\n",
       "    <tr>\n",
       "      <th>261</th>\n",
       "      <td>South Africa</td>\n",
       "      <td>0.520370</td>\n",
       "      <td>0.525540</td>\n",
       "      <td>0.530380</td>\n",
       "      <td>0.535210</td>\n",
       "      <td>0.540040</td>\n",
       "      <td>0.544860</td>\n",
       "      <td>0.549670</td>\n",
       "      <td>0.554490</td>\n",
       "      <td>0.559300</td>\n",
       "      <td>...</td>\n",
       "      <td>46150913.0</td>\n",
       "      <td>46719196.0</td>\n",
       "      <td>47291610.0</td>\n",
       "      <td>47880601.0</td>\n",
       "      <td>48489459.0</td>\n",
       "      <td>49119759.0</td>\n",
       "      <td>49779471.0</td>\n",
       "      <td>50477011.0</td>\n",
       "      <td>51216964.0</td>\n",
       "      <td>44946918.25</td>\n",
       "    </tr>\n",
       "    <tr>\n",
       "      <th>262</th>\n",
       "      <td>Zambia</td>\n",
       "      <td>0.394070</td>\n",
       "      <td>0.389890</td>\n",
       "      <td>0.385140</td>\n",
       "      <td>0.380420</td>\n",
       "      <td>0.375720</td>\n",
       "      <td>0.371040</td>\n",
       "      <td>0.366380</td>\n",
       "      <td>0.361760</td>\n",
       "      <td>0.357160</td>\n",
       "      <td>...</td>\n",
       "      <td>10971698.0</td>\n",
       "      <td>11256743.0</td>\n",
       "      <td>11550642.0</td>\n",
       "      <td>11856247.0</td>\n",
       "      <td>12173514.0</td>\n",
       "      <td>12502958.0</td>\n",
       "      <td>12848530.0</td>\n",
       "      <td>13215139.0</td>\n",
       "      <td>13605984.0</td>\n",
       "      <td>10667740.35</td>\n",
       "    </tr>\n",
       "    <tr>\n",
       "      <th>263</th>\n",
       "      <td>Zimbabwe</td>\n",
       "      <td>0.289880</td>\n",
       "      <td>0.297380</td>\n",
       "      <td>0.304990</td>\n",
       "      <td>0.309400</td>\n",
       "      <td>0.313350</td>\n",
       "      <td>0.317320</td>\n",
       "      <td>0.321320</td>\n",
       "      <td>0.325340</td>\n",
       "      <td>0.329390</td>\n",
       "      <td>...</td>\n",
       "      <td>11954290.0</td>\n",
       "      <td>11982224.0</td>\n",
       "      <td>12019912.0</td>\n",
       "      <td>12076699.0</td>\n",
       "      <td>12155491.0</td>\n",
       "      <td>12255922.0</td>\n",
       "      <td>12379549.0</td>\n",
       "      <td>12526968.0</td>\n",
       "      <td>12697723.0</td>\n",
       "      <td>11798257.00</td>\n",
       "    </tr>\n",
       "  </tbody>\n",
       "</table>\n",
       "<p>226 rows × 47 columns</p>\n",
       "</div>"
      ],
      "text/plain": [
       "     Country Name  WUP_per_cap_1990  WUP_per_cap_1991  WUP_per_cap_1992  \\\n",
       "0           Aruba          0.503194          0.503033          0.499978   \n",
       "1     Afghanistan          0.211770          0.212660          0.213550   \n",
       "2          Angola          0.371440          0.385800          0.400390   \n",
       "3         Albania          0.364280          0.367000          0.372490   \n",
       "4         Andorra          0.947128          0.945298          0.943248   \n",
       "..            ...               ...               ...               ...   \n",
       "258         Samoa          0.211999          0.211998          0.212581   \n",
       "259        Kosovo               NaN               NaN               NaN   \n",
       "261  South Africa          0.520370          0.525540          0.530380   \n",
       "262        Zambia          0.394070          0.389890          0.385140   \n",
       "263      Zimbabwe          0.289880          0.297380          0.304990   \n",
       "\n",
       "     WUP_per_cap_1993  WUP_per_cap_1994  WUP_per_cap_1995  WUP_per_cap_1996  \\\n",
       "0            0.495876          0.491773          0.487675          0.483558   \n",
       "1            0.214440          0.215340          0.216240          0.217140   \n",
       "2            0.415110          0.430000          0.441690          0.453460   \n",
       "3            0.377990          0.383540          0.389110          0.394730   \n",
       "4            0.941103          0.938893          0.936617          0.934245   \n",
       "..                ...               ...               ...               ...   \n",
       "258          0.213471          0.214359          0.215261          0.216160   \n",
       "259               NaN               NaN               NaN               NaN   \n",
       "261          0.535210          0.540040          0.544860          0.549670   \n",
       "262          0.380420          0.375720          0.371040          0.366380   \n",
       "263          0.309400          0.313350          0.317320          0.321320   \n",
       "\n",
       "     WUP_per_cap_1997  WUP_per_cap_1998  ...  2002 World Population  \\\n",
       "0            0.479456          0.475360  ...                94992.0   \n",
       "1            0.218050          0.218950  ...             22600770.0   \n",
       "2            0.465250          0.477100  ...             17519417.0   \n",
       "3            0.400350          0.406010  ...              3051010.0   \n",
       "4            0.931802          0.929266  ...                70049.0   \n",
       "..                ...               ...  ...                    ...   \n",
       "258          0.217048          0.217960  ...               176407.0   \n",
       "259               NaN               NaN  ...              1702310.0   \n",
       "261          0.554490          0.559300  ...             46150913.0   \n",
       "262          0.361760          0.357160  ...             10971698.0   \n",
       "263          0.325340          0.329390  ...             11954290.0   \n",
       "\n",
       "     2003 World Population  2004 World Population  2005 World Population  \\\n",
       "0                  97017.0                98737.0               100031.0   \n",
       "1               23680871.0             24726684.0             25654277.0   \n",
       "2               18121479.0             18758145.0             19433602.0   \n",
       "3                3039616.0              3026939.0              3011487.0   \n",
       "4                  73182.0                76244.0                78867.0   \n",
       "..                     ...                    ...                    ...   \n",
       "258               177484.0               178590.0               179727.0   \n",
       "259              1703466.0              1704622.0              1705780.0   \n",
       "261             46719196.0             47291610.0             47880601.0   \n",
       "262             11256743.0             11550642.0             11856247.0   \n",
       "263             11982224.0             12019912.0             12076699.0   \n",
       "\n",
       "     2006 World Population  2007 World Population  2008 World Population  \\\n",
       "0                 100834.0               101222.0               101358.0   \n",
       "1               26433049.0             27100536.0             27722276.0   \n",
       "2               20149901.0             20905363.0             21695634.0   \n",
       "3                2992547.0              2970017.0              2947314.0   \n",
       "4                  80993.0                82684.0                83862.0   \n",
       "..                     ...                    ...                    ...   \n",
       "258               180876.0               182046.0               183263.0   \n",
       "259              1719536.0              1733404.0              1747383.0   \n",
       "261             48489459.0             49119759.0             49779471.0   \n",
       "262             12173514.0             12502958.0             12848530.0   \n",
       "263             12155491.0             12255922.0             12379549.0   \n",
       "\n",
       "     2009 World Population  2010 World Population  mean_world_population  \n",
       "0                 101455.0               101669.0               89419.20  \n",
       "1               28394813.0             29185507.0            21739622.30  \n",
       "2               22514281.0             23356246.0            17086216.10  \n",
       "3                2927519.0              2913021.0             3085936.40  \n",
       "4                  84463.0                84449.0               70389.00  \n",
       "..                     ...                    ...                    ...  \n",
       "258               184556.0               185949.0              175188.95  \n",
       "259              1761474.0              1775680.0             1832440.45  \n",
       "261             50477011.0             51216964.0            44946918.25  \n",
       "262             13215139.0             13605984.0            10667740.35  \n",
       "263             12526968.0             12697723.0            11798257.00  \n",
       "\n",
       "[226 rows x 47 columns]"
      ]
     },
     "execution_count": 42,
     "metadata": {},
     "output_type": "execute_result"
    }
   ],
   "source": [
    "#concat the dataframe of the mean per capita with the data frame of the mean world population\n",
    "frames = (df,df1)\n",
    "df2 = pd.concat(frames,axis=1)\n",
    "df2"
   ]
  },
  {
   "cell_type": "code",
   "execution_count": 43,
   "id": "48381e44",
   "metadata": {},
   "outputs": [
    {
     "data": {
      "text/html": [
       "<div>\n",
       "<style scoped>\n",
       "    .dataframe tbody tr th:only-of-type {\n",
       "        vertical-align: middle;\n",
       "    }\n",
       "\n",
       "    .dataframe tbody tr th {\n",
       "        vertical-align: top;\n",
       "    }\n",
       "\n",
       "    .dataframe thead th {\n",
       "        text-align: right;\n",
       "    }\n",
       "</style>\n",
       "<table border=\"1\" class=\"dataframe\">\n",
       "  <thead>\n",
       "    <tr style=\"text-align: right;\">\n",
       "      <th></th>\n",
       "      <th>mean_world_population</th>\n",
       "      <th>mean_per_capita</th>\n",
       "    </tr>\n",
       "  </thead>\n",
       "  <tbody>\n",
       "    <tr>\n",
       "      <th>0</th>\n",
       "      <td>89419.20</td>\n",
       "      <td>0.467995</td>\n",
       "    </tr>\n",
       "    <tr>\n",
       "      <th>1</th>\n",
       "      <td>21739622.30</td>\n",
       "      <td>0.222128</td>\n",
       "    </tr>\n",
       "    <tr>\n",
       "      <th>2</th>\n",
       "      <td>17086216.10</td>\n",
       "      <td>0.496477</td>\n",
       "    </tr>\n",
       "    <tr>\n",
       "      <th>3</th>\n",
       "      <td>3085936.40</td>\n",
       "      <td>0.429190</td>\n",
       "    </tr>\n",
       "    <tr>\n",
       "      <th>4</th>\n",
       "      <td>70389.00</td>\n",
       "      <td>0.919814</td>\n",
       "    </tr>\n",
       "    <tr>\n",
       "      <th>...</th>\n",
       "      <td>...</td>\n",
       "      <td>...</td>\n",
       "    </tr>\n",
       "    <tr>\n",
       "      <th>258</th>\n",
       "      <td>175188.95</td>\n",
       "      <td>0.213315</td>\n",
       "    </tr>\n",
       "    <tr>\n",
       "      <th>259</th>\n",
       "      <td>1832440.45</td>\n",
       "      <td>NaN</td>\n",
       "    </tr>\n",
       "    <tr>\n",
       "      <th>261</th>\n",
       "      <td>44946918.25</td>\n",
       "      <td>0.570134</td>\n",
       "    </tr>\n",
       "    <tr>\n",
       "      <th>262</th>\n",
       "      <td>10667740.35</td>\n",
       "      <td>0.371357</td>\n",
       "    </tr>\n",
       "    <tr>\n",
       "      <th>263</th>\n",
       "      <td>11798257.00</td>\n",
       "      <td>0.327325</td>\n",
       "    </tr>\n",
       "  </tbody>\n",
       "</table>\n",
       "<p>226 rows × 2 columns</p>\n",
       "</div>"
      ],
      "text/plain": [
       "     mean_world_population  mean_per_capita\n",
       "0                 89419.20         0.467995\n",
       "1              21739622.30         0.222128\n",
       "2              17086216.10         0.496477\n",
       "3               3085936.40         0.429190\n",
       "4                 70389.00         0.919814\n",
       "..                     ...              ...\n",
       "258              175188.95         0.213315\n",
       "259             1832440.45              NaN\n",
       "261            44946918.25         0.570134\n",
       "262            10667740.35         0.371357\n",
       "263            11798257.00         0.327325\n",
       "\n",
       "[226 rows x 2 columns]"
      ]
     },
     "execution_count": 43,
     "metadata": {},
     "output_type": "execute_result"
    }
   ],
   "source": [
    "#pass the colums needed into another dataframe \n",
    "df3 = df2[['mean_world_population','mean_per_capita']]\n",
    "df3"
   ]
  },
  {
   "cell_type": "code",
   "execution_count": 44,
   "id": "1710bc6d",
   "metadata": {},
   "outputs": [
    {
     "data": {
      "text/html": [
       "<div>\n",
       "<style scoped>\n",
       "    .dataframe tbody tr th:only-of-type {\n",
       "        vertical-align: middle;\n",
       "    }\n",
       "\n",
       "    .dataframe tbody tr th {\n",
       "        vertical-align: top;\n",
       "    }\n",
       "\n",
       "    .dataframe thead th {\n",
       "        text-align: right;\n",
       "    }\n",
       "</style>\n",
       "<table border=\"1\" class=\"dataframe\">\n",
       "  <thead>\n",
       "    <tr style=\"text-align: right;\">\n",
       "      <th></th>\n",
       "      <th>mean_world_population</th>\n",
       "      <th>mean_per_capita</th>\n",
       "    </tr>\n",
       "  </thead>\n",
       "  <tbody>\n",
       "    <tr>\n",
       "      <th>mean_world_population</th>\n",
       "      <td>1.000000</td>\n",
       "      <td>-0.079295</td>\n",
       "    </tr>\n",
       "    <tr>\n",
       "      <th>mean_per_capita</th>\n",
       "      <td>-0.079295</td>\n",
       "      <td>1.000000</td>\n",
       "    </tr>\n",
       "  </tbody>\n",
       "</table>\n",
       "</div>"
      ],
      "text/plain": [
       "                       mean_world_population  mean_per_capita\n",
       "mean_world_population               1.000000        -0.079295\n",
       "mean_per_capita                    -0.079295         1.000000"
      ]
     },
     "execution_count": 44,
     "metadata": {},
     "output_type": "execute_result"
    }
   ],
   "source": [
    "#get the correlation between the mean per capita and mean world population \n",
    "df3.corr()"
   ]
  },
  {
   "cell_type": "code",
   "execution_count": 45,
   "id": "751d1772",
   "metadata": {},
   "outputs": [
    {
     "data": {
      "text/plain": [
       "<AxesSubplot:>"
      ]
     },
     "execution_count": 45,
     "metadata": {},
     "output_type": "execute_result"
    },
    {
     "data": {
      "image/png": "[encoded data removed]",
      "text/plain": [
       "<Figure size 432x288 with 2 Axes>"
      ]
     },
     "metadata": {
      "needs_background": "light"
     },
     "output_type": "display_data"
    }
   ],
   "source": [
    "#plot the correlation between the mean per capita and mean world population\n",
    "sns.heatmap(df3.corr(), annot=True, cmap='coolwarm', linewidth=1.0, \n",
    "                       cbar_kws={'label':'Correlation'},\n",
    "             vmin=-0.5, vmax=1)       "
   ]
  },
  {
   "cell_type": "markdown",
   "id": "871b4d45",
   "metadata": {},
   "source": [
    "The plot above shows that there is a negative correlation between the mean per capita and mean world population hence there is no correlation between both mean values."
   ]
  }
 ],
 "metadata": {
  "kernelspec": {
   "display_name": "Python 3",
   "language": "python",
   "name": "python3"
  },
  "language_info": {
   "codemirror_mode": {
    "name": "ipython",
    "version": 3
   },
   "file_extension": ".py",
   "mimetype": "text/x-python",
   "name": "python",
   "nbconvert_exporter": "python",
   "pygments_lexer": "ipython3",
   "version": "3.9.2"
  }
 },
 "nbformat": 4,
 "nbformat_minor": 5
}
